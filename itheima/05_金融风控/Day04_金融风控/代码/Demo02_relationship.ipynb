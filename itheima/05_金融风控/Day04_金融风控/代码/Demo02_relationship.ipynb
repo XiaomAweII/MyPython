{
 "cells": [
  {
   "cell_type": "code",
   "execution_count": 1,
   "metadata": {
    "collapsed": true
   },
   "outputs": [
    {
     "data": {
      "text/plain": "    A   B   C\n0   5  90  93\n1  91  15  27\n2   3  66   3",
      "text/html": "<div>\n<style scoped>\n    .dataframe tbody tr th:only-of-type {\n        vertical-align: middle;\n    }\n\n    .dataframe tbody tr th {\n        vertical-align: top;\n    }\n\n    .dataframe thead th {\n        text-align: right;\n    }\n</style>\n<table border=\"1\" class=\"dataframe\">\n  <thead>\n    <tr style=\"text-align: right;\">\n      <th></th>\n      <th>A</th>\n      <th>B</th>\n      <th>C</th>\n    </tr>\n  </thead>\n  <tbody>\n    <tr>\n      <th>0</th>\n      <td>5</td>\n      <td>90</td>\n      <td>93</td>\n    </tr>\n    <tr>\n      <th>1</th>\n      <td>91</td>\n      <td>15</td>\n      <td>27</td>\n    </tr>\n    <tr>\n      <th>2</th>\n      <td>3</td>\n      <td>66</td>\n      <td>3</td>\n    </tr>\n  </tbody>\n</table>\n</div>"
     },
     "execution_count": 1,
     "metadata": {},
     "output_type": "execute_result"
    }
   ],
   "source": [
    "import pandas as pd\n",
    "df = pd.DataFrame({'A':[5,91,3],'B':[90,15,66],'C':[93,27,3]})\n",
    "df"
   ]
  },
  {
   "cell_type": "code",
   "execution_count": 2,
   "outputs": [
    {
     "data": {
      "text/plain": "          A         B         C\nA  1.000000 -0.943228 -0.240882\nB -0.943228  1.000000  0.549571\nC -0.240882  0.549571  1.000000",
      "text/html": "<div>\n<style scoped>\n    .dataframe tbody tr th:only-of-type {\n        vertical-align: middle;\n    }\n\n    .dataframe tbody tr th {\n        vertical-align: top;\n    }\n\n    .dataframe thead th {\n        text-align: right;\n    }\n</style>\n<table border=\"1\" class=\"dataframe\">\n  <thead>\n    <tr style=\"text-align: right;\">\n      <th></th>\n      <th>A</th>\n      <th>B</th>\n      <th>C</th>\n    </tr>\n  </thead>\n  <tbody>\n    <tr>\n      <th>A</th>\n      <td>1.000000</td>\n      <td>-0.943228</td>\n      <td>-0.240882</td>\n    </tr>\n    <tr>\n      <th>B</th>\n      <td>-0.943228</td>\n      <td>1.000000</td>\n      <td>0.549571</td>\n    </tr>\n    <tr>\n      <th>C</th>\n      <td>-0.240882</td>\n      <td>0.549571</td>\n      <td>1.000000</td>\n    </tr>\n  </tbody>\n</table>\n</div>"
     },
     "execution_count": 2,
     "metadata": {},
     "output_type": "execute_result"
    }
   ],
   "source": [
    "#pearson：默认，皮尔逊相关\n",
    "#kendall：肯德尔相关\n",
    "#spearman：斯皮尔曼相关\n",
    "df.corr()\n"
   ],
   "metadata": {
    "collapsed": false,
    "pycharm": {
     "name": "#%%\n"
    }
   }
  },
  {
   "cell_type": "code",
   "execution_count": 4,
   "outputs": [
    {
     "data": {
      "text/plain": "     A    B    C\nA  1.0 -0.5  0.5\nB -0.5  1.0  0.5\nC  0.5  0.5  1.0",
      "text/html": "<div>\n<style scoped>\n    .dataframe tbody tr th:only-of-type {\n        vertical-align: middle;\n    }\n\n    .dataframe tbody tr th {\n        vertical-align: top;\n    }\n\n    .dataframe thead th {\n        text-align: right;\n    }\n</style>\n<table border=\"1\" class=\"dataframe\">\n  <thead>\n    <tr style=\"text-align: right;\">\n      <th></th>\n      <th>A</th>\n      <th>B</th>\n      <th>C</th>\n    </tr>\n  </thead>\n  <tbody>\n    <tr>\n      <th>A</th>\n      <td>1.0</td>\n      <td>-0.5</td>\n      <td>0.5</td>\n    </tr>\n    <tr>\n      <th>B</th>\n      <td>-0.5</td>\n      <td>1.0</td>\n      <td>0.5</td>\n    </tr>\n    <tr>\n      <th>C</th>\n      <td>0.5</td>\n      <td>0.5</td>\n      <td>1.0</td>\n    </tr>\n  </tbody>\n</table>\n</div>"
     },
     "execution_count": 4,
     "metadata": {},
     "output_type": "execute_result"
    }
   ],
   "source": [
    "#df.corr(method='kendall')\n",
    "df.corr(method='spearman')"
   ],
   "metadata": {
    "collapsed": false,
    "pycharm": {
     "name": "#%%\n"
    }
   }
  },
  {
   "cell_type": "code",
   "execution_count": 5,
   "outputs": [
    {
     "data": {
      "text/plain": "(1000, 21)"
     },
     "execution_count": 5,
     "metadata": {},
     "output_type": "execute_result"
    }
   ],
   "source": [
    "#toad库，可以一次性计算IV，相关性指标\n",
    "import toad\n",
    "data = pd.read_csv('../data/germancredit.csv')\n",
    "data.replace({'good':0,'bad':1},inplace=True)\n",
    "data.shape\n"
   ],
   "metadata": {
    "collapsed": false,
    "pycharm": {
     "name": "#%%\n"
    }
   }
  },
  {
   "cell_type": "code",
   "execution_count": 6,
   "outputs": [],
   "source": [
    "#target：标签列\n",
    "#iv：iv值，如果iv低于这个值就会被删除\n",
    "#corr计算的是皮尔逊相关\n",
    "#return_drop：返回被删除的列\n",
    "#exclude：排除，可以去除哪些列不参与计算\n",
    "#返回值：数据集，被删除的列\n",
    "selected_data,drop_list = toad.selection.select(data,\n",
    "                      target = 'creditability',\n",
    "                      empty = 0.5,\n",
    "                      iv = 0.05,\n",
    "                      corr = 0.7,\n",
    "                      return_drop = True)"
   ],
   "metadata": {
    "collapsed": false,
    "pycharm": {
     "name": "#%%\n"
    }
   }
  },
  {
   "cell_type": "code",
   "execution_count": 7,
   "outputs": [
    {
     "data": {
      "text/plain": "    status.of.existing.checking.account  duration.in.month  \\\n0                            ... < 0 DM                  6   \n1                     0 <= ... < 200 DM                 48   \n2                   no checking account                 12   \n3                            ... < 0 DM                 42   \n4                            ... < 0 DM                 24   \n..                                  ...                ...   \n995                 no checking account                 12   \n996                          ... < 0 DM                 30   \n997                 no checking account                 12   \n998                          ... < 0 DM                 45   \n999                   0 <= ... < 200 DM                 45   \n\n                                        credit.history              purpose  \\\n0    critical account/ other credits existing (not ...     radio/television   \n1             existing credits paid back duly till now     radio/television   \n2    critical account/ other credits existing (not ...            education   \n3             existing credits paid back duly till now  furniture/equipment   \n4                      delay in paying off in the past            car (new)   \n..                                                 ...                  ...   \n995           existing credits paid back duly till now  furniture/equipment   \n996           existing credits paid back duly till now           car (used)   \n997           existing credits paid back duly till now     radio/television   \n998           existing credits paid back duly till now     radio/television   \n999  critical account/ other credits existing (not ...           car (used)   \n\n     credit.amount    savings.account.and.bonds present.employment.since  \\\n0             1169  unknown/ no savings account           ... >= 7 years   \n1             5951                 ... < 100 DM       1 <= ... < 4 years   \n2             2096                 ... < 100 DM       4 <= ... < 7 years   \n3             7882                 ... < 100 DM       4 <= ... < 7 years   \n4             4870                 ... < 100 DM       1 <= ... < 4 years   \n..             ...                          ...                      ...   \n995           1736                 ... < 100 DM       4 <= ... < 7 years   \n996           3857                 ... < 100 DM       1 <= ... < 4 years   \n997            804                 ... < 100 DM           ... >= 7 years   \n998           1845                 ... < 100 DM       1 <= ... < 4 years   \n999           4576          100 <= ... < 500 DM               unemployed   \n\n                                              property  age.in.years  \\\n0                                          real estate            67   \n1                                          real estate            22   \n2                                          real estate            49   \n3    building society savings agreement/ life insur...            45   \n4                                unknown / no property            53   \n..                                                 ...           ...   \n995                                        real estate            31   \n996  building society savings agreement/ life insur...            40   \n997  car or other, not in attribute Savings account...            38   \n998                              unknown / no property            23   \n999  car or other, not in attribute Savings account...            27   \n\n    other.installment.plans   housing  creditability  \n0                      none       own              0  \n1                      none       own              1  \n2                      none       own              0  \n3                      none  for free              0  \n4                      none  for free              1  \n..                      ...       ...            ...  \n995                    none       own              0  \n996                    none       own              0  \n997                    none       own              0  \n998                    none  for free              1  \n999                    none       own              0  \n\n[1000 rows x 12 columns]",
      "text/html": "<div>\n<style scoped>\n    .dataframe tbody tr th:only-of-type {\n        vertical-align: middle;\n    }\n\n    .dataframe tbody tr th {\n        vertical-align: top;\n    }\n\n    .dataframe thead th {\n        text-align: right;\n    }\n</style>\n<table border=\"1\" class=\"dataframe\">\n  <thead>\n    <tr style=\"text-align: right;\">\n      <th></th>\n      <th>status.of.existing.checking.account</th>\n      <th>duration.in.month</th>\n      <th>credit.history</th>\n      <th>purpose</th>\n      <th>credit.amount</th>\n      <th>savings.account.and.bonds</th>\n      <th>present.employment.since</th>\n      <th>property</th>\n      <th>age.in.years</th>\n      <th>other.installment.plans</th>\n      <th>housing</th>\n      <th>creditability</th>\n    </tr>\n  </thead>\n  <tbody>\n    <tr>\n      <th>0</th>\n      <td>... &lt; 0 DM</td>\n      <td>6</td>\n      <td>critical account/ other credits existing (not ...</td>\n      <td>radio/television</td>\n      <td>1169</td>\n      <td>unknown/ no savings account</td>\n      <td>... &gt;= 7 years</td>\n      <td>real estate</td>\n      <td>67</td>\n      <td>none</td>\n      <td>own</td>\n      <td>0</td>\n    </tr>\n    <tr>\n      <th>1</th>\n      <td>0 &lt;= ... &lt; 200 DM</td>\n      <td>48</td>\n      <td>existing credits paid back duly till now</td>\n      <td>radio/television</td>\n      <td>5951</td>\n      <td>... &lt; 100 DM</td>\n      <td>1 &lt;= ... &lt; 4 years</td>\n      <td>real estate</td>\n      <td>22</td>\n      <td>none</td>\n      <td>own</td>\n      <td>1</td>\n    </tr>\n    <tr>\n      <th>2</th>\n      <td>no checking account</td>\n      <td>12</td>\n      <td>critical account/ other credits existing (not ...</td>\n      <td>education</td>\n      <td>2096</td>\n      <td>... &lt; 100 DM</td>\n      <td>4 &lt;= ... &lt; 7 years</td>\n      <td>real estate</td>\n      <td>49</td>\n      <td>none</td>\n      <td>own</td>\n      <td>0</td>\n    </tr>\n    <tr>\n      <th>3</th>\n      <td>... &lt; 0 DM</td>\n      <td>42</td>\n      <td>existing credits paid back duly till now</td>\n      <td>furniture/equipment</td>\n      <td>7882</td>\n      <td>... &lt; 100 DM</td>\n      <td>4 &lt;= ... &lt; 7 years</td>\n      <td>building society savings agreement/ life insur...</td>\n      <td>45</td>\n      <td>none</td>\n      <td>for free</td>\n      <td>0</td>\n    </tr>\n    <tr>\n      <th>4</th>\n      <td>... &lt; 0 DM</td>\n      <td>24</td>\n      <td>delay in paying off in the past</td>\n      <td>car (new)</td>\n      <td>4870</td>\n      <td>... &lt; 100 DM</td>\n      <td>1 &lt;= ... &lt; 4 years</td>\n      <td>unknown / no property</td>\n      <td>53</td>\n      <td>none</td>\n      <td>for free</td>\n      <td>1</td>\n    </tr>\n    <tr>\n      <th>...</th>\n      <td>...</td>\n      <td>...</td>\n      <td>...</td>\n      <td>...</td>\n      <td>...</td>\n      <td>...</td>\n      <td>...</td>\n      <td>...</td>\n      <td>...</td>\n      <td>...</td>\n      <td>...</td>\n      <td>...</td>\n    </tr>\n    <tr>\n      <th>995</th>\n      <td>no checking account</td>\n      <td>12</td>\n      <td>existing credits paid back duly till now</td>\n      <td>furniture/equipment</td>\n      <td>1736</td>\n      <td>... &lt; 100 DM</td>\n      <td>4 &lt;= ... &lt; 7 years</td>\n      <td>real estate</td>\n      <td>31</td>\n      <td>none</td>\n      <td>own</td>\n      <td>0</td>\n    </tr>\n    <tr>\n      <th>996</th>\n      <td>... &lt; 0 DM</td>\n      <td>30</td>\n      <td>existing credits paid back duly till now</td>\n      <td>car (used)</td>\n      <td>3857</td>\n      <td>... &lt; 100 DM</td>\n      <td>1 &lt;= ... &lt; 4 years</td>\n      <td>building society savings agreement/ life insur...</td>\n      <td>40</td>\n      <td>none</td>\n      <td>own</td>\n      <td>0</td>\n    </tr>\n    <tr>\n      <th>997</th>\n      <td>no checking account</td>\n      <td>12</td>\n      <td>existing credits paid back duly till now</td>\n      <td>radio/television</td>\n      <td>804</td>\n      <td>... &lt; 100 DM</td>\n      <td>... &gt;= 7 years</td>\n      <td>car or other, not in attribute Savings account...</td>\n      <td>38</td>\n      <td>none</td>\n      <td>own</td>\n      <td>0</td>\n    </tr>\n    <tr>\n      <th>998</th>\n      <td>... &lt; 0 DM</td>\n      <td>45</td>\n      <td>existing credits paid back duly till now</td>\n      <td>radio/television</td>\n      <td>1845</td>\n      <td>... &lt; 100 DM</td>\n      <td>1 &lt;= ... &lt; 4 years</td>\n      <td>unknown / no property</td>\n      <td>23</td>\n      <td>none</td>\n      <td>for free</td>\n      <td>1</td>\n    </tr>\n    <tr>\n      <th>999</th>\n      <td>0 &lt;= ... &lt; 200 DM</td>\n      <td>45</td>\n      <td>critical account/ other credits existing (not ...</td>\n      <td>car (used)</td>\n      <td>4576</td>\n      <td>100 &lt;= ... &lt; 500 DM</td>\n      <td>unemployed</td>\n      <td>car or other, not in attribute Savings account...</td>\n      <td>27</td>\n      <td>none</td>\n      <td>own</td>\n      <td>0</td>\n    </tr>\n  </tbody>\n</table>\n<p>1000 rows × 12 columns</p>\n</div>"
     },
     "execution_count": 7,
     "metadata": {},
     "output_type": "execute_result"
    }
   ],
   "source": [
    "selected_data\n"
   ],
   "metadata": {
    "collapsed": false,
    "pycharm": {
     "name": "#%%\n"
    }
   }
  },
  {
   "cell_type": "code",
   "execution_count": 8,
   "outputs": [
    {
     "data": {
      "text/plain": "{'empty': array([], dtype=float64),\n 'iv': array(['installment.rate.in.percentage.of.disposable.income',\n        'personal.status.and.sex', 'other.debtors.or.guarantors',\n        'present.residence.since',\n        'number.of.existing.credits.at.this.bank', 'job',\n        'number.of.people.being.liable.to.provide.maintenance.for',\n        'telephone', 'foreign.worker'], dtype=object),\n 'corr': array([], dtype=object)}"
     },
     "execution_count": 8,
     "metadata": {},
     "output_type": "execute_result"
    }
   ],
   "source": [
    "drop_list\n"
   ],
   "metadata": {
    "collapsed": false,
    "pycharm": {
     "name": "#%%\n"
    }
   }
  },
  {
   "cell_type": "code",
   "execution_count": 11,
   "outputs": [
    {
     "data": {
      "text/plain": "array([], dtype=object)"
     },
     "execution_count": 11,
     "metadata": {},
     "output_type": "execute_result"
    }
   ],
   "source": [
    "#drop_list['empty']\n",
    "#drop_list['iv']\n",
    "drop_list['corr']"
   ],
   "metadata": {
    "collapsed": false,
    "pycharm": {
     "name": "#%%\n"
    }
   }
  },
  {
   "cell_type": "code",
   "execution_count": 12,
   "outputs": [
    {
     "name": "stdout",
     "output_type": "stream",
     "text": [
      "保留特征: 12 缺失删除: 0 低iv删除： 9 高相关删除： 0\n"
     ]
    }
   ],
   "source": [
    "print('保留特征:',selected_data.shape[1],'缺失删除:',len(drop_list['empty']),'低iv删除：',len(drop_list['iv']),'高相关删除：',len(drop_list['corr']))\n"
   ],
   "metadata": {
    "collapsed": false,
    "pycharm": {
     "name": "#%%\n"
    }
   }
  },
  {
   "cell_type": "code",
   "execution_count": null,
   "outputs": [],
   "source": [],
   "metadata": {
    "collapsed": false,
    "pycharm": {
     "name": "#%%\n"
    }
   }
  }
 ],
 "metadata": {
  "kernelspec": {
   "display_name": "Python 3",
   "language": "python",
   "name": "python3"
  },
  "language_info": {
   "codemirror_mode": {
    "name": "ipython",
    "version": 2
   },
   "file_extension": ".py",
   "mimetype": "text/x-python",
   "name": "python",
   "nbconvert_exporter": "python",
   "pygments_lexer": "ipython2",
   "version": "2.7.6"
  }
 },
 "nbformat": 4,
 "nbformat_minor": 0
}