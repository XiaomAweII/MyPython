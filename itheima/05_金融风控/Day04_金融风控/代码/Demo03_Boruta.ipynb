{
 "cells": [
  {
   "cell_type": "code",
   "execution_count": 2,
   "metadata": {
    "collapsed": true
   },
   "outputs": [],
   "source": [
    "import numpy as np\n",
    "import pandas as pd\n",
    "import joblib\n",
    "from sklearn.ensemble import RandomForestClassifier\n",
    "from boruta import BorutaPy\n"
   ]
  },
  {
   "cell_type": "code",
   "execution_count": 4,
   "outputs": [
    {
     "data": {
      "text/plain": "        SK_ID_CURR  TARGET  AMT_GOODS_PRICE  REGION_POPULATION_RELATIVE  \\\n125406      245429       0         0.610118                    0.016406   \n8155        109510       0        -0.366495                   -0.410334   \n154053      278546       0         0.038650                    0.016406   \n300963      448668       0        -0.366495                   -0.158446   \n269546      412373       0        -0.366495                   -0.410334   \n...            ...     ...              ...                         ...   \n298994      446376       0        -0.050233                    0.016406   \n269429      412242       0        -0.050233                    0.016406   \n16          100020       0         0.268859                    0.268275   \n97169       212804       0         0.038650                    0.016406   \n90581       205165       0        -0.050233                   -0.043274   \n\n        DAYS_BIRTH  DAYS_EMPLOYED  DAYS_REGISTRATION  DAYS_ID_PUBLISH  \\\n125406    0.301190       0.092078          -0.099822         0.275679   \n8155     -0.440745      -0.608958           0.164707         0.193847   \n154053    0.301190       0.371651           0.075169         0.060654   \n300963    0.301190      -0.171601           0.075169        -0.057870   \n269546   -0.051704      -0.171601          -0.099822        -0.297834   \n...            ...            ...                ...              ...   \n298994   -0.440745      -0.451249          -0.377708        -0.297834   \n269429   -0.440745       0.253381           0.075169         0.060654   \n16        0.301190       0.253381          -0.099822        -0.057870   \n97169    -0.440745      -0.451249           0.075169        -0.057870   \n90581     0.301190       0.092078           0.075169         0.060654   \n\n        REGION_RATING_CLIENT_W_CITY  REG_CITY_NOT_LIVE_CITY  ...  \\\n125406                    -0.020586               -0.048048  ...   \n8155                      -0.536494               -0.048048  ...   \n154053                    -0.020586               -0.048048  ...   \n300963                    -0.020586               -0.048048  ...   \n269546                    -0.536494               -0.048048  ...   \n...                             ...                     ...  ...   \n298994                    -0.020586               -0.048048  ...   \n269429                    -0.020586               -0.048048  ...   \n16                        -0.020586                0.459100  ...   \n97169                     -0.536494               -0.048048  ...   \n90581                     -0.020586               -0.048048  ...   \n\n        p_NAME_SELLER_INDUSTRY_Connectivity  p_NAME_YIELD_GROUP_XNA  \\\n125406                             0.053257                0.383810   \n8155                              -0.065479               -0.090837   \n154053                            -0.065479               -0.090837   \n300963                            -0.065479               -0.090837   \n269546                             0.053257               -0.090837   \n...                                     ...                     ...   \n298994                             0.053257               -0.040815   \n269429                            -0.065479               -0.090837   \n16                                -0.065479               -0.090837   \n97169                             -0.065479               -0.090837   \n90581                             -0.065479               -0.090837   \n\n        p_NAME_YIELD_GROUP_high  p_NAME_YIELD_GROUP_low_action  \\\n125406                 0.065650                       0.073290   \n8155                  -0.132787                       0.073290   \n154053                -0.132787                      -0.316556   \n300963                -0.132787                      -0.316556   \n269546                 0.110022                      -0.152116   \n...                         ...                            ...   \n298994                 0.110022                       0.073290   \n269429                -0.132787                       0.073290   \n16                     0.110022                       0.073290   \n97169                  0.110022                       0.073290   \n90581                 -0.132787                       0.073290   \n\n        p_NAME_YIELD_GROUP_low_normal  p_PRODUCT_COMBINATION_Card Street  \\\n125406                       0.164891                          -0.063697   \n8155                        -0.241145                          -0.063697   \n154053                      -0.241145                          -0.063697   \n300963                       0.164891                          -0.063697   \n269546                       0.164891                          -0.063697   \n...                               ...                                ...   \n298994                      -0.241145                          -0.063697   \n269429                       0.164891                          -0.063697   \n16                           0.164891                          -0.063697   \n97169                        0.164891                          -0.063697   \n90581                        0.164891                          -0.063697   \n\n        p_PRODUCT_COMBINATION_Cash Street: high  \\\n125406                                -0.028915   \n8155                                  -0.028915   \n154053                                -0.028915   \n300963                                -0.028915   \n269546                                -0.028915   \n...                                         ...   \n298994                                -0.028915   \n269429                                -0.028915   \n16                                    -0.028915   \n97169                                 -0.028915   \n90581                                 -0.028915   \n\n        p_PRODUCT_COMBINATION_Cash X-Sell: high  \\\n125406                                -0.033661   \n8155                                  -0.033661   \n154053                                -0.033661   \n300963                                -0.033661   \n269546                                -0.033661   \n...                                         ...   \n298994                                -0.033661   \n269429                                -0.033661   \n16                                    -0.033661   \n97169                                 -0.033661   \n90581                                 -0.033661   \n\n        p_PRODUCT_COMBINATION_Cash X-Sell: low  \\\n125406                                0.083527   \n8155                                  0.083527   \n154053                                0.083527   \n300963                                0.083527   \n269546                               -0.239387   \n...                                        ...   \n298994                                0.083527   \n269429                                0.083527   \n16                                    0.083527   \n97169                                 0.083527   \n90581                                 0.083527   \n\n        p_PRODUCT_COMBINATION_POS industry with interest  \n125406                                         -0.065841  \n8155                                           -0.348529  \n154053                                         -0.348529  \n300963                                         -0.348529  \n269546                                          0.084509  \n...                                                  ...  \n298994                                          0.084509  \n269429                                         -0.348529  \n16                                              0.084509  \n97169                                           0.084509  \n90581                                          -0.348529  \n\n[215257 rows x 79 columns]",
      "text/html": "<div>\n<style scoped>\n    .dataframe tbody tr th:only-of-type {\n        vertical-align: middle;\n    }\n\n    .dataframe tbody tr th {\n        vertical-align: top;\n    }\n\n    .dataframe thead th {\n        text-align: right;\n    }\n</style>\n<table border=\"1\" class=\"dataframe\">\n  <thead>\n    <tr style=\"text-align: right;\">\n      <th></th>\n      <th>SK_ID_CURR</th>\n      <th>TARGET</th>\n      <th>AMT_GOODS_PRICE</th>\n      <th>REGION_POPULATION_RELATIVE</th>\n      <th>DAYS_BIRTH</th>\n      <th>DAYS_EMPLOYED</th>\n      <th>DAYS_REGISTRATION</th>\n      <th>DAYS_ID_PUBLISH</th>\n      <th>REGION_RATING_CLIENT_W_CITY</th>\n      <th>REG_CITY_NOT_LIVE_CITY</th>\n      <th>...</th>\n      <th>p_NAME_SELLER_INDUSTRY_Connectivity</th>\n      <th>p_NAME_YIELD_GROUP_XNA</th>\n      <th>p_NAME_YIELD_GROUP_high</th>\n      <th>p_NAME_YIELD_GROUP_low_action</th>\n      <th>p_NAME_YIELD_GROUP_low_normal</th>\n      <th>p_PRODUCT_COMBINATION_Card Street</th>\n      <th>p_PRODUCT_COMBINATION_Cash Street: high</th>\n      <th>p_PRODUCT_COMBINATION_Cash X-Sell: high</th>\n      <th>p_PRODUCT_COMBINATION_Cash X-Sell: low</th>\n      <th>p_PRODUCT_COMBINATION_POS industry with interest</th>\n    </tr>\n  </thead>\n  <tbody>\n    <tr>\n      <th>125406</th>\n      <td>245429</td>\n      <td>0</td>\n      <td>0.610118</td>\n      <td>0.016406</td>\n      <td>0.301190</td>\n      <td>0.092078</td>\n      <td>-0.099822</td>\n      <td>0.275679</td>\n      <td>-0.020586</td>\n      <td>-0.048048</td>\n      <td>...</td>\n      <td>0.053257</td>\n      <td>0.383810</td>\n      <td>0.065650</td>\n      <td>0.073290</td>\n      <td>0.164891</td>\n      <td>-0.063697</td>\n      <td>-0.028915</td>\n      <td>-0.033661</td>\n      <td>0.083527</td>\n      <td>-0.065841</td>\n    </tr>\n    <tr>\n      <th>8155</th>\n      <td>109510</td>\n      <td>0</td>\n      <td>-0.366495</td>\n      <td>-0.410334</td>\n      <td>-0.440745</td>\n      <td>-0.608958</td>\n      <td>0.164707</td>\n      <td>0.193847</td>\n      <td>-0.536494</td>\n      <td>-0.048048</td>\n      <td>...</td>\n      <td>-0.065479</td>\n      <td>-0.090837</td>\n      <td>-0.132787</td>\n      <td>0.073290</td>\n      <td>-0.241145</td>\n      <td>-0.063697</td>\n      <td>-0.028915</td>\n      <td>-0.033661</td>\n      <td>0.083527</td>\n      <td>-0.348529</td>\n    </tr>\n    <tr>\n      <th>154053</th>\n      <td>278546</td>\n      <td>0</td>\n      <td>0.038650</td>\n      <td>0.016406</td>\n      <td>0.301190</td>\n      <td>0.371651</td>\n      <td>0.075169</td>\n      <td>0.060654</td>\n      <td>-0.020586</td>\n      <td>-0.048048</td>\n      <td>...</td>\n      <td>-0.065479</td>\n      <td>-0.090837</td>\n      <td>-0.132787</td>\n      <td>-0.316556</td>\n      <td>-0.241145</td>\n      <td>-0.063697</td>\n      <td>-0.028915</td>\n      <td>-0.033661</td>\n      <td>0.083527</td>\n      <td>-0.348529</td>\n    </tr>\n    <tr>\n      <th>300963</th>\n      <td>448668</td>\n      <td>0</td>\n      <td>-0.366495</td>\n      <td>-0.158446</td>\n      <td>0.301190</td>\n      <td>-0.171601</td>\n      <td>0.075169</td>\n      <td>-0.057870</td>\n      <td>-0.020586</td>\n      <td>-0.048048</td>\n      <td>...</td>\n      <td>-0.065479</td>\n      <td>-0.090837</td>\n      <td>-0.132787</td>\n      <td>-0.316556</td>\n      <td>0.164891</td>\n      <td>-0.063697</td>\n      <td>-0.028915</td>\n      <td>-0.033661</td>\n      <td>0.083527</td>\n      <td>-0.348529</td>\n    </tr>\n    <tr>\n      <th>269546</th>\n      <td>412373</td>\n      <td>0</td>\n      <td>-0.366495</td>\n      <td>-0.410334</td>\n      <td>-0.051704</td>\n      <td>-0.171601</td>\n      <td>-0.099822</td>\n      <td>-0.297834</td>\n      <td>-0.536494</td>\n      <td>-0.048048</td>\n      <td>...</td>\n      <td>0.053257</td>\n      <td>-0.090837</td>\n      <td>0.110022</td>\n      <td>-0.152116</td>\n      <td>0.164891</td>\n      <td>-0.063697</td>\n      <td>-0.028915</td>\n      <td>-0.033661</td>\n      <td>-0.239387</td>\n      <td>0.084509</td>\n    </tr>\n    <tr>\n      <th>...</th>\n      <td>...</td>\n      <td>...</td>\n      <td>...</td>\n      <td>...</td>\n      <td>...</td>\n      <td>...</td>\n      <td>...</td>\n      <td>...</td>\n      <td>...</td>\n      <td>...</td>\n      <td>...</td>\n      <td>...</td>\n      <td>...</td>\n      <td>...</td>\n      <td>...</td>\n      <td>...</td>\n      <td>...</td>\n      <td>...</td>\n      <td>...</td>\n      <td>...</td>\n      <td>...</td>\n    </tr>\n    <tr>\n      <th>298994</th>\n      <td>446376</td>\n      <td>0</td>\n      <td>-0.050233</td>\n      <td>0.016406</td>\n      <td>-0.440745</td>\n      <td>-0.451249</td>\n      <td>-0.377708</td>\n      <td>-0.297834</td>\n      <td>-0.020586</td>\n      <td>-0.048048</td>\n      <td>...</td>\n      <td>0.053257</td>\n      <td>-0.040815</td>\n      <td>0.110022</td>\n      <td>0.073290</td>\n      <td>-0.241145</td>\n      <td>-0.063697</td>\n      <td>-0.028915</td>\n      <td>-0.033661</td>\n      <td>0.083527</td>\n      <td>0.084509</td>\n    </tr>\n    <tr>\n      <th>269429</th>\n      <td>412242</td>\n      <td>0</td>\n      <td>-0.050233</td>\n      <td>0.016406</td>\n      <td>-0.440745</td>\n      <td>0.253381</td>\n      <td>0.075169</td>\n      <td>0.060654</td>\n      <td>-0.020586</td>\n      <td>-0.048048</td>\n      <td>...</td>\n      <td>-0.065479</td>\n      <td>-0.090837</td>\n      <td>-0.132787</td>\n      <td>0.073290</td>\n      <td>0.164891</td>\n      <td>-0.063697</td>\n      <td>-0.028915</td>\n      <td>-0.033661</td>\n      <td>0.083527</td>\n      <td>-0.348529</td>\n    </tr>\n    <tr>\n      <th>16</th>\n      <td>100020</td>\n      <td>0</td>\n      <td>0.268859</td>\n      <td>0.268275</td>\n      <td>0.301190</td>\n      <td>0.253381</td>\n      <td>-0.099822</td>\n      <td>-0.057870</td>\n      <td>-0.020586</td>\n      <td>0.459100</td>\n      <td>...</td>\n      <td>-0.065479</td>\n      <td>-0.090837</td>\n      <td>0.110022</td>\n      <td>0.073290</td>\n      <td>0.164891</td>\n      <td>-0.063697</td>\n      <td>-0.028915</td>\n      <td>-0.033661</td>\n      <td>0.083527</td>\n      <td>0.084509</td>\n    </tr>\n    <tr>\n      <th>97169</th>\n      <td>212804</td>\n      <td>0</td>\n      <td>0.038650</td>\n      <td>0.016406</td>\n      <td>-0.440745</td>\n      <td>-0.451249</td>\n      <td>0.075169</td>\n      <td>-0.057870</td>\n      <td>-0.536494</td>\n      <td>-0.048048</td>\n      <td>...</td>\n      <td>-0.065479</td>\n      <td>-0.090837</td>\n      <td>0.110022</td>\n      <td>0.073290</td>\n      <td>0.164891</td>\n      <td>-0.063697</td>\n      <td>-0.028915</td>\n      <td>-0.033661</td>\n      <td>0.083527</td>\n      <td>0.084509</td>\n    </tr>\n    <tr>\n      <th>90581</th>\n      <td>205165</td>\n      <td>0</td>\n      <td>-0.050233</td>\n      <td>-0.043274</td>\n      <td>0.301190</td>\n      <td>0.092078</td>\n      <td>0.075169</td>\n      <td>0.060654</td>\n      <td>-0.020586</td>\n      <td>-0.048048</td>\n      <td>...</td>\n      <td>-0.065479</td>\n      <td>-0.090837</td>\n      <td>-0.132787</td>\n      <td>0.073290</td>\n      <td>0.164891</td>\n      <td>-0.063697</td>\n      <td>-0.028915</td>\n      <td>-0.033661</td>\n      <td>0.083527</td>\n      <td>-0.348529</td>\n    </tr>\n  </tbody>\n</table>\n<p>215257 rows × 79 columns</p>\n</div>"
     },
     "execution_count": 4,
     "metadata": {},
     "output_type": "execute_result"
    }
   ],
   "source": [
    "pd_data = joblib.load('../data/train_woe.pkl')\n",
    "pd_data"
   ],
   "metadata": {
    "collapsed": false,
    "pycharm": {
     "name": "#%%\n"
    }
   }
  },
  {
   "cell_type": "code",
   "execution_count": 6,
   "outputs": [],
   "source": [
    "#加载x和y，要求是array数据\n",
    "data = pd_data.drop(['SK_ID_CURR','TARGET'],axis=1)\n",
    "x = data.values\n",
    "#从原始数据中获取y值\n",
    "y = pd_data['TARGET'].values"
   ],
   "metadata": {
    "collapsed": false,
    "pycharm": {
     "name": "#%%\n"
    }
   }
  },
  {
   "cell_type": "code",
   "execution_count": 7,
   "outputs": [
    {
     "data": {
      "text/plain": "array([[ 0.61011757,  0.0164057 ,  0.30118966, ..., -0.03366097,\n         0.083527  , -0.06584093],\n       [-0.3664945 , -0.41033385, -0.44074513, ..., -0.03366097,\n         0.083527  , -0.34852914],\n       [ 0.03864971,  0.0164057 ,  0.30118966, ..., -0.03366097,\n         0.083527  , -0.34852914],\n       ...,\n       [ 0.2688592 ,  0.2682751 ,  0.30118966, ..., -0.03366097,\n         0.083527  ,  0.08450937],\n       [ 0.03864971,  0.0164057 , -0.44074513, ..., -0.03366097,\n         0.083527  ,  0.08450937],\n       [-0.05023317, -0.04327434,  0.30118966, ..., -0.03366097,\n         0.083527  , -0.34852914]])"
     },
     "execution_count": 7,
     "metadata": {},
     "output_type": "execute_result"
    }
   ],
   "source": [
    "x\n"
   ],
   "metadata": {
    "collapsed": false,
    "pycharm": {
     "name": "#%%\n"
    }
   }
  },
  {
   "cell_type": "code",
   "execution_count": 8,
   "outputs": [
    {
     "data": {
      "text/plain": "array([0, 0, 0, ..., 0, 0, 0], dtype=int64)"
     },
     "execution_count": 8,
     "metadata": {},
     "output_type": "execute_result"
    }
   ],
   "source": [
    "y\n"
   ],
   "metadata": {
    "collapsed": false,
    "pycharm": {
     "name": "#%%\n"
    }
   }
  },
  {
   "cell_type": "code",
   "execution_count": 9,
   "outputs": [
    {
     "data": {
      "text/plain": "array([0, 0, 0, ..., 0, 0, 0], dtype=int64)"
     },
     "execution_count": 9,
     "metadata": {},
     "output_type": "execute_result"
    }
   ],
   "source": [
    "#将多维数据降为一维\n",
    "y = y.ravel()\n",
    "y"
   ],
   "metadata": {
    "collapsed": false,
    "pycharm": {
     "name": "#%%\n"
    }
   }
  },
  {
   "cell_type": "code",
   "execution_count": 10,
   "outputs": [
    {
     "data": {
      "text/plain": "BorutaPy(estimator=RandomForestClassifier(class_weight='balanced', max_depth=5,\n                                          n_estimators=248, n_jobs=-1,\n                                          random_state=RandomState(MT19937) at 0x279444E5240),\n         max_iter=10, n_estimators='auto',\n         random_state=RandomState(MT19937) at 0x279444E5240)"
     },
     "execution_count": 10,
     "metadata": {},
     "output_type": "execute_result"
    }
   ],
   "source": [
    "#创建分类器，这里选择的是集成学习，因为集成学习中有特征重要性\n",
    "rf = RandomForestClassifier(n_jobs=-1,\n",
    "                       class_weight='balanced',\n",
    "                       max_depth=5)\n",
    "boruta = BorutaPy(rf,n_estimators='auto',random_state=1,max_iter=10)\n",
    "boruta.fit(x, y)"
   ],
   "metadata": {
    "collapsed": false,
    "pycharm": {
     "name": "#%%\n"
    }
   }
  },
  {
   "cell_type": "code",
   "execution_count": 11,
   "outputs": [
    {
     "data": {
      "text/plain": "array([ True,  True,  True,  True,  True,  True,  True,  True,  True,\n        True,  True,  True,  True,  True,  True,  True,  True,  True,\n        True,  True,  True,  True,  True,  True,  True,  True,  True,\n       False,  True,  True,  True,  True,  True, False,  True,  True,\n        True, False, False,  True,  True,  True, False,  True,  True,\n        True,  True,  True,  True,  True,  True,  True,  True,  True,\n        True, False,  True,  True,  True,  True, False,  True,  True,\n        True,  True,  True,  True,  True,  True,  True,  True,  True,\n        True,  True,  True,  True,  True])"
     },
     "execution_count": 11,
     "metadata": {},
     "output_type": "execute_result"
    }
   ],
   "source": [
    "boruta.support_"
   ],
   "metadata": {
    "collapsed": false,
    "pycharm": {
     "name": "#%%\n"
    }
   }
  },
  {
   "cell_type": "code",
   "execution_count": 12,
   "outputs": [
    {
     "data": {
      "text/plain": "array([1, 1, 1, 1, 1, 1, 1, 1, 1, 1, 1, 1, 1, 1, 1, 1, 1, 1, 1, 1, 1, 1,\n       1, 1, 1, 1, 1, 2, 1, 1, 1, 1, 1, 3, 1, 1, 1, 5, 2, 1, 1, 1, 5, 1,\n       1, 1, 1, 1, 1, 1, 1, 1, 1, 1, 1, 5, 1, 1, 1, 1, 5, 1, 1, 1, 1, 1,\n       1, 1, 1, 1, 1, 1, 1, 1, 1, 1, 1])"
     },
     "execution_count": 12,
     "metadata": {},
     "output_type": "execute_result"
    }
   ],
   "source": [
    "#值越大，说明越不重要\n",
    "boruta.ranking_"
   ],
   "metadata": {
    "collapsed": false,
    "pycharm": {
     "name": "#%%\n"
    }
   }
  },
  {
   "cell_type": "code",
   "execution_count": 13,
   "outputs": [
    {
     "data": {
      "text/plain": "                                             feature  selected\n0                                    AMT_GOODS_PRICE      True\n1                         REGION_POPULATION_RELATIVE      True\n2                                         DAYS_BIRTH      True\n3                                      DAYS_EMPLOYED      True\n4                                  DAYS_REGISTRATION      True\n..                                               ...       ...\n72                 p_PRODUCT_COMBINATION_Card Street      True\n73           p_PRODUCT_COMBINATION_Cash Street: high      True\n74           p_PRODUCT_COMBINATION_Cash X-Sell: high      True\n75            p_PRODUCT_COMBINATION_Cash X-Sell: low      True\n76  p_PRODUCT_COMBINATION_POS industry with interest      True\n\n[77 rows x 2 columns]",
      "text/html": "<div>\n<style scoped>\n    .dataframe tbody tr th:only-of-type {\n        vertical-align: middle;\n    }\n\n    .dataframe tbody tr th {\n        vertical-align: top;\n    }\n\n    .dataframe thead th {\n        text-align: right;\n    }\n</style>\n<table border=\"1\" class=\"dataframe\">\n  <thead>\n    <tr style=\"text-align: right;\">\n      <th></th>\n      <th>feature</th>\n      <th>selected</th>\n    </tr>\n  </thead>\n  <tbody>\n    <tr>\n      <th>0</th>\n      <td>AMT_GOODS_PRICE</td>\n      <td>True</td>\n    </tr>\n    <tr>\n      <th>1</th>\n      <td>REGION_POPULATION_RELATIVE</td>\n      <td>True</td>\n    </tr>\n    <tr>\n      <th>2</th>\n      <td>DAYS_BIRTH</td>\n      <td>True</td>\n    </tr>\n    <tr>\n      <th>3</th>\n      <td>DAYS_EMPLOYED</td>\n      <td>True</td>\n    </tr>\n    <tr>\n      <th>4</th>\n      <td>DAYS_REGISTRATION</td>\n      <td>True</td>\n    </tr>\n    <tr>\n      <th>...</th>\n      <td>...</td>\n      <td>...</td>\n    </tr>\n    <tr>\n      <th>72</th>\n      <td>p_PRODUCT_COMBINATION_Card Street</td>\n      <td>True</td>\n    </tr>\n    <tr>\n      <th>73</th>\n      <td>p_PRODUCT_COMBINATION_Cash Street: high</td>\n      <td>True</td>\n    </tr>\n    <tr>\n      <th>74</th>\n      <td>p_PRODUCT_COMBINATION_Cash X-Sell: high</td>\n      <td>True</td>\n    </tr>\n    <tr>\n      <th>75</th>\n      <td>p_PRODUCT_COMBINATION_Cash X-Sell: low</td>\n      <td>True</td>\n    </tr>\n    <tr>\n      <th>76</th>\n      <td>p_PRODUCT_COMBINATION_POS industry with interest</td>\n      <td>True</td>\n    </tr>\n  </tbody>\n</table>\n<p>77 rows × 2 columns</p>\n</div>"
     },
     "execution_count": 13,
     "metadata": {},
     "output_type": "execute_result"
    }
   ],
   "source": [
    "res = pd.DataFrame({'feature':data.columns.to_list(),'selected':boruta.support_})\n",
    "res"
   ],
   "metadata": {
    "collapsed": false,
    "pycharm": {
     "name": "#%%\n"
    }
   }
  },
  {
   "cell_type": "code",
   "execution_count": 14,
   "outputs": [
    {
     "data": {
      "text/plain": "                             feature  selected\n27              b_CREDIT_DAY_OVERDUE     False\n33          b_AMT_CREDIT_SUM_OVERDUE     False\n37           b_CREDIT_TYPE_Microloan     False\n38            b_CREDIT_TYPE_Mortgage     False\n42         pos_cash_paid_late_12_cnt     False\n55  p_NAME_CASH_LOAN_PURPOSE_Repairs     False\n60        p_CODE_REJECT_REASON_SCOFR     False",
      "text/html": "<div>\n<style scoped>\n    .dataframe tbody tr th:only-of-type {\n        vertical-align: middle;\n    }\n\n    .dataframe tbody tr th {\n        vertical-align: top;\n    }\n\n    .dataframe thead th {\n        text-align: right;\n    }\n</style>\n<table border=\"1\" class=\"dataframe\">\n  <thead>\n    <tr style=\"text-align: right;\">\n      <th></th>\n      <th>feature</th>\n      <th>selected</th>\n    </tr>\n  </thead>\n  <tbody>\n    <tr>\n      <th>27</th>\n      <td>b_CREDIT_DAY_OVERDUE</td>\n      <td>False</td>\n    </tr>\n    <tr>\n      <th>33</th>\n      <td>b_AMT_CREDIT_SUM_OVERDUE</td>\n      <td>False</td>\n    </tr>\n    <tr>\n      <th>37</th>\n      <td>b_CREDIT_TYPE_Microloan</td>\n      <td>False</td>\n    </tr>\n    <tr>\n      <th>38</th>\n      <td>b_CREDIT_TYPE_Mortgage</td>\n      <td>False</td>\n    </tr>\n    <tr>\n      <th>42</th>\n      <td>pos_cash_paid_late_12_cnt</td>\n      <td>False</td>\n    </tr>\n    <tr>\n      <th>55</th>\n      <td>p_NAME_CASH_LOAN_PURPOSE_Repairs</td>\n      <td>False</td>\n    </tr>\n    <tr>\n      <th>60</th>\n      <td>p_CODE_REJECT_REASON_SCOFR</td>\n      <td>False</td>\n    </tr>\n  </tbody>\n</table>\n</div>"
     },
     "execution_count": 14,
     "metadata": {},
     "output_type": "execute_result"
    }
   ],
   "source": [
    "res[res['selected'] == False]\n"
   ],
   "metadata": {
    "collapsed": false,
    "pycharm": {
     "name": "#%%\n"
    }
   }
  },
  {
   "cell_type": "code",
   "execution_count": null,
   "outputs": [],
   "source": [],
   "metadata": {
    "collapsed": false,
    "pycharm": {
     "name": "#%%\n"
    }
   }
  }
 ],
 "metadata": {
  "kernelspec": {
   "display_name": "Python 3",
   "language": "python",
   "name": "python3"
  },
  "language_info": {
   "codemirror_mode": {
    "name": "ipython",
    "version": 2
   },
   "file_extension": ".py",
   "mimetype": "text/x-python",
   "name": "python",
   "nbconvert_exporter": "python",
   "pygments_lexer": "ipython2",
   "version": "2.7.6"
  }
 },
 "nbformat": 4,
 "nbformat_minor": 0
}