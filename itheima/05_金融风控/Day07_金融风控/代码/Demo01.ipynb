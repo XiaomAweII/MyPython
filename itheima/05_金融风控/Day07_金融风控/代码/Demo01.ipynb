{
 "cells": [
  {
   "cell_type": "code",
   "execution_count": 3,
   "metadata": {
    "collapsed": true
   },
   "outputs": [],
   "source": [
    "import pandas as pd\n",
    "from sklearn.linear_model import LogisticRegression\n",
    "from sklearn.metrics import roc_auc_score,roc_curve,auc\n",
    "\n",
    "data = pd.read_csv('../data/Bcard.txt')\n",
    "feature_lst = ['person_info','finance_info','credit_info','act_info']\n",
    "train = data[data.obs_mth != '2018-11-30'].reset_index().copy()\n",
    "val = data[data.obs_mth == '2018-11-30'].reset_index().copy()"
   ]
  },
  {
   "cell_type": "markdown",
   "source": [
    "* 代价敏感"
   ],
   "metadata": {
    "collapsed": false,
    "pycharm": {
     "name": "#%% md\n"
    }
   }
  },
  {
   "cell_type": "code",
   "execution_count": 4,
   "outputs": [
    {
     "name": "stdout",
     "output_type": "stream",
     "text": [
      "train_ks :  0.41573985983413414\n",
      "val_ks :  0.3928959732014397\n"
     ]
    }
   ],
   "source": [
    "x = train[feature_lst]\n",
    "y = train['bad_ind']\n",
    "\n",
    "val_x =  val[feature_lst]\n",
    "val_y = val['bad_ind']\n",
    "\n",
    "lr_model = LogisticRegression(C=0.1)\n",
    "lr_model.fit(x,y)\n",
    "\n",
    "y_pred = lr_model.predict_proba(x)[:,1] #取出训练集预测值\n",
    "fpr_lr_train,tpr_lr_train,_ = roc_curve(y,y_pred) #计算TPR和FPR\n",
    "train_ks = abs(fpr_lr_train - tpr_lr_train).max() #计算训练集KS\n",
    "print('train_ks : ',train_ks)\n",
    "\n",
    "y_pred = lr_model.predict_proba(val_x)[:,1] #计算验证集预测值\n",
    "fpr_lr,tpr_lr,_ = roc_curve(val_y,y_pred)   #计算验证集预测值\n",
    "val_ks = abs(fpr_lr - tpr_lr).max()         #计算验证集KS值\n",
    "print('val_ks : ',val_ks)"
   ],
   "metadata": {
    "collapsed": false,
    "pycharm": {
     "name": "#%%\n"
    }
   }
  },
  {
   "cell_type": "code",
   "execution_count": 5,
   "outputs": [
    {
     "data": {
      "text/plain": "0.0    78361\n1.0     1470\nName: bad_ind, dtype: int64"
     },
     "execution_count": 5,
     "metadata": {},
     "output_type": "execute_result"
    }
   ],
   "source": [
    "#查看样本数量\n",
    "y.value_counts()\n"
   ],
   "metadata": {
    "collapsed": false,
    "pycharm": {
     "name": "#%%\n"
    }
   }
  },
  {
   "cell_type": "code",
   "execution_count": 6,
   "outputs": [
    {
     "data": {
      "text/plain": "0.0    15647\n1.0      328\nName: bad_ind, dtype: int64"
     },
     "execution_count": 6,
     "metadata": {},
     "output_type": "execute_result"
    }
   ],
   "source": [
    "val_y.value_counts()\n"
   ],
   "metadata": {
    "collapsed": false,
    "pycharm": {
     "name": "#%%\n"
    }
   }
  },
  {
   "cell_type": "code",
   "execution_count": 7,
   "outputs": [
    {
     "data": {
      "text/plain": "array([ 0.50937967, 27.15340136])"
     },
     "execution_count": 7,
     "metadata": {},
     "output_type": "execute_result"
    }
   ],
   "source": [
    "#手动计算权重\n",
    "import numpy as np\n",
    "y.shape[0]/(2 * np.bincount(y))"
   ],
   "metadata": {
    "collapsed": false,
    "pycharm": {
     "name": "#%%\n"
    }
   }
  },
  {
   "cell_type": "code",
   "execution_count": 8,
   "outputs": [
    {
     "data": {
      "text/plain": "LogisticRegression(C=0.1, class_weight='balanced')"
     },
     "execution_count": 8,
     "metadata": {},
     "output_type": "execute_result"
    }
   ],
   "source": [
    "lr_model = LogisticRegression(C=0.1,class_weight='balanced')\n",
    "lr_model.fit(x,y)"
   ],
   "metadata": {
    "collapsed": false,
    "pycharm": {
     "name": "#%%\n"
    }
   }
  },
  {
   "cell_type": "code",
   "execution_count": 9,
   "outputs": [
    {
     "name": "stdout",
     "output_type": "stream",
     "text": [
      "train_ks :  0.4482325608488951\n",
      "val_ks :  0.4198642457760936\n"
     ]
    }
   ],
   "source": [
    "y_pred = lr_model.predict_proba(x)[:,1] #取出训练集预测值\n",
    "fpr_lr_train,tpr_lr_train,_ = roc_curve(y,y_pred) #计算TPR和FPR\n",
    "train_ks = abs(fpr_lr_train - tpr_lr_train).max() #计算训练集KS\n",
    "print('train_ks : ',train_ks)\n",
    "\n",
    "y_pred = lr_model.predict_proba(val_x)[:,1] #计算验证集预测值\n",
    "fpr_lr,tpr_lr,_ = roc_curve(val_y,y_pred)   #计算验证集预测值\n",
    "val_ks = abs(fpr_lr - tpr_lr).max()         #计算验证集KS值\n",
    "print('val_ks : ',val_ks)\n"
   ],
   "metadata": {
    "collapsed": false,
    "pycharm": {
     "name": "#%%\n"
    }
   }
  },
  {
   "cell_type": "markdown",
   "source": [
    "* SMOTE"
   ],
   "metadata": {
    "collapsed": false,
    "pycharm": {
     "name": "#%% md\n"
    }
   }
  },
  {
   "cell_type": "code",
   "execution_count": 10,
   "outputs": [],
   "source": [
    "#自定义方法，用于模型训练的\n",
    "def lgb_test(train_x,train_y,test_x,test_y):\n",
    "    import lightgbm as lgb\n",
    "    clf =lgb.LGBMClassifier(boosting_type = 'gbdt',\n",
    "                            objective = 'binary',\n",
    "                            metric = 'auc',\n",
    "                            learning_rate = 0.1,\n",
    "                            n_estimators = 24,\n",
    "                            max_depth = 4,\n",
    "                            num_leaves = 25,\n",
    "                            max_bin = 40,\n",
    "                            min_data_in_leaf = 5,\n",
    "                            bagging_fraction = 0.6,\n",
    "                            bagging_freq = 0,\n",
    "                            feature_fraction = 0.8,\n",
    "                            )\n",
    "    clf.fit(train_x,train_y,eval_set=[(train_x,train_y),(test_x,test_y)],eval_metric = 'auc')\n",
    "    return clf,clf.best_score_['valid_1']['auc']"
   ],
   "metadata": {
    "collapsed": false,
    "pycharm": {
     "name": "#%%\n"
    }
   }
  },
  {
   "cell_type": "code",
   "execution_count": 11,
   "outputs": [
    {
     "name": "stdout",
     "output_type": "stream",
     "text": [
      "[LightGBM] [Warning] min_data_in_leaf is set=5, min_child_samples=20 will be ignored. Current value: min_data_in_leaf=5\n",
      "[LightGBM] [Warning] feature_fraction is set=0.8, colsample_bytree=1.0 will be ignored. Current value: feature_fraction=0.8\n",
      "[LightGBM] [Warning] bagging_fraction is set=0.6, subsample=1.0 will be ignored. Current value: bagging_fraction=0.6\n",
      "[LightGBM] [Warning] bagging_freq is set=0, subsample_freq=0 will be ignored. Current value: bagging_freq=0\n",
      "[LightGBM] [Warning] min_data_in_leaf is set=5, min_child_samples=20 will be ignored. Current value: min_data_in_leaf=5\n",
      "[LightGBM] [Warning] feature_fraction is set=0.8, colsample_bytree=1.0 will be ignored. Current value: feature_fraction=0.8\n",
      "[LightGBM] [Warning] bagging_fraction is set=0.6, subsample=1.0 will be ignored. Current value: bagging_fraction=0.6\n",
      "[LightGBM] [Warning] bagging_freq is set=0, subsample_freq=0 will be ignored. Current value: bagging_freq=0\n",
      "[LightGBM] [Info] Number of positive: 1470, number of negative: 78361\n",
      "[LightGBM] [Info] Auto-choosing col-wise multi-threading, the overhead of testing was 0.002862 seconds.\n",
      "You can set `force_col_wise=true` to remove the overhead.\n",
      "[LightGBM] [Info] Total Bins 116\n",
      "[LightGBM] [Info] Number of data points in the train set: 79831, number of used features: 4\n",
      "[LightGBM] [Warning] min_data_in_leaf is set=5, min_child_samples=20 will be ignored. Current value: min_data_in_leaf=5\n",
      "[LightGBM] [Warning] feature_fraction is set=0.8, colsample_bytree=1.0 will be ignored. Current value: feature_fraction=0.8\n",
      "[LightGBM] [Warning] bagging_fraction is set=0.6, subsample=1.0 will be ignored. Current value: bagging_fraction=0.6\n",
      "[LightGBM] [Warning] bagging_freq is set=0, subsample_freq=0 will be ignored. Current value: bagging_freq=0\n",
      "[LightGBM] [Info] [binary:BoostFromScore]: pavg=0.018414 -> initscore=-3.976064\n",
      "[LightGBM] [Info] Start training from score -3.976064\n",
      "[LightGBM] [Warning] min_data_in_leaf is set=5, min_child_samples=20 will be ignored. Current value: min_data_in_leaf=5\n",
      "[LightGBM] [Warning] feature_fraction is set=0.8, colsample_bytree=1.0 will be ignored. Current value: feature_fraction=0.8\n",
      "[LightGBM] [Warning] bagging_fraction is set=0.6, subsample=1.0 will be ignored. Current value: bagging_fraction=0.6\n",
      "[LightGBM] [Warning] bagging_freq is set=0, subsample_freq=0 will be ignored. Current value: bagging_freq=0\n"
     ]
    },
    {
     "data": {
      "text/plain": "       person_info  finance_info  credit_info  act_info  bad_ind      pred\n0        -0.322581      0.023810         0.00  0.217949      0.0  0.004041\n1        -0.128677      0.023810         0.00  0.423077      0.0  0.005477\n2         0.062660      0.023810         0.10  0.448718      0.0  0.017776\n3         0.078853      0.071429         0.05  0.179487      0.0  0.067900\n4        -0.261014      0.023810         0.00  0.423077      0.0  0.004112\n...            ...           ...          ...       ...      ...       ...\n79826     0.078853      0.071429         0.13  0.076923      0.0  0.061145\n79827     0.078853      0.023810         0.00  0.076923      0.0  0.015513\n79828     0.078853      0.023810         0.02  0.076923      0.0  0.020286\n79829     0.078853      0.023810         0.00  0.076923      0.0  0.015513\n79830     0.078853      0.023810         0.00  0.076923      0.0  0.015513\n\n[79831 rows x 6 columns]",
      "text/html": "<div>\n<style scoped>\n    .dataframe tbody tr th:only-of-type {\n        vertical-align: middle;\n    }\n\n    .dataframe tbody tr th {\n        vertical-align: top;\n    }\n\n    .dataframe thead th {\n        text-align: right;\n    }\n</style>\n<table border=\"1\" class=\"dataframe\">\n  <thead>\n    <tr style=\"text-align: right;\">\n      <th></th>\n      <th>person_info</th>\n      <th>finance_info</th>\n      <th>credit_info</th>\n      <th>act_info</th>\n      <th>bad_ind</th>\n      <th>pred</th>\n    </tr>\n  </thead>\n  <tbody>\n    <tr>\n      <th>0</th>\n      <td>-0.322581</td>\n      <td>0.023810</td>\n      <td>0.00</td>\n      <td>0.217949</td>\n      <td>0.0</td>\n      <td>0.004041</td>\n    </tr>\n    <tr>\n      <th>1</th>\n      <td>-0.128677</td>\n      <td>0.023810</td>\n      <td>0.00</td>\n      <td>0.423077</td>\n      <td>0.0</td>\n      <td>0.005477</td>\n    </tr>\n    <tr>\n      <th>2</th>\n      <td>0.062660</td>\n      <td>0.023810</td>\n      <td>0.10</td>\n      <td>0.448718</td>\n      <td>0.0</td>\n      <td>0.017776</td>\n    </tr>\n    <tr>\n      <th>3</th>\n      <td>0.078853</td>\n      <td>0.071429</td>\n      <td>0.05</td>\n      <td>0.179487</td>\n      <td>0.0</td>\n      <td>0.067900</td>\n    </tr>\n    <tr>\n      <th>4</th>\n      <td>-0.261014</td>\n      <td>0.023810</td>\n      <td>0.00</td>\n      <td>0.423077</td>\n      <td>0.0</td>\n      <td>0.004112</td>\n    </tr>\n    <tr>\n      <th>...</th>\n      <td>...</td>\n      <td>...</td>\n      <td>...</td>\n      <td>...</td>\n      <td>...</td>\n      <td>...</td>\n    </tr>\n    <tr>\n      <th>79826</th>\n      <td>0.078853</td>\n      <td>0.071429</td>\n      <td>0.13</td>\n      <td>0.076923</td>\n      <td>0.0</td>\n      <td>0.061145</td>\n    </tr>\n    <tr>\n      <th>79827</th>\n      <td>0.078853</td>\n      <td>0.023810</td>\n      <td>0.00</td>\n      <td>0.076923</td>\n      <td>0.0</td>\n      <td>0.015513</td>\n    </tr>\n    <tr>\n      <th>79828</th>\n      <td>0.078853</td>\n      <td>0.023810</td>\n      <td>0.02</td>\n      <td>0.076923</td>\n      <td>0.0</td>\n      <td>0.020286</td>\n    </tr>\n    <tr>\n      <th>79829</th>\n      <td>0.078853</td>\n      <td>0.023810</td>\n      <td>0.00</td>\n      <td>0.076923</td>\n      <td>0.0</td>\n      <td>0.015513</td>\n    </tr>\n    <tr>\n      <th>79830</th>\n      <td>0.078853</td>\n      <td>0.023810</td>\n      <td>0.00</td>\n      <td>0.076923</td>\n      <td>0.0</td>\n      <td>0.015513</td>\n    </tr>\n  </tbody>\n</table>\n<p>79831 rows × 6 columns</p>\n</div>"
     },
     "execution_count": 11,
     "metadata": {},
     "output_type": "execute_result"
    }
   ],
   "source": [
    "#根据前面内容得知，如下四个列是特征筛选后留下的列，也就是去掉了其他不重要的列\n",
    "feature_lst = ['person_info','finance_info','credit_info','act_info']\n",
    "\n",
    "#准备数据\n",
    "train_x = train[feature_lst]\n",
    "train_y = train['bad_ind']\n",
    "test_x = val[feature_lst]\n",
    "test_y = val['bad_ind']\n",
    "\n",
    "#调用函数，进行训练\n",
    "lgb_model,lgb_auc  = lgb_test(train_x,train_y,test_x,test_y)\n",
    "\n",
    "#模型预测\n",
    "sample = train_x.copy()\n",
    "sample['bad_ind'] = train_y\n",
    "sample['pred'] = lgb_model.predict_proba(train_x)[:,1]\n",
    "sample"
   ],
   "metadata": {
    "collapsed": false,
    "pycharm": {
     "name": "#%%\n"
    }
   }
  },
  {
   "cell_type": "code",
   "execution_count": 12,
   "outputs": [
    {
     "data": {
      "text/plain": "       index  person_info  finance_info  credit_info  act_info  bad_ind  \\\n0      12039     0.062660      0.690476         0.85  0.076923      1.0   \n1      56269     0.078853      0.738095         0.35  0.525641      1.0   \n2      79624     0.078853      0.619048         0.86  0.076923      0.0   \n3      50459     0.078853      0.571429         0.17  0.153846      1.0   \n4      12355     0.078853      0.666667         0.25  0.397436      0.0   \n...      ...          ...           ...          ...       ...      ...   \n79826  31712    -0.322581      0.023810         0.00  0.551282      0.0   \n79827  31717    -0.322581      0.023810         0.00  0.551282      0.0   \n79828  31750    -0.322581      0.023810         0.00  0.576923      0.0   \n79829  31756    -0.322581      0.023810         0.00  0.538462      0.0   \n79830  39915    -0.322581      0.023810         0.00  0.538462      0.0   \n\n           pred      rank  \n0      0.608498  0.000000  \n1      0.584865  0.000013  \n2      0.565661  0.000025  \n3      0.562057  0.000038  \n4      0.547170  0.000050  \n...         ...       ...  \n79826  0.003445  0.999937  \n79827  0.003445  0.999950  \n79828  0.003445  0.999962  \n79829  0.003445  0.999975  \n79830  0.003445  0.999987  \n\n[79831 rows x 8 columns]",
      "text/html": "<div>\n<style scoped>\n    .dataframe tbody tr th:only-of-type {\n        vertical-align: middle;\n    }\n\n    .dataframe tbody tr th {\n        vertical-align: top;\n    }\n\n    .dataframe thead th {\n        text-align: right;\n    }\n</style>\n<table border=\"1\" class=\"dataframe\">\n  <thead>\n    <tr style=\"text-align: right;\">\n      <th></th>\n      <th>index</th>\n      <th>person_info</th>\n      <th>finance_info</th>\n      <th>credit_info</th>\n      <th>act_info</th>\n      <th>bad_ind</th>\n      <th>pred</th>\n      <th>rank</th>\n    </tr>\n  </thead>\n  <tbody>\n    <tr>\n      <th>0</th>\n      <td>12039</td>\n      <td>0.062660</td>\n      <td>0.690476</td>\n      <td>0.85</td>\n      <td>0.076923</td>\n      <td>1.0</td>\n      <td>0.608498</td>\n      <td>0.000000</td>\n    </tr>\n    <tr>\n      <th>1</th>\n      <td>56269</td>\n      <td>0.078853</td>\n      <td>0.738095</td>\n      <td>0.35</td>\n      <td>0.525641</td>\n      <td>1.0</td>\n      <td>0.584865</td>\n      <td>0.000013</td>\n    </tr>\n    <tr>\n      <th>2</th>\n      <td>79624</td>\n      <td>0.078853</td>\n      <td>0.619048</td>\n      <td>0.86</td>\n      <td>0.076923</td>\n      <td>0.0</td>\n      <td>0.565661</td>\n      <td>0.000025</td>\n    </tr>\n    <tr>\n      <th>3</th>\n      <td>50459</td>\n      <td>0.078853</td>\n      <td>0.571429</td>\n      <td>0.17</td>\n      <td>0.153846</td>\n      <td>1.0</td>\n      <td>0.562057</td>\n      <td>0.000038</td>\n    </tr>\n    <tr>\n      <th>4</th>\n      <td>12355</td>\n      <td>0.078853</td>\n      <td>0.666667</td>\n      <td>0.25</td>\n      <td>0.397436</td>\n      <td>0.0</td>\n      <td>0.547170</td>\n      <td>0.000050</td>\n    </tr>\n    <tr>\n      <th>...</th>\n      <td>...</td>\n      <td>...</td>\n      <td>...</td>\n      <td>...</td>\n      <td>...</td>\n      <td>...</td>\n      <td>...</td>\n      <td>...</td>\n    </tr>\n    <tr>\n      <th>79826</th>\n      <td>31712</td>\n      <td>-0.322581</td>\n      <td>0.023810</td>\n      <td>0.00</td>\n      <td>0.551282</td>\n      <td>0.0</td>\n      <td>0.003445</td>\n      <td>0.999937</td>\n    </tr>\n    <tr>\n      <th>79827</th>\n      <td>31717</td>\n      <td>-0.322581</td>\n      <td>0.023810</td>\n      <td>0.00</td>\n      <td>0.551282</td>\n      <td>0.0</td>\n      <td>0.003445</td>\n      <td>0.999950</td>\n    </tr>\n    <tr>\n      <th>79828</th>\n      <td>31750</td>\n      <td>-0.322581</td>\n      <td>0.023810</td>\n      <td>0.00</td>\n      <td>0.576923</td>\n      <td>0.0</td>\n      <td>0.003445</td>\n      <td>0.999962</td>\n    </tr>\n    <tr>\n      <th>79829</th>\n      <td>31756</td>\n      <td>-0.322581</td>\n      <td>0.023810</td>\n      <td>0.00</td>\n      <td>0.538462</td>\n      <td>0.0</td>\n      <td>0.003445</td>\n      <td>0.999975</td>\n    </tr>\n    <tr>\n      <th>79830</th>\n      <td>39915</td>\n      <td>-0.322581</td>\n      <td>0.023810</td>\n      <td>0.00</td>\n      <td>0.538462</td>\n      <td>0.0</td>\n      <td>0.003445</td>\n      <td>0.999987</td>\n    </tr>\n  </tbody>\n</table>\n<p>79831 rows × 8 columns</p>\n</div>"
     },
     "execution_count": 12,
     "metadata": {},
     "output_type": "execute_result"
    }
   ],
   "source": [
    "#对刚刚预测的结果进行排序，按照pred倒序排序\n",
    "sample = sample.sort_values(by=['pred'],ascending=False).reset_index()\n",
    "#使用当前行的index/总的样本数，得到当前行占所有行的比例，这就是排名\n",
    "sample['rank'] = sample.index.values/len(sample)\n",
    "sample"
   ],
   "metadata": {
    "collapsed": false,
    "pycharm": {
     "name": "#%%\n"
    }
   }
  },
  {
   "cell_type": "code",
   "execution_count": 13,
   "outputs": [
    {
     "data": {
      "text/plain": "       index  person_info  finance_info  credit_info  act_info  bad_ind  \\\n0      12039     0.062660      0.690476         0.85  0.076923      1.0   \n1      56269     0.078853      0.738095         0.35  0.525641      1.0   \n2      79624     0.078853      0.619048         0.86  0.076923      0.0   \n3      50459     0.078853      0.571429         0.17  0.153846      1.0   \n4      12355     0.078853      0.666667         0.25  0.397436      0.0   \n...      ...          ...           ...          ...       ...      ...   \n79826  31712    -0.322581      0.023810         0.00  0.551282      0.0   \n79827  31717    -0.322581      0.023810         0.00  0.551282      0.0   \n79828  31750    -0.322581      0.023810         0.00  0.576923      0.0   \n79829  31756    -0.322581      0.023810         0.00  0.538462      0.0   \n79830  39915    -0.322581      0.023810         0.00  0.538462      0.0   \n\n           pred      rank  weight  \n0      0.608498  0.000000     1.0  \n1      0.584865  0.000013     1.0  \n2      0.565661  0.000025     0.1  \n3      0.562057  0.000038     1.0  \n4      0.547170  0.000050     0.1  \n...         ...       ...     ...  \n79826  0.003445  0.999937     1.0  \n79827  0.003445  0.999950     1.0  \n79828  0.003445  0.999962     1.0  \n79829  0.003445  0.999975     1.0  \n79830  0.003445  0.999987     1.0  \n\n[79831 rows x 9 columns]",
      "text/html": "<div>\n<style scoped>\n    .dataframe tbody tr th:only-of-type {\n        vertical-align: middle;\n    }\n\n    .dataframe tbody tr th {\n        vertical-align: top;\n    }\n\n    .dataframe thead th {\n        text-align: right;\n    }\n</style>\n<table border=\"1\" class=\"dataframe\">\n  <thead>\n    <tr style=\"text-align: right;\">\n      <th></th>\n      <th>index</th>\n      <th>person_info</th>\n      <th>finance_info</th>\n      <th>credit_info</th>\n      <th>act_info</th>\n      <th>bad_ind</th>\n      <th>pred</th>\n      <th>rank</th>\n      <th>weight</th>\n    </tr>\n  </thead>\n  <tbody>\n    <tr>\n      <th>0</th>\n      <td>12039</td>\n      <td>0.062660</td>\n      <td>0.690476</td>\n      <td>0.85</td>\n      <td>0.076923</td>\n      <td>1.0</td>\n      <td>0.608498</td>\n      <td>0.000000</td>\n      <td>1.0</td>\n    </tr>\n    <tr>\n      <th>1</th>\n      <td>56269</td>\n      <td>0.078853</td>\n      <td>0.738095</td>\n      <td>0.35</td>\n      <td>0.525641</td>\n      <td>1.0</td>\n      <td>0.584865</td>\n      <td>0.000013</td>\n      <td>1.0</td>\n    </tr>\n    <tr>\n      <th>2</th>\n      <td>79624</td>\n      <td>0.078853</td>\n      <td>0.619048</td>\n      <td>0.86</td>\n      <td>0.076923</td>\n      <td>0.0</td>\n      <td>0.565661</td>\n      <td>0.000025</td>\n      <td>0.1</td>\n    </tr>\n    <tr>\n      <th>3</th>\n      <td>50459</td>\n      <td>0.078853</td>\n      <td>0.571429</td>\n      <td>0.17</td>\n      <td>0.153846</td>\n      <td>1.0</td>\n      <td>0.562057</td>\n      <td>0.000038</td>\n      <td>1.0</td>\n    </tr>\n    <tr>\n      <th>4</th>\n      <td>12355</td>\n      <td>0.078853</td>\n      <td>0.666667</td>\n      <td>0.25</td>\n      <td>0.397436</td>\n      <td>0.0</td>\n      <td>0.547170</td>\n      <td>0.000050</td>\n      <td>0.1</td>\n    </tr>\n    <tr>\n      <th>...</th>\n      <td>...</td>\n      <td>...</td>\n      <td>...</td>\n      <td>...</td>\n      <td>...</td>\n      <td>...</td>\n      <td>...</td>\n      <td>...</td>\n      <td>...</td>\n    </tr>\n    <tr>\n      <th>79826</th>\n      <td>31712</td>\n      <td>-0.322581</td>\n      <td>0.023810</td>\n      <td>0.00</td>\n      <td>0.551282</td>\n      <td>0.0</td>\n      <td>0.003445</td>\n      <td>0.999937</td>\n      <td>1.0</td>\n    </tr>\n    <tr>\n      <th>79827</th>\n      <td>31717</td>\n      <td>-0.322581</td>\n      <td>0.023810</td>\n      <td>0.00</td>\n      <td>0.551282</td>\n      <td>0.0</td>\n      <td>0.003445</td>\n      <td>0.999950</td>\n      <td>1.0</td>\n    </tr>\n    <tr>\n      <th>79828</th>\n      <td>31750</td>\n      <td>-0.322581</td>\n      <td>0.023810</td>\n      <td>0.00</td>\n      <td>0.576923</td>\n      <td>0.0</td>\n      <td>0.003445</td>\n      <td>0.999962</td>\n      <td>1.0</td>\n    </tr>\n    <tr>\n      <th>79829</th>\n      <td>31756</td>\n      <td>-0.322581</td>\n      <td>0.023810</td>\n      <td>0.00</td>\n      <td>0.538462</td>\n      <td>0.0</td>\n      <td>0.003445</td>\n      <td>0.999975</td>\n      <td>1.0</td>\n    </tr>\n    <tr>\n      <th>79830</th>\n      <td>39915</td>\n      <td>-0.322581</td>\n      <td>0.023810</td>\n      <td>0.00</td>\n      <td>0.538462</td>\n      <td>0.0</td>\n      <td>0.003445</td>\n      <td>0.999987</td>\n      <td>1.0</td>\n    </tr>\n  </tbody>\n</table>\n<p>79831 rows × 9 columns</p>\n</div>"
     },
     "execution_count": 13,
     "metadata": {},
     "output_type": "execute_result"
    }
   ],
   "source": [
    "#数据过滤\n",
    "#x：真实值\n",
    "#y：占比\n",
    "def weight(x, y):\n",
    "    #真实为0（好人），但是排名靠前（预测为坏人）\n",
    "    if x == 0 and y < 0.1:\n",
    "        return 0.1\n",
    "    #真实为1（坏人），但是排名靠后（预测为好人）\n",
    "    elif x == 1 and y > 0.7:\n",
    "        return 0.1\n",
    "    else:\n",
    "        return 1\n",
    "sample['weight'] = sample.apply(lambda row:weight(row['bad_ind'],row['rank']),axis=1)\n",
    "sample"
   ],
   "metadata": {
    "collapsed": false,
    "pycharm": {
     "name": "#%%\n"
    }
   }
  },
  {
   "cell_type": "code",
   "execution_count": 14,
   "outputs": [
    {
     "data": {
      "text/plain": "       index  person_info  finance_info  credit_info  act_info  bad_ind  \\\n0      12039     0.062660      0.690476         0.85  0.076923      1.0   \n1      56269     0.078853      0.738095         0.35  0.525641      1.0   \n3      50459     0.078853      0.571429         0.17  0.153846      1.0   \n6      14215     0.078853      0.761905         0.18  0.076923      1.0   \n9      76509     0.078853      0.595238         0.20  0.076923      1.0   \n...      ...          ...           ...          ...       ...      ...   \n79826  31712    -0.322581      0.023810         0.00  0.551282      0.0   \n79827  31717    -0.322581      0.023810         0.00  0.551282      0.0   \n79828  31750    -0.322581      0.023810         0.00  0.576923      0.0   \n79829  31756    -0.322581      0.023810         0.00  0.538462      0.0   \n79830  39915    -0.322581      0.023810         0.00  0.538462      0.0   \n\n           pred      rank  weight  \n0      0.608498  0.000000     1.0  \n1      0.584865  0.000013     1.0  \n3      0.562057  0.000038     1.0  \n6      0.542053  0.000075     1.0  \n9      0.532588  0.000113     1.0  \n...         ...       ...     ...  \n79826  0.003445  0.999937     1.0  \n79827  0.003445  0.999950     1.0  \n79828  0.003445  0.999962     1.0  \n79829  0.003445  0.999975     1.0  \n79830  0.003445  0.999987     1.0  \n\n[72529 rows x 9 columns]",
      "text/html": "<div>\n<style scoped>\n    .dataframe tbody tr th:only-of-type {\n        vertical-align: middle;\n    }\n\n    .dataframe tbody tr th {\n        vertical-align: top;\n    }\n\n    .dataframe thead th {\n        text-align: right;\n    }\n</style>\n<table border=\"1\" class=\"dataframe\">\n  <thead>\n    <tr style=\"text-align: right;\">\n      <th></th>\n      <th>index</th>\n      <th>person_info</th>\n      <th>finance_info</th>\n      <th>credit_info</th>\n      <th>act_info</th>\n      <th>bad_ind</th>\n      <th>pred</th>\n      <th>rank</th>\n      <th>weight</th>\n    </tr>\n  </thead>\n  <tbody>\n    <tr>\n      <th>0</th>\n      <td>12039</td>\n      <td>0.062660</td>\n      <td>0.690476</td>\n      <td>0.85</td>\n      <td>0.076923</td>\n      <td>1.0</td>\n      <td>0.608498</td>\n      <td>0.000000</td>\n      <td>1.0</td>\n    </tr>\n    <tr>\n      <th>1</th>\n      <td>56269</td>\n      <td>0.078853</td>\n      <td>0.738095</td>\n      <td>0.35</td>\n      <td>0.525641</td>\n      <td>1.0</td>\n      <td>0.584865</td>\n      <td>0.000013</td>\n      <td>1.0</td>\n    </tr>\n    <tr>\n      <th>3</th>\n      <td>50459</td>\n      <td>0.078853</td>\n      <td>0.571429</td>\n      <td>0.17</td>\n      <td>0.153846</td>\n      <td>1.0</td>\n      <td>0.562057</td>\n      <td>0.000038</td>\n      <td>1.0</td>\n    </tr>\n    <tr>\n      <th>6</th>\n      <td>14215</td>\n      <td>0.078853</td>\n      <td>0.761905</td>\n      <td>0.18</td>\n      <td>0.076923</td>\n      <td>1.0</td>\n      <td>0.542053</td>\n      <td>0.000075</td>\n      <td>1.0</td>\n    </tr>\n    <tr>\n      <th>9</th>\n      <td>76509</td>\n      <td>0.078853</td>\n      <td>0.595238</td>\n      <td>0.20</td>\n      <td>0.076923</td>\n      <td>1.0</td>\n      <td>0.532588</td>\n      <td>0.000113</td>\n      <td>1.0</td>\n    </tr>\n    <tr>\n      <th>...</th>\n      <td>...</td>\n      <td>...</td>\n      <td>...</td>\n      <td>...</td>\n      <td>...</td>\n      <td>...</td>\n      <td>...</td>\n      <td>...</td>\n      <td>...</td>\n    </tr>\n    <tr>\n      <th>79826</th>\n      <td>31712</td>\n      <td>-0.322581</td>\n      <td>0.023810</td>\n      <td>0.00</td>\n      <td>0.551282</td>\n      <td>0.0</td>\n      <td>0.003445</td>\n      <td>0.999937</td>\n      <td>1.0</td>\n    </tr>\n    <tr>\n      <th>79827</th>\n      <td>31717</td>\n      <td>-0.322581</td>\n      <td>0.023810</td>\n      <td>0.00</td>\n      <td>0.551282</td>\n      <td>0.0</td>\n      <td>0.003445</td>\n      <td>0.999950</td>\n      <td>1.0</td>\n    </tr>\n    <tr>\n      <th>79828</th>\n      <td>31750</td>\n      <td>-0.322581</td>\n      <td>0.023810</td>\n      <td>0.00</td>\n      <td>0.576923</td>\n      <td>0.0</td>\n      <td>0.003445</td>\n      <td>0.999962</td>\n      <td>1.0</td>\n    </tr>\n    <tr>\n      <th>79829</th>\n      <td>31756</td>\n      <td>-0.322581</td>\n      <td>0.023810</td>\n      <td>0.00</td>\n      <td>0.538462</td>\n      <td>0.0</td>\n      <td>0.003445</td>\n      <td>0.999975</td>\n      <td>1.0</td>\n    </tr>\n    <tr>\n      <th>79830</th>\n      <td>39915</td>\n      <td>-0.322581</td>\n      <td>0.023810</td>\n      <td>0.00</td>\n      <td>0.538462</td>\n      <td>0.0</td>\n      <td>0.003445</td>\n      <td>0.999987</td>\n      <td>1.0</td>\n    </tr>\n  </tbody>\n</table>\n<p>72529 rows × 9 columns</p>\n</div>"
     },
     "execution_count": 14,
     "metadata": {},
     "output_type": "execute_result"
    }
   ],
   "source": [
    "#把上述数据中，0.1的过滤掉。留下1的数据\n",
    "smote_sample = sample[sample['weight'] == 1]\n",
    "smote_sample"
   ],
   "metadata": {
    "collapsed": false,
    "pycharm": {
     "name": "#%%\n"
    }
   }
  },
  {
   "cell_type": "code",
   "execution_count": 15,
   "outputs": [
    {
     "data": {
      "text/plain": "       person_info  finance_info  credit_info  act_info\n0         0.062660      0.690476         0.85  0.076923\n1         0.078853      0.738095         0.35  0.525641\n3         0.078853      0.571429         0.17  0.153846\n6         0.078853      0.761905         0.18  0.076923\n9         0.078853      0.595238         0.20  0.076923\n...            ...           ...          ...       ...\n79826    -0.322581      0.023810         0.00  0.551282\n79827    -0.322581      0.023810         0.00  0.551282\n79828    -0.322581      0.023810         0.00  0.576923\n79829    -0.322581      0.023810         0.00  0.538462\n79830    -0.322581      0.023810         0.00  0.538462\n\n[72529 rows x 4 columns]",
      "text/html": "<div>\n<style scoped>\n    .dataframe tbody tr th:only-of-type {\n        vertical-align: middle;\n    }\n\n    .dataframe tbody tr th {\n        vertical-align: top;\n    }\n\n    .dataframe thead th {\n        text-align: right;\n    }\n</style>\n<table border=\"1\" class=\"dataframe\">\n  <thead>\n    <tr style=\"text-align: right;\">\n      <th></th>\n      <th>person_info</th>\n      <th>finance_info</th>\n      <th>credit_info</th>\n      <th>act_info</th>\n    </tr>\n  </thead>\n  <tbody>\n    <tr>\n      <th>0</th>\n      <td>0.062660</td>\n      <td>0.690476</td>\n      <td>0.85</td>\n      <td>0.076923</td>\n    </tr>\n    <tr>\n      <th>1</th>\n      <td>0.078853</td>\n      <td>0.738095</td>\n      <td>0.35</td>\n      <td>0.525641</td>\n    </tr>\n    <tr>\n      <th>3</th>\n      <td>0.078853</td>\n      <td>0.571429</td>\n      <td>0.17</td>\n      <td>0.153846</td>\n    </tr>\n    <tr>\n      <th>6</th>\n      <td>0.078853</td>\n      <td>0.761905</td>\n      <td>0.18</td>\n      <td>0.076923</td>\n    </tr>\n    <tr>\n      <th>9</th>\n      <td>0.078853</td>\n      <td>0.595238</td>\n      <td>0.20</td>\n      <td>0.076923</td>\n    </tr>\n    <tr>\n      <th>...</th>\n      <td>...</td>\n      <td>...</td>\n      <td>...</td>\n      <td>...</td>\n    </tr>\n    <tr>\n      <th>79826</th>\n      <td>-0.322581</td>\n      <td>0.023810</td>\n      <td>0.00</td>\n      <td>0.551282</td>\n    </tr>\n    <tr>\n      <th>79827</th>\n      <td>-0.322581</td>\n      <td>0.023810</td>\n      <td>0.00</td>\n      <td>0.551282</td>\n    </tr>\n    <tr>\n      <th>79828</th>\n      <td>-0.322581</td>\n      <td>0.023810</td>\n      <td>0.00</td>\n      <td>0.576923</td>\n    </tr>\n    <tr>\n      <th>79829</th>\n      <td>-0.322581</td>\n      <td>0.023810</td>\n      <td>0.00</td>\n      <td>0.538462</td>\n    </tr>\n    <tr>\n      <th>79830</th>\n      <td>-0.322581</td>\n      <td>0.023810</td>\n      <td>0.00</td>\n      <td>0.538462</td>\n    </tr>\n  </tbody>\n</table>\n<p>72529 rows × 4 columns</p>\n</div>"
     },
     "execution_count": 15,
     "metadata": {},
     "output_type": "execute_result"
    }
   ],
   "source": [
    "#准备x和y\n",
    "train_x_smote = smote_sample[feature_lst]\n",
    "train_y_smote = smote_sample['bad_ind']\n",
    "train_x_smote"
   ],
   "metadata": {
    "collapsed": false,
    "pycharm": {
     "name": "#%%\n"
    }
   }
  },
  {
   "cell_type": "code",
   "execution_count": 16,
   "outputs": [],
   "source": [
    "from imblearn.over_sampling import SMOTE\n",
    "\n",
    "#自定义函数，用于SMOTE过采样\n",
    "def smote(train_x_smote,train_y_smote,K=15,random_state=0):\n",
    "    #创建SMOTE对象\n",
    "    smote = SMOTE(k_neighbors=K,n_jobs=1,random_state=random_state)\n",
    "    #调用方法，实现过采样\n",
    "    #fit就是找到最近K个邻居的过程，resample就是进行人工合成新样本的过程\n",
    "    rex, rey = smote.fit_resample(train_x_smote, train_y_smote)\n",
    "    return rex, rey"
   ],
   "metadata": {
    "collapsed": false,
    "pycharm": {
     "name": "#%%\n"
    }
   }
  },
  {
   "cell_type": "code",
   "execution_count": 17,
   "outputs": [],
   "source": [
    "#调用自定义函数，实现数据的过采样\n",
    "rex,rey = smote(train_x_smote,train_y_smote)\n",
    "\n"
   ],
   "metadata": {
    "collapsed": false,
    "pycharm": {
     "name": "#%%\n"
    }
   }
  },
  {
   "cell_type": "code",
   "execution_count": 18,
   "outputs": [
    {
     "data": {
      "text/plain": "0.0    71112\n1.0     1417\nName: bad_ind, dtype: int64"
     },
     "execution_count": 18,
     "metadata": {},
     "output_type": "execute_result"
    }
   ],
   "source": [
    "#统计少数类样本数量是否增多\n",
    "train_y_smote.value_counts()\n"
   ],
   "metadata": {
    "collapsed": false,
    "pycharm": {
     "name": "#%%\n"
    }
   }
  },
  {
   "cell_type": "code",
   "execution_count": 19,
   "outputs": [
    {
     "data": {
      "text/plain": "0.0    71112\n1.0    71112\nName: bad_ind, dtype: int64"
     },
     "execution_count": 19,
     "metadata": {},
     "output_type": "execute_result"
    }
   ],
   "source": [
    "#统计使用smote算法后的样本数量\n",
    "rey.value_counts()\n"
   ],
   "metadata": {
    "collapsed": false,
    "pycharm": {
     "name": "#%%\n"
    }
   }
  },
  {
   "cell_type": "code",
   "execution_count": 20,
   "outputs": [
    {
     "name": "stdout",
     "output_type": "stream",
     "text": [
      "train_ks :  0.4716010854004061\n",
      "val_ks :  0.42901331510598933\n"
     ]
    }
   ],
   "source": [
    "#这里没有使用代价敏感\n",
    "lr_model = LogisticRegression(C=0.1)\n",
    "lr_model.fit(rex[feature_lst],rey)\n",
    "x = train[feature_lst]\n",
    "y = train['bad_ind']\n",
    "val_x =  val[feature_lst]\n",
    "val_y = val['bad_ind']\n",
    "\n",
    "y_pred = lr_model.predict_proba(x)[:,1] #取出训练集预测值\n",
    "fpr_lr_train,tpr_lr_train,_ = roc_curve(y,y_pred) #计算TPR和FPR\n",
    "train_ks = abs(fpr_lr_train - tpr_lr_train).max() #计算训练集KS\n",
    "print('train_ks : ',train_ks)\n",
    "\n",
    "y_pred = lr_model.predict_proba(val_x)[:,1] #计算验证集预测值\n",
    "fpr_lr,tpr_lr,_ = roc_curve(val_y,y_pred)   #计算验证集预测值\n",
    "val_ks = abs(fpr_lr - tpr_lr).max()         #计算验证集KS值\n",
    "print('val_ks : ',val_ks)\n"
   ],
   "metadata": {
    "collapsed": false,
    "pycharm": {
     "name": "#%%\n"
    }
   }
  },
  {
   "cell_type": "markdown",
   "source": [
    "* LOF（是一个基于密度的无监督算法）"
   ],
   "metadata": {
    "collapsed": false,
    "pycharm": {
     "name": "#%% md\n"
    }
   }
  },
  {
   "cell_type": "code",
   "execution_count": 21,
   "outputs": [
    {
     "data": {
      "text/plain": "       index     obs_mth  bad_ind                     uid  td_score  \\\n0          0  2018-10-31      0.0               A10000005  0.675349   \n1          1  2018-07-31      0.0                A1000002  0.825269   \n2          2  2018-09-30      0.0                A1000011  0.315406   \n3          3  2018-07-31      0.0               A10000481  0.002386   \n4          4  2018-07-31      0.0                A1000069  0.406310   \n...      ...         ...      ...                     ...       ...   \n79826  79826  2018-09-30      0.0  Ab99_96436392005147255  0.905578   \n79827  79827  2018-10-31      0.0  Ab99_96436392005205003  0.639265   \n79828  79828  2018-10-31      0.0  Ab99_96436392005412387  0.355061   \n79829  79829  2018-10-31      0.0  Ab99_96436392006241624  0.797237   \n79830  79830  2018-10-31      0.0  Ab99_96436392007495598  0.990920   \n\n       jxl_score  mj_score  rh_score  zzc_score  zcx_score  person_info  \\\n0       0.144072  0.186899  0.483640   0.928328   0.369644    -0.322581   \n1       0.398688  0.139396  0.843725   0.605194   0.406122    -0.128677   \n2       0.629745  0.535854  0.197392   0.614416   0.320731     0.062660   \n3       0.609360  0.366081  0.342243   0.870006   0.288692     0.078853   \n4       0.405352  0.783015  0.563953   0.715454   0.512554    -0.261014   \n...          ...       ...       ...        ...        ...          ...   \n79826   0.927706  0.994447  0.315842   0.959443   0.042640     0.078853   \n79827   0.219267  0.845014  0.751332   0.275557   0.902642     0.078853   \n79828   0.837747  0.931882  0.442463   0.579277   0.740754     0.078853   \n79829   0.501238  0.490850  0.592068   0.479618   0.859870     0.078853   \n79830   0.833572  0.993425  0.732783   0.925975   0.395655     0.078853   \n\n       finance_info  credit_info  act_info      out_pred  \n0          0.023810         0.00  0.217949  4.106591e-10  \n1          0.023810         0.00  0.423077  4.106591e-10  \n2          0.023810         0.10  0.448718  5.482939e-10  \n3          0.071429         0.05  0.179487  4.018489e-10  \n4          0.023810         0.00  0.423077  4.106591e-10  \n...             ...          ...       ...           ...  \n79826      0.071429         0.13  0.076923  1.897533e-02  \n79827      0.023810         0.00  0.076923  4.106591e-10  \n79828      0.023810         0.02  0.076923  4.106591e-10  \n79829      0.023810         0.00  0.076923  4.106591e-10  \n79830      0.023810         0.00  0.076923  4.106591e-10  \n\n[79831 rows x 15 columns]",
      "text/html": "<div>\n<style scoped>\n    .dataframe tbody tr th:only-of-type {\n        vertical-align: middle;\n    }\n\n    .dataframe tbody tr th {\n        vertical-align: top;\n    }\n\n    .dataframe thead th {\n        text-align: right;\n    }\n</style>\n<table border=\"1\" class=\"dataframe\">\n  <thead>\n    <tr style=\"text-align: right;\">\n      <th></th>\n      <th>index</th>\n      <th>obs_mth</th>\n      <th>bad_ind</th>\n      <th>uid</th>\n      <th>td_score</th>\n      <th>jxl_score</th>\n      <th>mj_score</th>\n      <th>rh_score</th>\n      <th>zzc_score</th>\n      <th>zcx_score</th>\n      <th>person_info</th>\n      <th>finance_info</th>\n      <th>credit_info</th>\n      <th>act_info</th>\n      <th>out_pred</th>\n    </tr>\n  </thead>\n  <tbody>\n    <tr>\n      <th>0</th>\n      <td>0</td>\n      <td>2018-10-31</td>\n      <td>0.0</td>\n      <td>A10000005</td>\n      <td>0.675349</td>\n      <td>0.144072</td>\n      <td>0.186899</td>\n      <td>0.483640</td>\n      <td>0.928328</td>\n      <td>0.369644</td>\n      <td>-0.322581</td>\n      <td>0.023810</td>\n      <td>0.00</td>\n      <td>0.217949</td>\n      <td>4.106591e-10</td>\n    </tr>\n    <tr>\n      <th>1</th>\n      <td>1</td>\n      <td>2018-07-31</td>\n      <td>0.0</td>\n      <td>A1000002</td>\n      <td>0.825269</td>\n      <td>0.398688</td>\n      <td>0.139396</td>\n      <td>0.843725</td>\n      <td>0.605194</td>\n      <td>0.406122</td>\n      <td>-0.128677</td>\n      <td>0.023810</td>\n      <td>0.00</td>\n      <td>0.423077</td>\n      <td>4.106591e-10</td>\n    </tr>\n    <tr>\n      <th>2</th>\n      <td>2</td>\n      <td>2018-09-30</td>\n      <td>0.0</td>\n      <td>A1000011</td>\n      <td>0.315406</td>\n      <td>0.629745</td>\n      <td>0.535854</td>\n      <td>0.197392</td>\n      <td>0.614416</td>\n      <td>0.320731</td>\n      <td>0.062660</td>\n      <td>0.023810</td>\n      <td>0.10</td>\n      <td>0.448718</td>\n      <td>5.482939e-10</td>\n    </tr>\n    <tr>\n      <th>3</th>\n      <td>3</td>\n      <td>2018-07-31</td>\n      <td>0.0</td>\n      <td>A10000481</td>\n      <td>0.002386</td>\n      <td>0.609360</td>\n      <td>0.366081</td>\n      <td>0.342243</td>\n      <td>0.870006</td>\n      <td>0.288692</td>\n      <td>0.078853</td>\n      <td>0.071429</td>\n      <td>0.05</td>\n      <td>0.179487</td>\n      <td>4.018489e-10</td>\n    </tr>\n    <tr>\n      <th>4</th>\n      <td>4</td>\n      <td>2018-07-31</td>\n      <td>0.0</td>\n      <td>A1000069</td>\n      <td>0.406310</td>\n      <td>0.405352</td>\n      <td>0.783015</td>\n      <td>0.563953</td>\n      <td>0.715454</td>\n      <td>0.512554</td>\n      <td>-0.261014</td>\n      <td>0.023810</td>\n      <td>0.00</td>\n      <td>0.423077</td>\n      <td>4.106591e-10</td>\n    </tr>\n    <tr>\n      <th>...</th>\n      <td>...</td>\n      <td>...</td>\n      <td>...</td>\n      <td>...</td>\n      <td>...</td>\n      <td>...</td>\n      <td>...</td>\n      <td>...</td>\n      <td>...</td>\n      <td>...</td>\n      <td>...</td>\n      <td>...</td>\n      <td>...</td>\n      <td>...</td>\n      <td>...</td>\n    </tr>\n    <tr>\n      <th>79826</th>\n      <td>79826</td>\n      <td>2018-09-30</td>\n      <td>0.0</td>\n      <td>Ab99_96436392005147255</td>\n      <td>0.905578</td>\n      <td>0.927706</td>\n      <td>0.994447</td>\n      <td>0.315842</td>\n      <td>0.959443</td>\n      <td>0.042640</td>\n      <td>0.078853</td>\n      <td>0.071429</td>\n      <td>0.13</td>\n      <td>0.076923</td>\n      <td>1.897533e-02</td>\n    </tr>\n    <tr>\n      <th>79827</th>\n      <td>79827</td>\n      <td>2018-10-31</td>\n      <td>0.0</td>\n      <td>Ab99_96436392005205003</td>\n      <td>0.639265</td>\n      <td>0.219267</td>\n      <td>0.845014</td>\n      <td>0.751332</td>\n      <td>0.275557</td>\n      <td>0.902642</td>\n      <td>0.078853</td>\n      <td>0.023810</td>\n      <td>0.00</td>\n      <td>0.076923</td>\n      <td>4.106591e-10</td>\n    </tr>\n    <tr>\n      <th>79828</th>\n      <td>79828</td>\n      <td>2018-10-31</td>\n      <td>0.0</td>\n      <td>Ab99_96436392005412387</td>\n      <td>0.355061</td>\n      <td>0.837747</td>\n      <td>0.931882</td>\n      <td>0.442463</td>\n      <td>0.579277</td>\n      <td>0.740754</td>\n      <td>0.078853</td>\n      <td>0.023810</td>\n      <td>0.02</td>\n      <td>0.076923</td>\n      <td>4.106591e-10</td>\n    </tr>\n    <tr>\n      <th>79829</th>\n      <td>79829</td>\n      <td>2018-10-31</td>\n      <td>0.0</td>\n      <td>Ab99_96436392006241624</td>\n      <td>0.797237</td>\n      <td>0.501238</td>\n      <td>0.490850</td>\n      <td>0.592068</td>\n      <td>0.479618</td>\n      <td>0.859870</td>\n      <td>0.078853</td>\n      <td>0.023810</td>\n      <td>0.00</td>\n      <td>0.076923</td>\n      <td>4.106591e-10</td>\n    </tr>\n    <tr>\n      <th>79830</th>\n      <td>79830</td>\n      <td>2018-10-31</td>\n      <td>0.0</td>\n      <td>Ab99_96436392007495598</td>\n      <td>0.990920</td>\n      <td>0.833572</td>\n      <td>0.993425</td>\n      <td>0.732783</td>\n      <td>0.925975</td>\n      <td>0.395655</td>\n      <td>0.078853</td>\n      <td>0.023810</td>\n      <td>0.00</td>\n      <td>0.076923</td>\n      <td>4.106591e-10</td>\n    </tr>\n  </tbody>\n</table>\n<p>79831 rows × 15 columns</p>\n</div>"
     },
     "execution_count": 21,
     "metadata": {},
     "output_type": "execute_result"
    }
   ],
   "source": [
    "from pyod.models.lof import LOF\n",
    "\n",
    "#创建LOF对象\n",
    "clf = LOF(n_neighbors=20, algorithm='auto')\n",
    "#无监督学习算法，因此没有y，不需要传入y\n",
    "clf.fit(x)\n",
    "\n",
    "#模型预测\n",
    "train['out_pred'] = clf.predict_proba(x)[:,1]\n",
    "train"
   ],
   "metadata": {
    "collapsed": false,
    "pycharm": {
     "name": "#%%\n"
    }
   }
  },
  {
   "cell_type": "code",
   "execution_count": 25,
   "outputs": [
    {
     "data": {
      "text/plain": "1.2496968650458789e-09"
     },
     "execution_count": 25,
     "metadata": {},
     "output_type": "execute_result"
    }
   ],
   "source": [
    "#随机给的一个93%分数数的一个参考值（93%是随便给的，不宜太小）\n",
    "#判断依据：只要小于93%分位数的值，就说明这个样本是正常数据，如果大于93%分位数的值，则说明是异常数据\n",
    "key = train['out_pred'].quantile(0.93)\n",
    "key"
   ],
   "metadata": {
    "collapsed": false,
    "pycharm": {
     "name": "#%%\n"
    }
   }
  },
  {
   "cell_type": "code",
   "execution_count": 28,
   "outputs": [
    {
     "data": {
      "text/plain": "       person_info  finance_info  credit_info  act_info\n0        -0.322581      0.023810         0.00  0.217949\n1        -0.128677      0.023810         0.00  0.423077\n2         0.062660      0.023810         0.10  0.448718\n3         0.078853      0.071429         0.05  0.179487\n4        -0.261014      0.023810         0.00  0.423077\n...            ...           ...          ...       ...\n79825     0.078853      0.023810         0.13  0.076923\n79827     0.078853      0.023810         0.00  0.076923\n79828     0.078853      0.023810         0.02  0.076923\n79829     0.078853      0.023810         0.00  0.076923\n79830     0.078853      0.023810         0.00  0.076923\n\n[74242 rows x 4 columns]",
      "text/html": "<div>\n<style scoped>\n    .dataframe tbody tr th:only-of-type {\n        vertical-align: middle;\n    }\n\n    .dataframe tbody tr th {\n        vertical-align: top;\n    }\n\n    .dataframe thead th {\n        text-align: right;\n    }\n</style>\n<table border=\"1\" class=\"dataframe\">\n  <thead>\n    <tr style=\"text-align: right;\">\n      <th></th>\n      <th>person_info</th>\n      <th>finance_info</th>\n      <th>credit_info</th>\n      <th>act_info</th>\n    </tr>\n  </thead>\n  <tbody>\n    <tr>\n      <th>0</th>\n      <td>-0.322581</td>\n      <td>0.023810</td>\n      <td>0.00</td>\n      <td>0.217949</td>\n    </tr>\n    <tr>\n      <th>1</th>\n      <td>-0.128677</td>\n      <td>0.023810</td>\n      <td>0.00</td>\n      <td>0.423077</td>\n    </tr>\n    <tr>\n      <th>2</th>\n      <td>0.062660</td>\n      <td>0.023810</td>\n      <td>0.10</td>\n      <td>0.448718</td>\n    </tr>\n    <tr>\n      <th>3</th>\n      <td>0.078853</td>\n      <td>0.071429</td>\n      <td>0.05</td>\n      <td>0.179487</td>\n    </tr>\n    <tr>\n      <th>4</th>\n      <td>-0.261014</td>\n      <td>0.023810</td>\n      <td>0.00</td>\n      <td>0.423077</td>\n    </tr>\n    <tr>\n      <th>...</th>\n      <td>...</td>\n      <td>...</td>\n      <td>...</td>\n      <td>...</td>\n    </tr>\n    <tr>\n      <th>79825</th>\n      <td>0.078853</td>\n      <td>0.023810</td>\n      <td>0.13</td>\n      <td>0.076923</td>\n    </tr>\n    <tr>\n      <th>79827</th>\n      <td>0.078853</td>\n      <td>0.023810</td>\n      <td>0.00</td>\n      <td>0.076923</td>\n    </tr>\n    <tr>\n      <th>79828</th>\n      <td>0.078853</td>\n      <td>0.023810</td>\n      <td>0.02</td>\n      <td>0.076923</td>\n    </tr>\n    <tr>\n      <th>79829</th>\n      <td>0.078853</td>\n      <td>0.023810</td>\n      <td>0.00</td>\n      <td>0.076923</td>\n    </tr>\n    <tr>\n      <th>79830</th>\n      <td>0.078853</td>\n      <td>0.023810</td>\n      <td>0.00</td>\n      <td>0.076923</td>\n    </tr>\n  </tbody>\n</table>\n<p>74242 rows × 4 columns</p>\n</div>"
     },
     "execution_count": 28,
     "metadata": {},
     "output_type": "execute_result"
    }
   ],
   "source": [
    "#过滤异常样本\n",
    "#train[train['out_pred'] < key]\n",
    "#获取用于模型训练的特征列\n",
    "x = train[train['out_pred'] < key][feature_lst]\n",
    "x"
   ],
   "metadata": {
    "collapsed": false,
    "pycharm": {
     "name": "#%%\n"
    }
   }
  },
  {
   "cell_type": "code",
   "execution_count": 31,
   "outputs": [
    {
     "data": {
      "text/plain": "0        0.0\n1        0.0\n2        0.0\n3        0.0\n4        0.0\n        ... \n79825    0.0\n79827    0.0\n79828    0.0\n79829    0.0\n79830    0.0\nName: bad_ind, Length: 74242, dtype: float64"
     },
     "execution_count": 31,
     "metadata": {},
     "output_type": "execute_result"
    }
   ],
   "source": [
    "y = train[train['out_pred'] < key]['bad_ind']\n",
    "y"
   ],
   "metadata": {
    "collapsed": false,
    "pycharm": {
     "name": "#%%\n"
    }
   }
  },
  {
   "cell_type": "code",
   "execution_count": 33,
   "outputs": [],
   "source": [
    "#准备验证集的x和y\n",
    "val_x = val[feature_lst]\n",
    "val_y = val['bad_ind']"
   ],
   "metadata": {
    "collapsed": false,
    "pycharm": {
     "name": "#%%\n"
    }
   }
  },
  {
   "cell_type": "code",
   "execution_count": 34,
   "outputs": [
    {
     "data": {
      "text/plain": "LogisticRegression(C=0.1, class_weight='balanced')"
     },
     "execution_count": 34,
     "metadata": {},
     "output_type": "execute_result"
    }
   ],
   "source": [
    "#模型训练\n",
    "lr_model = LogisticRegression(C=0.1,class_weight='balanced')\n",
    "lr_model.fit(x,y)"
   ],
   "metadata": {
    "collapsed": false,
    "pycharm": {
     "name": "#%%\n"
    }
   }
  },
  {
   "cell_type": "code",
   "execution_count": 35,
   "outputs": [
    {
     "name": "stdout",
     "output_type": "stream",
     "text": [
      "train_ks :  0.44421602352070516\n",
      "val_ks :  0.41967251573199565\n"
     ]
    },
    {
     "data": {
      "text/plain": "<Figure size 432x288 with 1 Axes>",
      "image/png": "[encoded data removed]"
     },
     "metadata": {
      "needs_background": "light"
     },
     "output_type": "display_data"
    }
   ],
   "source": [
    "#模型预测和画图\n",
    "y_pred = lr_model.predict_proba(x)[:,1]\n",
    "fpr_lr_train,tpr_lr_train,_ = roc_curve(y,y_pred)\n",
    "train_ks = abs(fpr_lr_train - tpr_lr_train).max()\n",
    "print('train_ks : ',train_ks)\n",
    "\n",
    "y_pred = lr_model.predict_proba(val_x)[:,1]\n",
    "fpr_lr,tpr_lr,_ = roc_curve(val_y,y_pred)\n",
    "val_ks = abs(fpr_lr - tpr_lr).max()\n",
    "print('val_ks : ',val_ks)\n",
    "\n",
    "from matplotlib import pyplot as plt\n",
    "plt.plot(fpr_lr_train,tpr_lr_train,label = 'train LR')\n",
    "plt.plot(fpr_lr,tpr_lr,label = 'evl LR')\n",
    "plt.plot([0,1],[0,1],'k--')\n",
    "plt.xlabel('False positive rate')\n",
    "plt.ylabel('True positive rate')\n",
    "plt.title('ROC Curve')\n",
    "plt.legend(loc = 'best')\n",
    "plt.show()\n"
   ],
   "metadata": {
    "collapsed": false,
    "pycharm": {
     "name": "#%%\n"
    }
   }
  },
  {
   "cell_type": "markdown",
   "source": [
    "* IF（孤立森林）\n"
   ],
   "metadata": {
    "collapsed": false,
    "pycharm": {
     "name": "#%% md\n"
    }
   }
  },
  {
   "cell_type": "code",
   "execution_count": 36,
   "outputs": [
    {
     "name": "stdout",
     "output_type": "stream",
     "text": [
      "train_ks :  0.4482325608488951\n",
      "val_ks :  0.4198642457760936\n"
     ]
    },
    {
     "data": {
      "text/plain": "<Figure size 432x288 with 1 Axes>",
      "image/png": "[encoded data removed]"
     },
     "metadata": {
      "needs_background": "light"
     },
     "output_type": "display_data"
    }
   ],
   "source": [
    "import pandas as pd\n",
    "from sklearn.linear_model import LogisticRegression\n",
    "from sklearn.metrics import roc_auc_score,roc_curve,auc\n",
    "\n",
    "#数据加载\n",
    "data = pd.read_csv('../data/Bcard.txt')\n",
    "data.head()\n",
    "\n",
    "#数据集划分\n",
    "train = data[data.obs_mth != '2018-11-30'].reset_index().copy()\n",
    "val = data[data.obs_mth == '2018-11-30'].reset_index().copy()\n",
    "feature_lst = ['person_info','finance_info','credit_info','act_info']\n",
    "\n",
    "x = train[feature_lst]\n",
    "y = train['bad_ind']\n",
    "\n",
    "val_x =  val[feature_lst]\n",
    "val_y = val['bad_ind']\n",
    "\n",
    "#模型训练\n",
    "lr_model = LogisticRegression(C=0.1,class_weight='balanced')\n",
    "lr_model.fit(x,y)\n",
    "\n",
    "#模型预测\n",
    "y_pred = lr_model.predict_proba(x)[:,1]\n",
    "fpr_lr_train,tpr_lr_train,_ = roc_curve(y,y_pred)\n",
    "train_ks = abs(fpr_lr_train - tpr_lr_train).max()\n",
    "print('train_ks : ',train_ks)\n",
    "\n",
    "y_pred = lr_model.predict_proba(val_x)[:,1]\n",
    "fpr_lr,tpr_lr,_ = roc_curve(val_y,y_pred)\n",
    "val_ks = abs(fpr_lr - tpr_lr).max()\n",
    "print('val_ks : ',val_ks)\n",
    "\n",
    "#画图\n",
    "from matplotlib import pyplot as plt\n",
    "plt.plot(fpr_lr_train,tpr_lr_train,label = 'train LR')\n",
    "plt.plot(fpr_lr,tpr_lr,label = 'evl LR')\n",
    "plt.plot([0,1],[0,1],'k--')\n",
    "plt.xlabel('False positive rate')\n",
    "plt.ylabel('True positive rate')\n",
    "plt.title('ROC Curve')\n",
    "plt.legend(loc = 'best')\n",
    "plt.show()\n"
   ],
   "metadata": {
    "collapsed": false,
    "pycharm": {
     "name": "#%%\n"
    }
   }
  },
  {
   "cell_type": "code",
   "execution_count": 37,
   "outputs": [
    {
     "data": {
      "text/plain": "IForest(behaviour='new', bootstrap=False, contamination=0.1, max_features=1.0,\n    max_samples='auto', n_estimators=500, n_jobs=-1, random_state=None,\n    verbose=0)"
     },
     "execution_count": 37,
     "metadata": {},
     "output_type": "execute_result"
    }
   ],
   "source": [
    "from pyod.models.iforest import IForest\n",
    "\n",
    "#创建IF对象，训练模型\n",
    "clf = IForest(behaviour='new',n_estimators=500,n_jobs=-1)\n",
    "clf.fit(x)"
   ],
   "metadata": {
    "collapsed": false,
    "pycharm": {
     "name": "#%%\n"
    }
   }
  },
  {
   "cell_type": "code",
   "execution_count": 38,
   "outputs": [
    {
     "data": {
      "text/plain": "array([0.09787348, 0.13266869, 0.28901418, ..., 0.02941233, 0.        ,\n       0.        ])"
     },
     "execution_count": 38,
     "metadata": {},
     "output_type": "execute_result"
    }
   ],
   "source": [
    "#模型预测\n",
    "out_pred = clf.predict_proba(x,method='linear')[:,1]\n",
    "out_pred"
   ],
   "metadata": {
    "collapsed": false,
    "pycharm": {
     "name": "#%%\n"
    }
   }
  },
  {
   "cell_type": "code",
   "execution_count": 39,
   "outputs": [
    {
     "data": {
      "text/plain": "       index     obs_mth  bad_ind                     uid  td_score  \\\n0          0  2018-10-31      0.0               A10000005  0.675349   \n1          1  2018-07-31      0.0                A1000002  0.825269   \n2          2  2018-09-30      0.0                A1000011  0.315406   \n3          3  2018-07-31      0.0               A10000481  0.002386   \n4          4  2018-07-31      0.0                A1000069  0.406310   \n...      ...         ...      ...                     ...       ...   \n79826  79826  2018-09-30      0.0  Ab99_96436392005147255  0.905578   \n79827  79827  2018-10-31      0.0  Ab99_96436392005205003  0.639265   \n79828  79828  2018-10-31      0.0  Ab99_96436392005412387  0.355061   \n79829  79829  2018-10-31      0.0  Ab99_96436392006241624  0.797237   \n79830  79830  2018-10-31      0.0  Ab99_96436392007495598  0.990920   \n\n       jxl_score  mj_score  rh_score  zzc_score  zcx_score  person_info  \\\n0       0.144072  0.186899  0.483640   0.928328   0.369644    -0.322581   \n1       0.398688  0.139396  0.843725   0.605194   0.406122    -0.128677   \n2       0.629745  0.535854  0.197392   0.614416   0.320731     0.062660   \n3       0.609360  0.366081  0.342243   0.870006   0.288692     0.078853   \n4       0.405352  0.783015  0.563953   0.715454   0.512554    -0.261014   \n...          ...       ...       ...        ...        ...          ...   \n79826   0.927706  0.994447  0.315842   0.959443   0.042640     0.078853   \n79827   0.219267  0.845014  0.751332   0.275557   0.902642     0.078853   \n79828   0.837747  0.931882  0.442463   0.579277   0.740754     0.078853   \n79829   0.501238  0.490850  0.592068   0.479618   0.859870     0.078853   \n79830   0.833572  0.993425  0.732783   0.925975   0.395655     0.078853   \n\n       finance_info  credit_info  act_info  out_pred  \n0          0.023810         0.00  0.217949  0.097873  \n1          0.023810         0.00  0.423077  0.132669  \n2          0.023810         0.10  0.448718  0.289014  \n3          0.071429         0.05  0.179487  0.291097  \n4          0.023810         0.00  0.423077  0.150935  \n...             ...          ...       ...       ...  \n79826      0.071429         0.13  0.076923  0.258001  \n79827      0.023810         0.00  0.076923  0.000000  \n79828      0.023810         0.02  0.076923  0.029412  \n79829      0.023810         0.00  0.076923  0.000000  \n79830      0.023810         0.00  0.076923  0.000000  \n\n[79831 rows x 15 columns]",
      "text/html": "<div>\n<style scoped>\n    .dataframe tbody tr th:only-of-type {\n        vertical-align: middle;\n    }\n\n    .dataframe tbody tr th {\n        vertical-align: top;\n    }\n\n    .dataframe thead th {\n        text-align: right;\n    }\n</style>\n<table border=\"1\" class=\"dataframe\">\n  <thead>\n    <tr style=\"text-align: right;\">\n      <th></th>\n      <th>index</th>\n      <th>obs_mth</th>\n      <th>bad_ind</th>\n      <th>uid</th>\n      <th>td_score</th>\n      <th>jxl_score</th>\n      <th>mj_score</th>\n      <th>rh_score</th>\n      <th>zzc_score</th>\n      <th>zcx_score</th>\n      <th>person_info</th>\n      <th>finance_info</th>\n      <th>credit_info</th>\n      <th>act_info</th>\n      <th>out_pred</th>\n    </tr>\n  </thead>\n  <tbody>\n    <tr>\n      <th>0</th>\n      <td>0</td>\n      <td>2018-10-31</td>\n      <td>0.0</td>\n      <td>A10000005</td>\n      <td>0.675349</td>\n      <td>0.144072</td>\n      <td>0.186899</td>\n      <td>0.483640</td>\n      <td>0.928328</td>\n      <td>0.369644</td>\n      <td>-0.322581</td>\n      <td>0.023810</td>\n      <td>0.00</td>\n      <td>0.217949</td>\n      <td>0.097873</td>\n    </tr>\n    <tr>\n      <th>1</th>\n      <td>1</td>\n      <td>2018-07-31</td>\n      <td>0.0</td>\n      <td>A1000002</td>\n      <td>0.825269</td>\n      <td>0.398688</td>\n      <td>0.139396</td>\n      <td>0.843725</td>\n      <td>0.605194</td>\n      <td>0.406122</td>\n      <td>-0.128677</td>\n      <td>0.023810</td>\n      <td>0.00</td>\n      <td>0.423077</td>\n      <td>0.132669</td>\n    </tr>\n    <tr>\n      <th>2</th>\n      <td>2</td>\n      <td>2018-09-30</td>\n      <td>0.0</td>\n      <td>A1000011</td>\n      <td>0.315406</td>\n      <td>0.629745</td>\n      <td>0.535854</td>\n      <td>0.197392</td>\n      <td>0.614416</td>\n      <td>0.320731</td>\n      <td>0.062660</td>\n      <td>0.023810</td>\n      <td>0.10</td>\n      <td>0.448718</td>\n      <td>0.289014</td>\n    </tr>\n    <tr>\n      <th>3</th>\n      <td>3</td>\n      <td>2018-07-31</td>\n      <td>0.0</td>\n      <td>A10000481</td>\n      <td>0.002386</td>\n      <td>0.609360</td>\n      <td>0.366081</td>\n      <td>0.342243</td>\n      <td>0.870006</td>\n      <td>0.288692</td>\n      <td>0.078853</td>\n      <td>0.071429</td>\n      <td>0.05</td>\n      <td>0.179487</td>\n      <td>0.291097</td>\n    </tr>\n    <tr>\n      <th>4</th>\n      <td>4</td>\n      <td>2018-07-31</td>\n      <td>0.0</td>\n      <td>A1000069</td>\n      <td>0.406310</td>\n      <td>0.405352</td>\n      <td>0.783015</td>\n      <td>0.563953</td>\n      <td>0.715454</td>\n      <td>0.512554</td>\n      <td>-0.261014</td>\n      <td>0.023810</td>\n      <td>0.00</td>\n      <td>0.423077</td>\n      <td>0.150935</td>\n    </tr>\n    <tr>\n      <th>...</th>\n      <td>...</td>\n      <td>...</td>\n      <td>...</td>\n      <td>...</td>\n      <td>...</td>\n      <td>...</td>\n      <td>...</td>\n      <td>...</td>\n      <td>...</td>\n      <td>...</td>\n      <td>...</td>\n      <td>...</td>\n      <td>...</td>\n      <td>...</td>\n      <td>...</td>\n    </tr>\n    <tr>\n      <th>79826</th>\n      <td>79826</td>\n      <td>2018-09-30</td>\n      <td>0.0</td>\n      <td>Ab99_96436392005147255</td>\n      <td>0.905578</td>\n      <td>0.927706</td>\n      <td>0.994447</td>\n      <td>0.315842</td>\n      <td>0.959443</td>\n      <td>0.042640</td>\n      <td>0.078853</td>\n      <td>0.071429</td>\n      <td>0.13</td>\n      <td>0.076923</td>\n      <td>0.258001</td>\n    </tr>\n    <tr>\n      <th>79827</th>\n      <td>79827</td>\n      <td>2018-10-31</td>\n      <td>0.0</td>\n      <td>Ab99_96436392005205003</td>\n      <td>0.639265</td>\n      <td>0.219267</td>\n      <td>0.845014</td>\n      <td>0.751332</td>\n      <td>0.275557</td>\n      <td>0.902642</td>\n      <td>0.078853</td>\n      <td>0.023810</td>\n      <td>0.00</td>\n      <td>0.076923</td>\n      <td>0.000000</td>\n    </tr>\n    <tr>\n      <th>79828</th>\n      <td>79828</td>\n      <td>2018-10-31</td>\n      <td>0.0</td>\n      <td>Ab99_96436392005412387</td>\n      <td>0.355061</td>\n      <td>0.837747</td>\n      <td>0.931882</td>\n      <td>0.442463</td>\n      <td>0.579277</td>\n      <td>0.740754</td>\n      <td>0.078853</td>\n      <td>0.023810</td>\n      <td>0.02</td>\n      <td>0.076923</td>\n      <td>0.029412</td>\n    </tr>\n    <tr>\n      <th>79829</th>\n      <td>79829</td>\n      <td>2018-10-31</td>\n      <td>0.0</td>\n      <td>Ab99_96436392006241624</td>\n      <td>0.797237</td>\n      <td>0.501238</td>\n      <td>0.490850</td>\n      <td>0.592068</td>\n      <td>0.479618</td>\n      <td>0.859870</td>\n      <td>0.078853</td>\n      <td>0.023810</td>\n      <td>0.00</td>\n      <td>0.076923</td>\n      <td>0.000000</td>\n    </tr>\n    <tr>\n      <th>79830</th>\n      <td>79830</td>\n      <td>2018-10-31</td>\n      <td>0.0</td>\n      <td>Ab99_96436392007495598</td>\n      <td>0.990920</td>\n      <td>0.833572</td>\n      <td>0.993425</td>\n      <td>0.732783</td>\n      <td>0.925975</td>\n      <td>0.395655</td>\n      <td>0.078853</td>\n      <td>0.023810</td>\n      <td>0.00</td>\n      <td>0.076923</td>\n      <td>0.000000</td>\n    </tr>\n  </tbody>\n</table>\n<p>79831 rows × 15 columns</p>\n</div>"
     },
     "execution_count": 39,
     "metadata": {},
     "output_type": "execute_result"
    }
   ],
   "source": [
    "train['out_pred'] = out_pred\n",
    "train"
   ],
   "metadata": {
    "collapsed": false,
    "pycharm": {
     "name": "#%%\n"
    }
   }
  },
  {
   "cell_type": "code",
   "execution_count": 41,
   "outputs": [
    {
     "data": {
      "text/plain": "       person_info  finance_info  credit_info  act_info\n0        -0.322581      0.023810         0.00  0.217949\n1        -0.128677      0.023810         0.00  0.423077\n2         0.062660      0.023810         0.10  0.448718\n3         0.078853      0.071429         0.05  0.179487\n4        -0.261014      0.023810         0.00  0.423077\n...            ...           ...          ...       ...\n79826     0.078853      0.071429         0.13  0.076923\n79827     0.078853      0.023810         0.00  0.076923\n79828     0.078853      0.023810         0.02  0.076923\n79829     0.078853      0.023810         0.00  0.076923\n79830     0.078853      0.023810         0.00  0.076923\n\n[78202 rows x 4 columns]",
      "text/html": "<div>\n<style scoped>\n    .dataframe tbody tr th:only-of-type {\n        vertical-align: middle;\n    }\n\n    .dataframe tbody tr th {\n        vertical-align: top;\n    }\n\n    .dataframe thead th {\n        text-align: right;\n    }\n</style>\n<table border=\"1\" class=\"dataframe\">\n  <thead>\n    <tr style=\"text-align: right;\">\n      <th></th>\n      <th>person_info</th>\n      <th>finance_info</th>\n      <th>credit_info</th>\n      <th>act_info</th>\n    </tr>\n  </thead>\n  <tbody>\n    <tr>\n      <th>0</th>\n      <td>-0.322581</td>\n      <td>0.023810</td>\n      <td>0.00</td>\n      <td>0.217949</td>\n    </tr>\n    <tr>\n      <th>1</th>\n      <td>-0.128677</td>\n      <td>0.023810</td>\n      <td>0.00</td>\n      <td>0.423077</td>\n    </tr>\n    <tr>\n      <th>2</th>\n      <td>0.062660</td>\n      <td>0.023810</td>\n      <td>0.10</td>\n      <td>0.448718</td>\n    </tr>\n    <tr>\n      <th>3</th>\n      <td>0.078853</td>\n      <td>0.071429</td>\n      <td>0.05</td>\n      <td>0.179487</td>\n    </tr>\n    <tr>\n      <th>4</th>\n      <td>-0.261014</td>\n      <td>0.023810</td>\n      <td>0.00</td>\n      <td>0.423077</td>\n    </tr>\n    <tr>\n      <th>...</th>\n      <td>...</td>\n      <td>...</td>\n      <td>...</td>\n      <td>...</td>\n    </tr>\n    <tr>\n      <th>79826</th>\n      <td>0.078853</td>\n      <td>0.071429</td>\n      <td>0.13</td>\n      <td>0.076923</td>\n    </tr>\n    <tr>\n      <th>79827</th>\n      <td>0.078853</td>\n      <td>0.023810</td>\n      <td>0.00</td>\n      <td>0.076923</td>\n    </tr>\n    <tr>\n      <th>79828</th>\n      <td>0.078853</td>\n      <td>0.023810</td>\n      <td>0.02</td>\n      <td>0.076923</td>\n    </tr>\n    <tr>\n      <th>79829</th>\n      <td>0.078853</td>\n      <td>0.023810</td>\n      <td>0.00</td>\n      <td>0.076923</td>\n    </tr>\n    <tr>\n      <th>79830</th>\n      <td>0.078853</td>\n      <td>0.023810</td>\n      <td>0.00</td>\n      <td>0.076923</td>\n    </tr>\n  </tbody>\n</table>\n<p>78202 rows × 4 columns</p>\n</div>"
     },
     "execution_count": 41,
     "metadata": {},
     "output_type": "execute_result"
    }
   ],
   "source": [
    "#train['out_pred'] < 0.7 是一个经验值。\n",
    "#这个值越接近0，说明数据越正常\n",
    "#这个值越接近1，说明数据越异常\n",
    "#获取数据中的feature_lst列（person_info，finance_info，credit_info，act_info）\n",
    "x = train[train['out_pred'] < 0.7][feature_lst]\n",
    "x"
   ],
   "metadata": {
    "collapsed": false,
    "pycharm": {
     "name": "#%%\n"
    }
   }
  },
  {
   "cell_type": "code",
   "execution_count": 42,
   "outputs": [
    {
     "data": {
      "text/plain": "0        0.0\n1        0.0\n2        0.0\n3        0.0\n4        0.0\n        ... \n79826    0.0\n79827    0.0\n79828    0.0\n79829    0.0\n79830    0.0\nName: bad_ind, Length: 78202, dtype: float64"
     },
     "execution_count": 42,
     "metadata": {},
     "output_type": "execute_result"
    }
   ],
   "source": [
    "y = train[train['out_pred'] < 0.7]['bad_ind']\n",
    "y"
   ],
   "metadata": {
    "collapsed": false,
    "pycharm": {
     "name": "#%%\n"
    }
   }
  },
  {
   "cell_type": "code",
   "execution_count": 43,
   "outputs": [],
   "source": [
    "#准备验证集数据\n",
    "val_x = val[feature_lst]\n",
    "val_y = val['bad_ind']\n"
   ],
   "metadata": {
    "collapsed": false,
    "pycharm": {
     "name": "#%%\n"
    }
   }
  },
  {
   "cell_type": "code",
   "execution_count": 44,
   "outputs": [
    {
     "data": {
      "text/plain": "LogisticRegression(C=0.1, class_weight='balanced')"
     },
     "execution_count": 44,
     "metadata": {},
     "output_type": "execute_result"
    }
   ],
   "source": [
    "#模型训练\n",
    "lr_model = LogisticRegression(C=0.1, class_weight='balanced')\n",
    "lr_model.fit(x,y)\n"
   ],
   "metadata": {
    "collapsed": false,
    "pycharm": {
     "name": "#%%\n"
    }
   }
  },
  {
   "cell_type": "code",
   "execution_count": 45,
   "outputs": [
    {
     "name": "stdout",
     "output_type": "stream",
     "text": [
      "train_ks :  0.42441317344139723\n",
      "val_ks :  0.42960019609463046\n"
     ]
    },
    {
     "data": {
      "text/plain": "<Figure size 432x288 with 1 Axes>",
      "image/png": "[encoded data removed]"
     },
     "metadata": {
      "needs_background": "light"
     },
     "output_type": "display_data"
    }
   ],
   "source": [
    "y_pred = lr_model.predict_proba(x)[:,1]\n",
    "fpr_lr_train,tpr_lr_train,_ = roc_curve(y,y_pred)\n",
    "train_ks = abs(fpr_lr_train - tpr_lr_train).max()\n",
    "print('train_ks : ',train_ks)\n",
    "\n",
    "y_pred = lr_model.predict_proba(val_x)[:,1]\n",
    "fpr_lr,tpr_lr,_ = roc_curve(val_y,y_pred)\n",
    "val_ks = abs(fpr_lr - tpr_lr).max()\n",
    "print('val_ks : ',val_ks)\n",
    "\n",
    "from matplotlib import pyplot as plt\n",
    "plt.plot(fpr_lr_train,tpr_lr_train,label = 'train LR')\n",
    "plt.plot(fpr_lr,tpr_lr,label = 'evl LR')\n",
    "plt.plot([0,1],[0,1],'k--')\n",
    "plt.xlabel('False positive rate')\n",
    "plt.ylabel('True positive rate')\n",
    "plt.title('ROC Curve')\n",
    "plt.legend(loc = 'best')\n",
    "plt.show()"
   ],
   "metadata": {
    "collapsed": false,
    "pycharm": {
     "name": "#%%\n"
    }
   }
  },
  {
   "cell_type": "markdown",
   "source": [
    "* preA模型\n"
   ],
   "metadata": {
    "collapsed": false,
    "pycharm": {
     "name": "#%% md\n"
    }
   }
  },
  {
   "cell_type": "code",
   "execution_count": 46,
   "outputs": [
    {
     "name": "stdout",
     "output_type": "stream",
     "text": [
      "train_ks :  0.3221610793015221\n",
      "val_ks :  0.30984257092842543\n"
     ]
    },
    {
     "data": {
      "text/plain": "<Figure size 432x288 with 1 Axes>",
      "image/png": "[encoded data removed]"
     },
     "metadata": {
      "needs_background": "light"
     },
     "output_type": "display_data"
    }
   ],
   "source": [
    "#clf就是IF的对象，它是一个无监督的模型，因此效果不是特别理想\n",
    "y_pred = clf.predict_proba(x,method ='linear')[:,1]\n",
    "fpr_lr_train,tpr_lr_train,_ = roc_curve(y,y_pred)\n",
    "train_ks = abs(fpr_lr_train - tpr_lr_train).max()\n",
    "print('train_ks : ',train_ks)\n",
    "\n",
    "y_pred = clf.predict_proba(val_x,method ='linear')[:,1]\n",
    "fpr_lr,tpr_lr,_ = roc_curve(val_y,y_pred)\n",
    "val_ks = abs(fpr_lr - tpr_lr).max()\n",
    "print('val_ks : ',val_ks)\n",
    "\n",
    "from matplotlib import pyplot as plt\n",
    "plt.plot(fpr_lr_train,tpr_lr_train,label = 'train LR')\n",
    "plt.plot(fpr_lr,tpr_lr,label = 'evl LR')\n",
    "plt.plot([0,1],[0,1],'k--')\n",
    "plt.xlabel('False positive rate')\n",
    "plt.ylabel('True positive rate')\n",
    "plt.title('ROC Curve')\n",
    "plt.legend(loc = 'best')\n",
    "plt.show()\n"
   ],
   "metadata": {
    "collapsed": false,
    "pycharm": {
     "name": "#%%\n"
    }
   }
  },
  {
   "cell_type": "code",
   "execution_count": 47,
   "outputs": [
    {
     "data": {
      "text/plain": "     BAD  GOOD  BAD_CNT  GOOD_CNT  BAD_PCTG  BADRATE     KS\nnum                                                        \n0     68   731       68       731     0.207    0.085  0.161\n1     38   761      106      1492     0.323    0.048  0.228\n2     27   772      133      2264     0.405    0.034  0.261\n3     25   773      158      3037     0.482    0.031  0.288\n4     21   778      179      3815     0.546    0.026  0.302\n5     16   783      195      4598     0.595    0.020  0.301\n6     13   785      208      5383     0.634    0.016  0.290\n7     13   786      221      6169     0.674    0.016  0.280\n8     15   784      236      6953     0.720    0.019  0.275\n9     13   786      249      7739     0.759    0.016  0.265\n10     8   790      257      8529     0.784    0.010  0.238\n11     5   794      262      9323     0.799    0.006  0.203\n12     3   796      265     10119     0.808    0.004  0.161\n13     9   789      274     10908     0.835    0.011  0.138\n14    10   789      284     11697     0.866    0.013  0.118\n15     7   792      291     12489     0.887    0.009  0.089\n16    10   788      301     13277     0.918    0.013  0.069\n17     5   794      306     14071     0.933    0.006  0.034\n18     7   792      313     14863     0.954    0.009  0.004\n19    15   784      328     15647     1.000    0.019  0.000",
      "text/html": "<div>\n<style scoped>\n    .dataframe tbody tr th:only-of-type {\n        vertical-align: middle;\n    }\n\n    .dataframe tbody tr th {\n        vertical-align: top;\n    }\n\n    .dataframe thead th {\n        text-align: right;\n    }\n</style>\n<table border=\"1\" class=\"dataframe\">\n  <thead>\n    <tr style=\"text-align: right;\">\n      <th></th>\n      <th>BAD</th>\n      <th>GOOD</th>\n      <th>BAD_CNT</th>\n      <th>GOOD_CNT</th>\n      <th>BAD_PCTG</th>\n      <th>BADRATE</th>\n      <th>KS</th>\n    </tr>\n    <tr>\n      <th>num</th>\n      <th></th>\n      <th></th>\n      <th></th>\n      <th></th>\n      <th></th>\n      <th></th>\n      <th></th>\n    </tr>\n  </thead>\n  <tbody>\n    <tr>\n      <th>0</th>\n      <td>68</td>\n      <td>731</td>\n      <td>68</td>\n      <td>731</td>\n      <td>0.207</td>\n      <td>0.085</td>\n      <td>0.161</td>\n    </tr>\n    <tr>\n      <th>1</th>\n      <td>38</td>\n      <td>761</td>\n      <td>106</td>\n      <td>1492</td>\n      <td>0.323</td>\n      <td>0.048</td>\n      <td>0.228</td>\n    </tr>\n    <tr>\n      <th>2</th>\n      <td>27</td>\n      <td>772</td>\n      <td>133</td>\n      <td>2264</td>\n      <td>0.405</td>\n      <td>0.034</td>\n      <td>0.261</td>\n    </tr>\n    <tr>\n      <th>3</th>\n      <td>25</td>\n      <td>773</td>\n      <td>158</td>\n      <td>3037</td>\n      <td>0.482</td>\n      <td>0.031</td>\n      <td>0.288</td>\n    </tr>\n    <tr>\n      <th>4</th>\n      <td>21</td>\n      <td>778</td>\n      <td>179</td>\n      <td>3815</td>\n      <td>0.546</td>\n      <td>0.026</td>\n      <td>0.302</td>\n    </tr>\n    <tr>\n      <th>5</th>\n      <td>16</td>\n      <td>783</td>\n      <td>195</td>\n      <td>4598</td>\n      <td>0.595</td>\n      <td>0.020</td>\n      <td>0.301</td>\n    </tr>\n    <tr>\n      <th>6</th>\n      <td>13</td>\n      <td>785</td>\n      <td>208</td>\n      <td>5383</td>\n      <td>0.634</td>\n      <td>0.016</td>\n      <td>0.290</td>\n    </tr>\n    <tr>\n      <th>7</th>\n      <td>13</td>\n      <td>786</td>\n      <td>221</td>\n      <td>6169</td>\n      <td>0.674</td>\n      <td>0.016</td>\n      <td>0.280</td>\n    </tr>\n    <tr>\n      <th>8</th>\n      <td>15</td>\n      <td>784</td>\n      <td>236</td>\n      <td>6953</td>\n      <td>0.720</td>\n      <td>0.019</td>\n      <td>0.275</td>\n    </tr>\n    <tr>\n      <th>9</th>\n      <td>13</td>\n      <td>786</td>\n      <td>249</td>\n      <td>7739</td>\n      <td>0.759</td>\n      <td>0.016</td>\n      <td>0.265</td>\n    </tr>\n    <tr>\n      <th>10</th>\n      <td>8</td>\n      <td>790</td>\n      <td>257</td>\n      <td>8529</td>\n      <td>0.784</td>\n      <td>0.010</td>\n      <td>0.238</td>\n    </tr>\n    <tr>\n      <th>11</th>\n      <td>5</td>\n      <td>794</td>\n      <td>262</td>\n      <td>9323</td>\n      <td>0.799</td>\n      <td>0.006</td>\n      <td>0.203</td>\n    </tr>\n    <tr>\n      <th>12</th>\n      <td>3</td>\n      <td>796</td>\n      <td>265</td>\n      <td>10119</td>\n      <td>0.808</td>\n      <td>0.004</td>\n      <td>0.161</td>\n    </tr>\n    <tr>\n      <th>13</th>\n      <td>9</td>\n      <td>789</td>\n      <td>274</td>\n      <td>10908</td>\n      <td>0.835</td>\n      <td>0.011</td>\n      <td>0.138</td>\n    </tr>\n    <tr>\n      <th>14</th>\n      <td>10</td>\n      <td>789</td>\n      <td>284</td>\n      <td>11697</td>\n      <td>0.866</td>\n      <td>0.013</td>\n      <td>0.118</td>\n    </tr>\n    <tr>\n      <th>15</th>\n      <td>7</td>\n      <td>792</td>\n      <td>291</td>\n      <td>12489</td>\n      <td>0.887</td>\n      <td>0.009</td>\n      <td>0.089</td>\n    </tr>\n    <tr>\n      <th>16</th>\n      <td>10</td>\n      <td>788</td>\n      <td>301</td>\n      <td>13277</td>\n      <td>0.918</td>\n      <td>0.013</td>\n      <td>0.069</td>\n    </tr>\n    <tr>\n      <th>17</th>\n      <td>5</td>\n      <td>794</td>\n      <td>306</td>\n      <td>14071</td>\n      <td>0.933</td>\n      <td>0.006</td>\n      <td>0.034</td>\n    </tr>\n    <tr>\n      <th>18</th>\n      <td>7</td>\n      <td>792</td>\n      <td>313</td>\n      <td>14863</td>\n      <td>0.954</td>\n      <td>0.009</td>\n      <td>0.004</td>\n    </tr>\n    <tr>\n      <th>19</th>\n      <td>15</td>\n      <td>784</td>\n      <td>328</td>\n      <td>15647</td>\n      <td>1.000</td>\n      <td>0.019</td>\n      <td>0.000</td>\n    </tr>\n  </tbody>\n</table>\n</div>"
     },
     "execution_count": 47,
     "metadata": {},
     "output_type": "execute_result"
    }
   ],
   "source": [
    "import math\n",
    "#准备数据\n",
    "model = clf\n",
    "bins = 20\n",
    "temp_ = pd.DataFrame() #创建空白DataFrame\n",
    "temp_['bad_rate_predict'] = [s[1] for s in model.predict_proba(val_x)]# 预测结果（坏人概率）\n",
    "temp_['real_bad'] = val_y # 真实结果\n",
    "temp_ = temp_.sort_values('bad_rate_predict',ascending = False)#按照预测坏人概率降序排列\n",
    "temp_['num'] = [i for i in range(temp_.shape[0])] #添加序号列，用于分组\n",
    "temp_['num'] = pd.cut(temp_.num,bins = bins,labels = [i for i in range(bins)])#分成20组，为每组添加组号\n",
    "\n",
    "#创建报告\n",
    "report = pd.DataFrame()#创建空白DataFrame\n",
    "#计算每一组坏人数量\n",
    "report['BAD'] = temp_.groupby('num').real_bad.sum().astype(int)\n",
    "#计算每一组好人数量\n",
    "report['GOOD'] = temp_.groupby('num').real_bad.count().astype(int)-report['BAD']\n",
    "#累计求和坏人数量\n",
    "report['BAD_CNT'] = report['BAD'].cumsum()\n",
    "#累计求和好人数量\n",
    "report['GOOD_CNT'] = report['GOOD'].cumsum()\n",
    "good_total = report.GOOD_CNT.max()\n",
    "bad_total = report.BAD_CNT.max()\n",
    "#计算到当前组坏人比例（占所有坏人比例）\n",
    "report['BAD_PCTG'] = round(report.BAD_CNT/bad_total,3)\n",
    "#计算当前组坏人概率\n",
    "report['BADRATE'] =report.apply(lambda x: round(x.BAD/(x.BAD+x.GOOD),3),axis = 1)\n",
    "#计算KS值\n",
    "def cal_ks(x):\n",
    "  #当前箱累计坏人数量/总坏人数量  - 当前箱累计好人数量/好人数量\n",
    "    ks = (x.BAD_CNT/bad_total)-(x.GOOD_CNT/good_total)\n",
    "    return round(math.fabs(ks),3)\n",
    "report['KS'] = report.apply(cal_ks,axis = 1)\n",
    "report\n"
   ],
   "metadata": {
    "collapsed": false,
    "pycharm": {
     "name": "#%%\n"
    }
   }
  },
  {
   "cell_type": "code",
   "execution_count": null,
   "outputs": [],
   "source": [],
   "metadata": {
    "collapsed": false,
    "pycharm": {
     "name": "#%%\n"
    }
   }
  }
 ],
 "metadata": {
  "kernelspec": {
   "display_name": "Python 3",
   "language": "python",
   "name": "python3"
  },
  "language_info": {
   "codemirror_mode": {
    "name": "ipython",
    "version": 2
   },
   "file_extension": ".py",
   "mimetype": "text/x-python",
   "name": "python",
   "nbconvert_exporter": "python",
   "pygments_lexer": "ipython2",
   "version": "2.7.6"
  }
 },
 "nbformat": 4,
 "nbformat_minor": 0
}