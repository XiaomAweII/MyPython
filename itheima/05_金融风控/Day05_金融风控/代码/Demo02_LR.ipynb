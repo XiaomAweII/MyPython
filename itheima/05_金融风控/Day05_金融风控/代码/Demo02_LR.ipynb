{
 "cells": [
  {
   "cell_type": "code",
   "execution_count": 1,
   "metadata": {
    "collapsed": true
   },
   "outputs": [],
   "source": [
    "import pandas as pd\n",
    "from sklearn.metrics import roc_auc_score,roc_curve,auc\n",
    "from sklearn.model_selection import train_test_split\n",
    "from sklearn import metrics\n",
    "from sklearn.linear_model import LogisticRegression\n",
    "import numpy as np\n",
    "import random\n",
    "import math\n"
   ]
  },
  {
   "cell_type": "code",
   "execution_count": 2,
   "outputs": [
    {
     "data": {
      "text/plain": "          obs_mth  bad_ind                     uid  td_score  jxl_score  \\\n0      2018-10-31      0.0               A10000005  0.675349   0.144072   \n1      2018-07-31      0.0                A1000002  0.825269   0.398688   \n2      2018-09-30      0.0                A1000011  0.315406   0.629745   \n3      2018-07-31      0.0               A10000481  0.002386   0.609360   \n4      2018-07-31      0.0                A1000069  0.406310   0.405352   \n...           ...      ...                     ...       ...        ...   \n95801  2018-11-30      0.0  Ab99_96436391998107976  0.890233   0.442687   \n95802  2018-11-30      0.0  Ab99_96436391998176292  0.161840   0.495766   \n95803  2018-11-30      0.0  Ab99_96436391998322771  0.746522   0.732739   \n95804  2018-11-30      0.0  Ab99_96436391998973383  0.176846   0.749610   \n95805  2018-11-30      0.0  Ab99_96436392001380983  0.417920   0.650343   \n\n       mj_score  rh_score  zzc_score  zcx_score  person_info  finance_info  \\\n0      0.186899  0.483640   0.928328   0.369644    -0.322581      0.023810   \n1      0.139396  0.843725   0.605194   0.406122    -0.128677      0.023810   \n2      0.535854  0.197392   0.614416   0.320731     0.062660      0.023810   \n3      0.366081  0.342243   0.870006   0.288692     0.078853      0.071429   \n4      0.783015  0.563953   0.715454   0.512554    -0.261014      0.023810   \n...         ...       ...        ...        ...          ...           ...   \n95801  0.802687  0.776982   0.638971   0.605522     0.078853      0.142857   \n95802  0.085750  0.536738   0.596144   0.132972     0.078853      0.023810   \n95803  0.025475  0.831805   0.642904   0.029297     0.078853      0.023810   \n95804  0.933879  0.506921   0.867099   0.751643     0.078853      0.023810   \n95805  0.985863  0.374100   0.330634   0.596833     0.078853      0.071429   \n\n       credit_info  act_info  \n0             0.00  0.217949  \n1             0.00  0.423077  \n2             0.10  0.448718  \n3             0.05  0.179487  \n4             0.00  0.423077  \n...            ...       ...  \n95801         0.25  0.076923  \n95802         0.00  0.076923  \n95803         0.00  0.076923  \n95804         0.02  0.076923  \n95805         0.62  0.076923  \n\n[95806 rows x 13 columns]",
      "text/html": "<div>\n<style scoped>\n    .dataframe tbody tr th:only-of-type {\n        vertical-align: middle;\n    }\n\n    .dataframe tbody tr th {\n        vertical-align: top;\n    }\n\n    .dataframe thead th {\n        text-align: right;\n    }\n</style>\n<table border=\"1\" class=\"dataframe\">\n  <thead>\n    <tr style=\"text-align: right;\">\n      <th></th>\n      <th>obs_mth</th>\n      <th>bad_ind</th>\n      <th>uid</th>\n      <th>td_score</th>\n      <th>jxl_score</th>\n      <th>mj_score</th>\n      <th>rh_score</th>\n      <th>zzc_score</th>\n      <th>zcx_score</th>\n      <th>person_info</th>\n      <th>finance_info</th>\n      <th>credit_info</th>\n      <th>act_info</th>\n    </tr>\n  </thead>\n  <tbody>\n    <tr>\n      <th>0</th>\n      <td>2018-10-31</td>\n      <td>0.0</td>\n      <td>A10000005</td>\n      <td>0.675349</td>\n      <td>0.144072</td>\n      <td>0.186899</td>\n      <td>0.483640</td>\n      <td>0.928328</td>\n      <td>0.369644</td>\n      <td>-0.322581</td>\n      <td>0.023810</td>\n      <td>0.00</td>\n      <td>0.217949</td>\n    </tr>\n    <tr>\n      <th>1</th>\n      <td>2018-07-31</td>\n      <td>0.0</td>\n      <td>A1000002</td>\n      <td>0.825269</td>\n      <td>0.398688</td>\n      <td>0.139396</td>\n      <td>0.843725</td>\n      <td>0.605194</td>\n      <td>0.406122</td>\n      <td>-0.128677</td>\n      <td>0.023810</td>\n      <td>0.00</td>\n      <td>0.423077</td>\n    </tr>\n    <tr>\n      <th>2</th>\n      <td>2018-09-30</td>\n      <td>0.0</td>\n      <td>A1000011</td>\n      <td>0.315406</td>\n      <td>0.629745</td>\n      <td>0.535854</td>\n      <td>0.197392</td>\n      <td>0.614416</td>\n      <td>0.320731</td>\n      <td>0.062660</td>\n      <td>0.023810</td>\n      <td>0.10</td>\n      <td>0.448718</td>\n    </tr>\n    <tr>\n      <th>3</th>\n      <td>2018-07-31</td>\n      <td>0.0</td>\n      <td>A10000481</td>\n      <td>0.002386</td>\n      <td>0.609360</td>\n      <td>0.366081</td>\n      <td>0.342243</td>\n      <td>0.870006</td>\n      <td>0.288692</td>\n      <td>0.078853</td>\n      <td>0.071429</td>\n      <td>0.05</td>\n      <td>0.179487</td>\n    </tr>\n    <tr>\n      <th>4</th>\n      <td>2018-07-31</td>\n      <td>0.0</td>\n      <td>A1000069</td>\n      <td>0.406310</td>\n      <td>0.405352</td>\n      <td>0.783015</td>\n      <td>0.563953</td>\n      <td>0.715454</td>\n      <td>0.512554</td>\n      <td>-0.261014</td>\n      <td>0.023810</td>\n      <td>0.00</td>\n      <td>0.423077</td>\n    </tr>\n    <tr>\n      <th>...</th>\n      <td>...</td>\n      <td>...</td>\n      <td>...</td>\n      <td>...</td>\n      <td>...</td>\n      <td>...</td>\n      <td>...</td>\n      <td>...</td>\n      <td>...</td>\n      <td>...</td>\n      <td>...</td>\n      <td>...</td>\n      <td>...</td>\n    </tr>\n    <tr>\n      <th>95801</th>\n      <td>2018-11-30</td>\n      <td>0.0</td>\n      <td>Ab99_96436391998107976</td>\n      <td>0.890233</td>\n      <td>0.442687</td>\n      <td>0.802687</td>\n      <td>0.776982</td>\n      <td>0.638971</td>\n      <td>0.605522</td>\n      <td>0.078853</td>\n      <td>0.142857</td>\n      <td>0.25</td>\n      <td>0.076923</td>\n    </tr>\n    <tr>\n      <th>95802</th>\n      <td>2018-11-30</td>\n      <td>0.0</td>\n      <td>Ab99_96436391998176292</td>\n      <td>0.161840</td>\n      <td>0.495766</td>\n      <td>0.085750</td>\n      <td>0.536738</td>\n      <td>0.596144</td>\n      <td>0.132972</td>\n      <td>0.078853</td>\n      <td>0.023810</td>\n      <td>0.00</td>\n      <td>0.076923</td>\n    </tr>\n    <tr>\n      <th>95803</th>\n      <td>2018-11-30</td>\n      <td>0.0</td>\n      <td>Ab99_96436391998322771</td>\n      <td>0.746522</td>\n      <td>0.732739</td>\n      <td>0.025475</td>\n      <td>0.831805</td>\n      <td>0.642904</td>\n      <td>0.029297</td>\n      <td>0.078853</td>\n      <td>0.023810</td>\n      <td>0.00</td>\n      <td>0.076923</td>\n    </tr>\n    <tr>\n      <th>95804</th>\n      <td>2018-11-30</td>\n      <td>0.0</td>\n      <td>Ab99_96436391998973383</td>\n      <td>0.176846</td>\n      <td>0.749610</td>\n      <td>0.933879</td>\n      <td>0.506921</td>\n      <td>0.867099</td>\n      <td>0.751643</td>\n      <td>0.078853</td>\n      <td>0.023810</td>\n      <td>0.02</td>\n      <td>0.076923</td>\n    </tr>\n    <tr>\n      <th>95805</th>\n      <td>2018-11-30</td>\n      <td>0.0</td>\n      <td>Ab99_96436392001380983</td>\n      <td>0.417920</td>\n      <td>0.650343</td>\n      <td>0.985863</td>\n      <td>0.374100</td>\n      <td>0.330634</td>\n      <td>0.596833</td>\n      <td>0.078853</td>\n      <td>0.071429</td>\n      <td>0.62</td>\n      <td>0.076923</td>\n    </tr>\n  </tbody>\n</table>\n<p>95806 rows × 13 columns</p>\n</div>"
     },
     "execution_count": 2,
     "metadata": {},
     "output_type": "execute_result"
    }
   ],
   "source": [
    "data = pd.read_csv('../data/Bcard.txt')\n",
    "data"
   ],
   "metadata": {
    "collapsed": false,
    "pycharm": {
     "name": "#%%\n"
    }
   }
  },
  {
   "cell_type": "code",
   "execution_count": 3,
   "outputs": [
    {
     "data": {
      "text/plain": "array(['2018-10-31', '2018-07-31', '2018-09-30', '2018-06-30',\n       '2018-11-30'], dtype=object)"
     },
     "execution_count": 3,
     "metadata": {},
     "output_type": "execute_result"
    }
   ],
   "source": [
    "data['obs_mth'].unique()"
   ],
   "metadata": {
    "collapsed": false,
    "pycharm": {
     "name": "#%%\n"
    }
   }
  },
  {
   "cell_type": "code",
   "execution_count": 4,
   "outputs": [
    {
     "data": {
      "text/plain": "2018-07-31    34030\n2018-06-30    20565\n2018-11-30    15975\n2018-10-31    14527\n2018-09-30    10709\nName: obs_mth, dtype: int64"
     },
     "execution_count": 4,
     "metadata": {},
     "output_type": "execute_result"
    }
   ],
   "source": [
    "data['obs_mth'].value_counts()\n"
   ],
   "metadata": {
    "collapsed": false,
    "pycharm": {
     "name": "#%%\n"
    }
   }
  },
  {
   "cell_type": "code",
   "execution_count": 5,
   "outputs": [],
   "source": [
    "#划分训练集和测试集(使用最后一个月)\n",
    "train = data[data['obs_mth'] != '2018-11-30']\n",
    "val = data[data['obs_mth'] == '2018-11-30']\n"
   ],
   "metadata": {
    "collapsed": false,
    "pycharm": {
     "name": "#%%\n"
    }
   }
  },
  {
   "cell_type": "code",
   "execution_count": 6,
   "outputs": [
    {
     "data": {
      "text/plain": "          obs_mth  bad_ind                     uid  td_score  jxl_score  \\\n0      2018-10-31      0.0               A10000005  0.675349   0.144072   \n1      2018-07-31      0.0                A1000002  0.825269   0.398688   \n2      2018-09-30      0.0                A1000011  0.315406   0.629745   \n3      2018-07-31      0.0               A10000481  0.002386   0.609360   \n4      2018-07-31      0.0                A1000069  0.406310   0.405352   \n...           ...      ...                     ...       ...        ...   \n79826  2018-09-30      0.0  Ab99_96436392005147255  0.905578   0.927706   \n79827  2018-10-31      0.0  Ab99_96436392005205003  0.639265   0.219267   \n79828  2018-10-31      0.0  Ab99_96436392005412387  0.355061   0.837747   \n79829  2018-10-31      0.0  Ab99_96436392006241624  0.797237   0.501238   \n79830  2018-10-31      0.0  Ab99_96436392007495598  0.990920   0.833572   \n\n       mj_score  rh_score  zzc_score  zcx_score  person_info  finance_info  \\\n0      0.186899  0.483640   0.928328   0.369644    -0.322581      0.023810   \n1      0.139396  0.843725   0.605194   0.406122    -0.128677      0.023810   \n2      0.535854  0.197392   0.614416   0.320731     0.062660      0.023810   \n3      0.366081  0.342243   0.870006   0.288692     0.078853      0.071429   \n4      0.783015  0.563953   0.715454   0.512554    -0.261014      0.023810   \n...         ...       ...        ...        ...          ...           ...   \n79826  0.994447  0.315842   0.959443   0.042640     0.078853      0.071429   \n79827  0.845014  0.751332   0.275557   0.902642     0.078853      0.023810   \n79828  0.931882  0.442463   0.579277   0.740754     0.078853      0.023810   \n79829  0.490850  0.592068   0.479618   0.859870     0.078853      0.023810   \n79830  0.993425  0.732783   0.925975   0.395655     0.078853      0.023810   \n\n       credit_info  act_info  \n0             0.00  0.217949  \n1             0.00  0.423077  \n2             0.10  0.448718  \n3             0.05  0.179487  \n4             0.00  0.423077  \n...            ...       ...  \n79826         0.13  0.076923  \n79827         0.00  0.076923  \n79828         0.02  0.076923  \n79829         0.00  0.076923  \n79830         0.00  0.076923  \n\n[79831 rows x 13 columns]",
      "text/html": "<div>\n<style scoped>\n    .dataframe tbody tr th:only-of-type {\n        vertical-align: middle;\n    }\n\n    .dataframe tbody tr th {\n        vertical-align: top;\n    }\n\n    .dataframe thead th {\n        text-align: right;\n    }\n</style>\n<table border=\"1\" class=\"dataframe\">\n  <thead>\n    <tr style=\"text-align: right;\">\n      <th></th>\n      <th>obs_mth</th>\n      <th>bad_ind</th>\n      <th>uid</th>\n      <th>td_score</th>\n      <th>jxl_score</th>\n      <th>mj_score</th>\n      <th>rh_score</th>\n      <th>zzc_score</th>\n      <th>zcx_score</th>\n      <th>person_info</th>\n      <th>finance_info</th>\n      <th>credit_info</th>\n      <th>act_info</th>\n    </tr>\n  </thead>\n  <tbody>\n    <tr>\n      <th>0</th>\n      <td>2018-10-31</td>\n      <td>0.0</td>\n      <td>A10000005</td>\n      <td>0.675349</td>\n      <td>0.144072</td>\n      <td>0.186899</td>\n      <td>0.483640</td>\n      <td>0.928328</td>\n      <td>0.369644</td>\n      <td>-0.322581</td>\n      <td>0.023810</td>\n      <td>0.00</td>\n      <td>0.217949</td>\n    </tr>\n    <tr>\n      <th>1</th>\n      <td>2018-07-31</td>\n      <td>0.0</td>\n      <td>A1000002</td>\n      <td>0.825269</td>\n      <td>0.398688</td>\n      <td>0.139396</td>\n      <td>0.843725</td>\n      <td>0.605194</td>\n      <td>0.406122</td>\n      <td>-0.128677</td>\n      <td>0.023810</td>\n      <td>0.00</td>\n      <td>0.423077</td>\n    </tr>\n    <tr>\n      <th>2</th>\n      <td>2018-09-30</td>\n      <td>0.0</td>\n      <td>A1000011</td>\n      <td>0.315406</td>\n      <td>0.629745</td>\n      <td>0.535854</td>\n      <td>0.197392</td>\n      <td>0.614416</td>\n      <td>0.320731</td>\n      <td>0.062660</td>\n      <td>0.023810</td>\n      <td>0.10</td>\n      <td>0.448718</td>\n    </tr>\n    <tr>\n      <th>3</th>\n      <td>2018-07-31</td>\n      <td>0.0</td>\n      <td>A10000481</td>\n      <td>0.002386</td>\n      <td>0.609360</td>\n      <td>0.366081</td>\n      <td>0.342243</td>\n      <td>0.870006</td>\n      <td>0.288692</td>\n      <td>0.078853</td>\n      <td>0.071429</td>\n      <td>0.05</td>\n      <td>0.179487</td>\n    </tr>\n    <tr>\n      <th>4</th>\n      <td>2018-07-31</td>\n      <td>0.0</td>\n      <td>A1000069</td>\n      <td>0.406310</td>\n      <td>0.405352</td>\n      <td>0.783015</td>\n      <td>0.563953</td>\n      <td>0.715454</td>\n      <td>0.512554</td>\n      <td>-0.261014</td>\n      <td>0.023810</td>\n      <td>0.00</td>\n      <td>0.423077</td>\n    </tr>\n    <tr>\n      <th>...</th>\n      <td>...</td>\n      <td>...</td>\n      <td>...</td>\n      <td>...</td>\n      <td>...</td>\n      <td>...</td>\n      <td>...</td>\n      <td>...</td>\n      <td>...</td>\n      <td>...</td>\n      <td>...</td>\n      <td>...</td>\n      <td>...</td>\n    </tr>\n    <tr>\n      <th>79826</th>\n      <td>2018-09-30</td>\n      <td>0.0</td>\n      <td>Ab99_96436392005147255</td>\n      <td>0.905578</td>\n      <td>0.927706</td>\n      <td>0.994447</td>\n      <td>0.315842</td>\n      <td>0.959443</td>\n      <td>0.042640</td>\n      <td>0.078853</td>\n      <td>0.071429</td>\n      <td>0.13</td>\n      <td>0.076923</td>\n    </tr>\n    <tr>\n      <th>79827</th>\n      <td>2018-10-31</td>\n      <td>0.0</td>\n      <td>Ab99_96436392005205003</td>\n      <td>0.639265</td>\n      <td>0.219267</td>\n      <td>0.845014</td>\n      <td>0.751332</td>\n      <td>0.275557</td>\n      <td>0.902642</td>\n      <td>0.078853</td>\n      <td>0.023810</td>\n      <td>0.00</td>\n      <td>0.076923</td>\n    </tr>\n    <tr>\n      <th>79828</th>\n      <td>2018-10-31</td>\n      <td>0.0</td>\n      <td>Ab99_96436392005412387</td>\n      <td>0.355061</td>\n      <td>0.837747</td>\n      <td>0.931882</td>\n      <td>0.442463</td>\n      <td>0.579277</td>\n      <td>0.740754</td>\n      <td>0.078853</td>\n      <td>0.023810</td>\n      <td>0.02</td>\n      <td>0.076923</td>\n    </tr>\n    <tr>\n      <th>79829</th>\n      <td>2018-10-31</td>\n      <td>0.0</td>\n      <td>Ab99_96436392006241624</td>\n      <td>0.797237</td>\n      <td>0.501238</td>\n      <td>0.490850</td>\n      <td>0.592068</td>\n      <td>0.479618</td>\n      <td>0.859870</td>\n      <td>0.078853</td>\n      <td>0.023810</td>\n      <td>0.00</td>\n      <td>0.076923</td>\n    </tr>\n    <tr>\n      <th>79830</th>\n      <td>2018-10-31</td>\n      <td>0.0</td>\n      <td>Ab99_96436392007495598</td>\n      <td>0.990920</td>\n      <td>0.833572</td>\n      <td>0.993425</td>\n      <td>0.732783</td>\n      <td>0.925975</td>\n      <td>0.395655</td>\n      <td>0.078853</td>\n      <td>0.023810</td>\n      <td>0.00</td>\n      <td>0.076923</td>\n    </tr>\n  </tbody>\n</table>\n<p>79831 rows × 13 columns</p>\n</div>"
     },
     "execution_count": 6,
     "metadata": {},
     "output_type": "execute_result"
    }
   ],
   "source": [
    "train\n"
   ],
   "metadata": {
    "collapsed": false,
    "pycharm": {
     "name": "#%%\n"
    }
   }
  },
  {
   "cell_type": "code",
   "execution_count": 7,
   "outputs": [],
   "source": [
    "feature_lst = ['td_score', 'jxl_score', 'mj_score','rh_score', 'zzc_score', 'zcx_score', 'person_info', 'finance_info','credit_info', 'act_info']\n"
   ],
   "metadata": {
    "collapsed": false,
    "pycharm": {
     "name": "#%%\n"
    }
   }
  },
  {
   "cell_type": "code",
   "execution_count": 8,
   "outputs": [],
   "source": [
    "#准备训练集和验证集的x和y\n",
    "x = train[feature_lst]\n",
    "y = train['bad_ind']\n",
    "\n",
    "val_x = val[feature_lst]\n",
    "val_y = val['bad_ind']"
   ],
   "metadata": {
    "collapsed": false,
    "pycharm": {
     "name": "#%%\n"
    }
   }
  },
  {
   "cell_type": "code",
   "execution_count": 9,
   "outputs": [
    {
     "data": {
      "text/plain": "LogisticRegression(C=0.1)"
     },
     "execution_count": 9,
     "metadata": {},
     "output_type": "execute_result"
    }
   ],
   "source": [
    "#创建逻辑回归的模型\n",
    "lr_model = LogisticRegression(C=0.1)\n",
    "lr_model.fit(x,y)"
   ],
   "metadata": {
    "collapsed": false,
    "pycharm": {
     "name": "#%%\n"
    }
   }
  },
  {
   "cell_type": "code",
   "execution_count": 10,
   "outputs": [],
   "source": [
    "#predict(x)：输出结果不是一个概率值，而是一个具体值（0,1）\n",
    "#但是，风控下，需要它的违约概率值的，因此不满足要求\n",
    "y_pred = lr_model.predict_proba(x)[:,1]"
   ],
   "metadata": {
    "collapsed": false,
    "pycharm": {
     "name": "#%%\n"
    }
   }
  },
  {
   "cell_type": "code",
   "execution_count": 11,
   "outputs": [
    {
     "data": {
      "text/plain": "array([0., 1.])"
     },
     "execution_count": 11,
     "metadata": {},
     "output_type": "execute_result"
    }
   ],
   "source": [
    "#类别（0和1类别）\n",
    "#模型抓的是1标签，而不是0\n",
    "lr_model.classes_"
   ],
   "metadata": {
    "collapsed": false,
    "pycharm": {
     "name": "#%%\n"
    }
   }
  },
  {
   "cell_type": "code",
   "execution_count": 12,
   "outputs": [
    {
     "data": {
      "text/plain": "array([0.00000000e+00, 1.27614502e-05, 1.27614502e-05, ...,\n       9.78522479e-01, 9.78522479e-01, 1.00000000e+00])"
     },
     "execution_count": 12,
     "metadata": {},
     "output_type": "execute_result"
    }
   ],
   "source": [
    "fpr_lr_train, tpr_lr_train, thresholds = roc_curve(y,y_pred)\n",
    "fpr_lr_train"
   ],
   "metadata": {
    "collapsed": false,
    "pycharm": {
     "name": "#%%\n"
    }
   }
  },
  {
   "cell_type": "code",
   "execution_count": 13,
   "outputs": [
    {
     "data": {
      "text/plain": "array([0.00000000e+00, 0.00000000e+00, 6.80272109e-04, ...,\n       9.99319728e-01, 1.00000000e+00, 1.00000000e+00])"
     },
     "execution_count": 13,
     "metadata": {},
     "output_type": "execute_result"
    }
   ],
   "source": [
    "tpr_lr_train\n"
   ],
   "metadata": {
    "collapsed": false,
    "pycharm": {
     "name": "#%%\n"
    }
   }
  },
  {
   "cell_type": "code",
   "execution_count": 14,
   "outputs": [
    {
     "name": "stdout",
     "output_type": "stream",
     "text": [
      "train_ks： 0.4196708292433754\n"
     ]
    }
   ],
   "source": [
    "train_ks = abs(fpr_lr_train - tpr_lr_train).max()\n",
    "print('train_ks：',train_ks)"
   ],
   "metadata": {
    "collapsed": false,
    "pycharm": {
     "name": "#%%\n"
    }
   }
  },
  {
   "cell_type": "code",
   "execution_count": 15,
   "outputs": [
    {
     "name": "stdout",
     "output_type": "stream",
     "text": [
      "val_ks： 0.3822931458847406\n"
     ]
    }
   ],
   "source": [
    "y_pred = lr_model.predict_proba(val_x)[:,1]\n",
    "fpr_lr,tpr_lr,_ = roc_curve(val_y,y_pred)\n",
    "val_ks = abs(fpr_lr - tpr_lr).max()\n",
    "print('val_ks：',val_ks)"
   ],
   "metadata": {
    "collapsed": false,
    "pycharm": {
     "name": "#%%\n"
    }
   }
  },
  {
   "cell_type": "code",
   "execution_count": 16,
   "outputs": [
    {
     "data": {
      "text/plain": "<Figure size 432x288 with 1 Axes>",
      "image/png": "[encoded data removed]"
     },
     "metadata": {
      "needs_background": "light"
     },
     "output_type": "display_data"
    }
   ],
   "source": [
    "from matplotlib import pyplot as plt\n",
    "plt.plot(fpr_lr_train,tpr_lr_train,label = 'train LR') #绘制训练集ROC\n",
    "plt.plot(fpr_lr,tpr_lr,label = 'evl LR')               #绘制验证集ROC\n",
    "plt.plot([0,1],[0,1],'k--')\n",
    "plt.xlabel('False positive rate')\n",
    "plt.ylabel('True positive rate')\n",
    "plt.title('ROC Curve')\n",
    "plt.legend(loc = 'best')\n",
    "plt.show()\n"
   ],
   "metadata": {
    "collapsed": false,
    "pycharm": {
     "name": "#%%\n"
    }
   }
  },
  {
   "cell_type": "code",
   "execution_count": 17,
   "outputs": [],
   "source": [
    "#对数据集进行特征筛选\n",
    "import lightgbm as lgb\n",
    "from sklearn.model_selection import train_test_split\n",
    "train_x,test_x,train_y,test_y = train_test_split(x,y,random_state=0,test_size=0.2)\n"
   ],
   "metadata": {
    "collapsed": false,
    "pycharm": {
     "name": "#%%\n"
    }
   }
  },
  {
   "cell_type": "code",
   "execution_count": 18,
   "outputs": [],
   "source": [
    "#定义模型训练的方法\n",
    "def  lgb_test(train_x,train_y,test_x,test_y):\n",
    "    #objective：binary表示二分类，metric：指标采用auc\n",
    "    clf =lgb.LGBMClassifier(boosting_type = 'gbdt',\n",
    "                           objective = 'binary',\n",
    "                           metric = 'auc',\n",
    "                           learning_rate = 0.1,\n",
    "                           n_estimators = 24,\n",
    "                           max_depth = 5,\n",
    "                           num_leaves = 20,\n",
    "                           max_bin = 45,\n",
    "                           min_data_in_leaf = 6,\n",
    "                           bagging_fraction = 0.6,\n",
    "                           bagging_freq = 0,\n",
    "                           feature_fraction = 0.8,\n",
    "                           )\n",
    "    #eval_set：用于作为验证集的(X, y)元组对的列表。\n",
    "    clf.fit(train_x,train_y,eval_set = [(train_x,train_y),(test_x,test_y)],eval_metric = 'auc')\n",
    "    return clf,clf.best_score_['valid_1']['auc']"
   ],
   "metadata": {
    "collapsed": false,
    "pycharm": {
     "name": "#%%\n"
    }
   }
  },
  {
   "cell_type": "code",
   "execution_count": 19,
   "outputs": [
    {
     "name": "stdout",
     "output_type": "stream",
     "text": [
      "[LightGBM] [Warning] min_data_in_leaf is set=6, min_child_samples=20 will be ignored. Current value: min_data_in_leaf=6\n",
      "[LightGBM] [Warning] feature_fraction is set=0.8, colsample_bytree=1.0 will be ignored. Current value: feature_fraction=0.8\n",
      "[LightGBM] [Warning] bagging_fraction is set=0.6, subsample=1.0 will be ignored. Current value: bagging_fraction=0.6\n",
      "[LightGBM] [Warning] bagging_freq is set=0, subsample_freq=0 will be ignored. Current value: bagging_freq=0\n",
      "[LightGBM] [Warning] min_data_in_leaf is set=6, min_child_samples=20 will be ignored. Current value: min_data_in_leaf=6\n",
      "[LightGBM] [Warning] feature_fraction is set=0.8, colsample_bytree=1.0 will be ignored. Current value: feature_fraction=0.8\n",
      "[LightGBM] [Warning] bagging_fraction is set=0.6, subsample=1.0 will be ignored. Current value: bagging_fraction=0.6\n",
      "[LightGBM] [Warning] bagging_freq is set=0, subsample_freq=0 will be ignored. Current value: bagging_freq=0\n",
      "[LightGBM] [Info] Number of positive: 1182, number of negative: 62682\n",
      "[LightGBM] [Info] Auto-choosing row-wise multi-threading, the overhead of testing was 0.000969 seconds.\n",
      "You can set `force_row_wise=true` to remove the overhead.\n",
      "And if memory is not enough, you can set `force_col_wise=true`.\n",
      "[LightGBM] [Info] Total Bins 394\n",
      "[LightGBM] [Info] Number of data points in the train set: 63864, number of used features: 10\n",
      "[LightGBM] [Warning] min_data_in_leaf is set=6, min_child_samples=20 will be ignored. Current value: min_data_in_leaf=6\n",
      "[LightGBM] [Warning] feature_fraction is set=0.8, colsample_bytree=1.0 will be ignored. Current value: feature_fraction=0.8\n",
      "[LightGBM] [Warning] bagging_fraction is set=0.6, subsample=1.0 will be ignored. Current value: bagging_fraction=0.6\n",
      "[LightGBM] [Warning] bagging_freq is set=0, subsample_freq=0 will be ignored. Current value: bagging_freq=0\n",
      "[LightGBM] [Info] [binary:BoostFromScore]: pavg=0.018508 -> initscore=-3.970866\n",
      "[LightGBM] [Info] Start training from score -3.970866\n"
     ]
    }
   ],
   "source": [
    "#调用自定义集成学习方法，获得模型和特征重要性\n",
    "lgb_model,lgb_auc = lgb_test(train_x,train_y,test_x,test_y)\n"
   ],
   "metadata": {
    "collapsed": false,
    "pycharm": {
     "name": "#%%\n"
    }
   }
  },
  {
   "cell_type": "code",
   "execution_count": 20,
   "outputs": [
    {
     "data": {
      "text/plain": "LGBMClassifier(bagging_fraction=0.6, bagging_freq=0, feature_fraction=0.8,\n               max_bin=45, max_depth=5, metric='auc', min_data_in_leaf=6,\n               n_estimators=24, num_leaves=20, objective='binary')"
     },
     "execution_count": 20,
     "metadata": {},
     "output_type": "execute_result"
    }
   ],
   "source": [
    "lgb_model\n"
   ],
   "metadata": {
    "collapsed": false,
    "pycharm": {
     "name": "#%%\n"
    }
   }
  },
  {
   "cell_type": "code",
   "execution_count": 21,
   "outputs": [
    {
     "data": {
      "text/plain": "0.8119580950457441"
     },
     "execution_count": 21,
     "metadata": {},
     "output_type": "execute_result"
    }
   ],
   "source": [
    "lgb_model.best_score_['valid_1']['auc']"
   ],
   "metadata": {
    "collapsed": false,
    "pycharm": {
     "name": "#%%\n"
    }
   }
  },
  {
   "cell_type": "code",
   "execution_count": 22,
   "outputs": [
    {
     "data": {
      "text/plain": "array([34, 32, 39, 34, 46, 44, 65, 50, 57, 55])"
     },
     "execution_count": 22,
     "metadata": {},
     "output_type": "execute_result"
    }
   ],
   "source": [
    "lgb_model.feature_importances_\n"
   ],
   "metadata": {
    "collapsed": false,
    "pycharm": {
     "name": "#%%\n"
    }
   }
  },
  {
   "cell_type": "code",
   "execution_count": 23,
   "outputs": [
    {
     "data": {
      "text/plain": "array([0., 1.])"
     },
     "execution_count": 23,
     "metadata": {},
     "output_type": "execute_result"
    }
   ],
   "source": [
    "lgb_model.classes_\n"
   ],
   "metadata": {
    "collapsed": false,
    "pycharm": {
     "name": "#%%\n"
    }
   }
  },
  {
   "cell_type": "code",
   "execution_count": 24,
   "outputs": [
    {
     "data": {
      "text/plain": "['td_score',\n 'jxl_score',\n 'mj_score',\n 'rh_score',\n 'zzc_score',\n 'zcx_score',\n 'person_info',\n 'finance_info',\n 'credit_info',\n 'act_info']"
     },
     "execution_count": 24,
     "metadata": {},
     "output_type": "execute_result"
    }
   ],
   "source": [
    "lgb_model.feature_name_"
   ],
   "metadata": {
    "collapsed": false,
    "pycharm": {
     "name": "#%%\n"
    }
   }
  },
  {
   "cell_type": "code",
   "execution_count": 25,
   "outputs": [
    {
     "data": {
      "text/plain": "['td_score',\n 'jxl_score',\n 'mj_score',\n 'rh_score',\n 'zzc_score',\n 'zcx_score',\n 'person_info',\n 'finance_info',\n 'credit_info',\n 'act_info']"
     },
     "execution_count": 25,
     "metadata": {},
     "output_type": "execute_result"
    }
   ],
   "source": [
    "lgb_model.booster_.feature_name()"
   ],
   "metadata": {
    "collapsed": false,
    "pycharm": {
     "name": "#%%\n"
    }
   }
  },
  {
   "cell_type": "code",
   "execution_count": 26,
   "outputs": [
    {
     "data": {
      "text/plain": "           name  importance\n6   person_info          65\n8   credit_info          57\n9      act_info          55\n7  finance_info          50\n4     zzc_score          46\n5     zcx_score          44\n2      mj_score          39\n0      td_score          34\n3      rh_score          34\n1     jxl_score          32",
      "text/html": "<div>\n<style scoped>\n    .dataframe tbody tr th:only-of-type {\n        vertical-align: middle;\n    }\n\n    .dataframe tbody tr th {\n        vertical-align: top;\n    }\n\n    .dataframe thead th {\n        text-align: right;\n    }\n</style>\n<table border=\"1\" class=\"dataframe\">\n  <thead>\n    <tr style=\"text-align: right;\">\n      <th></th>\n      <th>name</th>\n      <th>importance</th>\n    </tr>\n  </thead>\n  <tbody>\n    <tr>\n      <th>6</th>\n      <td>person_info</td>\n      <td>65</td>\n    </tr>\n    <tr>\n      <th>8</th>\n      <td>credit_info</td>\n      <td>57</td>\n    </tr>\n    <tr>\n      <th>9</th>\n      <td>act_info</td>\n      <td>55</td>\n    </tr>\n    <tr>\n      <th>7</th>\n      <td>finance_info</td>\n      <td>50</td>\n    </tr>\n    <tr>\n      <th>4</th>\n      <td>zzc_score</td>\n      <td>46</td>\n    </tr>\n    <tr>\n      <th>5</th>\n      <td>zcx_score</td>\n      <td>44</td>\n    </tr>\n    <tr>\n      <th>2</th>\n      <td>mj_score</td>\n      <td>39</td>\n    </tr>\n    <tr>\n      <th>0</th>\n      <td>td_score</td>\n      <td>34</td>\n    </tr>\n    <tr>\n      <th>3</th>\n      <td>rh_score</td>\n      <td>34</td>\n    </tr>\n    <tr>\n      <th>1</th>\n      <td>jxl_score</td>\n      <td>32</td>\n    </tr>\n  </tbody>\n</table>\n</div>"
     },
     "execution_count": 26,
     "metadata": {},
     "output_type": "execute_result"
    }
   ],
   "source": [
    "#把特征重要性和特征名字拼接\n",
    "#特征重要性的值越大，说明特征越重要，越要留下。不能删除。\n",
    "pd.DataFrame({'name':lgb_model.booster_.feature_name(),\n",
    "              'importance':lgb_model.feature_importances_}).sort_values(by=['importance'],\n",
    "               ascending=False)"
   ],
   "metadata": {
    "collapsed": false,
    "pycharm": {
     "name": "#%%\n"
    }
   }
  },
  {
   "cell_type": "code",
   "execution_count": 27,
   "outputs": [],
   "source": [
    "#特征筛选，保留特征重要性前4个特征，也就是内部数据的特征\n",
    "feature_lst = ['person_info','finance_info','credit_info','act_info']\n"
   ],
   "metadata": {
    "collapsed": false,
    "pycharm": {
     "name": "#%%\n"
    }
   }
  },
  {
   "cell_type": "code",
   "execution_count": 28,
   "outputs": [
    {
     "data": {
      "text/plain": "LogisticRegression(C=0.1)"
     },
     "execution_count": 28,
     "metadata": {},
     "output_type": "execute_result"
    }
   ],
   "source": [
    "x = train[feature_lst]\n",
    "y = train['bad_ind']\n",
    "\n",
    "val_x = val[feature_lst]\n",
    "val_y = val['bad_ind']\n",
    "#模型训练\n",
    "lr_model = LogisticRegression(C=0.1)\n",
    "lr_model.fit(x,y)"
   ],
   "metadata": {
    "collapsed": false,
    "pycharm": {
     "name": "#%%\n"
    }
   }
  },
  {
   "cell_type": "code",
   "execution_count": 29,
   "outputs": [
    {
     "name": "stdout",
     "output_type": "stream",
     "text": [
      "train_ks: 0.41573985983413414\n"
     ]
    }
   ],
   "source": [
    "#模型预测\n",
    "y_pred = lr_model.predict_proba(x)[:,1]\n",
    "fpr_lr_train,tpr_lr_train,_ = roc_curve(y,y_pred)\n",
    "train_ks = abs(fpr_lr_train - tpr_lr_train).max()\n",
    "print('train_ks:',train_ks)"
   ],
   "metadata": {
    "collapsed": false,
    "pycharm": {
     "name": "#%%\n"
    }
   }
  },
  {
   "cell_type": "code",
   "execution_count": 30,
   "outputs": [
    {
     "name": "stdout",
     "output_type": "stream",
     "text": [
      "test_ks: 0.3928959732014397\n"
     ]
    }
   ],
   "source": [
    "y_pred = lr_model.predict_proba(val_x)[:,1]\n",
    "fpr_lr,tpr_lr,_ = roc_curve(val_y,y_pred)\n",
    "test_ks = abs(fpr_lr - tpr_lr).max()\n",
    "print('test_ks:',test_ks)\n"
   ],
   "metadata": {
    "collapsed": false,
    "pycharm": {
     "name": "#%%\n"
    }
   }
  },
  {
   "cell_type": "code",
   "execution_count": 31,
   "outputs": [
    {
     "data": {
      "text/plain": "<Figure size 432x288 with 1 Axes>",
      "image/png": "[encoded data removed]"
     },
     "metadata": {
      "needs_background": "light"
     },
     "output_type": "display_data"
    }
   ],
   "source": [
    "from matplotlib import pyplot as plt\n",
    "plt.plot(fpr_lr_train,tpr_lr_train,label = 'train LR')\n",
    "plt.plot(fpr_lr,tpr_lr,label = 'evl LR')\n",
    "plt.plot([0,1],[0,1],'k--')\n",
    "plt.xlabel('False positive rate')\n",
    "plt.ylabel('True positive rate')\n",
    "plt.title('ROC Curve')\n",
    "plt.legend(loc = 'best')\n",
    "plt.show()\n"
   ],
   "metadata": {
    "collapsed": false,
    "pycharm": {
     "name": "#%%\n"
    }
   }
  },
  {
   "cell_type": "code",
   "execution_count": 32,
   "outputs": [
    {
     "data": {
      "text/plain": "array([[ 2.48386162,  4.44901224,  1.88254182, -1.43356854]])"
     },
     "execution_count": 32,
     "metadata": {},
     "output_type": "execute_result"
    }
   ],
   "source": [
    "#每一个特征的斜率\n",
    "lr_model.coef_"
   ],
   "metadata": {
    "collapsed": false,
    "pycharm": {
     "name": "#%%\n"
    }
   }
  },
  {
   "cell_type": "code",
   "execution_count": 33,
   "outputs": [
    {
     "data": {
      "text/plain": "array([-3.90631899])"
     },
     "execution_count": 33,
     "metadata": {},
     "output_type": "execute_result"
    }
   ],
   "source": [
    "#截距\n",
    "lr_model.intercept_"
   ],
   "metadata": {
    "collapsed": false,
    "pycharm": {
     "name": "#%%\n"
    }
   }
  },
  {
   "cell_type": "markdown",
   "source": [
    "* 模型报告\n"
   ],
   "metadata": {
    "collapsed": false,
    "pycharm": {
     "name": "#%% md\n"
    }
   }
  },
  {
   "cell_type": "code",
   "execution_count": 40,
   "outputs": [
    {
     "data": {
      "text/plain": "       bad_rate_predict  real_bad num\n14623          0.556654       1.0   0\n4280           0.544975       1.0   0\n14375          0.437255       0.0   0\n7935           0.433169       0.0   0\n13272          0.432557       0.0   0\n...                 ...       ...  ..\n12821          0.003774       0.0  19\n11901          0.003706       0.0  19\n11684          0.003639       0.0  19\n7081           0.003573       0.0  19\n10342          0.003508       0.0  19\n\n[15975 rows x 3 columns]",
      "text/html": "<div>\n<style scoped>\n    .dataframe tbody tr th:only-of-type {\n        vertical-align: middle;\n    }\n\n    .dataframe tbody tr th {\n        vertical-align: top;\n    }\n\n    .dataframe thead th {\n        text-align: right;\n    }\n</style>\n<table border=\"1\" class=\"dataframe\">\n  <thead>\n    <tr style=\"text-align: right;\">\n      <th></th>\n      <th>bad_rate_predict</th>\n      <th>real_bad</th>\n      <th>num</th>\n    </tr>\n  </thead>\n  <tbody>\n    <tr>\n      <th>14623</th>\n      <td>0.556654</td>\n      <td>1.0</td>\n      <td>0</td>\n    </tr>\n    <tr>\n      <th>4280</th>\n      <td>0.544975</td>\n      <td>1.0</td>\n      <td>0</td>\n    </tr>\n    <tr>\n      <th>14375</th>\n      <td>0.437255</td>\n      <td>0.0</td>\n      <td>0</td>\n    </tr>\n    <tr>\n      <th>7935</th>\n      <td>0.433169</td>\n      <td>0.0</td>\n      <td>0</td>\n    </tr>\n    <tr>\n      <th>13272</th>\n      <td>0.432557</td>\n      <td>0.0</td>\n      <td>0</td>\n    </tr>\n    <tr>\n      <th>...</th>\n      <td>...</td>\n      <td>...</td>\n      <td>...</td>\n    </tr>\n    <tr>\n      <th>12821</th>\n      <td>0.003774</td>\n      <td>0.0</td>\n      <td>19</td>\n    </tr>\n    <tr>\n      <th>11901</th>\n      <td>0.003706</td>\n      <td>0.0</td>\n      <td>19</td>\n    </tr>\n    <tr>\n      <th>11684</th>\n      <td>0.003639</td>\n      <td>0.0</td>\n      <td>19</td>\n    </tr>\n    <tr>\n      <th>7081</th>\n      <td>0.003573</td>\n      <td>0.0</td>\n      <td>19</td>\n    </tr>\n    <tr>\n      <th>10342</th>\n      <td>0.003508</td>\n      <td>0.0</td>\n      <td>19</td>\n    </tr>\n  </tbody>\n</table>\n<p>15975 rows × 3 columns</p>\n</div>"
     },
     "execution_count": 40,
     "metadata": {},
     "output_type": "execute_result"
    }
   ],
   "source": [
    "bins = 20\n",
    "temp_df = pd.DataFrame()\n",
    "#使用逻辑回归模型进行预测\n",
    "temp_df['bad_rate_predict'] = lr_model.predict_proba(val_x)[:,1]\n",
    "#真实值y\n",
    "temp_df['real_bad'] = val_y.values\n",
    "#排序，按照预测的概率值，从大到小排序\n",
    "temp_df = temp_df.sort_values('bad_rate_predict',ascending=False)\n",
    "#把数据分为20箱\n",
    "temp_df['num'] = [i for i in range(temp_df.shape[0])]\n",
    "temp_df['num'] = pd.cut(temp_df['num'],bins=bins,labels=[i for i in range(bins)])\n",
    "temp_df"
   ],
   "metadata": {
    "collapsed": false,
    "pycharm": {
     "name": "#%%\n"
    }
   }
  },
  {
   "cell_type": "code",
   "execution_count": 70,
   "outputs": [],
   "source": [
    "report = pd.DataFrame()\n",
    "#计算bad的数量和good的数量\n",
    "#astype：把小数转换为整数\n",
    "report['BAD'] = temp_df.groupby('num')['real_bad'].sum().astype(int)\n",
    "report['GOOD'] = temp_df.groupby(\"num\")['real_bad'].count() - report['BAD']\n",
    "\n",
    "#累计求和\n",
    "report['BAD_CNT'] = report['BAD'].cumsum()\n",
    "report['GOOD_CNT'] = report['GOOD'].cumsum()\n",
    "\n",
    "#计算坏样本占比数\n",
    "bad_total = report['BAD_CNT'].max()\n",
    "good_total = report['GOOD_CNT'].max()\n",
    "#保留三位小数\n",
    "report['BAD_PCTG'] = round(report['BAD_CNT']/bad_total,3)\n",
    "report['BADRATE'] = round(report['BAD']/(report['BAD'] + report['GOOD']),3)\n",
    "\n",
    "#计算KS\n",
    "def calc_ks(x):\n",
    "    #ks = tpr - fpr\n",
    "    #ks = TP/(TP+FN) - FP/(FP+TN)\n",
    "    ks = x['BAD_CNT']/bad_total - x['GOOD_CNT']/good_total\n",
    "    return round(abs(ks),3)\n",
    "report['KS'] = report.apply(lambda x:calc_ks(x),axis=1)"
   ],
   "metadata": {
    "collapsed": false,
    "pycharm": {
     "name": "#%%\n"
    }
   }
  },
  {
   "cell_type": "code",
   "execution_count": 71,
   "outputs": [
    {
     "data": {
      "text/plain": "     BAD  GOOD  BAD_CNT  GOOD_CNT  BAD_PCTG  BADRATE     KS\nnum                                                        \n0     69   730       69       730     0.210    0.086  0.164\n1     50   749      119      1479     0.363    0.063  0.268\n2     35   764      154      2243     0.470    0.044  0.326\n3     31   767      185      3010     0.564    0.039  0.372\n4     19   780      204      3790     0.622    0.024  0.380\n5     18   781      222      4571     0.677    0.023  0.385\n6     15   783      237      5354     0.723    0.019  0.380\n7     14   785      251      6139     0.765    0.018  0.373\n8     17   782      268      6921     0.817    0.021  0.375\n9      6   793      274      7714     0.835    0.008  0.342\n10     8   790      282      8504     0.860    0.010  0.316\n11     6   793      288      9297     0.878    0.008  0.284\n12     7   792      295     10089     0.899    0.009  0.255\n13    10   788      305     10877     0.930    0.013  0.235\n14     7   792      312     11669     0.951    0.009  0.205\n15     5   794      317     12463     0.966    0.006  0.170\n16     4   794      321     13257     0.979    0.005  0.131\n17     4   795      325     14052     0.991    0.005  0.093\n18     1   798      326     14850     0.994    0.001  0.045\n19     2   797      328     15647     1.000    0.003  0.000",
      "text/html": "<div>\n<style scoped>\n    .dataframe tbody tr th:only-of-type {\n        vertical-align: middle;\n    }\n\n    .dataframe tbody tr th {\n        vertical-align: top;\n    }\n\n    .dataframe thead th {\n        text-align: right;\n    }\n</style>\n<table border=\"1\" class=\"dataframe\">\n  <thead>\n    <tr style=\"text-align: right;\">\n      <th></th>\n      <th>BAD</th>\n      <th>GOOD</th>\n      <th>BAD_CNT</th>\n      <th>GOOD_CNT</th>\n      <th>BAD_PCTG</th>\n      <th>BADRATE</th>\n      <th>KS</th>\n    </tr>\n    <tr>\n      <th>num</th>\n      <th></th>\n      <th></th>\n      <th></th>\n      <th></th>\n      <th></th>\n      <th></th>\n      <th></th>\n    </tr>\n  </thead>\n  <tbody>\n    <tr>\n      <th>0</th>\n      <td>69</td>\n      <td>730</td>\n      <td>69</td>\n      <td>730</td>\n      <td>0.210</td>\n      <td>0.086</td>\n      <td>0.164</td>\n    </tr>\n    <tr>\n      <th>1</th>\n      <td>50</td>\n      <td>749</td>\n      <td>119</td>\n      <td>1479</td>\n      <td>0.363</td>\n      <td>0.063</td>\n      <td>0.268</td>\n    </tr>\n    <tr>\n      <th>2</th>\n      <td>35</td>\n      <td>764</td>\n      <td>154</td>\n      <td>2243</td>\n      <td>0.470</td>\n      <td>0.044</td>\n      <td>0.326</td>\n    </tr>\n    <tr>\n      <th>3</th>\n      <td>31</td>\n      <td>767</td>\n      <td>185</td>\n      <td>3010</td>\n      <td>0.564</td>\n      <td>0.039</td>\n      <td>0.372</td>\n    </tr>\n    <tr>\n      <th>4</th>\n      <td>19</td>\n      <td>780</td>\n      <td>204</td>\n      <td>3790</td>\n      <td>0.622</td>\n      <td>0.024</td>\n      <td>0.380</td>\n    </tr>\n    <tr>\n      <th>5</th>\n      <td>18</td>\n      <td>781</td>\n      <td>222</td>\n      <td>4571</td>\n      <td>0.677</td>\n      <td>0.023</td>\n      <td>0.385</td>\n    </tr>\n    <tr>\n      <th>6</th>\n      <td>15</td>\n      <td>783</td>\n      <td>237</td>\n      <td>5354</td>\n      <td>0.723</td>\n      <td>0.019</td>\n      <td>0.380</td>\n    </tr>\n    <tr>\n      <th>7</th>\n      <td>14</td>\n      <td>785</td>\n      <td>251</td>\n      <td>6139</td>\n      <td>0.765</td>\n      <td>0.018</td>\n      <td>0.373</td>\n    </tr>\n    <tr>\n      <th>8</th>\n      <td>17</td>\n      <td>782</td>\n      <td>268</td>\n      <td>6921</td>\n      <td>0.817</td>\n      <td>0.021</td>\n      <td>0.375</td>\n    </tr>\n    <tr>\n      <th>9</th>\n      <td>6</td>\n      <td>793</td>\n      <td>274</td>\n      <td>7714</td>\n      <td>0.835</td>\n      <td>0.008</td>\n      <td>0.342</td>\n    </tr>\n    <tr>\n      <th>10</th>\n      <td>8</td>\n      <td>790</td>\n      <td>282</td>\n      <td>8504</td>\n      <td>0.860</td>\n      <td>0.010</td>\n      <td>0.316</td>\n    </tr>\n    <tr>\n      <th>11</th>\n      <td>6</td>\n      <td>793</td>\n      <td>288</td>\n      <td>9297</td>\n      <td>0.878</td>\n      <td>0.008</td>\n      <td>0.284</td>\n    </tr>\n    <tr>\n      <th>12</th>\n      <td>7</td>\n      <td>792</td>\n      <td>295</td>\n      <td>10089</td>\n      <td>0.899</td>\n      <td>0.009</td>\n      <td>0.255</td>\n    </tr>\n    <tr>\n      <th>13</th>\n      <td>10</td>\n      <td>788</td>\n      <td>305</td>\n      <td>10877</td>\n      <td>0.930</td>\n      <td>0.013</td>\n      <td>0.235</td>\n    </tr>\n    <tr>\n      <th>14</th>\n      <td>7</td>\n      <td>792</td>\n      <td>312</td>\n      <td>11669</td>\n      <td>0.951</td>\n      <td>0.009</td>\n      <td>0.205</td>\n    </tr>\n    <tr>\n      <th>15</th>\n      <td>5</td>\n      <td>794</td>\n      <td>317</td>\n      <td>12463</td>\n      <td>0.966</td>\n      <td>0.006</td>\n      <td>0.170</td>\n    </tr>\n    <tr>\n      <th>16</th>\n      <td>4</td>\n      <td>794</td>\n      <td>321</td>\n      <td>13257</td>\n      <td>0.979</td>\n      <td>0.005</td>\n      <td>0.131</td>\n    </tr>\n    <tr>\n      <th>17</th>\n      <td>4</td>\n      <td>795</td>\n      <td>325</td>\n      <td>14052</td>\n      <td>0.991</td>\n      <td>0.005</td>\n      <td>0.093</td>\n    </tr>\n    <tr>\n      <th>18</th>\n      <td>1</td>\n      <td>798</td>\n      <td>326</td>\n      <td>14850</td>\n      <td>0.994</td>\n      <td>0.001</td>\n      <td>0.045</td>\n    </tr>\n    <tr>\n      <th>19</th>\n      <td>2</td>\n      <td>797</td>\n      <td>328</td>\n      <td>15647</td>\n      <td>1.000</td>\n      <td>0.003</td>\n      <td>0.000</td>\n    </tr>\n  </tbody>\n</table>\n</div>"
     },
     "execution_count": 71,
     "metadata": {},
     "output_type": "execute_result"
    }
   ],
   "source": [
    "report\n"
   ],
   "metadata": {
    "collapsed": false,
    "pycharm": {
     "name": "#%%\n"
    }
   }
  },
  {
   "cell_type": "code",
   "execution_count": 72,
   "outputs": [
    {
     "data": {
      "text/plain": "328"
     },
     "execution_count": 72,
     "metadata": {},
     "output_type": "execute_result"
    }
   ],
   "source": [
    "bad_total\n"
   ],
   "metadata": {
    "collapsed": false,
    "pycharm": {
     "name": "#%%\n"
    }
   }
  },
  {
   "cell_type": "code",
   "execution_count": 73,
   "outputs": [
    {
     "data": {
      "text/plain": "15647"
     },
     "execution_count": 73,
     "metadata": {},
     "output_type": "execute_result"
    }
   ],
   "source": [
    "good_total"
   ],
   "metadata": {
    "collapsed": false,
    "pycharm": {
     "name": "#%%\n"
    }
   }
  },
  {
   "cell_type": "markdown",
   "source": [
    "* 画图\n"
   ],
   "metadata": {
    "collapsed": false,
    "pycharm": {
     "name": "#%% md\n"
    }
   }
  },
  {
   "cell_type": "code",
   "execution_count": 74,
   "outputs": [
    {
     "data": {
      "text/plain": "'D:\\\\code\\\\workspace2\\\\financial20\\\\day05\\\\render.html'"
     },
     "execution_count": 74,
     "metadata": {},
     "output_type": "execute_result"
    }
   ],
   "source": [
    "from pyecharts.charts import *\n",
    "from pyecharts import options as opts\n",
    "from pylab import *\n",
    "mpl.rcParams['font.sans-serif'] = ['SimHei']\n",
    "np.set_printoptions(suppress=True)\n",
    "pd.set_option('display.unicode.ambiguous_as_wide', True)\n",
    "pd.set_option('display.unicode.east_asian_width', True)\n",
    "line = (\n",
    "\n",
    "    Line()\n",
    "    .add_xaxis(report.index.values.tolist())\n",
    "    .add_yaxis(\n",
    "        \"分组坏人占比\",\n",
    "        list(report.BADRATE),\n",
    "        yaxis_index=0,\n",
    "        color=\"red\",\n",
    "    )\n",
    "    .set_global_opts(\n",
    "        title_opts=opts.TitleOpts(title=\"评分卡模型表现\"),\n",
    "    )\n",
    "    .extend_axis(\n",
    "        yaxis=opts.AxisOpts(\n",
    "            name=\"KS值\",\n",
    "            type_=\"value\",\n",
    "            min_=0,\n",
    "            max_=0.5,\n",
    "            position=\"right\",\n",
    "            axisline_opts=opts.AxisLineOpts(\n",
    "                linestyle_opts=opts.LineStyleOpts(color=\"red\")\n",
    "            ),\n",
    "            axislabel_opts=opts.LabelOpts(formatter=\"{value}\"),\n",
    "        )\n",
    "\n",
    "    )\n",
    "    .add_yaxis(\n",
    "        \"KS\",\n",
    "        list(report['KS']),\n",
    "        yaxis_index=1,\n",
    "        color=\"blue\",\n",
    "        label_opts=opts.LabelOpts(is_show=False),\n",
    "    )\n",
    ")\n",
    "line.render()\n"
   ],
   "metadata": {
    "collapsed": false,
    "pycharm": {
     "name": "#%%\n"
    }
   }
  },
  {
   "cell_type": "markdown",
   "source": [
    "* 评分映射\n"
   ],
   "metadata": {
    "collapsed": false,
    "pycharm": {
     "name": "#%% md\n"
    }
   }
  },
  {
   "cell_type": "code",
   "execution_count": 78,
   "outputs": [],
   "source": [
    "#得到线性方程的系数\n",
    "coef_ = lr_model.coef_.tolist()[0]\n",
    "#feature_lst = ['person_info','finance_info','credit_info','act_info']\n",
    "def score(x):\n",
    "    lr_result = x['person_info'] * coef_[0] + x['finance_info'] * coef_[1] + x['credit_info'] * coef_[2] + x['act_info'] * coef_[3]\n",
    "    score = 600 + 50 * lr_result/math.log(2)\n",
    "    return score"
   ],
   "metadata": {
    "collapsed": false,
    "pycharm": {
     "name": "#%%\n"
    }
   }
  },
  {
   "cell_type": "code",
   "execution_count": 79,
   "outputs": [
    {
     "name": "stderr",
     "output_type": "stream",
     "text": [
      "<ipython-input-79-02ff7566906d>:1: SettingWithCopyWarning: \n",
      "A value is trying to be set on a copy of a slice from a DataFrame.\n",
      "Try using .loc[row_indexer,col_indexer] = value instead\n",
      "\n",
      "See the caveats in the documentation: https://pandas.pydata.org/pandas-docs/stable/user_guide/indexing.html#returning-a-view-versus-a-copy\n",
      "  val['score'] = val.apply(lambda x:score(x),axis=1)\n"
     ]
    },
    {
     "data": {
      "text/plain": "          obs_mth  bad_ind                     uid  td_score  jxl_score  \\\n79831  2018-11-30      0.0               A10002345  0.123276   0.872117   \n79832  2018-11-30      0.0               A10003755  0.462460   0.157643   \n79833  2018-11-30      0.0                A1000756  0.812642   0.400040   \n79834  2018-11-30      0.0                 A100085  0.007039   0.396036   \n79835  2018-11-30      0.0               A10008856  0.078063   0.291289   \n...           ...      ...                     ...       ...        ...   \n95801  2018-11-30      0.0  Ab99_96436391998107976  0.890233   0.442687   \n95802  2018-11-30      0.0  Ab99_96436391998176292  0.161840   0.495766   \n95803  2018-11-30      0.0  Ab99_96436391998322771  0.746522   0.732739   \n95804  2018-11-30      0.0  Ab99_96436391998973383  0.176846   0.749610   \n95805  2018-11-30      0.0  Ab99_96436392001380983  0.417920   0.650343   \n\n       mj_score  rh_score  zzc_score  zcx_score  person_info  finance_info  \\\n79831  0.723560  0.759074   0.184735   0.080376    -0.053718      0.047619   \n79832  0.762271  0.481466   0.967006   0.780087     0.013863      0.023810   \n79833  0.280942  0.099454   0.942880   0.588936     0.078853      0.023810   \n79834  0.857868  0.882255   0.345511   0.419969    -0.053718      0.047619   \n79835  0.654864  0.528708   0.754482   0.732534     0.013863      0.023810   \n...         ...       ...        ...        ...          ...           ...   \n95801  0.802687  0.776982   0.638971   0.605522     0.078853      0.142857   \n95802  0.085750  0.536738   0.596144   0.132972     0.078853      0.023810   \n95803  0.025475  0.831805   0.642904   0.029297     0.078853      0.023810   \n95804  0.933879  0.506921   0.867099   0.751643     0.078853      0.023810   \n95805  0.985863  0.374100   0.330634   0.596833     0.078853      0.071429   \n\n       credit_info  act_info       score  \n79831         1.00  0.230769  717.590397  \n79832         0.00  0.230769  586.261231  \n79833         0.02  0.474359  575.431888  \n79834         0.02  0.666667  539.433441  \n79835         0.00  0.230769  586.261231  \n...            ...       ...         ...  \n95801         0.25  0.076923  685.969778  \n95802         0.00  0.076923  613.814845  \n95803         0.00  0.076923  613.814845  \n95804         0.02  0.076923  616.530779  \n95805         0.62  0.076923  713.291095  \n\n[15975 rows x 14 columns]",
      "text/html": "<div>\n<style scoped>\n    .dataframe tbody tr th:only-of-type {\n        vertical-align: middle;\n    }\n\n    .dataframe tbody tr th {\n        vertical-align: top;\n    }\n\n    .dataframe thead th {\n        text-align: right;\n    }\n</style>\n<table border=\"1\" class=\"dataframe\">\n  <thead>\n    <tr style=\"text-align: right;\">\n      <th></th>\n      <th>obs_mth</th>\n      <th>bad_ind</th>\n      <th>uid</th>\n      <th>td_score</th>\n      <th>jxl_score</th>\n      <th>mj_score</th>\n      <th>rh_score</th>\n      <th>zzc_score</th>\n      <th>zcx_score</th>\n      <th>person_info</th>\n      <th>finance_info</th>\n      <th>credit_info</th>\n      <th>act_info</th>\n      <th>score</th>\n    </tr>\n  </thead>\n  <tbody>\n    <tr>\n      <th>79831</th>\n      <td>2018-11-30</td>\n      <td>0.0</td>\n      <td>A10002345</td>\n      <td>0.123276</td>\n      <td>0.872117</td>\n      <td>0.723560</td>\n      <td>0.759074</td>\n      <td>0.184735</td>\n      <td>0.080376</td>\n      <td>-0.053718</td>\n      <td>0.047619</td>\n      <td>1.00</td>\n      <td>0.230769</td>\n      <td>717.590397</td>\n    </tr>\n    <tr>\n      <th>79832</th>\n      <td>2018-11-30</td>\n      <td>0.0</td>\n      <td>A10003755</td>\n      <td>0.462460</td>\n      <td>0.157643</td>\n      <td>0.762271</td>\n      <td>0.481466</td>\n      <td>0.967006</td>\n      <td>0.780087</td>\n      <td>0.013863</td>\n      <td>0.023810</td>\n      <td>0.00</td>\n      <td>0.230769</td>\n      <td>586.261231</td>\n    </tr>\n    <tr>\n      <th>79833</th>\n      <td>2018-11-30</td>\n      <td>0.0</td>\n      <td>A1000756</td>\n      <td>0.812642</td>\n      <td>0.400040</td>\n      <td>0.280942</td>\n      <td>0.099454</td>\n      <td>0.942880</td>\n      <td>0.588936</td>\n      <td>0.078853</td>\n      <td>0.023810</td>\n      <td>0.02</td>\n      <td>0.474359</td>\n      <td>575.431888</td>\n    </tr>\n    <tr>\n      <th>79834</th>\n      <td>2018-11-30</td>\n      <td>0.0</td>\n      <td>A100085</td>\n      <td>0.007039</td>\n      <td>0.396036</td>\n      <td>0.857868</td>\n      <td>0.882255</td>\n      <td>0.345511</td>\n      <td>0.419969</td>\n      <td>-0.053718</td>\n      <td>0.047619</td>\n      <td>0.02</td>\n      <td>0.666667</td>\n      <td>539.433441</td>\n    </tr>\n    <tr>\n      <th>79835</th>\n      <td>2018-11-30</td>\n      <td>0.0</td>\n      <td>A10008856</td>\n      <td>0.078063</td>\n      <td>0.291289</td>\n      <td>0.654864</td>\n      <td>0.528708</td>\n      <td>0.754482</td>\n      <td>0.732534</td>\n      <td>0.013863</td>\n      <td>0.023810</td>\n      <td>0.00</td>\n      <td>0.230769</td>\n      <td>586.261231</td>\n    </tr>\n    <tr>\n      <th>...</th>\n      <td>...</td>\n      <td>...</td>\n      <td>...</td>\n      <td>...</td>\n      <td>...</td>\n      <td>...</td>\n      <td>...</td>\n      <td>...</td>\n      <td>...</td>\n      <td>...</td>\n      <td>...</td>\n      <td>...</td>\n      <td>...</td>\n      <td>...</td>\n    </tr>\n    <tr>\n      <th>95801</th>\n      <td>2018-11-30</td>\n      <td>0.0</td>\n      <td>Ab99_96436391998107976</td>\n      <td>0.890233</td>\n      <td>0.442687</td>\n      <td>0.802687</td>\n      <td>0.776982</td>\n      <td>0.638971</td>\n      <td>0.605522</td>\n      <td>0.078853</td>\n      <td>0.142857</td>\n      <td>0.25</td>\n      <td>0.076923</td>\n      <td>685.969778</td>\n    </tr>\n    <tr>\n      <th>95802</th>\n      <td>2018-11-30</td>\n      <td>0.0</td>\n      <td>Ab99_96436391998176292</td>\n      <td>0.161840</td>\n      <td>0.495766</td>\n      <td>0.085750</td>\n      <td>0.536738</td>\n      <td>0.596144</td>\n      <td>0.132972</td>\n      <td>0.078853</td>\n      <td>0.023810</td>\n      <td>0.00</td>\n      <td>0.076923</td>\n      <td>613.814845</td>\n    </tr>\n    <tr>\n      <th>95803</th>\n      <td>2018-11-30</td>\n      <td>0.0</td>\n      <td>Ab99_96436391998322771</td>\n      <td>0.746522</td>\n      <td>0.732739</td>\n      <td>0.025475</td>\n      <td>0.831805</td>\n      <td>0.642904</td>\n      <td>0.029297</td>\n      <td>0.078853</td>\n      <td>0.023810</td>\n      <td>0.00</td>\n      <td>0.076923</td>\n      <td>613.814845</td>\n    </tr>\n    <tr>\n      <th>95804</th>\n      <td>2018-11-30</td>\n      <td>0.0</td>\n      <td>Ab99_96436391998973383</td>\n      <td>0.176846</td>\n      <td>0.749610</td>\n      <td>0.933879</td>\n      <td>0.506921</td>\n      <td>0.867099</td>\n      <td>0.751643</td>\n      <td>0.078853</td>\n      <td>0.023810</td>\n      <td>0.02</td>\n      <td>0.076923</td>\n      <td>616.530779</td>\n    </tr>\n    <tr>\n      <th>95805</th>\n      <td>2018-11-30</td>\n      <td>0.0</td>\n      <td>Ab99_96436392001380983</td>\n      <td>0.417920</td>\n      <td>0.650343</td>\n      <td>0.985863</td>\n      <td>0.374100</td>\n      <td>0.330634</td>\n      <td>0.596833</td>\n      <td>0.078853</td>\n      <td>0.071429</td>\n      <td>0.62</td>\n      <td>0.076923</td>\n      <td>713.291095</td>\n    </tr>\n  </tbody>\n</table>\n<p>15975 rows × 14 columns</p>\n</div>"
     },
     "execution_count": 79,
     "metadata": {},
     "output_type": "execute_result"
    }
   ],
   "source": [
    "#这本质上就是在做预测\n",
    "val['score'] = val.apply(lambda x:score(x),axis=1)\n",
    "val"
   ],
   "metadata": {
    "collapsed": false,
    "pycharm": {
     "name": "#%%\n"
    }
   }
  },
  {
   "cell_type": "code",
   "execution_count": 80,
   "outputs": [
    {
     "data": {
      "text/plain": "0.3928959732014397"
     },
     "execution_count": 80,
     "metadata": {},
     "output_type": "execute_result"
    }
   ],
   "source": [
    "fpr,tpr, _ = roc_curve(val_y,val['score'])\n",
    "val_ks = abs(fpr - tpr).max()\n",
    "val_ks"
   ],
   "metadata": {
    "collapsed": false,
    "pycharm": {
     "name": "#%%\n"
    }
   }
  },
  {
   "cell_type": "code",
   "execution_count": 81,
   "outputs": [],
   "source": [
    "#根据评分来给用户分级别，实现类似于芝麻信用分（京东小白分）的效果\n",
    "def level(score):\n",
    "    level = 0\n",
    "    if score <= 550:\n",
    "        level = \"D\"\n",
    "    elif score <= 600 and score > 550 :\n",
    "        level = \"C\"\n",
    "    elif score <= 620 and score > 600:\n",
    "        level = \"B\"\n",
    "    elif  score > 620 :\n",
    "        level = \"A\"\n",
    "    return level"
   ],
   "metadata": {
    "collapsed": false,
    "pycharm": {
     "name": "#%%\n"
    }
   }
  },
  {
   "cell_type": "code",
   "execution_count": 82,
   "outputs": [
    {
     "name": "stderr",
     "output_type": "stream",
     "text": [
      "<ipython-input-82-09ed1dc12c28>:1: SettingWithCopyWarning: \n",
      "A value is trying to be set on a copy of a slice from a DataFrame.\n",
      "Try using .loc[row_indexer,col_indexer] = value instead\n",
      "\n",
      "See the caveats in the documentation: https://pandas.pydata.org/pandas-docs/stable/user_guide/indexing.html#returning-a-view-versus-a-copy\n",
      "  val['level'] = val['score'].apply(lambda x:level(x))\n"
     ]
    },
    {
     "data": {
      "text/plain": "          obs_mth  bad_ind                     uid  td_score  jxl_score  \\\n79831  2018-11-30      0.0               A10002345  0.123276   0.872117   \n79832  2018-11-30      0.0               A10003755  0.462460   0.157643   \n79833  2018-11-30      0.0                A1000756  0.812642   0.400040   \n79834  2018-11-30      0.0                 A100085  0.007039   0.396036   \n79835  2018-11-30      0.0               A10008856  0.078063   0.291289   \n...           ...      ...                     ...       ...        ...   \n95801  2018-11-30      0.0  Ab99_96436391998107976  0.890233   0.442687   \n95802  2018-11-30      0.0  Ab99_96436391998176292  0.161840   0.495766   \n95803  2018-11-30      0.0  Ab99_96436391998322771  0.746522   0.732739   \n95804  2018-11-30      0.0  Ab99_96436391998973383  0.176846   0.749610   \n95805  2018-11-30      0.0  Ab99_96436392001380983  0.417920   0.650343   \n\n       mj_score  rh_score  zzc_score  zcx_score  person_info  finance_info  \\\n79831  0.723560  0.759074   0.184735   0.080376    -0.053718      0.047619   \n79832  0.762271  0.481466   0.967006   0.780087     0.013863      0.023810   \n79833  0.280942  0.099454   0.942880   0.588936     0.078853      0.023810   \n79834  0.857868  0.882255   0.345511   0.419969    -0.053718      0.047619   \n79835  0.654864  0.528708   0.754482   0.732534     0.013863      0.023810   \n...         ...       ...        ...        ...          ...           ...   \n95801  0.802687  0.776982   0.638971   0.605522     0.078853      0.142857   \n95802  0.085750  0.536738   0.596144   0.132972     0.078853      0.023810   \n95803  0.025475  0.831805   0.642904   0.029297     0.078853      0.023810   \n95804  0.933879  0.506921   0.867099   0.751643     0.078853      0.023810   \n95805  0.985863  0.374100   0.330634   0.596833     0.078853      0.071429   \n\n       credit_info  act_info       score level  \n79831         1.00  0.230769  717.590397     A  \n79832         0.00  0.230769  586.261231     C  \n79833         0.02  0.474359  575.431888     C  \n79834         0.02  0.666667  539.433441     D  \n79835         0.00  0.230769  586.261231     C  \n...            ...       ...         ...   ...  \n95801         0.25  0.076923  685.969778     A  \n95802         0.00  0.076923  613.814845     B  \n95803         0.00  0.076923  613.814845     B  \n95804         0.02  0.076923  616.530779     B  \n95805         0.62  0.076923  713.291095     A  \n\n[15975 rows x 15 columns]",
      "text/html": "<div>\n<style scoped>\n    .dataframe tbody tr th:only-of-type {\n        vertical-align: middle;\n    }\n\n    .dataframe tbody tr th {\n        vertical-align: top;\n    }\n\n    .dataframe thead th {\n        text-align: right;\n    }\n</style>\n<table border=\"1\" class=\"dataframe\">\n  <thead>\n    <tr style=\"text-align: right;\">\n      <th></th>\n      <th>obs_mth</th>\n      <th>bad_ind</th>\n      <th>uid</th>\n      <th>td_score</th>\n      <th>jxl_score</th>\n      <th>mj_score</th>\n      <th>rh_score</th>\n      <th>zzc_score</th>\n      <th>zcx_score</th>\n      <th>person_info</th>\n      <th>finance_info</th>\n      <th>credit_info</th>\n      <th>act_info</th>\n      <th>score</th>\n      <th>level</th>\n    </tr>\n  </thead>\n  <tbody>\n    <tr>\n      <th>79831</th>\n      <td>2018-11-30</td>\n      <td>0.0</td>\n      <td>A10002345</td>\n      <td>0.123276</td>\n      <td>0.872117</td>\n      <td>0.723560</td>\n      <td>0.759074</td>\n      <td>0.184735</td>\n      <td>0.080376</td>\n      <td>-0.053718</td>\n      <td>0.047619</td>\n      <td>1.00</td>\n      <td>0.230769</td>\n      <td>717.590397</td>\n      <td>A</td>\n    </tr>\n    <tr>\n      <th>79832</th>\n      <td>2018-11-30</td>\n      <td>0.0</td>\n      <td>A10003755</td>\n      <td>0.462460</td>\n      <td>0.157643</td>\n      <td>0.762271</td>\n      <td>0.481466</td>\n      <td>0.967006</td>\n      <td>0.780087</td>\n      <td>0.013863</td>\n      <td>0.023810</td>\n      <td>0.00</td>\n      <td>0.230769</td>\n      <td>586.261231</td>\n      <td>C</td>\n    </tr>\n    <tr>\n      <th>79833</th>\n      <td>2018-11-30</td>\n      <td>0.0</td>\n      <td>A1000756</td>\n      <td>0.812642</td>\n      <td>0.400040</td>\n      <td>0.280942</td>\n      <td>0.099454</td>\n      <td>0.942880</td>\n      <td>0.588936</td>\n      <td>0.078853</td>\n      <td>0.023810</td>\n      <td>0.02</td>\n      <td>0.474359</td>\n      <td>575.431888</td>\n      <td>C</td>\n    </tr>\n    <tr>\n      <th>79834</th>\n      <td>2018-11-30</td>\n      <td>0.0</td>\n      <td>A100085</td>\n      <td>0.007039</td>\n      <td>0.396036</td>\n      <td>0.857868</td>\n      <td>0.882255</td>\n      <td>0.345511</td>\n      <td>0.419969</td>\n      <td>-0.053718</td>\n      <td>0.047619</td>\n      <td>0.02</td>\n      <td>0.666667</td>\n      <td>539.433441</td>\n      <td>D</td>\n    </tr>\n    <tr>\n      <th>79835</th>\n      <td>2018-11-30</td>\n      <td>0.0</td>\n      <td>A10008856</td>\n      <td>0.078063</td>\n      <td>0.291289</td>\n      <td>0.654864</td>\n      <td>0.528708</td>\n      <td>0.754482</td>\n      <td>0.732534</td>\n      <td>0.013863</td>\n      <td>0.023810</td>\n      <td>0.00</td>\n      <td>0.230769</td>\n      <td>586.261231</td>\n      <td>C</td>\n    </tr>\n    <tr>\n      <th>...</th>\n      <td>...</td>\n      <td>...</td>\n      <td>...</td>\n      <td>...</td>\n      <td>...</td>\n      <td>...</td>\n      <td>...</td>\n      <td>...</td>\n      <td>...</td>\n      <td>...</td>\n      <td>...</td>\n      <td>...</td>\n      <td>...</td>\n      <td>...</td>\n      <td>...</td>\n    </tr>\n    <tr>\n      <th>95801</th>\n      <td>2018-11-30</td>\n      <td>0.0</td>\n      <td>Ab99_96436391998107976</td>\n      <td>0.890233</td>\n      <td>0.442687</td>\n      <td>0.802687</td>\n      <td>0.776982</td>\n      <td>0.638971</td>\n      <td>0.605522</td>\n      <td>0.078853</td>\n      <td>0.142857</td>\n      <td>0.25</td>\n      <td>0.076923</td>\n      <td>685.969778</td>\n      <td>A</td>\n    </tr>\n    <tr>\n      <th>95802</th>\n      <td>2018-11-30</td>\n      <td>0.0</td>\n      <td>Ab99_96436391998176292</td>\n      <td>0.161840</td>\n      <td>0.495766</td>\n      <td>0.085750</td>\n      <td>0.536738</td>\n      <td>0.596144</td>\n      <td>0.132972</td>\n      <td>0.078853</td>\n      <td>0.023810</td>\n      <td>0.00</td>\n      <td>0.076923</td>\n      <td>613.814845</td>\n      <td>B</td>\n    </tr>\n    <tr>\n      <th>95803</th>\n      <td>2018-11-30</td>\n      <td>0.0</td>\n      <td>Ab99_96436391998322771</td>\n      <td>0.746522</td>\n      <td>0.732739</td>\n      <td>0.025475</td>\n      <td>0.831805</td>\n      <td>0.642904</td>\n      <td>0.029297</td>\n      <td>0.078853</td>\n      <td>0.023810</td>\n      <td>0.00</td>\n      <td>0.076923</td>\n      <td>613.814845</td>\n      <td>B</td>\n    </tr>\n    <tr>\n      <th>95804</th>\n      <td>2018-11-30</td>\n      <td>0.0</td>\n      <td>Ab99_96436391998973383</td>\n      <td>0.176846</td>\n      <td>0.749610</td>\n      <td>0.933879</td>\n      <td>0.506921</td>\n      <td>0.867099</td>\n      <td>0.751643</td>\n      <td>0.078853</td>\n      <td>0.023810</td>\n      <td>0.02</td>\n      <td>0.076923</td>\n      <td>616.530779</td>\n      <td>B</td>\n    </tr>\n    <tr>\n      <th>95805</th>\n      <td>2018-11-30</td>\n      <td>0.0</td>\n      <td>Ab99_96436392001380983</td>\n      <td>0.417920</td>\n      <td>0.650343</td>\n      <td>0.985863</td>\n      <td>0.374100</td>\n      <td>0.330634</td>\n      <td>0.596833</td>\n      <td>0.078853</td>\n      <td>0.071429</td>\n      <td>0.62</td>\n      <td>0.076923</td>\n      <td>713.291095</td>\n      <td>A</td>\n    </tr>\n  </tbody>\n</table>\n<p>15975 rows × 15 columns</p>\n</div>"
     },
     "execution_count": 82,
     "metadata": {},
     "output_type": "execute_result"
    }
   ],
   "source": [
    "val['level'] = val['score'].apply(lambda x:level(x))\n",
    "val"
   ],
   "metadata": {
    "collapsed": false,
    "pycharm": {
     "name": "#%%\n"
    }
   }
  },
  {
   "cell_type": "code",
   "execution_count": 87,
   "outputs": [
    {
     "data": {
      "text/plain": "C    0.318185\nB    0.248951\nA    0.234930\nD    0.197934\nName: level, dtype: float64"
     },
     "execution_count": 87,
     "metadata": {},
     "output_type": "execute_result"
    }
   ],
   "source": [
    "#统计总的数量\n",
    "#val['level'].value_counts()\n",
    "#总计总的概率\n",
    "val['level'].value_counts(1)"
   ],
   "metadata": {
    "collapsed": false,
    "pycharm": {
     "name": "#%%\n"
    }
   }
  },
  {
   "cell_type": "code",
   "execution_count": 85,
   "outputs": [
    {
     "data": {
      "text/plain": "level\nA    0.234930\nB    0.248951\nC    0.318185\nD    0.197934\nName: level, dtype: float64"
     },
     "execution_count": 85,
     "metadata": {},
     "output_type": "execute_result"
    }
   ],
   "source": [
    "#手动实现概率统计\n",
    "val['level'].groupby(val['level']).count()/len(val)"
   ],
   "metadata": {
    "collapsed": false,
    "pycharm": {
     "name": "#%%\n"
    }
   }
  },
  {
   "cell_type": "code",
   "execution_count": null,
   "outputs": [],
   "source": [],
   "metadata": {
    "collapsed": false,
    "pycharm": {
     "name": "#%%\n"
    }
   }
  }
 ],
 "metadata": {
  "kernelspec": {
   "display_name": "Python 3",
   "language": "python",
   "name": "python3"
  },
  "language_info": {
   "codemirror_mode": {
    "name": "ipython",
    "version": 2
   },
   "file_extension": ".py",
   "mimetype": "text/x-python",
   "name": "python",
   "nbconvert_exporter": "python",
   "pygments_lexer": "ipython2",
   "version": "2.7.6"
  }
 },
 "nbformat": 4,
 "nbformat_minor": 0
}