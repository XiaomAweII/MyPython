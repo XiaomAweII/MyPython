{
 "cells": [
  {
   "cell_type": "markdown",
   "source": [
    "* VIF(方差膨胀系数)"
   ],
   "metadata": {
    "collapsed": false,
    "pycharm": {
     "name": "#%% md\n"
    }
   }
  },
  {
   "cell_type": "code",
   "execution_count": 1,
   "metadata": {
    "collapsed": true
   },
   "outputs": [],
   "source": [
    "import numpy as np\n",
    "import pandas as pd\n",
    "import joblib\n",
    "from statsmodels.stats.outliers_influence import variance_inflation_factor"
   ]
  },
  {
   "cell_type": "code",
   "execution_count": 2,
   "outputs": [
    {
     "data": {
      "text/plain": "        SK_ID_CURR  TARGET  AMT_GOODS_PRICE  REGION_POPULATION_RELATIVE  \\\n125406      245429       0         0.610118                    0.016406   \n8155        109510       0        -0.366495                   -0.410334   \n154053      278546       0         0.038650                    0.016406   \n300963      448668       0        -0.366495                   -0.158446   \n269546      412373       0        -0.366495                   -0.410334   \n...            ...     ...              ...                         ...   \n298994      446376       0        -0.050233                    0.016406   \n269429      412242       0        -0.050233                    0.016406   \n16          100020       0         0.268859                    0.268275   \n97169       212804       0         0.038650                    0.016406   \n90581       205165       0        -0.050233                   -0.043274   \n\n        DAYS_BIRTH  DAYS_EMPLOYED  DAYS_REGISTRATION  DAYS_ID_PUBLISH  \\\n125406    0.301190       0.092078          -0.099822         0.275679   \n8155     -0.440745      -0.608958           0.164707         0.193847   \n154053    0.301190       0.371651           0.075169         0.060654   \n300963    0.301190      -0.171601           0.075169        -0.057870   \n269546   -0.051704      -0.171601          -0.099822        -0.297834   \n...            ...            ...                ...              ...   \n298994   -0.440745      -0.451249          -0.377708        -0.297834   \n269429   -0.440745       0.253381           0.075169         0.060654   \n16        0.301190       0.253381          -0.099822        -0.057870   \n97169    -0.440745      -0.451249           0.075169        -0.057870   \n90581     0.301190       0.092078           0.075169         0.060654   \n\n        REGION_RATING_CLIENT_W_CITY  REG_CITY_NOT_LIVE_CITY  ...  \\\n125406                    -0.020586               -0.048048  ...   \n8155                      -0.536494               -0.048048  ...   \n154053                    -0.020586               -0.048048  ...   \n300963                    -0.020586               -0.048048  ...   \n269546                    -0.536494               -0.048048  ...   \n...                             ...                     ...  ...   \n298994                    -0.020586               -0.048048  ...   \n269429                    -0.020586               -0.048048  ...   \n16                        -0.020586                0.459100  ...   \n97169                     -0.536494               -0.048048  ...   \n90581                     -0.020586               -0.048048  ...   \n\n        p_NAME_SELLER_INDUSTRY_Connectivity  p_NAME_YIELD_GROUP_XNA  \\\n125406                             0.053257                0.383810   \n8155                              -0.065479               -0.090837   \n154053                            -0.065479               -0.090837   \n300963                            -0.065479               -0.090837   \n269546                             0.053257               -0.090837   \n...                                     ...                     ...   \n298994                             0.053257               -0.040815   \n269429                            -0.065479               -0.090837   \n16                                -0.065479               -0.090837   \n97169                             -0.065479               -0.090837   \n90581                             -0.065479               -0.090837   \n\n        p_NAME_YIELD_GROUP_high  p_NAME_YIELD_GROUP_low_action  \\\n125406                 0.065650                       0.073290   \n8155                  -0.132787                       0.073290   \n154053                -0.132787                      -0.316556   \n300963                -0.132787                      -0.316556   \n269546                 0.110022                      -0.152116   \n...                         ...                            ...   \n298994                 0.110022                       0.073290   \n269429                -0.132787                       0.073290   \n16                     0.110022                       0.073290   \n97169                  0.110022                       0.073290   \n90581                 -0.132787                       0.073290   \n\n        p_NAME_YIELD_GROUP_low_normal  p_PRODUCT_COMBINATION_Card Street  \\\n125406                       0.164891                          -0.063697   \n8155                        -0.241145                          -0.063697   \n154053                      -0.241145                          -0.063697   \n300963                       0.164891                          -0.063697   \n269546                       0.164891                          -0.063697   \n...                               ...                                ...   \n298994                      -0.241145                          -0.063697   \n269429                       0.164891                          -0.063697   \n16                           0.164891                          -0.063697   \n97169                        0.164891                          -0.063697   \n90581                        0.164891                          -0.063697   \n\n        p_PRODUCT_COMBINATION_Cash Street: high  \\\n125406                                -0.028915   \n8155                                  -0.028915   \n154053                                -0.028915   \n300963                                -0.028915   \n269546                                -0.028915   \n...                                         ...   \n298994                                -0.028915   \n269429                                -0.028915   \n16                                    -0.028915   \n97169                                 -0.028915   \n90581                                 -0.028915   \n\n        p_PRODUCT_COMBINATION_Cash X-Sell: high  \\\n125406                                -0.033661   \n8155                                  -0.033661   \n154053                                -0.033661   \n300963                                -0.033661   \n269546                                -0.033661   \n...                                         ...   \n298994                                -0.033661   \n269429                                -0.033661   \n16                                    -0.033661   \n97169                                 -0.033661   \n90581                                 -0.033661   \n\n        p_PRODUCT_COMBINATION_Cash X-Sell: low  \\\n125406                                0.083527   \n8155                                  0.083527   \n154053                                0.083527   \n300963                                0.083527   \n269546                               -0.239387   \n...                                        ...   \n298994                                0.083527   \n269429                                0.083527   \n16                                    0.083527   \n97169                                 0.083527   \n90581                                 0.083527   \n\n        p_PRODUCT_COMBINATION_POS industry with interest  \n125406                                         -0.065841  \n8155                                           -0.348529  \n154053                                         -0.348529  \n300963                                         -0.348529  \n269546                                          0.084509  \n...                                                  ...  \n298994                                          0.084509  \n269429                                         -0.348529  \n16                                              0.084509  \n97169                                           0.084509  \n90581                                          -0.348529  \n\n[215257 rows x 79 columns]",
      "text/html": "<div>\n<style scoped>\n    .dataframe tbody tr th:only-of-type {\n        vertical-align: middle;\n    }\n\n    .dataframe tbody tr th {\n        vertical-align: top;\n    }\n\n    .dataframe thead th {\n        text-align: right;\n    }\n</style>\n<table border=\"1\" class=\"dataframe\">\n  <thead>\n    <tr style=\"text-align: right;\">\n      <th></th>\n      <th>SK_ID_CURR</th>\n      <th>TARGET</th>\n      <th>AMT_GOODS_PRICE</th>\n      <th>REGION_POPULATION_RELATIVE</th>\n      <th>DAYS_BIRTH</th>\n      <th>DAYS_EMPLOYED</th>\n      <th>DAYS_REGISTRATION</th>\n      <th>DAYS_ID_PUBLISH</th>\n      <th>REGION_RATING_CLIENT_W_CITY</th>\n      <th>REG_CITY_NOT_LIVE_CITY</th>\n      <th>...</th>\n      <th>p_NAME_SELLER_INDUSTRY_Connectivity</th>\n      <th>p_NAME_YIELD_GROUP_XNA</th>\n      <th>p_NAME_YIELD_GROUP_high</th>\n      <th>p_NAME_YIELD_GROUP_low_action</th>\n      <th>p_NAME_YIELD_GROUP_low_normal</th>\n      <th>p_PRODUCT_COMBINATION_Card Street</th>\n      <th>p_PRODUCT_COMBINATION_Cash Street: high</th>\n      <th>p_PRODUCT_COMBINATION_Cash X-Sell: high</th>\n      <th>p_PRODUCT_COMBINATION_Cash X-Sell: low</th>\n      <th>p_PRODUCT_COMBINATION_POS industry with interest</th>\n    </tr>\n  </thead>\n  <tbody>\n    <tr>\n      <th>125406</th>\n      <td>245429</td>\n      <td>0</td>\n      <td>0.610118</td>\n      <td>0.016406</td>\n      <td>0.301190</td>\n      <td>0.092078</td>\n      <td>-0.099822</td>\n      <td>0.275679</td>\n      <td>-0.020586</td>\n      <td>-0.048048</td>\n      <td>...</td>\n      <td>0.053257</td>\n      <td>0.383810</td>\n      <td>0.065650</td>\n      <td>0.073290</td>\n      <td>0.164891</td>\n      <td>-0.063697</td>\n      <td>-0.028915</td>\n      <td>-0.033661</td>\n      <td>0.083527</td>\n      <td>-0.065841</td>\n    </tr>\n    <tr>\n      <th>8155</th>\n      <td>109510</td>\n      <td>0</td>\n      <td>-0.366495</td>\n      <td>-0.410334</td>\n      <td>-0.440745</td>\n      <td>-0.608958</td>\n      <td>0.164707</td>\n      <td>0.193847</td>\n      <td>-0.536494</td>\n      <td>-0.048048</td>\n      <td>...</td>\n      <td>-0.065479</td>\n      <td>-0.090837</td>\n      <td>-0.132787</td>\n      <td>0.073290</td>\n      <td>-0.241145</td>\n      <td>-0.063697</td>\n      <td>-0.028915</td>\n      <td>-0.033661</td>\n      <td>0.083527</td>\n      <td>-0.348529</td>\n    </tr>\n    <tr>\n      <th>154053</th>\n      <td>278546</td>\n      <td>0</td>\n      <td>0.038650</td>\n      <td>0.016406</td>\n      <td>0.301190</td>\n      <td>0.371651</td>\n      <td>0.075169</td>\n      <td>0.060654</td>\n      <td>-0.020586</td>\n      <td>-0.048048</td>\n      <td>...</td>\n      <td>-0.065479</td>\n      <td>-0.090837</td>\n      <td>-0.132787</td>\n      <td>-0.316556</td>\n      <td>-0.241145</td>\n      <td>-0.063697</td>\n      <td>-0.028915</td>\n      <td>-0.033661</td>\n      <td>0.083527</td>\n      <td>-0.348529</td>\n    </tr>\n    <tr>\n      <th>300963</th>\n      <td>448668</td>\n      <td>0</td>\n      <td>-0.366495</td>\n      <td>-0.158446</td>\n      <td>0.301190</td>\n      <td>-0.171601</td>\n      <td>0.075169</td>\n      <td>-0.057870</td>\n      <td>-0.020586</td>\n      <td>-0.048048</td>\n      <td>...</td>\n      <td>-0.065479</td>\n      <td>-0.090837</td>\n      <td>-0.132787</td>\n      <td>-0.316556</td>\n      <td>0.164891</td>\n      <td>-0.063697</td>\n      <td>-0.028915</td>\n      <td>-0.033661</td>\n      <td>0.083527</td>\n      <td>-0.348529</td>\n    </tr>\n    <tr>\n      <th>269546</th>\n      <td>412373</td>\n      <td>0</td>\n      <td>-0.366495</td>\n      <td>-0.410334</td>\n      <td>-0.051704</td>\n      <td>-0.171601</td>\n      <td>-0.099822</td>\n      <td>-0.297834</td>\n      <td>-0.536494</td>\n      <td>-0.048048</td>\n      <td>...</td>\n      <td>0.053257</td>\n      <td>-0.090837</td>\n      <td>0.110022</td>\n      <td>-0.152116</td>\n      <td>0.164891</td>\n      <td>-0.063697</td>\n      <td>-0.028915</td>\n      <td>-0.033661</td>\n      <td>-0.239387</td>\n      <td>0.084509</td>\n    </tr>\n    <tr>\n      <th>...</th>\n      <td>...</td>\n      <td>...</td>\n      <td>...</td>\n      <td>...</td>\n      <td>...</td>\n      <td>...</td>\n      <td>...</td>\n      <td>...</td>\n      <td>...</td>\n      <td>...</td>\n      <td>...</td>\n      <td>...</td>\n      <td>...</td>\n      <td>...</td>\n      <td>...</td>\n      <td>...</td>\n      <td>...</td>\n      <td>...</td>\n      <td>...</td>\n      <td>...</td>\n      <td>...</td>\n    </tr>\n    <tr>\n      <th>298994</th>\n      <td>446376</td>\n      <td>0</td>\n      <td>-0.050233</td>\n      <td>0.016406</td>\n      <td>-0.440745</td>\n      <td>-0.451249</td>\n      <td>-0.377708</td>\n      <td>-0.297834</td>\n      <td>-0.020586</td>\n      <td>-0.048048</td>\n      <td>...</td>\n      <td>0.053257</td>\n      <td>-0.040815</td>\n      <td>0.110022</td>\n      <td>0.073290</td>\n      <td>-0.241145</td>\n      <td>-0.063697</td>\n      <td>-0.028915</td>\n      <td>-0.033661</td>\n      <td>0.083527</td>\n      <td>0.084509</td>\n    </tr>\n    <tr>\n      <th>269429</th>\n      <td>412242</td>\n      <td>0</td>\n      <td>-0.050233</td>\n      <td>0.016406</td>\n      <td>-0.440745</td>\n      <td>0.253381</td>\n      <td>0.075169</td>\n      <td>0.060654</td>\n      <td>-0.020586</td>\n      <td>-0.048048</td>\n      <td>...</td>\n      <td>-0.065479</td>\n      <td>-0.090837</td>\n      <td>-0.132787</td>\n      <td>0.073290</td>\n      <td>0.164891</td>\n      <td>-0.063697</td>\n      <td>-0.028915</td>\n      <td>-0.033661</td>\n      <td>0.083527</td>\n      <td>-0.348529</td>\n    </tr>\n    <tr>\n      <th>16</th>\n      <td>100020</td>\n      <td>0</td>\n      <td>0.268859</td>\n      <td>0.268275</td>\n      <td>0.301190</td>\n      <td>0.253381</td>\n      <td>-0.099822</td>\n      <td>-0.057870</td>\n      <td>-0.020586</td>\n      <td>0.459100</td>\n      <td>...</td>\n      <td>-0.065479</td>\n      <td>-0.090837</td>\n      <td>0.110022</td>\n      <td>0.073290</td>\n      <td>0.164891</td>\n      <td>-0.063697</td>\n      <td>-0.028915</td>\n      <td>-0.033661</td>\n      <td>0.083527</td>\n      <td>0.084509</td>\n    </tr>\n    <tr>\n      <th>97169</th>\n      <td>212804</td>\n      <td>0</td>\n      <td>0.038650</td>\n      <td>0.016406</td>\n      <td>-0.440745</td>\n      <td>-0.451249</td>\n      <td>0.075169</td>\n      <td>-0.057870</td>\n      <td>-0.536494</td>\n      <td>-0.048048</td>\n      <td>...</td>\n      <td>-0.065479</td>\n      <td>-0.090837</td>\n      <td>0.110022</td>\n      <td>0.073290</td>\n      <td>0.164891</td>\n      <td>-0.063697</td>\n      <td>-0.028915</td>\n      <td>-0.033661</td>\n      <td>0.083527</td>\n      <td>0.084509</td>\n    </tr>\n    <tr>\n      <th>90581</th>\n      <td>205165</td>\n      <td>0</td>\n      <td>-0.050233</td>\n      <td>-0.043274</td>\n      <td>0.301190</td>\n      <td>0.092078</td>\n      <td>0.075169</td>\n      <td>0.060654</td>\n      <td>-0.020586</td>\n      <td>-0.048048</td>\n      <td>...</td>\n      <td>-0.065479</td>\n      <td>-0.090837</td>\n      <td>-0.132787</td>\n      <td>0.073290</td>\n      <td>0.164891</td>\n      <td>-0.063697</td>\n      <td>-0.028915</td>\n      <td>-0.033661</td>\n      <td>0.083527</td>\n      <td>-0.348529</td>\n    </tr>\n  </tbody>\n</table>\n<p>215257 rows × 79 columns</p>\n</div>"
     },
     "execution_count": 2,
     "metadata": {},
     "output_type": "execute_result"
    }
   ],
   "source": [
    "#加载数据\n",
    "pd_data = joblib.load(\"../data/train_woe.pkl\")\n",
    "pd_data"
   ],
   "metadata": {
    "collapsed": false,
    "pycharm": {
     "name": "#%%\n"
    }
   }
  },
  {
   "cell_type": "code",
   "execution_count": 4,
   "outputs": [
    {
     "data": {
      "text/plain": "        AMT_GOODS_PRICE  REGION_POPULATION_RELATIVE  DAYS_BIRTH  \\\n125406         0.610118                    0.016406    0.301190   \n8155          -0.366495                   -0.410334   -0.440745   \n154053         0.038650                    0.016406    0.301190   \n300963        -0.366495                   -0.158446    0.301190   \n269546        -0.366495                   -0.410334   -0.051704   \n...                 ...                         ...         ...   \n298994        -0.050233                    0.016406   -0.440745   \n269429        -0.050233                    0.016406   -0.440745   \n16             0.268859                    0.268275    0.301190   \n97169          0.038650                    0.016406   -0.440745   \n90581         -0.050233                   -0.043274    0.301190   \n\n        DAYS_EMPLOYED  DAYS_REGISTRATION  DAYS_ID_PUBLISH  \\\n125406       0.092078          -0.099822         0.275679   \n8155        -0.608958           0.164707         0.193847   \n154053       0.371651           0.075169         0.060654   \n300963      -0.171601           0.075169        -0.057870   \n269546      -0.171601          -0.099822        -0.297834   \n...               ...                ...              ...   \n298994      -0.451249          -0.377708        -0.297834   \n269429       0.253381           0.075169         0.060654   \n16           0.253381          -0.099822        -0.057870   \n97169       -0.451249           0.075169        -0.057870   \n90581        0.092078           0.075169         0.060654   \n\n        REGION_RATING_CLIENT_W_CITY  REG_CITY_NOT_LIVE_CITY  \\\n125406                    -0.020586               -0.048048   \n8155                      -0.536494               -0.048048   \n154053                    -0.020586               -0.048048   \n300963                    -0.020586               -0.048048   \n269546                    -0.536494               -0.048048   \n...                             ...                     ...   \n298994                    -0.020586               -0.048048   \n269429                    -0.020586               -0.048048   \n16                        -0.020586                0.459100   \n97169                     -0.536494               -0.048048   \n90581                     -0.020586               -0.048048   \n\n        REG_CITY_NOT_WORK_CITY  EXT_SOURCE_2  ...  \\\n125406               -0.109312     -0.194908  ...   \n8155                 -0.109312     -1.045357  ...   \n154053               -0.109312      0.357743  ...   \n300963               -0.109312      0.951342  ...   \n269546                0.306831     -0.194908  ...   \n...                        ...           ...  ...   \n298994               -0.109312     -1.045357  ...   \n269429               -0.109312      0.357743  ...   \n16                    0.306831      0.357743  ...   \n97169                -0.109312      0.013503  ...   \n90581                 0.306831     -0.533934  ...   \n\n        p_NAME_SELLER_INDUSTRY_Connectivity  p_NAME_YIELD_GROUP_XNA  \\\n125406                             0.053257                0.383810   \n8155                              -0.065479               -0.090837   \n154053                            -0.065479               -0.090837   \n300963                            -0.065479               -0.090837   \n269546                             0.053257               -0.090837   \n...                                     ...                     ...   \n298994                             0.053257               -0.040815   \n269429                            -0.065479               -0.090837   \n16                                -0.065479               -0.090837   \n97169                             -0.065479               -0.090837   \n90581                             -0.065479               -0.090837   \n\n        p_NAME_YIELD_GROUP_high  p_NAME_YIELD_GROUP_low_action  \\\n125406                 0.065650                       0.073290   \n8155                  -0.132787                       0.073290   \n154053                -0.132787                      -0.316556   \n300963                -0.132787                      -0.316556   \n269546                 0.110022                      -0.152116   \n...                         ...                            ...   \n298994                 0.110022                       0.073290   \n269429                -0.132787                       0.073290   \n16                     0.110022                       0.073290   \n97169                  0.110022                       0.073290   \n90581                 -0.132787                       0.073290   \n\n        p_NAME_YIELD_GROUP_low_normal  p_PRODUCT_COMBINATION_Card Street  \\\n125406                       0.164891                          -0.063697   \n8155                        -0.241145                          -0.063697   \n154053                      -0.241145                          -0.063697   \n300963                       0.164891                          -0.063697   \n269546                       0.164891                          -0.063697   \n...                               ...                                ...   \n298994                      -0.241145                          -0.063697   \n269429                       0.164891                          -0.063697   \n16                           0.164891                          -0.063697   \n97169                        0.164891                          -0.063697   \n90581                        0.164891                          -0.063697   \n\n        p_PRODUCT_COMBINATION_Cash Street: high  \\\n125406                                -0.028915   \n8155                                  -0.028915   \n154053                                -0.028915   \n300963                                -0.028915   \n269546                                -0.028915   \n...                                         ...   \n298994                                -0.028915   \n269429                                -0.028915   \n16                                    -0.028915   \n97169                                 -0.028915   \n90581                                 -0.028915   \n\n        p_PRODUCT_COMBINATION_Cash X-Sell: high  \\\n125406                                -0.033661   \n8155                                  -0.033661   \n154053                                -0.033661   \n300963                                -0.033661   \n269546                                -0.033661   \n...                                         ...   \n298994                                -0.033661   \n269429                                -0.033661   \n16                                    -0.033661   \n97169                                 -0.033661   \n90581                                 -0.033661   \n\n        p_PRODUCT_COMBINATION_Cash X-Sell: low  \\\n125406                                0.083527   \n8155                                  0.083527   \n154053                                0.083527   \n300963                                0.083527   \n269546                               -0.239387   \n...                                        ...   \n298994                                0.083527   \n269429                                0.083527   \n16                                    0.083527   \n97169                                 0.083527   \n90581                                 0.083527   \n\n        p_PRODUCT_COMBINATION_POS industry with interest  \n125406                                         -0.065841  \n8155                                           -0.348529  \n154053                                         -0.348529  \n300963                                         -0.348529  \n269546                                          0.084509  \n...                                                  ...  \n298994                                          0.084509  \n269429                                         -0.348529  \n16                                              0.084509  \n97169                                           0.084509  \n90581                                          -0.348529  \n\n[215257 rows x 77 columns]",
      "text/html": "<div>\n<style scoped>\n    .dataframe tbody tr th:only-of-type {\n        vertical-align: middle;\n    }\n\n    .dataframe tbody tr th {\n        vertical-align: top;\n    }\n\n    .dataframe thead th {\n        text-align: right;\n    }\n</style>\n<table border=\"1\" class=\"dataframe\">\n  <thead>\n    <tr style=\"text-align: right;\">\n      <th></th>\n      <th>AMT_GOODS_PRICE</th>\n      <th>REGION_POPULATION_RELATIVE</th>\n      <th>DAYS_BIRTH</th>\n      <th>DAYS_EMPLOYED</th>\n      <th>DAYS_REGISTRATION</th>\n      <th>DAYS_ID_PUBLISH</th>\n      <th>REGION_RATING_CLIENT_W_CITY</th>\n      <th>REG_CITY_NOT_LIVE_CITY</th>\n      <th>REG_CITY_NOT_WORK_CITY</th>\n      <th>EXT_SOURCE_2</th>\n      <th>...</th>\n      <th>p_NAME_SELLER_INDUSTRY_Connectivity</th>\n      <th>p_NAME_YIELD_GROUP_XNA</th>\n      <th>p_NAME_YIELD_GROUP_high</th>\n      <th>p_NAME_YIELD_GROUP_low_action</th>\n      <th>p_NAME_YIELD_GROUP_low_normal</th>\n      <th>p_PRODUCT_COMBINATION_Card Street</th>\n      <th>p_PRODUCT_COMBINATION_Cash Street: high</th>\n      <th>p_PRODUCT_COMBINATION_Cash X-Sell: high</th>\n      <th>p_PRODUCT_COMBINATION_Cash X-Sell: low</th>\n      <th>p_PRODUCT_COMBINATION_POS industry with interest</th>\n    </tr>\n  </thead>\n  <tbody>\n    <tr>\n      <th>125406</th>\n      <td>0.610118</td>\n      <td>0.016406</td>\n      <td>0.301190</td>\n      <td>0.092078</td>\n      <td>-0.099822</td>\n      <td>0.275679</td>\n      <td>-0.020586</td>\n      <td>-0.048048</td>\n      <td>-0.109312</td>\n      <td>-0.194908</td>\n      <td>...</td>\n      <td>0.053257</td>\n      <td>0.383810</td>\n      <td>0.065650</td>\n      <td>0.073290</td>\n      <td>0.164891</td>\n      <td>-0.063697</td>\n      <td>-0.028915</td>\n      <td>-0.033661</td>\n      <td>0.083527</td>\n      <td>-0.065841</td>\n    </tr>\n    <tr>\n      <th>8155</th>\n      <td>-0.366495</td>\n      <td>-0.410334</td>\n      <td>-0.440745</td>\n      <td>-0.608958</td>\n      <td>0.164707</td>\n      <td>0.193847</td>\n      <td>-0.536494</td>\n      <td>-0.048048</td>\n      <td>-0.109312</td>\n      <td>-1.045357</td>\n      <td>...</td>\n      <td>-0.065479</td>\n      <td>-0.090837</td>\n      <td>-0.132787</td>\n      <td>0.073290</td>\n      <td>-0.241145</td>\n      <td>-0.063697</td>\n      <td>-0.028915</td>\n      <td>-0.033661</td>\n      <td>0.083527</td>\n      <td>-0.348529</td>\n    </tr>\n    <tr>\n      <th>154053</th>\n      <td>0.038650</td>\n      <td>0.016406</td>\n      <td>0.301190</td>\n      <td>0.371651</td>\n      <td>0.075169</td>\n      <td>0.060654</td>\n      <td>-0.020586</td>\n      <td>-0.048048</td>\n      <td>-0.109312</td>\n      <td>0.357743</td>\n      <td>...</td>\n      <td>-0.065479</td>\n      <td>-0.090837</td>\n      <td>-0.132787</td>\n      <td>-0.316556</td>\n      <td>-0.241145</td>\n      <td>-0.063697</td>\n      <td>-0.028915</td>\n      <td>-0.033661</td>\n      <td>0.083527</td>\n      <td>-0.348529</td>\n    </tr>\n    <tr>\n      <th>300963</th>\n      <td>-0.366495</td>\n      <td>-0.158446</td>\n      <td>0.301190</td>\n      <td>-0.171601</td>\n      <td>0.075169</td>\n      <td>-0.057870</td>\n      <td>-0.020586</td>\n      <td>-0.048048</td>\n      <td>-0.109312</td>\n      <td>0.951342</td>\n      <td>...</td>\n      <td>-0.065479</td>\n      <td>-0.090837</td>\n      <td>-0.132787</td>\n      <td>-0.316556</td>\n      <td>0.164891</td>\n      <td>-0.063697</td>\n      <td>-0.028915</td>\n      <td>-0.033661</td>\n      <td>0.083527</td>\n      <td>-0.348529</td>\n    </tr>\n    <tr>\n      <th>269546</th>\n      <td>-0.366495</td>\n      <td>-0.410334</td>\n      <td>-0.051704</td>\n      <td>-0.171601</td>\n      <td>-0.099822</td>\n      <td>-0.297834</td>\n      <td>-0.536494</td>\n      <td>-0.048048</td>\n      <td>0.306831</td>\n      <td>-0.194908</td>\n      <td>...</td>\n      <td>0.053257</td>\n      <td>-0.090837</td>\n      <td>0.110022</td>\n      <td>-0.152116</td>\n      <td>0.164891</td>\n      <td>-0.063697</td>\n      <td>-0.028915</td>\n      <td>-0.033661</td>\n      <td>-0.239387</td>\n      <td>0.084509</td>\n    </tr>\n    <tr>\n      <th>...</th>\n      <td>...</td>\n      <td>...</td>\n      <td>...</td>\n      <td>...</td>\n      <td>...</td>\n      <td>...</td>\n      <td>...</td>\n      <td>...</td>\n      <td>...</td>\n      <td>...</td>\n      <td>...</td>\n      <td>...</td>\n      <td>...</td>\n      <td>...</td>\n      <td>...</td>\n      <td>...</td>\n      <td>...</td>\n      <td>...</td>\n      <td>...</td>\n      <td>...</td>\n      <td>...</td>\n    </tr>\n    <tr>\n      <th>298994</th>\n      <td>-0.050233</td>\n      <td>0.016406</td>\n      <td>-0.440745</td>\n      <td>-0.451249</td>\n      <td>-0.377708</td>\n      <td>-0.297834</td>\n      <td>-0.020586</td>\n      <td>-0.048048</td>\n      <td>-0.109312</td>\n      <td>-1.045357</td>\n      <td>...</td>\n      <td>0.053257</td>\n      <td>-0.040815</td>\n      <td>0.110022</td>\n      <td>0.073290</td>\n      <td>-0.241145</td>\n      <td>-0.063697</td>\n      <td>-0.028915</td>\n      <td>-0.033661</td>\n      <td>0.083527</td>\n      <td>0.084509</td>\n    </tr>\n    <tr>\n      <th>269429</th>\n      <td>-0.050233</td>\n      <td>0.016406</td>\n      <td>-0.440745</td>\n      <td>0.253381</td>\n      <td>0.075169</td>\n      <td>0.060654</td>\n      <td>-0.020586</td>\n      <td>-0.048048</td>\n      <td>-0.109312</td>\n      <td>0.357743</td>\n      <td>...</td>\n      <td>-0.065479</td>\n      <td>-0.090837</td>\n      <td>-0.132787</td>\n      <td>0.073290</td>\n      <td>0.164891</td>\n      <td>-0.063697</td>\n      <td>-0.028915</td>\n      <td>-0.033661</td>\n      <td>0.083527</td>\n      <td>-0.348529</td>\n    </tr>\n    <tr>\n      <th>16</th>\n      <td>0.268859</td>\n      <td>0.268275</td>\n      <td>0.301190</td>\n      <td>0.253381</td>\n      <td>-0.099822</td>\n      <td>-0.057870</td>\n      <td>-0.020586</td>\n      <td>0.459100</td>\n      <td>0.306831</td>\n      <td>0.357743</td>\n      <td>...</td>\n      <td>-0.065479</td>\n      <td>-0.090837</td>\n      <td>0.110022</td>\n      <td>0.073290</td>\n      <td>0.164891</td>\n      <td>-0.063697</td>\n      <td>-0.028915</td>\n      <td>-0.033661</td>\n      <td>0.083527</td>\n      <td>0.084509</td>\n    </tr>\n    <tr>\n      <th>97169</th>\n      <td>0.038650</td>\n      <td>0.016406</td>\n      <td>-0.440745</td>\n      <td>-0.451249</td>\n      <td>0.075169</td>\n      <td>-0.057870</td>\n      <td>-0.536494</td>\n      <td>-0.048048</td>\n      <td>-0.109312</td>\n      <td>0.013503</td>\n      <td>...</td>\n      <td>-0.065479</td>\n      <td>-0.090837</td>\n      <td>0.110022</td>\n      <td>0.073290</td>\n      <td>0.164891</td>\n      <td>-0.063697</td>\n      <td>-0.028915</td>\n      <td>-0.033661</td>\n      <td>0.083527</td>\n      <td>0.084509</td>\n    </tr>\n    <tr>\n      <th>90581</th>\n      <td>-0.050233</td>\n      <td>-0.043274</td>\n      <td>0.301190</td>\n      <td>0.092078</td>\n      <td>0.075169</td>\n      <td>0.060654</td>\n      <td>-0.020586</td>\n      <td>-0.048048</td>\n      <td>0.306831</td>\n      <td>-0.533934</td>\n      <td>...</td>\n      <td>-0.065479</td>\n      <td>-0.090837</td>\n      <td>-0.132787</td>\n      <td>0.073290</td>\n      <td>0.164891</td>\n      <td>-0.063697</td>\n      <td>-0.028915</td>\n      <td>-0.033661</td>\n      <td>0.083527</td>\n      <td>-0.348529</td>\n    </tr>\n  </tbody>\n</table>\n<p>215257 rows × 77 columns</p>\n</div>"
     },
     "execution_count": 4,
     "metadata": {},
     "output_type": "execute_result"
    }
   ],
   "source": [
    "pd_x = pd_data.drop(['SK_ID_CURR','TARGET'],axis=1)\n",
    "pd_x"
   ],
   "metadata": {
    "collapsed": false,
    "pycharm": {
     "name": "#%%\n"
    }
   }
  },
  {
   "cell_type": "code",
   "execution_count": 8,
   "outputs": [],
   "source": [
    "#自定义方差膨胀系数计算函数\n",
    "def check_vif(df):\n",
    "    col_list = df.columns\n",
    "    #variance_inflation_factor(参数一，参数二)\n",
    "    #参数一：ndarray\n",
    "    #参数二：int\n",
    "    x = df.values  #样本数据\n",
    "    #把列的id扔进来，计算每一个列的VIF\n",
    "    vif_list = [variance_inflation_factor(x,i) for i in range(x.shape[1])]\n",
    "    #创建df，让显示更人性化\n",
    "    VIF = pd.DataFrame({'feature':col_list,\n",
    "                  'VIF':vif_list})\n",
    "    return VIF"
   ],
   "metadata": {
    "collapsed": false,
    "pycharm": {
     "name": "#%%\n"
    }
   }
  },
  {
   "cell_type": "code",
   "execution_count": 10,
   "outputs": [
    {
     "name": "stderr",
     "output_type": "stream",
     "text": [
      "C:\\Programming\\Anaconda3\\lib\\site-packages\\statsmodels\\stats\\outliers_influence.py:193: RuntimeWarning: divide by zero encountered in double_scalars\n",
      "  vif = 1. / (1. - r_squared_i)\n",
      "C:\\Programming\\Anaconda3\\lib\\site-packages\\statsmodels\\regression\\linear_model.py:1717: RuntimeWarning: invalid value encountered in double_scalars\n",
      "  return 1 - self.ssr/self.uncentered_tss\n"
     ]
    },
    {
     "data": {
      "text/plain": "                                             feature       VIF\n0                                    AMT_GOODS_PRICE  1.181193\n1                         REGION_POPULATION_RELATIVE  1.848021\n2                                         DAYS_BIRTH  3.322928\n3                                      DAYS_EMPLOYED  1.689302\n4                                  DAYS_REGISTRATION  1.182928\n..                                               ...       ...\n72                 p_PRODUCT_COMBINATION_Card Street  2.282718\n73           p_PRODUCT_COMBINATION_Cash Street: high  2.392276\n74           p_PRODUCT_COMBINATION_Cash X-Sell: high  1.933213\n75            p_PRODUCT_COMBINATION_Cash X-Sell: low  2.112973\n76  p_PRODUCT_COMBINATION_POS industry with interest  2.045593\n\n[77 rows x 2 columns]",
      "text/html": "<div>\n<style scoped>\n    .dataframe tbody tr th:only-of-type {\n        vertical-align: middle;\n    }\n\n    .dataframe tbody tr th {\n        vertical-align: top;\n    }\n\n    .dataframe thead th {\n        text-align: right;\n    }\n</style>\n<table border=\"1\" class=\"dataframe\">\n  <thead>\n    <tr style=\"text-align: right;\">\n      <th></th>\n      <th>feature</th>\n      <th>VIF</th>\n    </tr>\n  </thead>\n  <tbody>\n    <tr>\n      <th>0</th>\n      <td>AMT_GOODS_PRICE</td>\n      <td>1.181193</td>\n    </tr>\n    <tr>\n      <th>1</th>\n      <td>REGION_POPULATION_RELATIVE</td>\n      <td>1.848021</td>\n    </tr>\n    <tr>\n      <th>2</th>\n      <td>DAYS_BIRTH</td>\n      <td>3.322928</td>\n    </tr>\n    <tr>\n      <th>3</th>\n      <td>DAYS_EMPLOYED</td>\n      <td>1.689302</td>\n    </tr>\n    <tr>\n      <th>4</th>\n      <td>DAYS_REGISTRATION</td>\n      <td>1.182928</td>\n    </tr>\n    <tr>\n      <th>...</th>\n      <td>...</td>\n      <td>...</td>\n    </tr>\n    <tr>\n      <th>72</th>\n      <td>p_PRODUCT_COMBINATION_Card Street</td>\n      <td>2.282718</td>\n    </tr>\n    <tr>\n      <th>73</th>\n      <td>p_PRODUCT_COMBINATION_Cash Street: high</td>\n      <td>2.392276</td>\n    </tr>\n    <tr>\n      <th>74</th>\n      <td>p_PRODUCT_COMBINATION_Cash X-Sell: high</td>\n      <td>1.933213</td>\n    </tr>\n    <tr>\n      <th>75</th>\n      <td>p_PRODUCT_COMBINATION_Cash X-Sell: low</td>\n      <td>2.112973</td>\n    </tr>\n    <tr>\n      <th>76</th>\n      <td>p_PRODUCT_COMBINATION_POS industry with interest</td>\n      <td>2.045593</td>\n    </tr>\n  </tbody>\n</table>\n<p>77 rows × 2 columns</p>\n</div>"
     },
     "execution_count": 10,
     "metadata": {},
     "output_type": "execute_result"
    }
   ],
   "source": [
    "df_vif = check_vif(pd_x)\n",
    "df_vif"
   ],
   "metadata": {
    "collapsed": false,
    "pycharm": {
     "name": "#%%\n"
    }
   }
  },
  {
   "cell_type": "code",
   "execution_count": 11,
   "outputs": [
    {
     "data": {
      "text/plain": "                        feature       VIF\n2                    DAYS_BIRTH  3.322928\n11  YEARS_BEGINEXPLUATATION_AVG  4.558895\n12               FLOORSMAX_MEDI  5.452477\n13               TOTALAREA_MODE  5.242828\n16   AMT_REQ_CREDIT_BUREAU_YEAR  4.186162\n18   NAME_INCOME_TYPE_Pensioner  3.437966\n23       EMERGENCYSTATE_MODE_No  3.851456\n27         b_CREDIT_DAY_OVERDUE       inf\n33     b_AMT_CREDIT_SUM_OVERDUE       inf\n35       b_CREDIT_TYPE_Car loan  3.136588\n38       b_CREDIT_TYPE_Mortgage       inf\n65         p_NAME_PORTFOLIO_POS  3.288162\n68       p_NAME_YIELD_GROUP_XNA  4.261597",
      "text/html": "<div>\n<style scoped>\n    .dataframe tbody tr th:only-of-type {\n        vertical-align: middle;\n    }\n\n    .dataframe tbody tr th {\n        vertical-align: top;\n    }\n\n    .dataframe thead th {\n        text-align: right;\n    }\n</style>\n<table border=\"1\" class=\"dataframe\">\n  <thead>\n    <tr style=\"text-align: right;\">\n      <th></th>\n      <th>feature</th>\n      <th>VIF</th>\n    </tr>\n  </thead>\n  <tbody>\n    <tr>\n      <th>2</th>\n      <td>DAYS_BIRTH</td>\n      <td>3.322928</td>\n    </tr>\n    <tr>\n      <th>11</th>\n      <td>YEARS_BEGINEXPLUATATION_AVG</td>\n      <td>4.558895</td>\n    </tr>\n    <tr>\n      <th>12</th>\n      <td>FLOORSMAX_MEDI</td>\n      <td>5.452477</td>\n    </tr>\n    <tr>\n      <th>13</th>\n      <td>TOTALAREA_MODE</td>\n      <td>5.242828</td>\n    </tr>\n    <tr>\n      <th>16</th>\n      <td>AMT_REQ_CREDIT_BUREAU_YEAR</td>\n      <td>4.186162</td>\n    </tr>\n    <tr>\n      <th>18</th>\n      <td>NAME_INCOME_TYPE_Pensioner</td>\n      <td>3.437966</td>\n    </tr>\n    <tr>\n      <th>23</th>\n      <td>EMERGENCYSTATE_MODE_No</td>\n      <td>3.851456</td>\n    </tr>\n    <tr>\n      <th>27</th>\n      <td>b_CREDIT_DAY_OVERDUE</td>\n      <td>inf</td>\n    </tr>\n    <tr>\n      <th>33</th>\n      <td>b_AMT_CREDIT_SUM_OVERDUE</td>\n      <td>inf</td>\n    </tr>\n    <tr>\n      <th>35</th>\n      <td>b_CREDIT_TYPE_Car loan</td>\n      <td>3.136588</td>\n    </tr>\n    <tr>\n      <th>38</th>\n      <td>b_CREDIT_TYPE_Mortgage</td>\n      <td>inf</td>\n    </tr>\n    <tr>\n      <th>65</th>\n      <td>p_NAME_PORTFOLIO_POS</td>\n      <td>3.288162</td>\n    </tr>\n    <tr>\n      <th>68</th>\n      <td>p_NAME_YIELD_GROUP_XNA</td>\n      <td>4.261597</td>\n    </tr>\n  </tbody>\n</table>\n</div>"
     },
     "execution_count": 11,
     "metadata": {},
     "output_type": "execute_result"
    }
   ],
   "source": [
    "df_vif[df_vif['VIF'] > 3]\n"
   ],
   "metadata": {
    "collapsed": false,
    "pycharm": {
     "name": "#%%\n"
    }
   }
  },
  {
   "cell_type": "markdown",
   "source": [
    "* 递归特征消除RFE"
   ],
   "metadata": {
    "collapsed": false,
    "pycharm": {
     "name": "#%% md\n"
    }
   }
  },
  {
   "cell_type": "code",
   "execution_count": 12,
   "outputs": [],
   "source": [
    "from sklearn.feature_selection import RFE\n",
    "from sklearn.svm import LinearSVC\n",
    "from sklearn.datasets import load_iris\n",
    "\n",
    "#导包快捷键：Alt + Enter\n",
    "#加载数据\n",
    "x,y = load_iris(return_X_y=True)\n",
    "svc = LinearSVC(C=0.01)\n",
    "selector = RFE(svc,n_features_to_select=2,step=1)\n"
   ],
   "metadata": {
    "collapsed": false,
    "pycharm": {
     "name": "#%%\n"
    }
   }
  },
  {
   "cell_type": "code",
   "execution_count": 13,
   "outputs": [
    {
     "data": {
      "text/plain": "RFE(estimator=LinearSVC(C=0.01), n_features_to_select=2)"
     },
     "execution_count": 13,
     "metadata": {},
     "output_type": "execute_result"
    }
   ],
   "source": [
    "selector.fit(x,y)\n"
   ],
   "metadata": {
    "collapsed": false,
    "pycharm": {
     "name": "#%%\n"
    }
   }
  },
  {
   "cell_type": "code",
   "execution_count": 16,
   "outputs": [
    {
     "data": {
      "text/plain": "array([3, 1, 1, 2])"
     },
     "execution_count": 16,
     "metadata": {},
     "output_type": "execute_result"
    }
   ],
   "source": [
    "selector.support_"
   ],
   "metadata": {
    "collapsed": false,
    "pycharm": {
     "name": "#%%\n"
    }
   }
  },
  {
   "cell_type": "code",
   "execution_count": 15,
   "outputs": [
    {
     "data": {
      "text/plain": "array([3, 1, 1, 2])"
     },
     "execution_count": 15,
     "metadata": {},
     "output_type": "execute_result"
    }
   ],
   "source": [
    "selector.ranking_"
   ],
   "metadata": {
    "collapsed": false,
    "pycharm": {
     "name": "#%%\n"
    }
   }
  },
  {
   "cell_type": "markdown",
   "source": [
    "* L1特征消除\n"
   ],
   "metadata": {
    "collapsed": false,
    "pycharm": {
     "name": "#%% md\n"
    }
   }
  },
  {
   "cell_type": "code",
   "execution_count": 18,
   "outputs": [],
   "source": [
    "iris = load_iris()\n",
    "x = iris['data']\n",
    "y = iris['target']"
   ],
   "metadata": {
    "collapsed": false,
    "pycharm": {
     "name": "#%%\n"
    }
   }
  },
  {
   "cell_type": "code",
   "execution_count": 19,
   "outputs": [
    {
     "data": {
      "text/plain": "(150, 4)"
     },
     "execution_count": 19,
     "metadata": {},
     "output_type": "execute_result"
    }
   ],
   "source": [
    "x.shape\n"
   ],
   "metadata": {
    "collapsed": false,
    "pycharm": {
     "name": "#%%\n"
    }
   }
  },
  {
   "cell_type": "code",
   "execution_count": 20,
   "outputs": [
    {
     "name": "stderr",
     "output_type": "stream",
     "text": [
      "C:\\Programming\\Anaconda3\\lib\\site-packages\\sklearn\\svm\\_base.py:976: ConvergenceWarning: Liblinear failed to converge, increase the number of iterations.\n",
      "  warnings.warn(\"Liblinear failed to converge, increase \"\n"
     ]
    }
   ],
   "source": [
    "svc = LinearSVC(C=0.01,penalty='l1',dual=False)\n",
    "model = svc.fit(x,y)"
   ],
   "metadata": {
    "collapsed": false,
    "pycharm": {
     "name": "#%%\n"
    }
   }
  },
  {
   "cell_type": "code",
   "execution_count": 22,
   "outputs": [],
   "source": [
    "from sklearn.feature_selection import SelectFromModel\n",
    "\n",
    "selector_model = SelectFromModel(model,prefit=True)\n",
    "#保留最重要的特征，去掉了最不重要的特征\n",
    "#后续可以使用留下的特征数据去训练模型即可\n",
    "x_new = selector_model.transform(x)"
   ],
   "metadata": {
    "collapsed": false,
    "pycharm": {
     "name": "#%%\n"
    }
   }
  },
  {
   "cell_type": "code",
   "execution_count": 23,
   "outputs": [
    {
     "data": {
      "text/plain": "(150, 3)"
     },
     "execution_count": 23,
     "metadata": {},
     "output_type": "execute_result"
    }
   ],
   "source": [
    "x_new.shape\n"
   ],
   "metadata": {
    "collapsed": false,
    "pycharm": {
     "name": "#%%\n"
    }
   }
  },
  {
   "cell_type": "code",
   "execution_count": 24,
   "outputs": [
    {
     "data": {
      "text/plain": "array([[5.1, 3.5, 1.4],\n       [4.9, 3. , 1.4],\n       [4.7, 3.2, 1.3],\n       [4.6, 3.1, 1.5],\n       [5. , 3.6, 1.4],\n       [5.4, 3.9, 1.7],\n       [4.6, 3.4, 1.4],\n       [5. , 3.4, 1.5],\n       [4.4, 2.9, 1.4],\n       [4.9, 3.1, 1.5],\n       [5.4, 3.7, 1.5],\n       [4.8, 3.4, 1.6],\n       [4.8, 3. , 1.4],\n       [4.3, 3. , 1.1],\n       [5.8, 4. , 1.2],\n       [5.7, 4.4, 1.5],\n       [5.4, 3.9, 1.3],\n       [5.1, 3.5, 1.4],\n       [5.7, 3.8, 1.7],\n       [5.1, 3.8, 1.5],\n       [5.4, 3.4, 1.7],\n       [5.1, 3.7, 1.5],\n       [4.6, 3.6, 1. ],\n       [5.1, 3.3, 1.7],\n       [4.8, 3.4, 1.9],\n       [5. , 3. , 1.6],\n       [5. , 3.4, 1.6],\n       [5.2, 3.5, 1.5],\n       [5.2, 3.4, 1.4],\n       [4.7, 3.2, 1.6],\n       [4.8, 3.1, 1.6],\n       [5.4, 3.4, 1.5],\n       [5.2, 4.1, 1.5],\n       [5.5, 4.2, 1.4],\n       [4.9, 3.1, 1.5],\n       [5. , 3.2, 1.2],\n       [5.5, 3.5, 1.3],\n       [4.9, 3.6, 1.4],\n       [4.4, 3. , 1.3],\n       [5.1, 3.4, 1.5],\n       [5. , 3.5, 1.3],\n       [4.5, 2.3, 1.3],\n       [4.4, 3.2, 1.3],\n       [5. , 3.5, 1.6],\n       [5.1, 3.8, 1.9],\n       [4.8, 3. , 1.4],\n       [5.1, 3.8, 1.6],\n       [4.6, 3.2, 1.4],\n       [5.3, 3.7, 1.5],\n       [5. , 3.3, 1.4],\n       [7. , 3.2, 4.7],\n       [6.4, 3.2, 4.5],\n       [6.9, 3.1, 4.9],\n       [5.5, 2.3, 4. ],\n       [6.5, 2.8, 4.6],\n       [5.7, 2.8, 4.5],\n       [6.3, 3.3, 4.7],\n       [4.9, 2.4, 3.3],\n       [6.6, 2.9, 4.6],\n       [5.2, 2.7, 3.9],\n       [5. , 2. , 3.5],\n       [5.9, 3. , 4.2],\n       [6. , 2.2, 4. ],\n       [6.1, 2.9, 4.7],\n       [5.6, 2.9, 3.6],\n       [6.7, 3.1, 4.4],\n       [5.6, 3. , 4.5],\n       [5.8, 2.7, 4.1],\n       [6.2, 2.2, 4.5],\n       [5.6, 2.5, 3.9],\n       [5.9, 3.2, 4.8],\n       [6.1, 2.8, 4. ],\n       [6.3, 2.5, 4.9],\n       [6.1, 2.8, 4.7],\n       [6.4, 2.9, 4.3],\n       [6.6, 3. , 4.4],\n       [6.8, 2.8, 4.8],\n       [6.7, 3. , 5. ],\n       [6. , 2.9, 4.5],\n       [5.7, 2.6, 3.5],\n       [5.5, 2.4, 3.8],\n       [5.5, 2.4, 3.7],\n       [5.8, 2.7, 3.9],\n       [6. , 2.7, 5.1],\n       [5.4, 3. , 4.5],\n       [6. , 3.4, 4.5],\n       [6.7, 3.1, 4.7],\n       [6.3, 2.3, 4.4],\n       [5.6, 3. , 4.1],\n       [5.5, 2.5, 4. ],\n       [5.5, 2.6, 4.4],\n       [6.1, 3. , 4.6],\n       [5.8, 2.6, 4. ],\n       [5. , 2.3, 3.3],\n       [5.6, 2.7, 4.2],\n       [5.7, 3. , 4.2],\n       [5.7, 2.9, 4.2],\n       [6.2, 2.9, 4.3],\n       [5.1, 2.5, 3. ],\n       [5.7, 2.8, 4.1],\n       [6.3, 3.3, 6. ],\n       [5.8, 2.7, 5.1],\n       [7.1, 3. , 5.9],\n       [6.3, 2.9, 5.6],\n       [6.5, 3. , 5.8],\n       [7.6, 3. , 6.6],\n       [4.9, 2.5, 4.5],\n       [7.3, 2.9, 6.3],\n       [6.7, 2.5, 5.8],\n       [7.2, 3.6, 6.1],\n       [6.5, 3.2, 5.1],\n       [6.4, 2.7, 5.3],\n       [6.8, 3. , 5.5],\n       [5.7, 2.5, 5. ],\n       [5.8, 2.8, 5.1],\n       [6.4, 3.2, 5.3],\n       [6.5, 3. , 5.5],\n       [7.7, 3.8, 6.7],\n       [7.7, 2.6, 6.9],\n       [6. , 2.2, 5. ],\n       [6.9, 3.2, 5.7],\n       [5.6, 2.8, 4.9],\n       [7.7, 2.8, 6.7],\n       [6.3, 2.7, 4.9],\n       [6.7, 3.3, 5.7],\n       [7.2, 3.2, 6. ],\n       [6.2, 2.8, 4.8],\n       [6.1, 3. , 4.9],\n       [6.4, 2.8, 5.6],\n       [7.2, 3. , 5.8],\n       [7.4, 2.8, 6.1],\n       [7.9, 3.8, 6.4],\n       [6.4, 2.8, 5.6],\n       [6.3, 2.8, 5.1],\n       [6.1, 2.6, 5.6],\n       [7.7, 3. , 6.1],\n       [6.3, 3.4, 5.6],\n       [6.4, 3.1, 5.5],\n       [6. , 3. , 4.8],\n       [6.9, 3.1, 5.4],\n       [6.7, 3.1, 5.6],\n       [6.9, 3.1, 5.1],\n       [5.8, 2.7, 5.1],\n       [6.8, 3.2, 5.9],\n       [6.7, 3.3, 5.7],\n       [6.7, 3. , 5.2],\n       [6.3, 2.5, 5. ],\n       [6.5, 3. , 5.2],\n       [6.2, 3.4, 5.4],\n       [5.9, 3. , 5.1]])"
     },
     "execution_count": 24,
     "metadata": {},
     "output_type": "execute_result"
    }
   ],
   "source": [
    "x_new"
   ],
   "metadata": {
    "collapsed": false,
    "pycharm": {
     "name": "#%%\n"
    }
   }
  },
  {
   "cell_type": "code",
   "execution_count": null,
   "outputs": [],
   "source": [],
   "metadata": {
    "collapsed": false,
    "pycharm": {
     "name": "#%%\n"
    }
   }
  }
 ],
 "metadata": {
  "kernelspec": {
   "display_name": "Python 3",
   "language": "python",
   "name": "python3"
  },
  "language_info": {
   "codemirror_mode": {
    "name": "ipython",
    "version": 2
   },
   "file_extension": ".py",
   "mimetype": "text/x-python",
   "name": "python",
   "nbconvert_exporter": "python",
   "pygments_lexer": "ipython2",
   "version": "2.7.6"
  }
 },
 "nbformat": 4,
 "nbformat_minor": 0
}