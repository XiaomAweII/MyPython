{
 "cells": [
  {
   "cell_type": "code",
   "execution_count": 1,
   "metadata": {
    "collapsed": true
   },
   "outputs": [
    {
     "data": {
      "text/plain": "      obs_mth  bad_ind        uid  td_score  jxl_score  mj_score  rh_score  \\\n0  2018-10-31      0.0  A10000005  0.675349   0.144072  0.186899  0.483640   \n1  2018-07-31      0.0   A1000002  0.825269   0.398688  0.139396  0.843725   \n2  2018-09-30      0.0   A1000011  0.315406   0.629745  0.535854  0.197392   \n3  2018-07-31      0.0  A10000481  0.002386   0.609360  0.366081  0.342243   \n4  2018-07-31      0.0   A1000069  0.406310   0.405352  0.783015  0.563953   \n\n   zzc_score  zcx_score  person_info  finance_info  credit_info  act_info  \n0   0.928328   0.369644    -0.322581      0.023810         0.00  0.217949  \n1   0.605194   0.406122    -0.128677      0.023810         0.00  0.423077  \n2   0.614416   0.320731     0.062660      0.023810         0.10  0.448718  \n3   0.870006   0.288692     0.078853      0.071429         0.05  0.179487  \n4   0.715454   0.512554    -0.261014      0.023810         0.00  0.423077  ",
      "text/html": "<div>\n<style scoped>\n    .dataframe tbody tr th:only-of-type {\n        vertical-align: middle;\n    }\n\n    .dataframe tbody tr th {\n        vertical-align: top;\n    }\n\n    .dataframe thead th {\n        text-align: right;\n    }\n</style>\n<table border=\"1\" class=\"dataframe\">\n  <thead>\n    <tr style=\"text-align: right;\">\n      <th></th>\n      <th>obs_mth</th>\n      <th>bad_ind</th>\n      <th>uid</th>\n      <th>td_score</th>\n      <th>jxl_score</th>\n      <th>mj_score</th>\n      <th>rh_score</th>\n      <th>zzc_score</th>\n      <th>zcx_score</th>\n      <th>person_info</th>\n      <th>finance_info</th>\n      <th>credit_info</th>\n      <th>act_info</th>\n    </tr>\n  </thead>\n  <tbody>\n    <tr>\n      <th>0</th>\n      <td>2018-10-31</td>\n      <td>0.0</td>\n      <td>A10000005</td>\n      <td>0.675349</td>\n      <td>0.144072</td>\n      <td>0.186899</td>\n      <td>0.483640</td>\n      <td>0.928328</td>\n      <td>0.369644</td>\n      <td>-0.322581</td>\n      <td>0.023810</td>\n      <td>0.00</td>\n      <td>0.217949</td>\n    </tr>\n    <tr>\n      <th>1</th>\n      <td>2018-07-31</td>\n      <td>0.0</td>\n      <td>A1000002</td>\n      <td>0.825269</td>\n      <td>0.398688</td>\n      <td>0.139396</td>\n      <td>0.843725</td>\n      <td>0.605194</td>\n      <td>0.406122</td>\n      <td>-0.128677</td>\n      <td>0.023810</td>\n      <td>0.00</td>\n      <td>0.423077</td>\n    </tr>\n    <tr>\n      <th>2</th>\n      <td>2018-09-30</td>\n      <td>0.0</td>\n      <td>A1000011</td>\n      <td>0.315406</td>\n      <td>0.629745</td>\n      <td>0.535854</td>\n      <td>0.197392</td>\n      <td>0.614416</td>\n      <td>0.320731</td>\n      <td>0.062660</td>\n      <td>0.023810</td>\n      <td>0.10</td>\n      <td>0.448718</td>\n    </tr>\n    <tr>\n      <th>3</th>\n      <td>2018-07-31</td>\n      <td>0.0</td>\n      <td>A10000481</td>\n      <td>0.002386</td>\n      <td>0.609360</td>\n      <td>0.366081</td>\n      <td>0.342243</td>\n      <td>0.870006</td>\n      <td>0.288692</td>\n      <td>0.078853</td>\n      <td>0.071429</td>\n      <td>0.05</td>\n      <td>0.179487</td>\n    </tr>\n    <tr>\n      <th>4</th>\n      <td>2018-07-31</td>\n      <td>0.0</td>\n      <td>A1000069</td>\n      <td>0.406310</td>\n      <td>0.405352</td>\n      <td>0.783015</td>\n      <td>0.563953</td>\n      <td>0.715454</td>\n      <td>0.512554</td>\n      <td>-0.261014</td>\n      <td>0.023810</td>\n      <td>0.00</td>\n      <td>0.423077</td>\n    </tr>\n  </tbody>\n</table>\n</div>"
     },
     "execution_count": 1,
     "metadata": {},
     "output_type": "execute_result"
    }
   ],
   "source": [
    "import pandas as pd\n",
    "from sklearn.metrics import roc_auc_score,roc_curve,auc\n",
    "from sklearn.model_selection import train_test_split\n",
    "from sklearn import metrics\n",
    "from sklearn.linear_model import LogisticRegression\n",
    "import numpy as np\n",
    "import random\n",
    "import math\n",
    "import time\n",
    "import lightgbm as lgb\n",
    "data = pd.read_csv('../data/Bcard.txt')\n",
    "data.head()"
   ]
  },
  {
   "cell_type": "code",
   "execution_count": 3,
   "outputs": [
    {
     "data": {
      "text/plain": "2018-07-31    34030\n2018-06-30    20565\n2018-11-30    15975\n2018-10-31    14527\n2018-09-30    10709\nName: obs_mth, dtype: int64"
     },
     "execution_count": 3,
     "metadata": {},
     "output_type": "execute_result"
    }
   ],
   "source": [
    "data['obs_mth'].value_counts()"
   ],
   "metadata": {
    "collapsed": false,
    "pycharm": {
     "name": "#%%\n"
    }
   }
  },
  {
   "cell_type": "code",
   "execution_count": 4,
   "outputs": [],
   "source": [
    "df_train = data[data['obs_mth'] != '2018-11-30']\n",
    "val = data[data['obs_mth'] == '2018-11-30']\n"
   ],
   "metadata": {
    "collapsed": false,
    "pycharm": {
     "name": "#%%\n"
    }
   }
  },
  {
   "cell_type": "code",
   "execution_count": 5,
   "outputs": [
    {
     "data": {
      "text/plain": "          obs_mth  bad_ind                     uid  td_score  jxl_score  \\\n0      2018-10-31      0.0               A10000005  0.675349   0.144072   \n1      2018-07-31      0.0                A1000002  0.825269   0.398688   \n2      2018-09-30      0.0                A1000011  0.315406   0.629745   \n3      2018-07-31      0.0               A10000481  0.002386   0.609360   \n4      2018-07-31      0.0                A1000069  0.406310   0.405352   \n...           ...      ...                     ...       ...        ...   \n79826  2018-09-30      0.0  Ab99_96436392005147255  0.905578   0.927706   \n79827  2018-10-31      0.0  Ab99_96436392005205003  0.639265   0.219267   \n79828  2018-10-31      0.0  Ab99_96436392005412387  0.355061   0.837747   \n79829  2018-10-31      0.0  Ab99_96436392006241624  0.797237   0.501238   \n79830  2018-10-31      0.0  Ab99_96436392007495598  0.990920   0.833572   \n\n       mj_score  rh_score  zzc_score  zcx_score  person_info  finance_info  \\\n0      0.186899  0.483640   0.928328   0.369644    -0.322581      0.023810   \n1      0.139396  0.843725   0.605194   0.406122    -0.128677      0.023810   \n2      0.535854  0.197392   0.614416   0.320731     0.062660      0.023810   \n3      0.366081  0.342243   0.870006   0.288692     0.078853      0.071429   \n4      0.783015  0.563953   0.715454   0.512554    -0.261014      0.023810   \n...         ...       ...        ...        ...          ...           ...   \n79826  0.994447  0.315842   0.959443   0.042640     0.078853      0.071429   \n79827  0.845014  0.751332   0.275557   0.902642     0.078853      0.023810   \n79828  0.931882  0.442463   0.579277   0.740754     0.078853      0.023810   \n79829  0.490850  0.592068   0.479618   0.859870     0.078853      0.023810   \n79830  0.993425  0.732783   0.925975   0.395655     0.078853      0.023810   \n\n       credit_info  act_info  \n0             0.00  0.217949  \n1             0.00  0.423077  \n2             0.10  0.448718  \n3             0.05  0.179487  \n4             0.00  0.423077  \n...            ...       ...  \n79826         0.13  0.076923  \n79827         0.00  0.076923  \n79828         0.02  0.076923  \n79829         0.00  0.076923  \n79830         0.00  0.076923  \n\n[79831 rows x 13 columns]",
      "text/html": "<div>\n<style scoped>\n    .dataframe tbody tr th:only-of-type {\n        vertical-align: middle;\n    }\n\n    .dataframe tbody tr th {\n        vertical-align: top;\n    }\n\n    .dataframe thead th {\n        text-align: right;\n    }\n</style>\n<table border=\"1\" class=\"dataframe\">\n  <thead>\n    <tr style=\"text-align: right;\">\n      <th></th>\n      <th>obs_mth</th>\n      <th>bad_ind</th>\n      <th>uid</th>\n      <th>td_score</th>\n      <th>jxl_score</th>\n      <th>mj_score</th>\n      <th>rh_score</th>\n      <th>zzc_score</th>\n      <th>zcx_score</th>\n      <th>person_info</th>\n      <th>finance_info</th>\n      <th>credit_info</th>\n      <th>act_info</th>\n    </tr>\n  </thead>\n  <tbody>\n    <tr>\n      <th>0</th>\n      <td>2018-10-31</td>\n      <td>0.0</td>\n      <td>A10000005</td>\n      <td>0.675349</td>\n      <td>0.144072</td>\n      <td>0.186899</td>\n      <td>0.483640</td>\n      <td>0.928328</td>\n      <td>0.369644</td>\n      <td>-0.322581</td>\n      <td>0.023810</td>\n      <td>0.00</td>\n      <td>0.217949</td>\n    </tr>\n    <tr>\n      <th>1</th>\n      <td>2018-07-31</td>\n      <td>0.0</td>\n      <td>A1000002</td>\n      <td>0.825269</td>\n      <td>0.398688</td>\n      <td>0.139396</td>\n      <td>0.843725</td>\n      <td>0.605194</td>\n      <td>0.406122</td>\n      <td>-0.128677</td>\n      <td>0.023810</td>\n      <td>0.00</td>\n      <td>0.423077</td>\n    </tr>\n    <tr>\n      <th>2</th>\n      <td>2018-09-30</td>\n      <td>0.0</td>\n      <td>A1000011</td>\n      <td>0.315406</td>\n      <td>0.629745</td>\n      <td>0.535854</td>\n      <td>0.197392</td>\n      <td>0.614416</td>\n      <td>0.320731</td>\n      <td>0.062660</td>\n      <td>0.023810</td>\n      <td>0.10</td>\n      <td>0.448718</td>\n    </tr>\n    <tr>\n      <th>3</th>\n      <td>2018-07-31</td>\n      <td>0.0</td>\n      <td>A10000481</td>\n      <td>0.002386</td>\n      <td>0.609360</td>\n      <td>0.366081</td>\n      <td>0.342243</td>\n      <td>0.870006</td>\n      <td>0.288692</td>\n      <td>0.078853</td>\n      <td>0.071429</td>\n      <td>0.05</td>\n      <td>0.179487</td>\n    </tr>\n    <tr>\n      <th>4</th>\n      <td>2018-07-31</td>\n      <td>0.0</td>\n      <td>A1000069</td>\n      <td>0.406310</td>\n      <td>0.405352</td>\n      <td>0.783015</td>\n      <td>0.563953</td>\n      <td>0.715454</td>\n      <td>0.512554</td>\n      <td>-0.261014</td>\n      <td>0.023810</td>\n      <td>0.00</td>\n      <td>0.423077</td>\n    </tr>\n    <tr>\n      <th>...</th>\n      <td>...</td>\n      <td>...</td>\n      <td>...</td>\n      <td>...</td>\n      <td>...</td>\n      <td>...</td>\n      <td>...</td>\n      <td>...</td>\n      <td>...</td>\n      <td>...</td>\n      <td>...</td>\n      <td>...</td>\n      <td>...</td>\n    </tr>\n    <tr>\n      <th>79826</th>\n      <td>2018-09-30</td>\n      <td>0.0</td>\n      <td>Ab99_96436392005147255</td>\n      <td>0.905578</td>\n      <td>0.927706</td>\n      <td>0.994447</td>\n      <td>0.315842</td>\n      <td>0.959443</td>\n      <td>0.042640</td>\n      <td>0.078853</td>\n      <td>0.071429</td>\n      <td>0.13</td>\n      <td>0.076923</td>\n    </tr>\n    <tr>\n      <th>79827</th>\n      <td>2018-10-31</td>\n      <td>0.0</td>\n      <td>Ab99_96436392005205003</td>\n      <td>0.639265</td>\n      <td>0.219267</td>\n      <td>0.845014</td>\n      <td>0.751332</td>\n      <td>0.275557</td>\n      <td>0.902642</td>\n      <td>0.078853</td>\n      <td>0.023810</td>\n      <td>0.00</td>\n      <td>0.076923</td>\n    </tr>\n    <tr>\n      <th>79828</th>\n      <td>2018-10-31</td>\n      <td>0.0</td>\n      <td>Ab99_96436392005412387</td>\n      <td>0.355061</td>\n      <td>0.837747</td>\n      <td>0.931882</td>\n      <td>0.442463</td>\n      <td>0.579277</td>\n      <td>0.740754</td>\n      <td>0.078853</td>\n      <td>0.023810</td>\n      <td>0.02</td>\n      <td>0.076923</td>\n    </tr>\n    <tr>\n      <th>79829</th>\n      <td>2018-10-31</td>\n      <td>0.0</td>\n      <td>Ab99_96436392006241624</td>\n      <td>0.797237</td>\n      <td>0.501238</td>\n      <td>0.490850</td>\n      <td>0.592068</td>\n      <td>0.479618</td>\n      <td>0.859870</td>\n      <td>0.078853</td>\n      <td>0.023810</td>\n      <td>0.00</td>\n      <td>0.076923</td>\n    </tr>\n    <tr>\n      <th>79830</th>\n      <td>2018-10-31</td>\n      <td>0.0</td>\n      <td>Ab99_96436392007495598</td>\n      <td>0.990920</td>\n      <td>0.833572</td>\n      <td>0.993425</td>\n      <td>0.732783</td>\n      <td>0.925975</td>\n      <td>0.395655</td>\n      <td>0.078853</td>\n      <td>0.023810</td>\n      <td>0.00</td>\n      <td>0.076923</td>\n    </tr>\n  </tbody>\n</table>\n<p>79831 rows × 13 columns</p>\n</div>"
     },
     "execution_count": 5,
     "metadata": {},
     "output_type": "execute_result"
    }
   ],
   "source": [
    "df_train\n"
   ],
   "metadata": {
    "collapsed": false,
    "pycharm": {
     "name": "#%%\n"
    }
   }
  },
  {
   "cell_type": "code",
   "execution_count": 6,
   "outputs": [
    {
     "data": {
      "text/plain": "          obs_mth  bad_ind                     uid  td_score  jxl_score  \\\n79831  2018-11-30      0.0               A10002345  0.123276   0.872117   \n79832  2018-11-30      0.0               A10003755  0.462460   0.157643   \n79833  2018-11-30      0.0                A1000756  0.812642   0.400040   \n79834  2018-11-30      0.0                 A100085  0.007039   0.396036   \n79835  2018-11-30      0.0               A10008856  0.078063   0.291289   \n...           ...      ...                     ...       ...        ...   \n95801  2018-11-30      0.0  Ab99_96436391998107976  0.890233   0.442687   \n95802  2018-11-30      0.0  Ab99_96436391998176292  0.161840   0.495766   \n95803  2018-11-30      0.0  Ab99_96436391998322771  0.746522   0.732739   \n95804  2018-11-30      0.0  Ab99_96436391998973383  0.176846   0.749610   \n95805  2018-11-30      0.0  Ab99_96436392001380983  0.417920   0.650343   \n\n       mj_score  rh_score  zzc_score  zcx_score  person_info  finance_info  \\\n79831  0.723560  0.759074   0.184735   0.080376    -0.053718      0.047619   \n79832  0.762271  0.481466   0.967006   0.780087     0.013863      0.023810   \n79833  0.280942  0.099454   0.942880   0.588936     0.078853      0.023810   \n79834  0.857868  0.882255   0.345511   0.419969    -0.053718      0.047619   \n79835  0.654864  0.528708   0.754482   0.732534     0.013863      0.023810   \n...         ...       ...        ...        ...          ...           ...   \n95801  0.802687  0.776982   0.638971   0.605522     0.078853      0.142857   \n95802  0.085750  0.536738   0.596144   0.132972     0.078853      0.023810   \n95803  0.025475  0.831805   0.642904   0.029297     0.078853      0.023810   \n95804  0.933879  0.506921   0.867099   0.751643     0.078853      0.023810   \n95805  0.985863  0.374100   0.330634   0.596833     0.078853      0.071429   \n\n       credit_info  act_info  \n79831         1.00  0.230769  \n79832         0.00  0.230769  \n79833         0.02  0.474359  \n79834         0.02  0.666667  \n79835         0.00  0.230769  \n...            ...       ...  \n95801         0.25  0.076923  \n95802         0.00  0.076923  \n95803         0.00  0.076923  \n95804         0.02  0.076923  \n95805         0.62  0.076923  \n\n[15975 rows x 13 columns]",
      "text/html": "<div>\n<style scoped>\n    .dataframe tbody tr th:only-of-type {\n        vertical-align: middle;\n    }\n\n    .dataframe tbody tr th {\n        vertical-align: top;\n    }\n\n    .dataframe thead th {\n        text-align: right;\n    }\n</style>\n<table border=\"1\" class=\"dataframe\">\n  <thead>\n    <tr style=\"text-align: right;\">\n      <th></th>\n      <th>obs_mth</th>\n      <th>bad_ind</th>\n      <th>uid</th>\n      <th>td_score</th>\n      <th>jxl_score</th>\n      <th>mj_score</th>\n      <th>rh_score</th>\n      <th>zzc_score</th>\n      <th>zcx_score</th>\n      <th>person_info</th>\n      <th>finance_info</th>\n      <th>credit_info</th>\n      <th>act_info</th>\n    </tr>\n  </thead>\n  <tbody>\n    <tr>\n      <th>79831</th>\n      <td>2018-11-30</td>\n      <td>0.0</td>\n      <td>A10002345</td>\n      <td>0.123276</td>\n      <td>0.872117</td>\n      <td>0.723560</td>\n      <td>0.759074</td>\n      <td>0.184735</td>\n      <td>0.080376</td>\n      <td>-0.053718</td>\n      <td>0.047619</td>\n      <td>1.00</td>\n      <td>0.230769</td>\n    </tr>\n    <tr>\n      <th>79832</th>\n      <td>2018-11-30</td>\n      <td>0.0</td>\n      <td>A10003755</td>\n      <td>0.462460</td>\n      <td>0.157643</td>\n      <td>0.762271</td>\n      <td>0.481466</td>\n      <td>0.967006</td>\n      <td>0.780087</td>\n      <td>0.013863</td>\n      <td>0.023810</td>\n      <td>0.00</td>\n      <td>0.230769</td>\n    </tr>\n    <tr>\n      <th>79833</th>\n      <td>2018-11-30</td>\n      <td>0.0</td>\n      <td>A1000756</td>\n      <td>0.812642</td>\n      <td>0.400040</td>\n      <td>0.280942</td>\n      <td>0.099454</td>\n      <td>0.942880</td>\n      <td>0.588936</td>\n      <td>0.078853</td>\n      <td>0.023810</td>\n      <td>0.02</td>\n      <td>0.474359</td>\n    </tr>\n    <tr>\n      <th>79834</th>\n      <td>2018-11-30</td>\n      <td>0.0</td>\n      <td>A100085</td>\n      <td>0.007039</td>\n      <td>0.396036</td>\n      <td>0.857868</td>\n      <td>0.882255</td>\n      <td>0.345511</td>\n      <td>0.419969</td>\n      <td>-0.053718</td>\n      <td>0.047619</td>\n      <td>0.02</td>\n      <td>0.666667</td>\n    </tr>\n    <tr>\n      <th>79835</th>\n      <td>2018-11-30</td>\n      <td>0.0</td>\n      <td>A10008856</td>\n      <td>0.078063</td>\n      <td>0.291289</td>\n      <td>0.654864</td>\n      <td>0.528708</td>\n      <td>0.754482</td>\n      <td>0.732534</td>\n      <td>0.013863</td>\n      <td>0.023810</td>\n      <td>0.00</td>\n      <td>0.230769</td>\n    </tr>\n    <tr>\n      <th>...</th>\n      <td>...</td>\n      <td>...</td>\n      <td>...</td>\n      <td>...</td>\n      <td>...</td>\n      <td>...</td>\n      <td>...</td>\n      <td>...</td>\n      <td>...</td>\n      <td>...</td>\n      <td>...</td>\n      <td>...</td>\n      <td>...</td>\n    </tr>\n    <tr>\n      <th>95801</th>\n      <td>2018-11-30</td>\n      <td>0.0</td>\n      <td>Ab99_96436391998107976</td>\n      <td>0.890233</td>\n      <td>0.442687</td>\n      <td>0.802687</td>\n      <td>0.776982</td>\n      <td>0.638971</td>\n      <td>0.605522</td>\n      <td>0.078853</td>\n      <td>0.142857</td>\n      <td>0.25</td>\n      <td>0.076923</td>\n    </tr>\n    <tr>\n      <th>95802</th>\n      <td>2018-11-30</td>\n      <td>0.0</td>\n      <td>Ab99_96436391998176292</td>\n      <td>0.161840</td>\n      <td>0.495766</td>\n      <td>0.085750</td>\n      <td>0.536738</td>\n      <td>0.596144</td>\n      <td>0.132972</td>\n      <td>0.078853</td>\n      <td>0.023810</td>\n      <td>0.00</td>\n      <td>0.076923</td>\n    </tr>\n    <tr>\n      <th>95803</th>\n      <td>2018-11-30</td>\n      <td>0.0</td>\n      <td>Ab99_96436391998322771</td>\n      <td>0.746522</td>\n      <td>0.732739</td>\n      <td>0.025475</td>\n      <td>0.831805</td>\n      <td>0.642904</td>\n      <td>0.029297</td>\n      <td>0.078853</td>\n      <td>0.023810</td>\n      <td>0.00</td>\n      <td>0.076923</td>\n    </tr>\n    <tr>\n      <th>95804</th>\n      <td>2018-11-30</td>\n      <td>0.0</td>\n      <td>Ab99_96436391998973383</td>\n      <td>0.176846</td>\n      <td>0.749610</td>\n      <td>0.933879</td>\n      <td>0.506921</td>\n      <td>0.867099</td>\n      <td>0.751643</td>\n      <td>0.078853</td>\n      <td>0.023810</td>\n      <td>0.02</td>\n      <td>0.076923</td>\n    </tr>\n    <tr>\n      <th>95805</th>\n      <td>2018-11-30</td>\n      <td>0.0</td>\n      <td>Ab99_96436392001380983</td>\n      <td>0.417920</td>\n      <td>0.650343</td>\n      <td>0.985863</td>\n      <td>0.374100</td>\n      <td>0.330634</td>\n      <td>0.596833</td>\n      <td>0.078853</td>\n      <td>0.071429</td>\n      <td>0.62</td>\n      <td>0.076923</td>\n    </tr>\n  </tbody>\n</table>\n<p>15975 rows × 13 columns</p>\n</div>"
     },
     "execution_count": 6,
     "metadata": {},
     "output_type": "execute_result"
    }
   ],
   "source": [
    "val\n"
   ],
   "metadata": {
    "collapsed": false,
    "pycharm": {
     "name": "#%%\n"
    }
   }
  },
  {
   "cell_type": "code",
   "execution_count": 8,
   "outputs": [
    {
     "data": {
      "text/plain": "          obs_mth  bad_ind        uid  td_score  jxl_score  mj_score  \\\n0      2018-10-31      0.0  A10000005  0.675349   0.144072  0.186899   \n33407  2018-10-31      0.0   A2810176  0.146055   0.079922  0.250568   \n33383  2018-10-31      0.0   A2807687  0.551366   0.300781  0.225007   \n33379  2018-10-31      0.0   A2807232  0.708547   0.769513  0.928457   \n33376  2018-10-31      0.0   A2806932  0.482248   0.116658  0.286273   \n...           ...      ...        ...       ...        ...       ...   \n47112  2018-06-30      0.0   A4233575  0.723610   0.857182  0.117430   \n47109  2018-06-30      0.0   A4233356  0.636472   0.432827  0.423410   \n47106  2018-06-30      0.0   A4232739  0.911809   0.871835  0.073466   \n47104  2018-06-30      0.0   A4232571  0.333640   0.771295  0.678957   \n39915  2018-06-30      0.0    A345019  0.510283   0.545837  0.066670   \n\n       rh_score  zzc_score  zcx_score  person_info  finance_info  credit_info  \\\n0      0.483640   0.928328   0.369644    -0.322581      0.023810         0.00   \n33407  0.045240   0.766906   0.413713     0.013863      0.023810         0.00   \n33383  0.045447   0.735733   0.684182    -0.261014      0.071429         0.03   \n33379  0.739716   0.947453   0.361551    -0.128677      0.047619         0.00   \n33376  0.056618   0.047024   0.890433     0.078853      0.047619         0.00   \n...         ...        ...        ...          ...           ...          ...   \n47112  0.949779   0.280677   0.431667     0.078853      0.023810         0.00   \n47109  0.516783   0.678267   0.788935    -0.322581      0.023810         0.00   \n47106  0.433998   0.747908   0.962329     0.078853      0.023810         0.00   \n47104  0.305642   0.231494   0.020833     0.062660      0.047619         0.00   \n39915  0.257507   0.288563   0.628067    -0.322581      0.023810         0.00   \n\n       act_info  \n0      0.217949  \n33407  0.269231  \n33383  0.269231  \n33379  0.269231  \n33376  0.269231  \n...         ...  \n47112  0.166667  \n47109  0.166667  \n47106  0.166667  \n47104  0.166667  \n39915  0.538462  \n\n[79831 rows x 13 columns]",
      "text/html": "<div>\n<style scoped>\n    .dataframe tbody tr th:only-of-type {\n        vertical-align: middle;\n    }\n\n    .dataframe tbody tr th {\n        vertical-align: top;\n    }\n\n    .dataframe thead th {\n        text-align: right;\n    }\n</style>\n<table border=\"1\" class=\"dataframe\">\n  <thead>\n    <tr style=\"text-align: right;\">\n      <th></th>\n      <th>obs_mth</th>\n      <th>bad_ind</th>\n      <th>uid</th>\n      <th>td_score</th>\n      <th>jxl_score</th>\n      <th>mj_score</th>\n      <th>rh_score</th>\n      <th>zzc_score</th>\n      <th>zcx_score</th>\n      <th>person_info</th>\n      <th>finance_info</th>\n      <th>credit_info</th>\n      <th>act_info</th>\n    </tr>\n  </thead>\n  <tbody>\n    <tr>\n      <th>0</th>\n      <td>2018-10-31</td>\n      <td>0.0</td>\n      <td>A10000005</td>\n      <td>0.675349</td>\n      <td>0.144072</td>\n      <td>0.186899</td>\n      <td>0.483640</td>\n      <td>0.928328</td>\n      <td>0.369644</td>\n      <td>-0.322581</td>\n      <td>0.023810</td>\n      <td>0.00</td>\n      <td>0.217949</td>\n    </tr>\n    <tr>\n      <th>33407</th>\n      <td>2018-10-31</td>\n      <td>0.0</td>\n      <td>A2810176</td>\n      <td>0.146055</td>\n      <td>0.079922</td>\n      <td>0.250568</td>\n      <td>0.045240</td>\n      <td>0.766906</td>\n      <td>0.413713</td>\n      <td>0.013863</td>\n      <td>0.023810</td>\n      <td>0.00</td>\n      <td>0.269231</td>\n    </tr>\n    <tr>\n      <th>33383</th>\n      <td>2018-10-31</td>\n      <td>0.0</td>\n      <td>A2807687</td>\n      <td>0.551366</td>\n      <td>0.300781</td>\n      <td>0.225007</td>\n      <td>0.045447</td>\n      <td>0.735733</td>\n      <td>0.684182</td>\n      <td>-0.261014</td>\n      <td>0.071429</td>\n      <td>0.03</td>\n      <td>0.269231</td>\n    </tr>\n    <tr>\n      <th>33379</th>\n      <td>2018-10-31</td>\n      <td>0.0</td>\n      <td>A2807232</td>\n      <td>0.708547</td>\n      <td>0.769513</td>\n      <td>0.928457</td>\n      <td>0.739716</td>\n      <td>0.947453</td>\n      <td>0.361551</td>\n      <td>-0.128677</td>\n      <td>0.047619</td>\n      <td>0.00</td>\n      <td>0.269231</td>\n    </tr>\n    <tr>\n      <th>33376</th>\n      <td>2018-10-31</td>\n      <td>0.0</td>\n      <td>A2806932</td>\n      <td>0.482248</td>\n      <td>0.116658</td>\n      <td>0.286273</td>\n      <td>0.056618</td>\n      <td>0.047024</td>\n      <td>0.890433</td>\n      <td>0.078853</td>\n      <td>0.047619</td>\n      <td>0.00</td>\n      <td>0.269231</td>\n    </tr>\n    <tr>\n      <th>...</th>\n      <td>...</td>\n      <td>...</td>\n      <td>...</td>\n      <td>...</td>\n      <td>...</td>\n      <td>...</td>\n      <td>...</td>\n      <td>...</td>\n      <td>...</td>\n      <td>...</td>\n      <td>...</td>\n      <td>...</td>\n      <td>...</td>\n    </tr>\n    <tr>\n      <th>47112</th>\n      <td>2018-06-30</td>\n      <td>0.0</td>\n      <td>A4233575</td>\n      <td>0.723610</td>\n      <td>0.857182</td>\n      <td>0.117430</td>\n      <td>0.949779</td>\n      <td>0.280677</td>\n      <td>0.431667</td>\n      <td>0.078853</td>\n      <td>0.023810</td>\n      <td>0.00</td>\n      <td>0.166667</td>\n    </tr>\n    <tr>\n      <th>47109</th>\n      <td>2018-06-30</td>\n      <td>0.0</td>\n      <td>A4233356</td>\n      <td>0.636472</td>\n      <td>0.432827</td>\n      <td>0.423410</td>\n      <td>0.516783</td>\n      <td>0.678267</td>\n      <td>0.788935</td>\n      <td>-0.322581</td>\n      <td>0.023810</td>\n      <td>0.00</td>\n      <td>0.166667</td>\n    </tr>\n    <tr>\n      <th>47106</th>\n      <td>2018-06-30</td>\n      <td>0.0</td>\n      <td>A4232739</td>\n      <td>0.911809</td>\n      <td>0.871835</td>\n      <td>0.073466</td>\n      <td>0.433998</td>\n      <td>0.747908</td>\n      <td>0.962329</td>\n      <td>0.078853</td>\n      <td>0.023810</td>\n      <td>0.00</td>\n      <td>0.166667</td>\n    </tr>\n    <tr>\n      <th>47104</th>\n      <td>2018-06-30</td>\n      <td>0.0</td>\n      <td>A4232571</td>\n      <td>0.333640</td>\n      <td>0.771295</td>\n      <td>0.678957</td>\n      <td>0.305642</td>\n      <td>0.231494</td>\n      <td>0.020833</td>\n      <td>0.062660</td>\n      <td>0.047619</td>\n      <td>0.00</td>\n      <td>0.166667</td>\n    </tr>\n    <tr>\n      <th>39915</th>\n      <td>2018-06-30</td>\n      <td>0.0</td>\n      <td>A345019</td>\n      <td>0.510283</td>\n      <td>0.545837</td>\n      <td>0.066670</td>\n      <td>0.257507</td>\n      <td>0.288563</td>\n      <td>0.628067</td>\n      <td>-0.322581</td>\n      <td>0.023810</td>\n      <td>0.00</td>\n      <td>0.538462</td>\n    </tr>\n  </tbody>\n</table>\n<p>79831 rows × 13 columns</p>\n</div>"
     },
     "execution_count": 8,
     "metadata": {},
     "output_type": "execute_result"
    }
   ],
   "source": [
    "df_train = df_train.sort_values(by=['obs_mth'],ascending=False)\n",
    "df_train"
   ],
   "metadata": {
    "collapsed": false,
    "pycharm": {
     "name": "#%%\n"
    }
   }
  },
  {
   "cell_type": "code",
   "execution_count": 9,
   "outputs": [
    {
     "data": {
      "text/plain": "          obs_mth  bad_ind        uid  td_score  jxl_score  mj_score  \\\n0      2018-10-31      0.0  A10000005  0.675349   0.144072  0.186899   \n33407  2018-10-31      0.0   A2810176  0.146055   0.079922  0.250568   \n33383  2018-10-31      0.0   A2807687  0.551366   0.300781  0.225007   \n33379  2018-10-31      0.0   A2807232  0.708547   0.769513  0.928457   \n33376  2018-10-31      0.0   A2806932  0.482248   0.116658  0.286273   \n...           ...      ...        ...       ...        ...       ...   \n47112  2018-06-30      0.0   A4233575  0.723610   0.857182  0.117430   \n47109  2018-06-30      0.0   A4233356  0.636472   0.432827  0.423410   \n47106  2018-06-30      0.0   A4232739  0.911809   0.871835  0.073466   \n47104  2018-06-30      0.0   A4232571  0.333640   0.771295  0.678957   \n39915  2018-06-30      0.0    A345019  0.510283   0.545837  0.066670   \n\n       rh_score  zzc_score  zcx_score  person_info  finance_info  credit_info  \\\n0      0.483640   0.928328   0.369644    -0.322581      0.023810         0.00   \n33407  0.045240   0.766906   0.413713     0.013863      0.023810         0.00   \n33383  0.045447   0.735733   0.684182    -0.261014      0.071429         0.03   \n33379  0.739716   0.947453   0.361551    -0.128677      0.047619         0.00   \n33376  0.056618   0.047024   0.890433     0.078853      0.047619         0.00   \n...         ...        ...        ...          ...           ...          ...   \n47112  0.949779   0.280677   0.431667     0.078853      0.023810         0.00   \n47109  0.516783   0.678267   0.788935    -0.322581      0.023810         0.00   \n47106  0.433998   0.747908   0.962329     0.078853      0.023810         0.00   \n47104  0.305642   0.231494   0.020833     0.062660      0.047619         0.00   \n39915  0.257507   0.288563   0.628067    -0.322581      0.023810         0.00   \n\n       act_info   rank  \n0      0.217949      0  \n33407  0.269231      1  \n33383  0.269231      2  \n33379  0.269231      3  \n33376  0.269231      4  \n...         ...    ...  \n47112  0.166667  79826  \n47109  0.166667  79827  \n47106  0.166667  79828  \n47104  0.166667  79829  \n39915  0.538462  79830  \n\n[79831 rows x 14 columns]",
      "text/html": "<div>\n<style scoped>\n    .dataframe tbody tr th:only-of-type {\n        vertical-align: middle;\n    }\n\n    .dataframe tbody tr th {\n        vertical-align: top;\n    }\n\n    .dataframe thead th {\n        text-align: right;\n    }\n</style>\n<table border=\"1\" class=\"dataframe\">\n  <thead>\n    <tr style=\"text-align: right;\">\n      <th></th>\n      <th>obs_mth</th>\n      <th>bad_ind</th>\n      <th>uid</th>\n      <th>td_score</th>\n      <th>jxl_score</th>\n      <th>mj_score</th>\n      <th>rh_score</th>\n      <th>zzc_score</th>\n      <th>zcx_score</th>\n      <th>person_info</th>\n      <th>finance_info</th>\n      <th>credit_info</th>\n      <th>act_info</th>\n      <th>rank</th>\n    </tr>\n  </thead>\n  <tbody>\n    <tr>\n      <th>0</th>\n      <td>2018-10-31</td>\n      <td>0.0</td>\n      <td>A10000005</td>\n      <td>0.675349</td>\n      <td>0.144072</td>\n      <td>0.186899</td>\n      <td>0.483640</td>\n      <td>0.928328</td>\n      <td>0.369644</td>\n      <td>-0.322581</td>\n      <td>0.023810</td>\n      <td>0.00</td>\n      <td>0.217949</td>\n      <td>0</td>\n    </tr>\n    <tr>\n      <th>33407</th>\n      <td>2018-10-31</td>\n      <td>0.0</td>\n      <td>A2810176</td>\n      <td>0.146055</td>\n      <td>0.079922</td>\n      <td>0.250568</td>\n      <td>0.045240</td>\n      <td>0.766906</td>\n      <td>0.413713</td>\n      <td>0.013863</td>\n      <td>0.023810</td>\n      <td>0.00</td>\n      <td>0.269231</td>\n      <td>1</td>\n    </tr>\n    <tr>\n      <th>33383</th>\n      <td>2018-10-31</td>\n      <td>0.0</td>\n      <td>A2807687</td>\n      <td>0.551366</td>\n      <td>0.300781</td>\n      <td>0.225007</td>\n      <td>0.045447</td>\n      <td>0.735733</td>\n      <td>0.684182</td>\n      <td>-0.261014</td>\n      <td>0.071429</td>\n      <td>0.03</td>\n      <td>0.269231</td>\n      <td>2</td>\n    </tr>\n    <tr>\n      <th>33379</th>\n      <td>2018-10-31</td>\n      <td>0.0</td>\n      <td>A2807232</td>\n      <td>0.708547</td>\n      <td>0.769513</td>\n      <td>0.928457</td>\n      <td>0.739716</td>\n      <td>0.947453</td>\n      <td>0.361551</td>\n      <td>-0.128677</td>\n      <td>0.047619</td>\n      <td>0.00</td>\n      <td>0.269231</td>\n      <td>3</td>\n    </tr>\n    <tr>\n      <th>33376</th>\n      <td>2018-10-31</td>\n      <td>0.0</td>\n      <td>A2806932</td>\n      <td>0.482248</td>\n      <td>0.116658</td>\n      <td>0.286273</td>\n      <td>0.056618</td>\n      <td>0.047024</td>\n      <td>0.890433</td>\n      <td>0.078853</td>\n      <td>0.047619</td>\n      <td>0.00</td>\n      <td>0.269231</td>\n      <td>4</td>\n    </tr>\n    <tr>\n      <th>...</th>\n      <td>...</td>\n      <td>...</td>\n      <td>...</td>\n      <td>...</td>\n      <td>...</td>\n      <td>...</td>\n      <td>...</td>\n      <td>...</td>\n      <td>...</td>\n      <td>...</td>\n      <td>...</td>\n      <td>...</td>\n      <td>...</td>\n      <td>...</td>\n    </tr>\n    <tr>\n      <th>47112</th>\n      <td>2018-06-30</td>\n      <td>0.0</td>\n      <td>A4233575</td>\n      <td>0.723610</td>\n      <td>0.857182</td>\n      <td>0.117430</td>\n      <td>0.949779</td>\n      <td>0.280677</td>\n      <td>0.431667</td>\n      <td>0.078853</td>\n      <td>0.023810</td>\n      <td>0.00</td>\n      <td>0.166667</td>\n      <td>79826</td>\n    </tr>\n    <tr>\n      <th>47109</th>\n      <td>2018-06-30</td>\n      <td>0.0</td>\n      <td>A4233356</td>\n      <td>0.636472</td>\n      <td>0.432827</td>\n      <td>0.423410</td>\n      <td>0.516783</td>\n      <td>0.678267</td>\n      <td>0.788935</td>\n      <td>-0.322581</td>\n      <td>0.023810</td>\n      <td>0.00</td>\n      <td>0.166667</td>\n      <td>79827</td>\n    </tr>\n    <tr>\n      <th>47106</th>\n      <td>2018-06-30</td>\n      <td>0.0</td>\n      <td>A4232739</td>\n      <td>0.911809</td>\n      <td>0.871835</td>\n      <td>0.073466</td>\n      <td>0.433998</td>\n      <td>0.747908</td>\n      <td>0.962329</td>\n      <td>0.078853</td>\n      <td>0.023810</td>\n      <td>0.00</td>\n      <td>0.166667</td>\n      <td>79828</td>\n    </tr>\n    <tr>\n      <th>47104</th>\n      <td>2018-06-30</td>\n      <td>0.0</td>\n      <td>A4232571</td>\n      <td>0.333640</td>\n      <td>0.771295</td>\n      <td>0.678957</td>\n      <td>0.305642</td>\n      <td>0.231494</td>\n      <td>0.020833</td>\n      <td>0.062660</td>\n      <td>0.047619</td>\n      <td>0.00</td>\n      <td>0.166667</td>\n      <td>79829</td>\n    </tr>\n    <tr>\n      <th>39915</th>\n      <td>2018-06-30</td>\n      <td>0.0</td>\n      <td>A345019</td>\n      <td>0.510283</td>\n      <td>0.545837</td>\n      <td>0.066670</td>\n      <td>0.257507</td>\n      <td>0.288563</td>\n      <td>0.628067</td>\n      <td>-0.322581</td>\n      <td>0.023810</td>\n      <td>0.00</td>\n      <td>0.538462</td>\n      <td>79830</td>\n    </tr>\n  </tbody>\n</table>\n<p>79831 rows × 14 columns</p>\n</div>"
     },
     "execution_count": 9,
     "metadata": {},
     "output_type": "execute_result"
    }
   ],
   "source": [
    "#对训练集数据进行切分，为了更好地训练模型\n",
    "df_train['rank'] = [i for i in range(df_train.shape[0])]\n",
    "df_train"
   ],
   "metadata": {
    "collapsed": false,
    "pycharm": {
     "name": "#%%\n"
    }
   }
  },
  {
   "cell_type": "code",
   "execution_count": 10,
   "outputs": [
    {
     "data": {
      "text/plain": "14"
     },
     "execution_count": 10,
     "metadata": {},
     "output_type": "execute_result"
    }
   ],
   "source": [
    "df_train.shape[1]"
   ],
   "metadata": {
    "collapsed": false,
    "pycharm": {
     "name": "#%%\n"
    }
   }
  },
  {
   "cell_type": "code",
   "execution_count": 11,
   "outputs": [
    {
     "data": {
      "text/plain": "          obs_mth  bad_ind        uid  td_score  jxl_score  mj_score  \\\n0      2018-10-31      0.0  A10000005  0.675349   0.144072  0.186899   \n33407  2018-10-31      0.0   A2810176  0.146055   0.079922  0.250568   \n33383  2018-10-31      0.0   A2807687  0.551366   0.300781  0.225007   \n33379  2018-10-31      0.0   A2807232  0.708547   0.769513  0.928457   \n33376  2018-10-31      0.0   A2806932  0.482248   0.116658  0.286273   \n...           ...      ...        ...       ...        ...       ...   \n47112  2018-06-30      0.0   A4233575  0.723610   0.857182  0.117430   \n47109  2018-06-30      0.0   A4233356  0.636472   0.432827  0.423410   \n47106  2018-06-30      0.0   A4232739  0.911809   0.871835  0.073466   \n47104  2018-06-30      0.0   A4232571  0.333640   0.771295  0.678957   \n39915  2018-06-30      0.0    A345019  0.510283   0.545837  0.066670   \n\n       rh_score  zzc_score  zcx_score  person_info  finance_info  credit_info  \\\n0      0.483640   0.928328   0.369644    -0.322581      0.023810         0.00   \n33407  0.045240   0.766906   0.413713     0.013863      0.023810         0.00   \n33383  0.045447   0.735733   0.684182    -0.261014      0.071429         0.03   \n33379  0.739716   0.947453   0.361551    -0.128677      0.047619         0.00   \n33376  0.056618   0.047024   0.890433     0.078853      0.047619         0.00   \n...         ...        ...        ...          ...           ...          ...   \n47112  0.949779   0.280677   0.431667     0.078853      0.023810         0.00   \n47109  0.516783   0.678267   0.788935    -0.322581      0.023810         0.00   \n47106  0.433998   0.747908   0.962329     0.078853      0.023810         0.00   \n47104  0.305642   0.231494   0.020833     0.062660      0.047619         0.00   \n39915  0.257507   0.288563   0.628067    -0.322581      0.023810         0.00   \n\n       act_info rank  \n0      0.217949    0  \n33407  0.269231    0  \n33383  0.269231    0  \n33379  0.269231    0  \n33376  0.269231    0  \n...         ...  ...  \n47112  0.166667    4  \n47109  0.166667    4  \n47106  0.166667    4  \n47104  0.166667    4  \n39915  0.538462    4  \n\n[79831 rows x 14 columns]",
      "text/html": "<div>\n<style scoped>\n    .dataframe tbody tr th:only-of-type {\n        vertical-align: middle;\n    }\n\n    .dataframe tbody tr th {\n        vertical-align: top;\n    }\n\n    .dataframe thead th {\n        text-align: right;\n    }\n</style>\n<table border=\"1\" class=\"dataframe\">\n  <thead>\n    <tr style=\"text-align: right;\">\n      <th></th>\n      <th>obs_mth</th>\n      <th>bad_ind</th>\n      <th>uid</th>\n      <th>td_score</th>\n      <th>jxl_score</th>\n      <th>mj_score</th>\n      <th>rh_score</th>\n      <th>zzc_score</th>\n      <th>zcx_score</th>\n      <th>person_info</th>\n      <th>finance_info</th>\n      <th>credit_info</th>\n      <th>act_info</th>\n      <th>rank</th>\n    </tr>\n  </thead>\n  <tbody>\n    <tr>\n      <th>0</th>\n      <td>2018-10-31</td>\n      <td>0.0</td>\n      <td>A10000005</td>\n      <td>0.675349</td>\n      <td>0.144072</td>\n      <td>0.186899</td>\n      <td>0.483640</td>\n      <td>0.928328</td>\n      <td>0.369644</td>\n      <td>-0.322581</td>\n      <td>0.023810</td>\n      <td>0.00</td>\n      <td>0.217949</td>\n      <td>0</td>\n    </tr>\n    <tr>\n      <th>33407</th>\n      <td>2018-10-31</td>\n      <td>0.0</td>\n      <td>A2810176</td>\n      <td>0.146055</td>\n      <td>0.079922</td>\n      <td>0.250568</td>\n      <td>0.045240</td>\n      <td>0.766906</td>\n      <td>0.413713</td>\n      <td>0.013863</td>\n      <td>0.023810</td>\n      <td>0.00</td>\n      <td>0.269231</td>\n      <td>0</td>\n    </tr>\n    <tr>\n      <th>33383</th>\n      <td>2018-10-31</td>\n      <td>0.0</td>\n      <td>A2807687</td>\n      <td>0.551366</td>\n      <td>0.300781</td>\n      <td>0.225007</td>\n      <td>0.045447</td>\n      <td>0.735733</td>\n      <td>0.684182</td>\n      <td>-0.261014</td>\n      <td>0.071429</td>\n      <td>0.03</td>\n      <td>0.269231</td>\n      <td>0</td>\n    </tr>\n    <tr>\n      <th>33379</th>\n      <td>2018-10-31</td>\n      <td>0.0</td>\n      <td>A2807232</td>\n      <td>0.708547</td>\n      <td>0.769513</td>\n      <td>0.928457</td>\n      <td>0.739716</td>\n      <td>0.947453</td>\n      <td>0.361551</td>\n      <td>-0.128677</td>\n      <td>0.047619</td>\n      <td>0.00</td>\n      <td>0.269231</td>\n      <td>0</td>\n    </tr>\n    <tr>\n      <th>33376</th>\n      <td>2018-10-31</td>\n      <td>0.0</td>\n      <td>A2806932</td>\n      <td>0.482248</td>\n      <td>0.116658</td>\n      <td>0.286273</td>\n      <td>0.056618</td>\n      <td>0.047024</td>\n      <td>0.890433</td>\n      <td>0.078853</td>\n      <td>0.047619</td>\n      <td>0.00</td>\n      <td>0.269231</td>\n      <td>0</td>\n    </tr>\n    <tr>\n      <th>...</th>\n      <td>...</td>\n      <td>...</td>\n      <td>...</td>\n      <td>...</td>\n      <td>...</td>\n      <td>...</td>\n      <td>...</td>\n      <td>...</td>\n      <td>...</td>\n      <td>...</td>\n      <td>...</td>\n      <td>...</td>\n      <td>...</td>\n      <td>...</td>\n    </tr>\n    <tr>\n      <th>47112</th>\n      <td>2018-06-30</td>\n      <td>0.0</td>\n      <td>A4233575</td>\n      <td>0.723610</td>\n      <td>0.857182</td>\n      <td>0.117430</td>\n      <td>0.949779</td>\n      <td>0.280677</td>\n      <td>0.431667</td>\n      <td>0.078853</td>\n      <td>0.023810</td>\n      <td>0.00</td>\n      <td>0.166667</td>\n      <td>4</td>\n    </tr>\n    <tr>\n      <th>47109</th>\n      <td>2018-06-30</td>\n      <td>0.0</td>\n      <td>A4233356</td>\n      <td>0.636472</td>\n      <td>0.432827</td>\n      <td>0.423410</td>\n      <td>0.516783</td>\n      <td>0.678267</td>\n      <td>0.788935</td>\n      <td>-0.322581</td>\n      <td>0.023810</td>\n      <td>0.00</td>\n      <td>0.166667</td>\n      <td>4</td>\n    </tr>\n    <tr>\n      <th>47106</th>\n      <td>2018-06-30</td>\n      <td>0.0</td>\n      <td>A4232739</td>\n      <td>0.911809</td>\n      <td>0.871835</td>\n      <td>0.073466</td>\n      <td>0.433998</td>\n      <td>0.747908</td>\n      <td>0.962329</td>\n      <td>0.078853</td>\n      <td>0.023810</td>\n      <td>0.00</td>\n      <td>0.166667</td>\n      <td>4</td>\n    </tr>\n    <tr>\n      <th>47104</th>\n      <td>2018-06-30</td>\n      <td>0.0</td>\n      <td>A4232571</td>\n      <td>0.333640</td>\n      <td>0.771295</td>\n      <td>0.678957</td>\n      <td>0.305642</td>\n      <td>0.231494</td>\n      <td>0.020833</td>\n      <td>0.062660</td>\n      <td>0.047619</td>\n      <td>0.00</td>\n      <td>0.166667</td>\n      <td>4</td>\n    </tr>\n    <tr>\n      <th>39915</th>\n      <td>2018-06-30</td>\n      <td>0.0</td>\n      <td>A345019</td>\n      <td>0.510283</td>\n      <td>0.545837</td>\n      <td>0.066670</td>\n      <td>0.257507</td>\n      <td>0.288563</td>\n      <td>0.628067</td>\n      <td>-0.322581</td>\n      <td>0.023810</td>\n      <td>0.00</td>\n      <td>0.538462</td>\n      <td>4</td>\n    </tr>\n  </tbody>\n</table>\n<p>79831 rows × 14 columns</p>\n</div>"
     },
     "execution_count": 11,
     "metadata": {},
     "output_type": "execute_result"
    }
   ],
   "source": [
    "df_train['rank'] = pd.cut(df_train['rank'],bins=5,labels=[i for i in range(5)])\n",
    "df_train"
   ],
   "metadata": {
    "collapsed": false,
    "pycharm": {
     "name": "#%%\n"
    }
   }
  },
  {
   "cell_type": "code",
   "execution_count": 12,
   "outputs": [
    {
     "data": {
      "text/plain": "0    15967\n1    15966\n2    15966\n3    15966\n4    15966\nName: rank, dtype: int64"
     },
     "execution_count": 12,
     "metadata": {},
     "output_type": "execute_result"
    }
   ],
   "source": [
    "df_train['rank'].value_counts()\n"
   ],
   "metadata": {
    "collapsed": false,
    "pycharm": {
     "name": "#%%\n"
    }
   }
  },
  {
   "cell_type": "code",
   "execution_count": 13,
   "outputs": [
    {
     "data": {
      "text/plain": "79831"
     },
     "execution_count": 13,
     "metadata": {},
     "output_type": "execute_result"
    }
   ],
   "source": [
    "len(df_train)\n"
   ],
   "metadata": {
    "collapsed": false,
    "pycharm": {
     "name": "#%%\n"
    }
   }
  },
  {
   "cell_type": "markdown",
   "source": [
    "* LightGBM算法构建"
   ],
   "metadata": {
    "collapsed": false,
    "pycharm": {
     "name": "#%% md\n"
    }
   }
  },
  {
   "cell_type": "code",
   "execution_count": 14,
   "outputs": [],
   "source": [
    "def lgb_test(train_x,train_y,test_x,test_y):\n",
    "    # 创建lgb对象\n",
    "\tclf =lgb.LGBMClassifier(boosting_type = 'gbdt',objective = 'binary',metric = 'auc',\n",
    "\t\tlearning_rate = 0.3,n_estimators = 100,max_depth = 3,num_leaves = 20,\n",
    "\t\tmax_bin = 45,min_data_in_leaf = 6,bagging_fraction = 0.6,bagging_freq = 0,\n",
    "\t\tfeature_fraction = 0.8)\n",
    "    # 使用这个对象训练lgb模型\n",
    "\tclf.fit(train_x,train_y,eval_set = [(train_x,train_y),(test_x,test_y)],eval_metric = 'auc')\n",
    "    # 返回训练好的lgb模型, 返回最佳的分数\n",
    "\treturn clf,clf.best_score_['valid_1']['auc']\n"
   ],
   "metadata": {
    "collapsed": false,
    "pycharm": {
     "name": "#%%\n"
    }
   }
  },
  {
   "cell_type": "code",
   "execution_count": 36,
   "outputs": [],
   "source": [
    "feature_list = ['td_score', 'jxl_score', 'mj_score','rh_score', 'zzc_score', 'zcx_score', 'person_info', 'finance_info','credit_info', 'act_info']\n",
    "feature_importance_lst = []\n",
    "ks_train_lst = []\n",
    "ks_test_lst = []\n",
    "auc_list = []\n",
    "\n"
   ],
   "metadata": {
    "collapsed": false,
    "pycharm": {
     "name": "#%%\n"
    }
   }
  },
  {
   "cell_type": "code",
   "execution_count": 37,
   "outputs": [
    {
     "name": "stdout",
     "output_type": "stream",
     "text": [
      "[LightGBM] [Warning] min_data_in_leaf is set=6, min_child_samples=20 will be ignored. Current value: min_data_in_leaf=6\n",
      "[LightGBM] [Warning] feature_fraction is set=0.8, colsample_bytree=1.0 will be ignored. Current value: feature_fraction=0.8\n",
      "[LightGBM] [Warning] bagging_fraction is set=0.6, subsample=1.0 will be ignored. Current value: bagging_fraction=0.6\n",
      "[LightGBM] [Warning] bagging_freq is set=0, subsample_freq=0 will be ignored. Current value: bagging_freq=0\n",
      "[LightGBM] [Warning] min_data_in_leaf is set=6, min_child_samples=20 will be ignored. Current value: min_data_in_leaf=6\n",
      "[LightGBM] [Warning] feature_fraction is set=0.8, colsample_bytree=1.0 will be ignored. Current value: feature_fraction=0.8\n",
      "[LightGBM] [Warning] bagging_fraction is set=0.6, subsample=1.0 will be ignored. Current value: bagging_fraction=0.6\n",
      "[LightGBM] [Warning] bagging_freq is set=0, subsample_freq=0 will be ignored. Current value: bagging_freq=0\n",
      "[LightGBM] [Info] Number of positive: 1054, number of negative: 62810\n",
      "[LightGBM] [Info] Auto-choosing row-wise multi-threading, the overhead of testing was 0.000631 seconds.\n",
      "You can set `force_row_wise=true` to remove the overhead.\n",
      "And if memory is not enough, you can set `force_col_wise=true`.\n",
      "[LightGBM] [Info] Total Bins 390\n",
      "[LightGBM] [Info] Number of data points in the train set: 63864, number of used features: 10\n",
      "[LightGBM] [Warning] min_data_in_leaf is set=6, min_child_samples=20 will be ignored. Current value: min_data_in_leaf=6\n",
      "[LightGBM] [Warning] feature_fraction is set=0.8, colsample_bytree=1.0 will be ignored. Current value: feature_fraction=0.8\n",
      "[LightGBM] [Warning] bagging_fraction is set=0.6, subsample=1.0 will be ignored. Current value: bagging_fraction=0.6\n",
      "[LightGBM] [Warning] bagging_freq is set=0, subsample_freq=0 will be ignored. Current value: bagging_freq=0\n",
      "[LightGBM] [Info] [binary:BoostFromScore]: pavg=0.016504 -> initscore=-4.087522\n",
      "[LightGBM] [Info] Start training from score -4.087522\n",
      "[LightGBM] [Warning] No further splits with positive gain, best gain: -inf\n",
      "[LightGBM] [Warning] No further splits with positive gain, best gain: -inf\n",
      "[LightGBM] [Warning] No further splits with positive gain, best gain: -inf\n",
      "[LightGBM] [Warning] No further splits with positive gain, best gain: -inf\n",
      "[LightGBM] [Warning] min_data_in_leaf is set=6, min_child_samples=20 will be ignored. Current value: min_data_in_leaf=6\n",
      "[LightGBM] [Warning] feature_fraction is set=0.8, colsample_bytree=1.0 will be ignored. Current value: feature_fraction=0.8\n",
      "[LightGBM] [Warning] bagging_fraction is set=0.6, subsample=1.0 will be ignored. Current value: bagging_fraction=0.6\n",
      "[LightGBM] [Warning] bagging_freq is set=0, subsample_freq=0 will be ignored. Current value: bagging_freq=0\n",
      "[LightGBM] [Warning] min_data_in_leaf is set=6, min_child_samples=20 will be ignored. Current value: min_data_in_leaf=6\n",
      "[LightGBM] [Warning] feature_fraction is set=0.8, colsample_bytree=1.0 will be ignored. Current value: feature_fraction=0.8\n",
      "[LightGBM] [Warning] bagging_fraction is set=0.6, subsample=1.0 will be ignored. Current value: bagging_fraction=0.6\n",
      "[LightGBM] [Warning] bagging_freq is set=0, subsample_freq=0 will be ignored. Current value: bagging_freq=0\n",
      "[LightGBM] [Warning] min_data_in_leaf is set=6, min_child_samples=20 will be ignored. Current value: min_data_in_leaf=6\n",
      "[LightGBM] [Warning] feature_fraction is set=0.8, colsample_bytree=1.0 will be ignored. Current value: feature_fraction=0.8\n",
      "[LightGBM] [Warning] bagging_fraction is set=0.6, subsample=1.0 will be ignored. Current value: bagging_fraction=0.6\n",
      "[LightGBM] [Warning] bagging_freq is set=0, subsample_freq=0 will be ignored. Current value: bagging_freq=0\n",
      "[LightGBM] [Warning] min_data_in_leaf is set=6, min_child_samples=20 will be ignored. Current value: min_data_in_leaf=6\n",
      "[LightGBM] [Warning] feature_fraction is set=0.8, colsample_bytree=1.0 will be ignored. Current value: feature_fraction=0.8\n",
      "[LightGBM] [Warning] bagging_fraction is set=0.6, subsample=1.0 will be ignored. Current value: bagging_fraction=0.6\n",
      "[LightGBM] [Warning] bagging_freq is set=0, subsample_freq=0 will be ignored. Current value: bagging_freq=0\n",
      "[LightGBM] [Info] Number of positive: 1103, number of negative: 62762\n",
      "[LightGBM] [Info] Auto-choosing row-wise multi-threading, the overhead of testing was 0.000362 seconds.\n",
      "You can set `force_row_wise=true` to remove the overhead.\n",
      "And if memory is not enough, you can set `force_col_wise=true`.\n",
      "[LightGBM] [Info] Total Bins 392\n",
      "[LightGBM] [Info] Number of data points in the train set: 63865, number of used features: 10\n",
      "[LightGBM] [Warning] min_data_in_leaf is set=6, min_child_samples=20 will be ignored. Current value: min_data_in_leaf=6\n",
      "[LightGBM] [Warning] feature_fraction is set=0.8, colsample_bytree=1.0 will be ignored. Current value: feature_fraction=0.8\n",
      "[LightGBM] [Warning] bagging_fraction is set=0.6, subsample=1.0 will be ignored. Current value: bagging_fraction=0.6\n",
      "[LightGBM] [Warning] bagging_freq is set=0, subsample_freq=0 will be ignored. Current value: bagging_freq=0\n",
      "[LightGBM] [Info] [binary:BoostFromScore]: pavg=0.017271 -> initscore=-4.041316\n",
      "[LightGBM] [Info] Start training from score -4.041316\n",
      "[LightGBM] [Warning] No further splits with positive gain, best gain: -inf\n",
      "[LightGBM] [Warning] No further splits with positive gain, best gain: -inf\n",
      "[LightGBM] [Warning] No further splits with positive gain, best gain: -inf\n",
      "[LightGBM] [Warning] No further splits with positive gain, best gain: -inf\n",
      "[LightGBM] [Warning] No further splits with positive gain, best gain: -inf\n",
      "[LightGBM] [Warning] min_data_in_leaf is set=6, min_child_samples=20 will be ignored. Current value: min_data_in_leaf=6\n",
      "[LightGBM] [Warning] feature_fraction is set=0.8, colsample_bytree=1.0 will be ignored. Current value: feature_fraction=0.8\n",
      "[LightGBM] [Warning] bagging_fraction is set=0.6, subsample=1.0 will be ignored. Current value: bagging_fraction=0.6\n",
      "[LightGBM] [Warning] bagging_freq is set=0, subsample_freq=0 will be ignored. Current value: bagging_freq=0\n",
      "[LightGBM] [Warning] min_data_in_leaf is set=6, min_child_samples=20 will be ignored. Current value: min_data_in_leaf=6\n",
      "[LightGBM] [Warning] feature_fraction is set=0.8, colsample_bytree=1.0 will be ignored. Current value: feature_fraction=0.8\n",
      "[LightGBM] [Warning] bagging_fraction is set=0.6, subsample=1.0 will be ignored. Current value: bagging_fraction=0.6\n",
      "[LightGBM] [Warning] bagging_freq is set=0, subsample_freq=0 will be ignored. Current value: bagging_freq=0\n",
      "[LightGBM] [Warning] min_data_in_leaf is set=6, min_child_samples=20 will be ignored. Current value: min_data_in_leaf=6\n",
      "[LightGBM] [Warning] feature_fraction is set=0.8, colsample_bytree=1.0 will be ignored. Current value: feature_fraction=0.8\n",
      "[LightGBM] [Warning] bagging_fraction is set=0.6, subsample=1.0 will be ignored. Current value: bagging_fraction=0.6\n",
      "[LightGBM] [Warning] bagging_freq is set=0, subsample_freq=0 will be ignored. Current value: bagging_freq=0\n",
      "[LightGBM] [Warning] min_data_in_leaf is set=6, min_child_samples=20 will be ignored. Current value: min_data_in_leaf=6\n",
      "[LightGBM] [Warning] feature_fraction is set=0.8, colsample_bytree=1.0 will be ignored. Current value: feature_fraction=0.8\n",
      "[LightGBM] [Warning] bagging_fraction is set=0.6, subsample=1.0 will be ignored. Current value: bagging_fraction=0.6\n",
      "[LightGBM] [Warning] bagging_freq is set=0, subsample_freq=0 will be ignored. Current value: bagging_freq=0\n",
      "[LightGBM] [Info] Number of positive: 1279, number of negative: 62586\n",
      "[LightGBM] [Info] Auto-choosing row-wise multi-threading, the overhead of testing was 0.000580 seconds.\n",
      "You can set `force_row_wise=true` to remove the overhead.\n",
      "And if memory is not enough, you can set `force_col_wise=true`.\n",
      "[LightGBM] [Info] Total Bins 395\n",
      "[LightGBM] [Info] Number of data points in the train set: 63865, number of used features: 10\n",
      "[LightGBM] [Warning] min_data_in_leaf is set=6, min_child_samples=20 will be ignored. Current value: min_data_in_leaf=6\n",
      "[LightGBM] [Warning] feature_fraction is set=0.8, colsample_bytree=1.0 will be ignored. Current value: feature_fraction=0.8\n",
      "[LightGBM] [Warning] bagging_fraction is set=0.6, subsample=1.0 will be ignored. Current value: bagging_fraction=0.6\n",
      "[LightGBM] [Warning] bagging_freq is set=0, subsample_freq=0 will be ignored. Current value: bagging_freq=0\n",
      "[LightGBM] [Info] [binary:BoostFromScore]: pavg=0.020027 -> initscore=-3.890463\n",
      "[LightGBM] [Info] Start training from score -3.890463\n",
      "[LightGBM] [Warning] No further splits with positive gain, best gain: -inf\n",
      "[LightGBM] [Warning] No further splits with positive gain, best gain: -inf\n",
      "[LightGBM] [Warning] No further splits with positive gain, best gain: -inf\n",
      "[LightGBM] [Warning] No further splits with positive gain, best gain: -inf\n",
      "[LightGBM] [Warning] No further splits with positive gain, best gain: -inf\n",
      "[LightGBM] [Warning] No further splits with positive gain, best gain: -inf\n",
      "[LightGBM] [Warning] No further splits with positive gain, best gain: -inf\n",
      "[LightGBM] [Warning] No further splits with positive gain, best gain: -inf\n",
      "[LightGBM] [Warning] min_data_in_leaf is set=6, min_child_samples=20 will be ignored. Current value: min_data_in_leaf=6\n",
      "[LightGBM] [Warning] feature_fraction is set=0.8, colsample_bytree=1.0 will be ignored. Current value: feature_fraction=0.8\n",
      "[LightGBM] [Warning] bagging_fraction is set=0.6, subsample=1.0 will be ignored. Current value: bagging_fraction=0.6\n",
      "[LightGBM] [Warning] bagging_freq is set=0, subsample_freq=0 will be ignored. Current value: bagging_freq=0\n",
      "[LightGBM] [Warning] min_data_in_leaf is set=6, min_child_samples=20 will be ignored. Current value: min_data_in_leaf=6\n",
      "[LightGBM] [Warning] feature_fraction is set=0.8, colsample_bytree=1.0 will be ignored. Current value: feature_fraction=0.8\n",
      "[LightGBM] [Warning] bagging_fraction is set=0.6, subsample=1.0 will be ignored. Current value: bagging_fraction=0.6\n",
      "[LightGBM] [Warning] bagging_freq is set=0, subsample_freq=0 will be ignored. Current value: bagging_freq=0\n",
      "[LightGBM] [Warning] min_data_in_leaf is set=6, min_child_samples=20 will be ignored. Current value: min_data_in_leaf=6\n",
      "[LightGBM] [Warning] feature_fraction is set=0.8, colsample_bytree=1.0 will be ignored. Current value: feature_fraction=0.8\n",
      "[LightGBM] [Warning] bagging_fraction is set=0.6, subsample=1.0 will be ignored. Current value: bagging_fraction=0.6\n",
      "[LightGBM] [Warning] bagging_freq is set=0, subsample_freq=0 will be ignored. Current value: bagging_freq=0\n",
      "[LightGBM] [Warning] min_data_in_leaf is set=6, min_child_samples=20 will be ignored. Current value: min_data_in_leaf=6\n",
      "[LightGBM] [Warning] feature_fraction is set=0.8, colsample_bytree=1.0 will be ignored. Current value: feature_fraction=0.8\n",
      "[LightGBM] [Warning] bagging_fraction is set=0.6, subsample=1.0 will be ignored. Current value: bagging_fraction=0.6\n",
      "[LightGBM] [Warning] bagging_freq is set=0, subsample_freq=0 will be ignored. Current value: bagging_freq=0\n",
      "[LightGBM] [Info] Number of positive: 1258, number of negative: 62607\n",
      "[LightGBM] [Info] Auto-choosing row-wise multi-threading, the overhead of testing was 0.000414 seconds.\n",
      "You can set `force_row_wise=true` to remove the overhead.\n",
      "And if memory is not enough, you can set `force_col_wise=true`.\n",
      "[LightGBM] [Info] Total Bins 395\n",
      "[LightGBM] [Info] Number of data points in the train set: 63865, number of used features: 10\n",
      "[LightGBM] [Warning] min_data_in_leaf is set=6, min_child_samples=20 will be ignored. Current value: min_data_in_leaf=6\n",
      "[LightGBM] [Warning] feature_fraction is set=0.8, colsample_bytree=1.0 will be ignored. Current value: feature_fraction=0.8\n",
      "[LightGBM] [Warning] bagging_fraction is set=0.6, subsample=1.0 will be ignored. Current value: bagging_fraction=0.6\n",
      "[LightGBM] [Warning] bagging_freq is set=0, subsample_freq=0 will be ignored. Current value: bagging_freq=0\n",
      "[LightGBM] [Info] [binary:BoostFromScore]: pavg=0.019698 -> initscore=-3.907354\n",
      "[LightGBM] [Info] Start training from score -3.907354\n",
      "[LightGBM] [Warning] No further splits with positive gain, best gain: -inf\n",
      "[LightGBM] [Warning] min_data_in_leaf is set=6, min_child_samples=20 will be ignored. Current value: min_data_in_leaf=6\n",
      "[LightGBM] [Warning] feature_fraction is set=0.8, colsample_bytree=1.0 will be ignored. Current value: feature_fraction=0.8\n",
      "[LightGBM] [Warning] bagging_fraction is set=0.6, subsample=1.0 will be ignored. Current value: bagging_fraction=0.6\n",
      "[LightGBM] [Warning] bagging_freq is set=0, subsample_freq=0 will be ignored. Current value: bagging_freq=0\n",
      "[LightGBM] [Warning] min_data_in_leaf is set=6, min_child_samples=20 will be ignored. Current value: min_data_in_leaf=6\n",
      "[LightGBM] [Warning] feature_fraction is set=0.8, colsample_bytree=1.0 will be ignored. Current value: feature_fraction=0.8\n",
      "[LightGBM] [Warning] bagging_fraction is set=0.6, subsample=1.0 will be ignored. Current value: bagging_fraction=0.6\n",
      "[LightGBM] [Warning] bagging_freq is set=0, subsample_freq=0 will be ignored. Current value: bagging_freq=0\n",
      "[LightGBM] [Warning] min_data_in_leaf is set=6, min_child_samples=20 will be ignored. Current value: min_data_in_leaf=6\n",
      "[LightGBM] [Warning] feature_fraction is set=0.8, colsample_bytree=1.0 will be ignored. Current value: feature_fraction=0.8\n",
      "[LightGBM] [Warning] bagging_fraction is set=0.6, subsample=1.0 will be ignored. Current value: bagging_fraction=0.6\n",
      "[LightGBM] [Warning] bagging_freq is set=0, subsample_freq=0 will be ignored. Current value: bagging_freq=0\n",
      "[LightGBM] [Warning] min_data_in_leaf is set=6, min_child_samples=20 will be ignored. Current value: min_data_in_leaf=6\n",
      "[LightGBM] [Warning] feature_fraction is set=0.8, colsample_bytree=1.0 will be ignored. Current value: feature_fraction=0.8\n",
      "[LightGBM] [Warning] bagging_fraction is set=0.6, subsample=1.0 will be ignored. Current value: bagging_fraction=0.6\n",
      "[LightGBM] [Warning] bagging_freq is set=0, subsample_freq=0 will be ignored. Current value: bagging_freq=0\n",
      "[LightGBM] [Info] Number of positive: 1186, number of negative: 62679\n",
      "[LightGBM] [Info] Auto-choosing row-wise multi-threading, the overhead of testing was 0.000428 seconds.\n",
      "You can set `force_row_wise=true` to remove the overhead.\n",
      "And if memory is not enough, you can set `force_col_wise=true`.\n",
      "[LightGBM] [Info] Total Bins 395\n",
      "[LightGBM] [Info] Number of data points in the train set: 63865, number of used features: 10\n",
      "[LightGBM] [Warning] min_data_in_leaf is set=6, min_child_samples=20 will be ignored. Current value: min_data_in_leaf=6\n",
      "[LightGBM] [Warning] feature_fraction is set=0.8, colsample_bytree=1.0 will be ignored. Current value: feature_fraction=0.8\n",
      "[LightGBM] [Warning] bagging_fraction is set=0.6, subsample=1.0 will be ignored. Current value: bagging_fraction=0.6\n",
      "[LightGBM] [Warning] bagging_freq is set=0, subsample_freq=0 will be ignored. Current value: bagging_freq=0\n",
      "[LightGBM] [Info] [binary:BoostFromScore]: pavg=0.018570 -> initscore=-3.967440\n",
      "[LightGBM] [Info] Start training from score -3.967440\n",
      "[LightGBM] [Warning] No further splits with positive gain, best gain: -inf\n",
      "[LightGBM] [Warning] No further splits with positive gain, best gain: -inf\n",
      "[LightGBM] [Warning] min_data_in_leaf is set=6, min_child_samples=20 will be ignored. Current value: min_data_in_leaf=6\n",
      "[LightGBM] [Warning] feature_fraction is set=0.8, colsample_bytree=1.0 will be ignored. Current value: feature_fraction=0.8\n",
      "[LightGBM] [Warning] bagging_fraction is set=0.6, subsample=1.0 will be ignored. Current value: bagging_fraction=0.6\n",
      "[LightGBM] [Warning] bagging_freq is set=0, subsample_freq=0 will be ignored. Current value: bagging_freq=0\n",
      "[LightGBM] [Warning] min_data_in_leaf is set=6, min_child_samples=20 will be ignored. Current value: min_data_in_leaf=6\n",
      "[LightGBM] [Warning] feature_fraction is set=0.8, colsample_bytree=1.0 will be ignored. Current value: feature_fraction=0.8\n",
      "[LightGBM] [Warning] bagging_fraction is set=0.6, subsample=1.0 will be ignored. Current value: bagging_fraction=0.6\n",
      "[LightGBM] [Warning] bagging_freq is set=0, subsample_freq=0 will be ignored. Current value: bagging_freq=0\n"
     ]
    }
   ],
   "source": [
    "for rk in range(5):\n",
    "    #测试数据集\n",
    "    ttest = df_train[df_train['rank'] == rk]\n",
    "    #训练数据集\n",
    "    ttrain = df_train[df_train['rank'] != rk]\n",
    "\n",
    "    #准备训练集的x和y\n",
    "    train_x = ttrain[feature_list]\n",
    "    train_y = ttrain['bad_ind']\n",
    "\n",
    "    #准备测试集的x和y\n",
    "    test_x = ttest[feature_list]\n",
    "    test_y = ttest['bad_ind']\n",
    "\n",
    "    #模型训练\n",
    "    model,auc = lgb_test(train_x,train_y,test_x,test_y)\n",
    "\n",
    "    #保存结果\n",
    "    feature_importance_df = pd.DataFrame({'name':model.feature_name_,'importance':model.feature_importances_})\\\n",
    "        .set_index('name')\n",
    "    #保存刚刚的特征重要性结果\n",
    "    feature_importance_lst.append(feature_importance_df)\n",
    "    #保存auc值\n",
    "    auc_list.append(auc)\n",
    "\n",
    "    #模型预测\n",
    "    y_pred_train = model.predict_proba(train_x)[:,1]\n",
    "    y_pred_test = model.predict_proba(test_x)[:,1]\n",
    "\n",
    "    #获取TPR，FPR\n",
    "    fpr_train,tpr_train,_ = roc_curve(train_y,y_pred_train)\n",
    "    fpr_test,tpr_test,_ = roc_curve(test_y,y_pred_test)\n",
    "\n",
    "    #计算KS\n",
    "    train_ks = abs(fpr_train - tpr_train).max()\n",
    "    test_ks = abs(fpr_test - tpr_test).max()\n",
    "\n",
    "    #保存ks值\n",
    "    ks_train_lst.append(train_ks)\n",
    "    ks_test_lst.append(test_ks)"
   ],
   "metadata": {
    "collapsed": false,
    "pycharm": {
     "name": "#%%\n"
    }
   }
  },
  {
   "cell_type": "code",
   "execution_count": 38,
   "outputs": [
    {
     "data": {
      "text/plain": "[0.5975672844852717,\n 0.5783467616715372,\n 0.5695855263126663,\n 0.5709695906807863,\n 0.5856241417665808]"
     },
     "execution_count": 38,
     "metadata": {},
     "output_type": "execute_result"
    }
   ],
   "source": [
    "ks_train_lst\n"
   ],
   "metadata": {
    "collapsed": false,
    "pycharm": {
     "name": "#%%\n"
    }
   }
  },
  {
   "cell_type": "code",
   "execution_count": 39,
   "outputs": [
    {
     "data": {
      "text/plain": "[0.3853595242452872,\n 0.4326870320933379,\n 0.4998707279229346,\n 0.48235428678191344,\n 0.4097696111627038]"
     },
     "execution_count": 39,
     "metadata": {},
     "output_type": "execute_result"
    }
   ],
   "source": [
    "ks_test_lst\n"
   ],
   "metadata": {
    "collapsed": false,
    "pycharm": {
     "name": "#%%\n"
    }
   }
  },
  {
   "cell_type": "code",
   "execution_count": 40,
   "outputs": [
    {
     "data": {
      "text/plain": "[0.7537613522256793,\n 0.7771178652722271,\n 0.8143533492088516,\n 0.7938591816154508,\n 0.7697373502589315]"
     },
     "execution_count": 40,
     "metadata": {},
     "output_type": "execute_result"
    }
   ],
   "source": [
    "auc_list\n"
   ],
   "metadata": {
    "collapsed": false,
    "pycharm": {
     "name": "#%%\n"
    }
   }
  },
  {
   "cell_type": "code",
   "execution_count": 41,
   "outputs": [
    {
     "data": {
      "text/plain": "[              importance\n name                    \n td_score              70\n jxl_score             71\n mj_score              71\n rh_score              71\n zzc_score             62\n zcx_score             67\n person_info           33\n finance_info          88\n credit_info           75\n act_info              86,\n               importance\n name                    \n td_score              50\n jxl_score             66\n mj_score              88\n rh_score              62\n zzc_score             62\n zcx_score             66\n person_info           46\n finance_info          86\n credit_info           80\n act_info              88,\n               importance\n name                    \n td_score              68\n jxl_score             64\n mj_score              64\n rh_score              75\n zzc_score             69\n zcx_score             55\n person_info           36\n finance_info          82\n credit_info           91\n act_info              81,\n               importance\n name                    \n td_score              58\n jxl_score             70\n mj_score              79\n rh_score              66\n zzc_score             79\n zcx_score             65\n person_info           54\n finance_info          71\n credit_info           70\n act_info              84,\n               importance\n name                    \n td_score              64\n jxl_score             65\n mj_score              86\n rh_score              78\n zzc_score             77\n zcx_score             73\n person_info           35\n finance_info          70\n credit_info           62\n act_info              85]"
     },
     "execution_count": 41,
     "metadata": {},
     "output_type": "execute_result"
    }
   ],
   "source": [
    "feature_importance_lst"
   ],
   "metadata": {
    "collapsed": false,
    "pycharm": {
     "name": "#%%\n"
    }
   }
  },
  {
   "cell_type": "code",
   "execution_count": 42,
   "outputs": [
    {
     "data": {
      "text/plain": "              importance  importance  importance  importance  importance\nname                                                                    \ntd_score              70          50          68          58          64\njxl_score             71          66          64          70          65\nmj_score              71          88          64          79          86\nrh_score              71          62          75          66          78\nzzc_score             62          62          69          79          77\nzcx_score             67          66          55          65          73\nperson_info           33          46          36          54          35\nfinance_info          88          86          82          71          70\ncredit_info           75          80          91          70          62\nact_info              86          88          81          84          85",
      "text/html": "<div>\n<style scoped>\n    .dataframe tbody tr th:only-of-type {\n        vertical-align: middle;\n    }\n\n    .dataframe tbody tr th {\n        vertical-align: top;\n    }\n\n    .dataframe thead th {\n        text-align: right;\n    }\n</style>\n<table border=\"1\" class=\"dataframe\">\n  <thead>\n    <tr style=\"text-align: right;\">\n      <th></th>\n      <th>importance</th>\n      <th>importance</th>\n      <th>importance</th>\n      <th>importance</th>\n      <th>importance</th>\n    </tr>\n    <tr>\n      <th>name</th>\n      <th></th>\n      <th></th>\n      <th></th>\n      <th></th>\n      <th></th>\n    </tr>\n  </thead>\n  <tbody>\n    <tr>\n      <th>td_score</th>\n      <td>70</td>\n      <td>50</td>\n      <td>68</td>\n      <td>58</td>\n      <td>64</td>\n    </tr>\n    <tr>\n      <th>jxl_score</th>\n      <td>71</td>\n      <td>66</td>\n      <td>64</td>\n      <td>70</td>\n      <td>65</td>\n    </tr>\n    <tr>\n      <th>mj_score</th>\n      <td>71</td>\n      <td>88</td>\n      <td>64</td>\n      <td>79</td>\n      <td>86</td>\n    </tr>\n    <tr>\n      <th>rh_score</th>\n      <td>71</td>\n      <td>62</td>\n      <td>75</td>\n      <td>66</td>\n      <td>78</td>\n    </tr>\n    <tr>\n      <th>zzc_score</th>\n      <td>62</td>\n      <td>62</td>\n      <td>69</td>\n      <td>79</td>\n      <td>77</td>\n    </tr>\n    <tr>\n      <th>zcx_score</th>\n      <td>67</td>\n      <td>66</td>\n      <td>55</td>\n      <td>65</td>\n      <td>73</td>\n    </tr>\n    <tr>\n      <th>person_info</th>\n      <td>33</td>\n      <td>46</td>\n      <td>36</td>\n      <td>54</td>\n      <td>35</td>\n    </tr>\n    <tr>\n      <th>finance_info</th>\n      <td>88</td>\n      <td>86</td>\n      <td>82</td>\n      <td>71</td>\n      <td>70</td>\n    </tr>\n    <tr>\n      <th>credit_info</th>\n      <td>75</td>\n      <td>80</td>\n      <td>91</td>\n      <td>70</td>\n      <td>62</td>\n    </tr>\n    <tr>\n      <th>act_info</th>\n      <td>86</td>\n      <td>88</td>\n      <td>81</td>\n      <td>84</td>\n      <td>85</td>\n    </tr>\n  </tbody>\n</table>\n</div>"
     },
     "execution_count": 42,
     "metadata": {},
     "output_type": "execute_result"
    }
   ],
   "source": [
    "pd.concat(feature_importance_lst,axis=1)"
   ],
   "metadata": {
    "collapsed": false,
    "pycharm": {
     "name": "#%%\n"
    }
   }
  },
  {
   "cell_type": "code",
   "execution_count": 44,
   "outputs": [],
   "source": [
    "#取特征重要性的平均结果\n",
    "feature_importance = pd.concat(feature_importance_lst,axis=1).mean(1)"
   ],
   "metadata": {
    "collapsed": false,
    "pycharm": {
     "name": "#%%\n"
    }
   }
  },
  {
   "cell_type": "code",
   "execution_count": 46,
   "outputs": [
    {
     "data": {
      "text/plain": "name\nact_info        84.8\nfinance_info    79.4\nmj_score        77.6\ncredit_info     75.6\nrh_score        70.4\nzzc_score       69.8\njxl_score       67.2\nzcx_score       65.2\ntd_score        62.0\nperson_info     40.8\ndtype: float64"
     },
     "execution_count": 46,
     "metadata": {},
     "output_type": "execute_result"
    }
   ],
   "source": [
    "feature_importance = feature_importance.sort_values(ascending=False)\n",
    "feature_importance"
   ],
   "metadata": {
    "collapsed": false,
    "pycharm": {
     "name": "#%%\n"
    }
   }
  },
  {
   "cell_type": "code",
   "execution_count": 47,
   "outputs": [
    {
     "name": "stdout",
     "output_type": "stream",
     "text": [
      "[LightGBM] [Warning] min_data_in_leaf is set=6, min_child_samples=20 will be ignored. Current value: min_data_in_leaf=6\n",
      "[LightGBM] [Warning] feature_fraction is set=0.8, colsample_bytree=1.0 will be ignored. Current value: feature_fraction=0.8\n",
      "[LightGBM] [Warning] bagging_fraction is set=0.6, subsample=1.0 will be ignored. Current value: bagging_fraction=0.6\n",
      "[LightGBM] [Warning] bagging_freq is set=0, subsample_freq=0 will be ignored. Current value: bagging_freq=0\n",
      "[LightGBM] [Warning] min_data_in_leaf is set=6, min_child_samples=20 will be ignored. Current value: min_data_in_leaf=6\n",
      "[LightGBM] [Warning] feature_fraction is set=0.8, colsample_bytree=1.0 will be ignored. Current value: feature_fraction=0.8\n",
      "[LightGBM] [Warning] bagging_fraction is set=0.6, subsample=1.0 will be ignored. Current value: bagging_fraction=0.6\n",
      "[LightGBM] [Warning] bagging_freq is set=0, subsample_freq=0 will be ignored. Current value: bagging_freq=0\n",
      "[LightGBM] [Info] Number of positive: 1470, number of negative: 78361\n",
      "[LightGBM] [Info] Auto-choosing row-wise multi-threading, the overhead of testing was 0.000248 seconds.\n",
      "You can set `force_row_wise=true` to remove the overhead.\n",
      "And if memory is not enough, you can set `force_col_wise=true`.\n",
      "[LightGBM] [Info] Total Bins 125\n",
      "[LightGBM] [Info] Number of data points in the train set: 79831, number of used features: 4\n",
      "[LightGBM] [Warning] min_data_in_leaf is set=6, min_child_samples=20 will be ignored. Current value: min_data_in_leaf=6\n",
      "[LightGBM] [Warning] feature_fraction is set=0.8, colsample_bytree=1.0 will be ignored. Current value: feature_fraction=0.8\n",
      "[LightGBM] [Warning] bagging_fraction is set=0.6, subsample=1.0 will be ignored. Current value: bagging_fraction=0.6\n",
      "[LightGBM] [Warning] bagging_freq is set=0, subsample_freq=0 will be ignored. Current value: bagging_freq=0\n",
      "[LightGBM] [Info] [binary:BoostFromScore]: pavg=0.018414 -> initscore=-3.976064\n",
      "[LightGBM] [Info] Start training from score -3.976064\n",
      "[LightGBM] [Warning] No further splits with positive gain, best gain: -inf\n",
      "[LightGBM] [Warning] No further splits with positive gain, best gain: -inf\n",
      "[LightGBM] [Warning] No further splits with positive gain, best gain: -inf\n",
      "[LightGBM] [Warning] No further splits with positive gain, best gain: -inf\n",
      "[LightGBM] [Warning] No further splits with positive gain, best gain: -inf\n",
      "[LightGBM] [Warning] No further splits with positive gain, best gain: -inf\n",
      "[LightGBM] [Warning] No further splits with positive gain, best gain: -inf\n",
      "[LightGBM] [Warning] No further splits with positive gain, best gain: -inf\n",
      "[LightGBM] [Warning] No further splits with positive gain, best gain: -inf\n",
      "[LightGBM] [Warning] No further splits with positive gain, best gain: -inf\n",
      "[LightGBM] [Warning] No further splits with positive gain, best gain: -inf\n",
      "[LightGBM] [Warning] No further splits with positive gain, best gain: -inf\n",
      "[LightGBM] [Warning] No further splits with positive gain, best gain: -inf\n",
      "[LightGBM] [Warning] No further splits with positive gain, best gain: -inf\n",
      "[LightGBM] [Warning] No further splits with positive gain, best gain: -inf\n",
      "[LightGBM] [Warning] No further splits with positive gain, best gain: -inf\n",
      "[LightGBM] [Warning] No further splits with positive gain, best gain: -inf\n",
      "[LightGBM] [Warning] No further splits with positive gain, best gain: -inf\n",
      "[LightGBM] [Warning] No further splits with positive gain, best gain: -inf\n",
      "[LightGBM] [Warning] No further splits with positive gain, best gain: -inf\n"
     ]
    }
   ],
   "source": [
    "lst = ['person_info','finance_info','credit_info','act_info']\n",
    "#划分训练集和验证集\n",
    "train = data[data['obs_mth'] != '2018-11-30'].reset_index().copy()\n",
    "evl = data[data['obs_mth'] == '2018-11-30'].reset_index().copy()\n",
    "\n",
    "#准备训练集和测试集的x、y\n",
    "x = train[lst]\n",
    "y = train['bad_ind']\n",
    "\n",
    "evl_x = evl[lst]\n",
    "evl_y = evl['bad_ind']\n",
    "\n",
    "#模型训练\n",
    "model ,auc = lgb_test(x,y,evl_x,evl_y)"
   ],
   "metadata": {
    "collapsed": false,
    "pycharm": {
     "name": "#%%\n"
    }
   }
  },
  {
   "cell_type": "code",
   "execution_count": 48,
   "outputs": [
    {
     "data": {
      "text/plain": "0.7787647675000429"
     },
     "execution_count": 48,
     "metadata": {},
     "output_type": "execute_result"
    }
   ],
   "source": [
    "auc\n"
   ],
   "metadata": {
    "collapsed": false,
    "pycharm": {
     "name": "#%%\n"
    }
   }
  },
  {
   "cell_type": "code",
   "execution_count": 49,
   "outputs": [
    {
     "name": "stdout",
     "output_type": "stream",
     "text": [
      "[LightGBM] [Warning] min_data_in_leaf is set=6, min_child_samples=20 will be ignored. Current value: min_data_in_leaf=6\n",
      "[LightGBM] [Warning] feature_fraction is set=0.8, colsample_bytree=1.0 will be ignored. Current value: feature_fraction=0.8\n",
      "[LightGBM] [Warning] bagging_fraction is set=0.6, subsample=1.0 will be ignored. Current value: bagging_fraction=0.6\n",
      "[LightGBM] [Warning] bagging_freq is set=0, subsample_freq=0 will be ignored. Current value: bagging_freq=0\n",
      "train_ks: 0.5112871467802036\n"
     ]
    }
   ],
   "source": [
    "#模型预测，计算ks\n",
    "y_pred = model.predict_proba(x)[:,1]\n",
    "fpr_lgb_train, tpr_lgb_train, _ = roc_curve(y,y_pred)\n",
    "train_ks = abs(fpr_lgb_train - tpr_lgb_train).max()\n",
    "print('train_ks:',train_ks)"
   ],
   "metadata": {
    "collapsed": false,
    "pycharm": {
     "name": "#%%\n"
    }
   }
  },
  {
   "cell_type": "code",
   "execution_count": 50,
   "outputs": [
    {
     "name": "stdout",
     "output_type": "stream",
     "text": [
      "[LightGBM] [Warning] min_data_in_leaf is set=6, min_child_samples=20 will be ignored. Current value: min_data_in_leaf=6\n",
      "[LightGBM] [Warning] feature_fraction is set=0.8, colsample_bytree=1.0 will be ignored. Current value: feature_fraction=0.8\n",
      "[LightGBM] [Warning] bagging_fraction is set=0.6, subsample=1.0 will be ignored. Current value: bagging_fraction=0.6\n",
      "[LightGBM] [Warning] bagging_freq is set=0, subsample_freq=0 will be ignored. Current value: bagging_freq=0\n",
      "evl_ks: 0.4302554685929041\n"
     ]
    }
   ],
   "source": [
    "y_pred = model.predict_proba(evl_x)[:,1]\n",
    "fpr_lgb, tpr_lgb, _ = roc_curve(evl_y,y_pred)\n",
    "evl_ks = abs(fpr_lgb - tpr_lgb).max()\n",
    "print('evl_ks:',evl_ks)\n"
   ],
   "metadata": {
    "collapsed": false,
    "pycharm": {
     "name": "#%%\n"
    }
   }
  },
  {
   "cell_type": "code",
   "execution_count": 51,
   "outputs": [
    {
     "data": {
      "text/plain": "<Figure size 432x288 with 1 Axes>",
      "image/png": "[encoded data removed]"
     },
     "metadata": {
      "needs_background": "light"
     },
     "output_type": "display_data"
    }
   ],
   "source": [
    "from matplotlib import pyplot as plt\n",
    "plt.plot(fpr_lgb_train,tpr_lgb_train,label = 'train LR')\n",
    "plt.plot(fpr_lgb,tpr_lgb,label = 'evl LR')\n",
    "plt.plot([0,1],[0,1],'k--')\n",
    "plt.xlabel('False positive rate')\n",
    "plt.ylabel('True positive rate')\n",
    "plt.title('ROC Curve')\n",
    "plt.legend(loc = 'best')\n",
    "plt.show()\n"
   ],
   "metadata": {
    "collapsed": false,
    "pycharm": {
     "name": "#%%\n"
    }
   }
  },
  {
   "cell_type": "markdown",
   "source": [
    "* 评分映射\n"
   ],
   "metadata": {
    "collapsed": false,
    "pycharm": {
     "name": "#%% md\n"
    }
   }
  },
  {
   "cell_type": "code",
   "execution_count": 55,
   "outputs": [
    {
     "name": "stdout",
     "output_type": "stream",
     "text": [
      "[LightGBM] [Warning] min_data_in_leaf is set=6, min_child_samples=20 will be ignored. Current value: min_data_in_leaf=6\n",
      "[LightGBM] [Warning] feature_fraction is set=0.8, colsample_bytree=1.0 will be ignored. Current value: feature_fraction=0.8\n",
      "[LightGBM] [Warning] bagging_fraction is set=0.6, subsample=1.0 will be ignored. Current value: bagging_fraction=0.6\n",
      "[LightGBM] [Warning] bagging_freq is set=0, subsample_freq=0 will be ignored. Current value: bagging_freq=0\n"
     ]
    },
    {
     "data": {
      "text/plain": "       index     obs_mth  bad_ind                     uid  td_score  \\\n0      79831  2018-11-30      0.0               A10002345  0.123276   \n1      79832  2018-11-30      0.0               A10003755  0.462460   \n2      79833  2018-11-30      0.0                A1000756  0.812642   \n3      79834  2018-11-30      0.0                 A100085  0.007039   \n4      79835  2018-11-30      0.0               A10008856  0.078063   \n...      ...         ...      ...                     ...       ...   \n15970  95801  2018-11-30      0.0  Ab99_96436391998107976  0.890233   \n15971  95802  2018-11-30      0.0  Ab99_96436391998176292  0.161840   \n15972  95803  2018-11-30      0.0  Ab99_96436391998322771  0.746522   \n15973  95804  2018-11-30      0.0  Ab99_96436391998973383  0.176846   \n15974  95805  2018-11-30      0.0  Ab99_96436392001380983  0.417920   \n\n       jxl_score  mj_score  rh_score  zzc_score  zcx_score  person_info  \\\n0       0.872117  0.723560  0.759074   0.184735   0.080376    -0.053718   \n1       0.157643  0.762271  0.481466   0.967006   0.780087     0.013863   \n2       0.400040  0.280942  0.099454   0.942880   0.588936     0.078853   \n3       0.396036  0.857868  0.882255   0.345511   0.419969    -0.053718   \n4       0.291289  0.654864  0.528708   0.754482   0.732534     0.013863   \n...          ...       ...       ...        ...        ...          ...   \n15970   0.442687  0.802687  0.776982   0.638971   0.605522     0.078853   \n15971   0.495766  0.085750  0.536738   0.596144   0.132972     0.078853   \n15972   0.732739  0.025475  0.831805   0.642904   0.029297     0.078853   \n15973   0.749610  0.933879  0.506921   0.867099   0.751643     0.078853   \n15974   0.650343  0.985863  0.374100   0.330634   0.596833     0.078853   \n\n       finance_info  credit_info  act_info     xbeta  \n0          0.047619         1.00  0.230769  0.104260  \n1          0.023810         0.00  0.230769  0.004736  \n2          0.023810         0.02  0.474359  0.016706  \n3          0.047619         0.02  0.666667  0.010245  \n4          0.023810         0.00  0.230769  0.004736  \n...             ...          ...       ...       ...  \n15970      0.142857         0.25  0.076923  0.085003  \n15971      0.023810         0.00  0.076923  0.015709  \n15972      0.023810         0.00  0.076923  0.015709  \n15973      0.023810         0.02  0.076923  0.022099  \n15974      0.071429         0.62  0.076923  0.055635  \n\n[15975 rows x 15 columns]",
      "text/html": "<div>\n<style scoped>\n    .dataframe tbody tr th:only-of-type {\n        vertical-align: middle;\n    }\n\n    .dataframe tbody tr th {\n        vertical-align: top;\n    }\n\n    .dataframe thead th {\n        text-align: right;\n    }\n</style>\n<table border=\"1\" class=\"dataframe\">\n  <thead>\n    <tr style=\"text-align: right;\">\n      <th></th>\n      <th>index</th>\n      <th>obs_mth</th>\n      <th>bad_ind</th>\n      <th>uid</th>\n      <th>td_score</th>\n      <th>jxl_score</th>\n      <th>mj_score</th>\n      <th>rh_score</th>\n      <th>zzc_score</th>\n      <th>zcx_score</th>\n      <th>person_info</th>\n      <th>finance_info</th>\n      <th>credit_info</th>\n      <th>act_info</th>\n      <th>xbeta</th>\n    </tr>\n  </thead>\n  <tbody>\n    <tr>\n      <th>0</th>\n      <td>79831</td>\n      <td>2018-11-30</td>\n      <td>0.0</td>\n      <td>A10002345</td>\n      <td>0.123276</td>\n      <td>0.872117</td>\n      <td>0.723560</td>\n      <td>0.759074</td>\n      <td>0.184735</td>\n      <td>0.080376</td>\n      <td>-0.053718</td>\n      <td>0.047619</td>\n      <td>1.00</td>\n      <td>0.230769</td>\n      <td>0.104260</td>\n    </tr>\n    <tr>\n      <th>1</th>\n      <td>79832</td>\n      <td>2018-11-30</td>\n      <td>0.0</td>\n      <td>A10003755</td>\n      <td>0.462460</td>\n      <td>0.157643</td>\n      <td>0.762271</td>\n      <td>0.481466</td>\n      <td>0.967006</td>\n      <td>0.780087</td>\n      <td>0.013863</td>\n      <td>0.023810</td>\n      <td>0.00</td>\n      <td>0.230769</td>\n      <td>0.004736</td>\n    </tr>\n    <tr>\n      <th>2</th>\n      <td>79833</td>\n      <td>2018-11-30</td>\n      <td>0.0</td>\n      <td>A1000756</td>\n      <td>0.812642</td>\n      <td>0.400040</td>\n      <td>0.280942</td>\n      <td>0.099454</td>\n      <td>0.942880</td>\n      <td>0.588936</td>\n      <td>0.078853</td>\n      <td>0.023810</td>\n      <td>0.02</td>\n      <td>0.474359</td>\n      <td>0.016706</td>\n    </tr>\n    <tr>\n      <th>3</th>\n      <td>79834</td>\n      <td>2018-11-30</td>\n      <td>0.0</td>\n      <td>A100085</td>\n      <td>0.007039</td>\n      <td>0.396036</td>\n      <td>0.857868</td>\n      <td>0.882255</td>\n      <td>0.345511</td>\n      <td>0.419969</td>\n      <td>-0.053718</td>\n      <td>0.047619</td>\n      <td>0.02</td>\n      <td>0.666667</td>\n      <td>0.010245</td>\n    </tr>\n    <tr>\n      <th>4</th>\n      <td>79835</td>\n      <td>2018-11-30</td>\n      <td>0.0</td>\n      <td>A10008856</td>\n      <td>0.078063</td>\n      <td>0.291289</td>\n      <td>0.654864</td>\n      <td>0.528708</td>\n      <td>0.754482</td>\n      <td>0.732534</td>\n      <td>0.013863</td>\n      <td>0.023810</td>\n      <td>0.00</td>\n      <td>0.230769</td>\n      <td>0.004736</td>\n    </tr>\n    <tr>\n      <th>...</th>\n      <td>...</td>\n      <td>...</td>\n      <td>...</td>\n      <td>...</td>\n      <td>...</td>\n      <td>...</td>\n      <td>...</td>\n      <td>...</td>\n      <td>...</td>\n      <td>...</td>\n      <td>...</td>\n      <td>...</td>\n      <td>...</td>\n      <td>...</td>\n      <td>...</td>\n    </tr>\n    <tr>\n      <th>15970</th>\n      <td>95801</td>\n      <td>2018-11-30</td>\n      <td>0.0</td>\n      <td>Ab99_96436391998107976</td>\n      <td>0.890233</td>\n      <td>0.442687</td>\n      <td>0.802687</td>\n      <td>0.776982</td>\n      <td>0.638971</td>\n      <td>0.605522</td>\n      <td>0.078853</td>\n      <td>0.142857</td>\n      <td>0.25</td>\n      <td>0.076923</td>\n      <td>0.085003</td>\n    </tr>\n    <tr>\n      <th>15971</th>\n      <td>95802</td>\n      <td>2018-11-30</td>\n      <td>0.0</td>\n      <td>Ab99_96436391998176292</td>\n      <td>0.161840</td>\n      <td>0.495766</td>\n      <td>0.085750</td>\n      <td>0.536738</td>\n      <td>0.596144</td>\n      <td>0.132972</td>\n      <td>0.078853</td>\n      <td>0.023810</td>\n      <td>0.00</td>\n      <td>0.076923</td>\n      <td>0.015709</td>\n    </tr>\n    <tr>\n      <th>15972</th>\n      <td>95803</td>\n      <td>2018-11-30</td>\n      <td>0.0</td>\n      <td>Ab99_96436391998322771</td>\n      <td>0.746522</td>\n      <td>0.732739</td>\n      <td>0.025475</td>\n      <td>0.831805</td>\n      <td>0.642904</td>\n      <td>0.029297</td>\n      <td>0.078853</td>\n      <td>0.023810</td>\n      <td>0.00</td>\n      <td>0.076923</td>\n      <td>0.015709</td>\n    </tr>\n    <tr>\n      <th>15973</th>\n      <td>95804</td>\n      <td>2018-11-30</td>\n      <td>0.0</td>\n      <td>Ab99_96436391998973383</td>\n      <td>0.176846</td>\n      <td>0.749610</td>\n      <td>0.933879</td>\n      <td>0.506921</td>\n      <td>0.867099</td>\n      <td>0.751643</td>\n      <td>0.078853</td>\n      <td>0.023810</td>\n      <td>0.02</td>\n      <td>0.076923</td>\n      <td>0.022099</td>\n    </tr>\n    <tr>\n      <th>15974</th>\n      <td>95805</td>\n      <td>2018-11-30</td>\n      <td>0.0</td>\n      <td>Ab99_96436392001380983</td>\n      <td>0.417920</td>\n      <td>0.650343</td>\n      <td>0.985863</td>\n      <td>0.374100</td>\n      <td>0.330634</td>\n      <td>0.596833</td>\n      <td>0.078853</td>\n      <td>0.071429</td>\n      <td>0.62</td>\n      <td>0.076923</td>\n      <td>0.055635</td>\n    </tr>\n  </tbody>\n</table>\n<p>15975 rows × 15 columns</p>\n</div>"
     },
     "execution_count": 55,
     "metadata": {},
     "output_type": "execute_result"
    }
   ],
   "source": [
    "evl['xbeta'] = model.predict_proba(evl_x)[:,1]\n",
    "evl"
   ],
   "metadata": {
    "collapsed": false,
    "pycharm": {
     "name": "#%%\n"
    }
   }
  },
  {
   "cell_type": "code",
   "execution_count": 56,
   "outputs": [
    {
     "data": {
      "text/plain": "       index     obs_mth  bad_ind                     uid  td_score  \\\n0      79831  2018-11-30      0.0               A10002345  0.123276   \n1      79832  2018-11-30      0.0               A10003755  0.462460   \n2      79833  2018-11-30      0.0                A1000756  0.812642   \n3      79834  2018-11-30      0.0                 A100085  0.007039   \n4      79835  2018-11-30      0.0               A10008856  0.078063   \n...      ...         ...      ...                     ...       ...   \n15970  95801  2018-11-30      0.0  Ab99_96436391998107976  0.890233   \n15971  95802  2018-11-30      0.0  Ab99_96436391998176292  0.161840   \n15972  95803  2018-11-30      0.0  Ab99_96436391998322771  0.746522   \n15973  95804  2018-11-30      0.0  Ab99_96436391998973383  0.176846   \n15974  95805  2018-11-30      0.0  Ab99_96436392001380983  0.417920   \n\n       jxl_score  mj_score  rh_score  zzc_score  zcx_score  person_info  \\\n0       0.872117  0.723560  0.759074   0.184735   0.080376    -0.053718   \n1       0.157643  0.762271  0.481466   0.967006   0.780087     0.013863   \n2       0.400040  0.280942  0.099454   0.942880   0.588936     0.078853   \n3       0.396036  0.857868  0.882255   0.345511   0.419969    -0.053718   \n4       0.291289  0.654864  0.528708   0.754482   0.732534     0.013863   \n...          ...       ...       ...        ...        ...          ...   \n15970   0.442687  0.802687  0.776982   0.638971   0.605522     0.078853   \n15971   0.495766  0.085750  0.536738   0.596144   0.132972     0.078853   \n15972   0.732739  0.025475  0.831805   0.642904   0.029297     0.078853   \n15973   0.749610  0.933879  0.506921   0.867099   0.751643     0.078853   \n15974   0.650343  0.985863  0.374100   0.330634   0.596833     0.078853   \n\n       finance_info  credit_info  act_info     xbeta       score  \n0          0.047619         1.00  0.230769  0.104260  755.145015  \n1          0.023810         0.00  0.230769  0.004736  985.762236  \n2          0.023810         0.02  0.474359  0.016706  893.960961  \n3          0.047619         0.02  0.666667  0.010245  929.703744  \n4          0.023810         0.00  0.230769  0.004736  985.762236  \n...             ...          ...       ...       ...         ...  \n15970      0.142857         0.25  0.076923  0.085003  771.409354  \n15971      0.023810         0.00  0.076923  0.015709  898.471700  \n15972      0.023810         0.00  0.076923  0.015709  898.471700  \n15973      0.023810         0.02  0.076923  0.022099  873.382789  \n15974      0.071429         0.62  0.076923  0.055635  804.264302  \n\n[15975 rows x 16 columns]",
      "text/html": "<div>\n<style scoped>\n    .dataframe tbody tr th:only-of-type {\n        vertical-align: middle;\n    }\n\n    .dataframe tbody tr th {\n        vertical-align: top;\n    }\n\n    .dataframe thead th {\n        text-align: right;\n    }\n</style>\n<table border=\"1\" class=\"dataframe\">\n  <thead>\n    <tr style=\"text-align: right;\">\n      <th></th>\n      <th>index</th>\n      <th>obs_mth</th>\n      <th>bad_ind</th>\n      <th>uid</th>\n      <th>td_score</th>\n      <th>jxl_score</th>\n      <th>mj_score</th>\n      <th>rh_score</th>\n      <th>zzc_score</th>\n      <th>zcx_score</th>\n      <th>person_info</th>\n      <th>finance_info</th>\n      <th>credit_info</th>\n      <th>act_info</th>\n      <th>xbeta</th>\n      <th>score</th>\n    </tr>\n  </thead>\n  <tbody>\n    <tr>\n      <th>0</th>\n      <td>79831</td>\n      <td>2018-11-30</td>\n      <td>0.0</td>\n      <td>A10002345</td>\n      <td>0.123276</td>\n      <td>0.872117</td>\n      <td>0.723560</td>\n      <td>0.759074</td>\n      <td>0.184735</td>\n      <td>0.080376</td>\n      <td>-0.053718</td>\n      <td>0.047619</td>\n      <td>1.00</td>\n      <td>0.230769</td>\n      <td>0.104260</td>\n      <td>755.145015</td>\n    </tr>\n    <tr>\n      <th>1</th>\n      <td>79832</td>\n      <td>2018-11-30</td>\n      <td>0.0</td>\n      <td>A10003755</td>\n      <td>0.462460</td>\n      <td>0.157643</td>\n      <td>0.762271</td>\n      <td>0.481466</td>\n      <td>0.967006</td>\n      <td>0.780087</td>\n      <td>0.013863</td>\n      <td>0.023810</td>\n      <td>0.00</td>\n      <td>0.230769</td>\n      <td>0.004736</td>\n      <td>985.762236</td>\n    </tr>\n    <tr>\n      <th>2</th>\n      <td>79833</td>\n      <td>2018-11-30</td>\n      <td>0.0</td>\n      <td>A1000756</td>\n      <td>0.812642</td>\n      <td>0.400040</td>\n      <td>0.280942</td>\n      <td>0.099454</td>\n      <td>0.942880</td>\n      <td>0.588936</td>\n      <td>0.078853</td>\n      <td>0.023810</td>\n      <td>0.02</td>\n      <td>0.474359</td>\n      <td>0.016706</td>\n      <td>893.960961</td>\n    </tr>\n    <tr>\n      <th>3</th>\n      <td>79834</td>\n      <td>2018-11-30</td>\n      <td>0.0</td>\n      <td>A100085</td>\n      <td>0.007039</td>\n      <td>0.396036</td>\n      <td>0.857868</td>\n      <td>0.882255</td>\n      <td>0.345511</td>\n      <td>0.419969</td>\n      <td>-0.053718</td>\n      <td>0.047619</td>\n      <td>0.02</td>\n      <td>0.666667</td>\n      <td>0.010245</td>\n      <td>929.703744</td>\n    </tr>\n    <tr>\n      <th>4</th>\n      <td>79835</td>\n      <td>2018-11-30</td>\n      <td>0.0</td>\n      <td>A10008856</td>\n      <td>0.078063</td>\n      <td>0.291289</td>\n      <td>0.654864</td>\n      <td>0.528708</td>\n      <td>0.754482</td>\n      <td>0.732534</td>\n      <td>0.013863</td>\n      <td>0.023810</td>\n      <td>0.00</td>\n      <td>0.230769</td>\n      <td>0.004736</td>\n      <td>985.762236</td>\n    </tr>\n    <tr>\n      <th>...</th>\n      <td>...</td>\n      <td>...</td>\n      <td>...</td>\n      <td>...</td>\n      <td>...</td>\n      <td>...</td>\n      <td>...</td>\n      <td>...</td>\n      <td>...</td>\n      <td>...</td>\n      <td>...</td>\n      <td>...</td>\n      <td>...</td>\n      <td>...</td>\n      <td>...</td>\n      <td>...</td>\n    </tr>\n    <tr>\n      <th>15970</th>\n      <td>95801</td>\n      <td>2018-11-30</td>\n      <td>0.0</td>\n      <td>Ab99_96436391998107976</td>\n      <td>0.890233</td>\n      <td>0.442687</td>\n      <td>0.802687</td>\n      <td>0.776982</td>\n      <td>0.638971</td>\n      <td>0.605522</td>\n      <td>0.078853</td>\n      <td>0.142857</td>\n      <td>0.25</td>\n      <td>0.076923</td>\n      <td>0.085003</td>\n      <td>771.409354</td>\n    </tr>\n    <tr>\n      <th>15971</th>\n      <td>95802</td>\n      <td>2018-11-30</td>\n      <td>0.0</td>\n      <td>Ab99_96436391998176292</td>\n      <td>0.161840</td>\n      <td>0.495766</td>\n      <td>0.085750</td>\n      <td>0.536738</td>\n      <td>0.596144</td>\n      <td>0.132972</td>\n      <td>0.078853</td>\n      <td>0.023810</td>\n      <td>0.00</td>\n      <td>0.076923</td>\n      <td>0.015709</td>\n      <td>898.471700</td>\n    </tr>\n    <tr>\n      <th>15972</th>\n      <td>95803</td>\n      <td>2018-11-30</td>\n      <td>0.0</td>\n      <td>Ab99_96436391998322771</td>\n      <td>0.746522</td>\n      <td>0.732739</td>\n      <td>0.025475</td>\n      <td>0.831805</td>\n      <td>0.642904</td>\n      <td>0.029297</td>\n      <td>0.078853</td>\n      <td>0.023810</td>\n      <td>0.00</td>\n      <td>0.076923</td>\n      <td>0.015709</td>\n      <td>898.471700</td>\n    </tr>\n    <tr>\n      <th>15973</th>\n      <td>95804</td>\n      <td>2018-11-30</td>\n      <td>0.0</td>\n      <td>Ab99_96436391998973383</td>\n      <td>0.176846</td>\n      <td>0.749610</td>\n      <td>0.933879</td>\n      <td>0.506921</td>\n      <td>0.867099</td>\n      <td>0.751643</td>\n      <td>0.078853</td>\n      <td>0.023810</td>\n      <td>0.02</td>\n      <td>0.076923</td>\n      <td>0.022099</td>\n      <td>873.382789</td>\n    </tr>\n    <tr>\n      <th>15974</th>\n      <td>95805</td>\n      <td>2018-11-30</td>\n      <td>0.0</td>\n      <td>Ab99_96436392001380983</td>\n      <td>0.417920</td>\n      <td>0.650343</td>\n      <td>0.985863</td>\n      <td>0.374100</td>\n      <td>0.330634</td>\n      <td>0.596833</td>\n      <td>0.078853</td>\n      <td>0.071429</td>\n      <td>0.62</td>\n      <td>0.076923</td>\n      <td>0.055635</td>\n      <td>804.264302</td>\n    </tr>\n  </tbody>\n</table>\n<p>15975 rows × 16 columns</p>\n</div>"
     },
     "execution_count": 56,
     "metadata": {},
     "output_type": "execute_result"
    }
   ],
   "source": [
    "#自定义评分映射函数\n",
    "def score(xbeta):\n",
    "    #score  = 600 + 50log2(P正样本/P负样本)\n",
    "    #正样本：不违约概率，负样本：违约概率\n",
    "    score = 600 + 50 * math.log2((1 - xbeta)/xbeta)\n",
    "    return score\n",
    "evl['score'] = evl.apply(lambda x:score(x['xbeta']),axis=1)\n",
    "evl"
   ],
   "metadata": {
    "collapsed": false,
    "pycharm": {
     "name": "#%%\n"
    }
   }
  },
  {
   "cell_type": "code",
   "execution_count": 57,
   "outputs": [
    {
     "data": {
      "text/plain": "0.4302554685929041"
     },
     "execution_count": 57,
     "metadata": {},
     "output_type": "execute_result"
    }
   ],
   "source": [
    "#计算验证集上的ks值\n",
    "fpr,tpr,_ = roc_curve(evl_y,evl['score'])\n",
    "val_ks = abs(fpr - tpr).max()\n",
    "val_ks"
   ],
   "metadata": {
    "collapsed": false,
    "pycharm": {
     "name": "#%%\n"
    }
   }
  },
  {
   "cell_type": "markdown",
   "source": [
    "* 模型报告\n"
   ],
   "metadata": {
    "collapsed": false,
    "pycharm": {
     "name": "#%% md\n"
    }
   }
  },
  {
   "cell_type": "code",
   "execution_count": 58,
   "outputs": [
    {
     "name": "stdout",
     "output_type": "stream",
     "text": [
      "[LightGBM] [Warning] min_data_in_leaf is set=6, min_child_samples=20 will be ignored. Current value: min_data_in_leaf=6\n",
      "[LightGBM] [Warning] feature_fraction is set=0.8, colsample_bytree=1.0 will be ignored. Current value: feature_fraction=0.8\n",
      "[LightGBM] [Warning] bagging_fraction is set=0.6, subsample=1.0 will be ignored. Current value: bagging_fraction=0.6\n",
      "[LightGBM] [Warning] bagging_freq is set=0, subsample_freq=0 will be ignored. Current value: bagging_freq=0\n"
     ]
    },
    {
     "data": {
      "text/plain": "     BAD  GOOD  BAD_CNT  GOOD_CNT  BAD_PCTG  BADRATE     KS\nnum                                                        \n0     94   705       94       705     0.287    0.118  0.242\n1     32   767      126      1472     0.384    0.040  0.290\n2     29   770      155      2242     0.473    0.036  0.329\n3     31   767      186      3009     0.567    0.039  0.375\n4     28   771      214      3780     0.652    0.035  0.411\n5     22   777      236      4557     0.720    0.028  0.428\n6      9   789      245      5346     0.747    0.011  0.405\n7     16   783      261      6129     0.796    0.020  0.404\n8      9   790      270      6919     0.823    0.011  0.381\n9     15   784      285      7703     0.869    0.019  0.377\n10     9   789      294      8492     0.896    0.011  0.354\n11     4   795      298      9287     0.909    0.005  0.315\n12     9   790      307     10077     0.936    0.011  0.292\n13     3   795      310     10872     0.945    0.004  0.250\n14     4   795      314     11667     0.957    0.005  0.212\n15     4   795      318     12462     0.970    0.005  0.173\n16     5   793      323     13255     0.985    0.006  0.138\n17     2   797      325     14052     0.991    0.003  0.093\n18     2   797      327     14849     0.997    0.003  0.048\n19     1   798      328     15647     1.000    0.001  0.000",
      "text/html": "<div>\n<style scoped>\n    .dataframe tbody tr th:only-of-type {\n        vertical-align: middle;\n    }\n\n    .dataframe tbody tr th {\n        vertical-align: top;\n    }\n\n    .dataframe thead th {\n        text-align: right;\n    }\n</style>\n<table border=\"1\" class=\"dataframe\">\n  <thead>\n    <tr style=\"text-align: right;\">\n      <th></th>\n      <th>BAD</th>\n      <th>GOOD</th>\n      <th>BAD_CNT</th>\n      <th>GOOD_CNT</th>\n      <th>BAD_PCTG</th>\n      <th>BADRATE</th>\n      <th>KS</th>\n    </tr>\n    <tr>\n      <th>num</th>\n      <th></th>\n      <th></th>\n      <th></th>\n      <th></th>\n      <th></th>\n      <th></th>\n      <th></th>\n    </tr>\n  </thead>\n  <tbody>\n    <tr>\n      <th>0</th>\n      <td>94</td>\n      <td>705</td>\n      <td>94</td>\n      <td>705</td>\n      <td>0.287</td>\n      <td>0.118</td>\n      <td>0.242</td>\n    </tr>\n    <tr>\n      <th>1</th>\n      <td>32</td>\n      <td>767</td>\n      <td>126</td>\n      <td>1472</td>\n      <td>0.384</td>\n      <td>0.040</td>\n      <td>0.290</td>\n    </tr>\n    <tr>\n      <th>2</th>\n      <td>29</td>\n      <td>770</td>\n      <td>155</td>\n      <td>2242</td>\n      <td>0.473</td>\n      <td>0.036</td>\n      <td>0.329</td>\n    </tr>\n    <tr>\n      <th>3</th>\n      <td>31</td>\n      <td>767</td>\n      <td>186</td>\n      <td>3009</td>\n      <td>0.567</td>\n      <td>0.039</td>\n      <td>0.375</td>\n    </tr>\n    <tr>\n      <th>4</th>\n      <td>28</td>\n      <td>771</td>\n      <td>214</td>\n      <td>3780</td>\n      <td>0.652</td>\n      <td>0.035</td>\n      <td>0.411</td>\n    </tr>\n    <tr>\n      <th>5</th>\n      <td>22</td>\n      <td>777</td>\n      <td>236</td>\n      <td>4557</td>\n      <td>0.720</td>\n      <td>0.028</td>\n      <td>0.428</td>\n    </tr>\n    <tr>\n      <th>6</th>\n      <td>9</td>\n      <td>789</td>\n      <td>245</td>\n      <td>5346</td>\n      <td>0.747</td>\n      <td>0.011</td>\n      <td>0.405</td>\n    </tr>\n    <tr>\n      <th>7</th>\n      <td>16</td>\n      <td>783</td>\n      <td>261</td>\n      <td>6129</td>\n      <td>0.796</td>\n      <td>0.020</td>\n      <td>0.404</td>\n    </tr>\n    <tr>\n      <th>8</th>\n      <td>9</td>\n      <td>790</td>\n      <td>270</td>\n      <td>6919</td>\n      <td>0.823</td>\n      <td>0.011</td>\n      <td>0.381</td>\n    </tr>\n    <tr>\n      <th>9</th>\n      <td>15</td>\n      <td>784</td>\n      <td>285</td>\n      <td>7703</td>\n      <td>0.869</td>\n      <td>0.019</td>\n      <td>0.377</td>\n    </tr>\n    <tr>\n      <th>10</th>\n      <td>9</td>\n      <td>789</td>\n      <td>294</td>\n      <td>8492</td>\n      <td>0.896</td>\n      <td>0.011</td>\n      <td>0.354</td>\n    </tr>\n    <tr>\n      <th>11</th>\n      <td>4</td>\n      <td>795</td>\n      <td>298</td>\n      <td>9287</td>\n      <td>0.909</td>\n      <td>0.005</td>\n      <td>0.315</td>\n    </tr>\n    <tr>\n      <th>12</th>\n      <td>9</td>\n      <td>790</td>\n      <td>307</td>\n      <td>10077</td>\n      <td>0.936</td>\n      <td>0.011</td>\n      <td>0.292</td>\n    </tr>\n    <tr>\n      <th>13</th>\n      <td>3</td>\n      <td>795</td>\n      <td>310</td>\n      <td>10872</td>\n      <td>0.945</td>\n      <td>0.004</td>\n      <td>0.250</td>\n    </tr>\n    <tr>\n      <th>14</th>\n      <td>4</td>\n      <td>795</td>\n      <td>314</td>\n      <td>11667</td>\n      <td>0.957</td>\n      <td>0.005</td>\n      <td>0.212</td>\n    </tr>\n    <tr>\n      <th>15</th>\n      <td>4</td>\n      <td>795</td>\n      <td>318</td>\n      <td>12462</td>\n      <td>0.970</td>\n      <td>0.005</td>\n      <td>0.173</td>\n    </tr>\n    <tr>\n      <th>16</th>\n      <td>5</td>\n      <td>793</td>\n      <td>323</td>\n      <td>13255</td>\n      <td>0.985</td>\n      <td>0.006</td>\n      <td>0.138</td>\n    </tr>\n    <tr>\n      <th>17</th>\n      <td>2</td>\n      <td>797</td>\n      <td>325</td>\n      <td>14052</td>\n      <td>0.991</td>\n      <td>0.003</td>\n      <td>0.093</td>\n    </tr>\n    <tr>\n      <th>18</th>\n      <td>2</td>\n      <td>797</td>\n      <td>327</td>\n      <td>14849</td>\n      <td>0.997</td>\n      <td>0.003</td>\n      <td>0.048</td>\n    </tr>\n    <tr>\n      <th>19</th>\n      <td>1</td>\n      <td>798</td>\n      <td>328</td>\n      <td>15647</td>\n      <td>1.000</td>\n      <td>0.001</td>\n      <td>0.000</td>\n    </tr>\n  </tbody>\n</table>\n</div>"
     },
     "execution_count": 58,
     "metadata": {},
     "output_type": "execute_result"
    }
   ],
   "source": [
    "# 把验证集的数据代入到训练好的模型, 输出违约率, 把所有的用户的违约率按从大到小排序, 然后均匀划分成20箱\n",
    "# 计算每一箱的跟违约相关的指标, 违约率和 KS\n",
    "bins = 20\n",
    "temp_df = pd.DataFrame() # 准备空白的df\n",
    "# 用训练好的模型, 输出测试集的违约率\n",
    "temp_df['bad_rate_predict'] = model.predict_proba(evl_x)[:,1] # 模型预测的违约率\n",
    "temp_df['real_bad']= evl_y.values # 真实的标签\n",
    "\n",
    "temp_df = temp_df.sort_values('bad_rate_predict',ascending=False)\n",
    "\n",
    "temp_df['num'] = [i for i in range(temp_df.shape[0])]\n",
    "temp_df['num'] = pd.cut(temp_df['num'],bins = bins,labels=[i for i in range(bins)])\n",
    "\n",
    "\n",
    "\n",
    "# 创建报告\n",
    "report = pd.DataFrame()\n",
    "# 每一组有多少1 bad标签 , 每一组有多少0 good标签\n",
    "report['BAD'] =temp_df.groupby('num')['real_bad'].sum().astype(int)\n",
    "report['GOOD'] =temp_df.groupby('num')['real_bad'].count().astype(int)-report['BAD']\n",
    "# 累计求和 累计到这一组, 有多少1, 多少0\n",
    "report['BAD_CNT'] = report['BAD'].cumsum()\n",
    "report['GOOD_CNT'] = report['GOOD'].cumsum()\n",
    "# 计算累计到当前组, 出现的1标签的比例\n",
    "good_total = report['GOOD_CNT'].max()\n",
    "bad_total = report['BAD_CNT'].max()\n",
    "report['BAD_PCTG'] = round(report['BAD_CNT']/bad_total,3)\n",
    "# 当前组 1标签比例\n",
    "report['BADRATE'] = report.apply(lambda x:round(x['BAD']/(x['BAD']+x['GOOD']),3),axis = 1)\n",
    "# 当前组ks\n",
    "def cal_ks(x):\n",
    "\t# tpr = tp/tp+fn(所有的1标签)  fpr = fp/fp+tn (所有的0) GOOD_CNT\n",
    "\tks = (x['BAD_CNT']/bad_total)-(x['GOOD_CNT']/good_total)\n",
    "\treturn round(abs(ks),3)\n",
    "report['KS'] = report.apply(cal_ks,axis = 1)\n",
    "report\n",
    "\n"
   ],
   "metadata": {
    "collapsed": false,
    "pycharm": {
     "name": "#%%\n"
    }
   }
  },
  {
   "cell_type": "code",
   "execution_count": 59,
   "outputs": [
    {
     "data": {
      "text/plain": "'D:\\\\code\\\\workspace2\\\\financial20\\\\day06\\\\render.html'"
     },
     "execution_count": 59,
     "metadata": {},
     "output_type": "execute_result"
    }
   ],
   "source": [
    "from pyecharts.charts import *\n",
    "from pyecharts import options as opts\n",
    "from pylab import *\n",
    "mpl.rcParams['font.sans-serif'] = ['SimHei']\n",
    "np.set_printoptions(suppress=True)\n",
    "pd.set_option('display.unicode.ambiguous_as_wide', True)\n",
    "pd.set_option('display.unicode.east_asian_width', True)\n",
    "line = (\n",
    "\n",
    "    Line()\n",
    "    .add_xaxis(list(report.index))\n",
    "    .add_yaxis(\n",
    "        \"分组坏人占比\",\n",
    "        list(report.BADRATE),\n",
    "        yaxis_index=0,\n",
    "        color=\"red\",\n",
    "    )\n",
    "    .set_global_opts(\n",
    "        title_opts=opts.TitleOpts(title=\"评分卡模型表现\"),\n",
    "    )\n",
    "    .extend_axis(\n",
    "        yaxis=opts.AxisOpts(\n",
    "            name=\"累计坏人占比\",\n",
    "            type_=\"value\",\n",
    "            min_=0,\n",
    "            max_=0.5,\n",
    "            position=\"right\",\n",
    "            axisline_opts=opts.AxisLineOpts(\n",
    "                linestyle_opts=opts.LineStyleOpts(color=\"red\")\n",
    "            ),\n",
    "            axislabel_opts=opts.LabelOpts(formatter=\"{value}\"),\n",
    "        )\n",
    "\n",
    "    )\n",
    "    .add_yaxis(\n",
    "        \"KS\",\n",
    "        list(report['KS']),\n",
    "        yaxis_index=1,\n",
    "        color=\"blue\",\n",
    "        label_opts=opts.LabelOpts(is_show=False),\n",
    "    )\n",
    ")\n",
    "line.render()\n"
   ],
   "metadata": {
    "collapsed": false,
    "pycharm": {
     "name": "#%%\n"
    }
   }
  },
  {
   "cell_type": "code",
   "execution_count": null,
   "outputs": [],
   "source": [],
   "metadata": {
    "collapsed": false,
    "pycharm": {
     "name": "#%%\n"
    }
   }
  }
 ],
 "metadata": {
  "kernelspec": {
   "display_name": "Python 3",
   "language": "python",
   "name": "python3"
  },
  "language_info": {
   "codemirror_mode": {
    "name": "ipython",
    "version": 2
   },
   "file_extension": ".py",
   "mimetype": "text/x-python",
   "name": "python",
   "nbconvert_exporter": "python",
   "pygments_lexer": "ipython2",
   "version": "2.7.6"
  }
 },
 "nbformat": 4,
 "nbformat_minor": 0
}