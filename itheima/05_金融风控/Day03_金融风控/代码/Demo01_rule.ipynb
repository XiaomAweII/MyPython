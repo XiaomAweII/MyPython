{
 "cells": [
  {
   "cell_type": "code",
   "execution_count": 1,
   "metadata": {
    "collapsed": true
   },
   "outputs": [
    {
     "data": {
      "text/plain": "        uid oil_actv_dt  create_dt  total_oil_cnt  pay_amount_total class_new  \\\n0  A8217710  2018-08-19 2018-08-17          275.0        48295495.4         B   \n1  A8217710  2018-08-19 2018-08-16          275.0        48295495.4         B   \n2  A8217710  2018-08-19 2018-08-15          275.0        48295495.4         B   \n3  A8217710  2018-08-19 2018-08-14          275.0        48295495.4         B   \n4  A8217710  2018-08-19 2018-08-13          275.0        48295495.4         B   \n\n   bad_ind  oil_amount  discount_amount  sale_amount     amount  pay_amount  \\\n0        0     3308.56        1760081.0    1796001.0  1731081.0   8655401.0   \n1        0     4674.68        2487045.0    2537801.0  2437845.0  12189221.0   \n2        0     1873.06         977845.0     997801.0   961845.0   4809221.0   \n3        0     4837.78        2526441.0    2578001.0  2484441.0  12422201.0   \n4        0     2586.38        1350441.0    1378001.0  1328441.0   6642201.0   \n\n   coupon_amount  payment_coupon_amount  channel_code  oil_code  scene  \\\n0            1.0                    1.0             1         3      2   \n1            1.0                    1.0             1         3      2   \n2            1.0                    1.0             1         2      2   \n3            1.0                    1.0             1         2      2   \n4            1.0                    1.0             1         2      2   \n\n   source_app  call_source  \n0           0            3  \n1           0            3  \n2           0            3  \n3           0            3  \n4           0            3  ",
      "text/html": "<div>\n<style scoped>\n    .dataframe tbody tr th:only-of-type {\n        vertical-align: middle;\n    }\n\n    .dataframe tbody tr th {\n        vertical-align: top;\n    }\n\n    .dataframe thead th {\n        text-align: right;\n    }\n</style>\n<table border=\"1\" class=\"dataframe\">\n  <thead>\n    <tr style=\"text-align: right;\">\n      <th></th>\n      <th>uid</th>\n      <th>oil_actv_dt</th>\n      <th>create_dt</th>\n      <th>total_oil_cnt</th>\n      <th>pay_amount_total</th>\n      <th>class_new</th>\n      <th>bad_ind</th>\n      <th>oil_amount</th>\n      <th>discount_amount</th>\n      <th>sale_amount</th>\n      <th>amount</th>\n      <th>pay_amount</th>\n      <th>coupon_amount</th>\n      <th>payment_coupon_amount</th>\n      <th>channel_code</th>\n      <th>oil_code</th>\n      <th>scene</th>\n      <th>source_app</th>\n      <th>call_source</th>\n    </tr>\n  </thead>\n  <tbody>\n    <tr>\n      <th>0</th>\n      <td>A8217710</td>\n      <td>2018-08-19</td>\n      <td>2018-08-17</td>\n      <td>275.0</td>\n      <td>48295495.4</td>\n      <td>B</td>\n      <td>0</td>\n      <td>3308.56</td>\n      <td>1760081.0</td>\n      <td>1796001.0</td>\n      <td>1731081.0</td>\n      <td>8655401.0</td>\n      <td>1.0</td>\n      <td>1.0</td>\n      <td>1</td>\n      <td>3</td>\n      <td>2</td>\n      <td>0</td>\n      <td>3</td>\n    </tr>\n    <tr>\n      <th>1</th>\n      <td>A8217710</td>\n      <td>2018-08-19</td>\n      <td>2018-08-16</td>\n      <td>275.0</td>\n      <td>48295495.4</td>\n      <td>B</td>\n      <td>0</td>\n      <td>4674.68</td>\n      <td>2487045.0</td>\n      <td>2537801.0</td>\n      <td>2437845.0</td>\n      <td>12189221.0</td>\n      <td>1.0</td>\n      <td>1.0</td>\n      <td>1</td>\n      <td>3</td>\n      <td>2</td>\n      <td>0</td>\n      <td>3</td>\n    </tr>\n    <tr>\n      <th>2</th>\n      <td>A8217710</td>\n      <td>2018-08-19</td>\n      <td>2018-08-15</td>\n      <td>275.0</td>\n      <td>48295495.4</td>\n      <td>B</td>\n      <td>0</td>\n      <td>1873.06</td>\n      <td>977845.0</td>\n      <td>997801.0</td>\n      <td>961845.0</td>\n      <td>4809221.0</td>\n      <td>1.0</td>\n      <td>1.0</td>\n      <td>1</td>\n      <td>2</td>\n      <td>2</td>\n      <td>0</td>\n      <td>3</td>\n    </tr>\n    <tr>\n      <th>3</th>\n      <td>A8217710</td>\n      <td>2018-08-19</td>\n      <td>2018-08-14</td>\n      <td>275.0</td>\n      <td>48295495.4</td>\n      <td>B</td>\n      <td>0</td>\n      <td>4837.78</td>\n      <td>2526441.0</td>\n      <td>2578001.0</td>\n      <td>2484441.0</td>\n      <td>12422201.0</td>\n      <td>1.0</td>\n      <td>1.0</td>\n      <td>1</td>\n      <td>2</td>\n      <td>2</td>\n      <td>0</td>\n      <td>3</td>\n    </tr>\n    <tr>\n      <th>4</th>\n      <td>A8217710</td>\n      <td>2018-08-19</td>\n      <td>2018-08-13</td>\n      <td>275.0</td>\n      <td>48295495.4</td>\n      <td>B</td>\n      <td>0</td>\n      <td>2586.38</td>\n      <td>1350441.0</td>\n      <td>1378001.0</td>\n      <td>1328441.0</td>\n      <td>6642201.0</td>\n      <td>1.0</td>\n      <td>1.0</td>\n      <td>1</td>\n      <td>2</td>\n      <td>2</td>\n      <td>0</td>\n      <td>3</td>\n    </tr>\n  </tbody>\n</table>\n</div>"
     },
     "execution_count": 1,
     "metadata": {},
     "output_type": "execute_result"
    }
   ],
   "source": [
    "import pandas as pd\n",
    "import numpy as np\n",
    "data = pd.read_excel(\"../data/rule_data.xlsx\")\n",
    "data.head()"
   ]
  },
  {
   "cell_type": "code",
   "execution_count": 2,
   "outputs": [
    {
     "data": {
      "text/plain": "array(['B', 'E', 'C', 'A', 'D', 'F'], dtype=object)"
     },
     "execution_count": 2,
     "metadata": {},
     "output_type": "execute_result"
    }
   ],
   "source": [
    "#unique，获得字段的所有取值，用户评级在案例没有起到决策性因素\n",
    "data['class_new'].unique()"
   ],
   "metadata": {
    "collapsed": false,
    "pycharm": {
     "name": "#%%\n"
    }
   }
  },
  {
   "cell_type": "code",
   "execution_count": 3,
   "outputs": [],
   "source": [
    "#按照字段类型不同，进行划分，用来做特征衍生（创建）\n",
    "org_list = ['uid','create_dt','oil_actv_dt','class_new','bad_ind']\n",
    "agg_list = ['oil_amount','discount_amount','sale_amount','amount','pay_amount','coupon_amount','payment_coupon_amount']\n",
    "count_list = ['channel_code','oil_code','scene','source_app','call_source']\n"
   ],
   "metadata": {
    "collapsed": false,
    "pycharm": {
     "name": "#%%\n"
    }
   }
  },
  {
   "cell_type": "code",
   "execution_count": 4,
   "outputs": [],
   "source": [
    "#进行数据拷贝\n",
    "df = data[org_list].copy()\n",
    "df[agg_list] = data[agg_list].copy()\n",
    "df[count_list] = data[count_list].copy()\n"
   ],
   "metadata": {
    "collapsed": false,
    "pycharm": {
     "name": "#%%\n"
    }
   }
  },
  {
   "cell_type": "code",
   "execution_count": 5,
   "outputs": [
    {
     "name": "stdout",
     "output_type": "stream",
     "text": [
      "<class 'pandas.core.frame.DataFrame'>\n",
      "RangeIndex: 50609 entries, 0 to 50608\n",
      "Data columns (total 17 columns):\n",
      " #   Column                 Non-Null Count  Dtype         \n",
      "---  ------                 --------------  -----         \n",
      " 0   uid                    50609 non-null  object        \n",
      " 1   create_dt              45665 non-null  datetime64[ns]\n",
      " 2   oil_actv_dt            50609 non-null  datetime64[ns]\n",
      " 3   class_new              50609 non-null  object        \n",
      " 4   bad_ind                50609 non-null  int64         \n",
      " 5   oil_amount             45665 non-null  float64       \n",
      " 6   discount_amount        45665 non-null  float64       \n",
      " 7   sale_amount            45665 non-null  float64       \n",
      " 8   amount                 45665 non-null  float64       \n",
      " 9   pay_amount             45665 non-null  float64       \n",
      " 10  coupon_amount          45665 non-null  float64       \n",
      " 11  payment_coupon_amount  45663 non-null  float64       \n",
      " 12  channel_code           50609 non-null  int64         \n",
      " 13  oil_code               50609 non-null  int64         \n",
      " 14  scene                  50609 non-null  int64         \n",
      " 15  source_app             50609 non-null  int64         \n",
      " 16  call_source            50609 non-null  int64         \n",
      "dtypes: datetime64[ns](2), float64(7), int64(6), object(2)\n",
      "memory usage: 6.6+ MB\n"
     ]
    }
   ],
   "source": [
    "df.info()\n"
   ],
   "metadata": {
    "collapsed": false,
    "pycharm": {
     "name": "#%%\n"
    }
   }
  },
  {
   "cell_type": "code",
   "execution_count": 7,
   "outputs": [
    {
     "data": {
      "text/plain": "uid                         0\ncreate_dt                4944\noil_actv_dt                 0\nclass_new                   0\nbad_ind                     0\noil_amount               4944\ndiscount_amount          4944\nsale_amount              4944\namount                   4944\npay_amount               4944\ncoupon_amount            4944\npayment_coupon_amount    4946\nchannel_code                0\noil_code                    0\nscene                       0\nsource_app                  0\ncall_source                 0\ndtype: int64"
     },
     "execution_count": 7,
     "metadata": {},
     "output_type": "execute_result"
    }
   ],
   "source": [
    "df.isna().sum()"
   ],
   "metadata": {
    "collapsed": false,
    "pycharm": {
     "name": "#%%\n"
    }
   }
  },
  {
   "cell_type": "code",
   "execution_count": 10,
   "outputs": [],
   "source": [
    "#对时间字段进行填充\n",
    "df2 = df.sort_values(['uid','create_dt'],ascending=False)"
   ],
   "metadata": {
    "collapsed": false,
    "pycharm": {
     "name": "#%%\n"
    }
   }
  },
  {
   "cell_type": "code",
   "execution_count": 14,
   "outputs": [],
   "source": [
    "def time_fill(x,y):\n",
    "    if str(x) == 'NaT':\n",
    "        x = y\n",
    "    return x\n",
    "df2['create_dt'] = df2.apply(lambda x:time_fill(x['create_dt'],x['oil_actv_dt']),axis=1)\n"
   ],
   "metadata": {
    "collapsed": false,
    "pycharm": {
     "name": "#%%\n"
    }
   }
  },
  {
   "cell_type": "code",
   "execution_count": 15,
   "outputs": [
    {
     "data": {
      "text/plain": "                      uid  create_dt oil_actv_dt class_new  bad_ind  \\\n50608  B96436391985035703 2018-10-08  2018-10-08         B        0   \n50607  B96436391984693397 2018-10-11  2018-10-11         E        0   \n50606  B96436391977217468 2018-10-17  2018-10-17         B        0   \n50605  B96436391976480892 2018-09-28  2018-09-28         B        0   \n50604  B96436391972106043 2018-10-19  2018-10-19         A        0   \n\n       oil_amount  discount_amount  sale_amount  amount  pay_amount  \\\n50608         NaN              NaN          NaN     NaN         NaN   \n50607         NaN              NaN          NaN     NaN         NaN   \n50606         NaN              NaN          NaN     NaN         NaN   \n50605         NaN              NaN          NaN     NaN         NaN   \n50604         NaN              NaN          NaN     NaN         NaN   \n\n       coupon_amount  payment_coupon_amount  channel_code  oil_code  scene  \\\n50608            NaN                    NaN             6         9      2   \n50607            NaN                    NaN             6         9      2   \n50606            NaN                    NaN             6         9      2   \n50605            NaN                    NaN             6         9      2   \n50604            NaN                    NaN             6         9      2   \n\n       source_app  call_source  dtn  \n50608           3            4    0  \n50607           3            4    0  \n50606           3            4    0  \n50605           3            4    0  \n50604           3            4    0  ",
      "text/html": "<div>\n<style scoped>\n    .dataframe tbody tr th:only-of-type {\n        vertical-align: middle;\n    }\n\n    .dataframe tbody tr th {\n        vertical-align: top;\n    }\n\n    .dataframe thead th {\n        text-align: right;\n    }\n</style>\n<table border=\"1\" class=\"dataframe\">\n  <thead>\n    <tr style=\"text-align: right;\">\n      <th></th>\n      <th>uid</th>\n      <th>create_dt</th>\n      <th>oil_actv_dt</th>\n      <th>class_new</th>\n      <th>bad_ind</th>\n      <th>oil_amount</th>\n      <th>discount_amount</th>\n      <th>sale_amount</th>\n      <th>amount</th>\n      <th>pay_amount</th>\n      <th>coupon_amount</th>\n      <th>payment_coupon_amount</th>\n      <th>channel_code</th>\n      <th>oil_code</th>\n      <th>scene</th>\n      <th>source_app</th>\n      <th>call_source</th>\n      <th>dtn</th>\n    </tr>\n  </thead>\n  <tbody>\n    <tr>\n      <th>50608</th>\n      <td>B96436391985035703</td>\n      <td>2018-10-08</td>\n      <td>2018-10-08</td>\n      <td>B</td>\n      <td>0</td>\n      <td>NaN</td>\n      <td>NaN</td>\n      <td>NaN</td>\n      <td>NaN</td>\n      <td>NaN</td>\n      <td>NaN</td>\n      <td>NaN</td>\n      <td>6</td>\n      <td>9</td>\n      <td>2</td>\n      <td>3</td>\n      <td>4</td>\n      <td>0</td>\n    </tr>\n    <tr>\n      <th>50607</th>\n      <td>B96436391984693397</td>\n      <td>2018-10-11</td>\n      <td>2018-10-11</td>\n      <td>E</td>\n      <td>0</td>\n      <td>NaN</td>\n      <td>NaN</td>\n      <td>NaN</td>\n      <td>NaN</td>\n      <td>NaN</td>\n      <td>NaN</td>\n      <td>NaN</td>\n      <td>6</td>\n      <td>9</td>\n      <td>2</td>\n      <td>3</td>\n      <td>4</td>\n      <td>0</td>\n    </tr>\n    <tr>\n      <th>50606</th>\n      <td>B96436391977217468</td>\n      <td>2018-10-17</td>\n      <td>2018-10-17</td>\n      <td>B</td>\n      <td>0</td>\n      <td>NaN</td>\n      <td>NaN</td>\n      <td>NaN</td>\n      <td>NaN</td>\n      <td>NaN</td>\n      <td>NaN</td>\n      <td>NaN</td>\n      <td>6</td>\n      <td>9</td>\n      <td>2</td>\n      <td>3</td>\n      <td>4</td>\n      <td>0</td>\n    </tr>\n    <tr>\n      <th>50605</th>\n      <td>B96436391976480892</td>\n      <td>2018-09-28</td>\n      <td>2018-09-28</td>\n      <td>B</td>\n      <td>0</td>\n      <td>NaN</td>\n      <td>NaN</td>\n      <td>NaN</td>\n      <td>NaN</td>\n      <td>NaN</td>\n      <td>NaN</td>\n      <td>NaN</td>\n      <td>6</td>\n      <td>9</td>\n      <td>2</td>\n      <td>3</td>\n      <td>4</td>\n      <td>0</td>\n    </tr>\n    <tr>\n      <th>50604</th>\n      <td>B96436391972106043</td>\n      <td>2018-10-19</td>\n      <td>2018-10-19</td>\n      <td>A</td>\n      <td>0</td>\n      <td>NaN</td>\n      <td>NaN</td>\n      <td>NaN</td>\n      <td>NaN</td>\n      <td>NaN</td>\n      <td>NaN</td>\n      <td>NaN</td>\n      <td>6</td>\n      <td>9</td>\n      <td>2</td>\n      <td>3</td>\n      <td>4</td>\n      <td>0</td>\n    </tr>\n  </tbody>\n</table>\n</div>"
     },
     "execution_count": 15,
     "metadata": {},
     "output_type": "execute_result"
    }
   ],
   "source": [
    "#金融风控场景下，不建议使用太久远的数据来训练，因此获取最近6个月的数据\n",
    "df2['dtn'] = (df2['oil_actv_dt'] - df2['create_dt']).apply(lambda x:x.days)\n",
    "df = df2[df2['dtn'] < 180]\n",
    "df.head()"
   ],
   "metadata": {
    "collapsed": false,
    "pycharm": {
     "name": "#%%\n"
    }
   }
  },
  {
   "cell_type": "code",
   "execution_count": 16,
   "outputs": [
    {
     "data": {
      "text/plain": "(45039, 18)"
     },
     "execution_count": 16,
     "metadata": {},
     "output_type": "execute_result"
    }
   ],
   "source": [
    "df.shape\n"
   ],
   "metadata": {
    "collapsed": false,
    "pycharm": {
     "name": "#%%\n"
    }
   }
  },
  {
   "cell_type": "code",
   "execution_count": 17,
   "outputs": [],
   "source": [
    "#拿原生不用做特征衍生的字段来过滤行数据，保留第一条数据\n",
    "base = df[org_list]\n",
    "base = base.sort_values(['uid','create_dt'],ascending=False)"
   ],
   "metadata": {
    "collapsed": false,
    "pycharm": {
     "name": "#%%\n"
    }
   }
  },
  {
   "cell_type": "code",
   "execution_count": 20,
   "outputs": [
    {
     "data": {
      "text/plain": "(11099, 6)"
     },
     "execution_count": 20,
     "metadata": {},
     "output_type": "execute_result"
    }
   ],
   "source": [
    "#Keep的取值：first，last\n",
    "base = base.drop_duplicates(['uid'],keep='first')\n",
    "base['dtn'] = df['dtn']\n",
    "base.shape"
   ],
   "metadata": {
    "collapsed": false,
    "pycharm": {
     "name": "#%%\n"
    }
   }
  },
  {
   "cell_type": "code",
   "execution_count": 21,
   "outputs": [
    {
     "name": "stderr",
     "output_type": "stream",
     "text": [
      "<ipython-input-21-2bf0f70a2061>:24: RuntimeWarning: Mean of empty slice\n",
      "  tp = df.groupby('uid').apply(lambda df:np.nanmean(df[i])).reset_index()\n",
      "<ipython-input-21-2bf0f70a2061>:31: RuntimeWarning: All-NaN axis encountered\n",
      "  tp = df.groupby('uid').apply(lambda df:np.nanmax(df[i])).reset_index()\n",
      "<ipython-input-21-2bf0f70a2061>:38: RuntimeWarning: All-NaN axis encountered\n",
      "  tp = df.groupby('uid').apply(lambda df:np.nanmin(df[i])).reset_index()\n",
      "<ipython-input-21-2bf0f70a2061>:45: RuntimeWarning: Degrees of freedom <= 0 for slice.\n",
      "  tp = df.groupby('uid').apply(lambda df:np.nanvar(df[i])).reset_index()\n",
      "<ipython-input-21-2bf0f70a2061>:52: RuntimeWarning: All-NaN axis encountered\n",
      "  tp = df.groupby('uid').apply(lambda df:np.nanmax(df[i]) -np.nanmin(df[i]) ).reset_index()\n",
      "<ipython-input-21-2bf0f70a2061>:24: RuntimeWarning: Mean of empty slice\n",
      "  tp = df.groupby('uid').apply(lambda df:np.nanmean(df[i])).reset_index()\n",
      "<ipython-input-21-2bf0f70a2061>:31: RuntimeWarning: All-NaN axis encountered\n",
      "  tp = df.groupby('uid').apply(lambda df:np.nanmax(df[i])).reset_index()\n",
      "<ipython-input-21-2bf0f70a2061>:38: RuntimeWarning: All-NaN axis encountered\n",
      "  tp = df.groupby('uid').apply(lambda df:np.nanmin(df[i])).reset_index()\n",
      "<ipython-input-21-2bf0f70a2061>:45: RuntimeWarning: Degrees of freedom <= 0 for slice.\n",
      "  tp = df.groupby('uid').apply(lambda df:np.nanvar(df[i])).reset_index()\n",
      "<ipython-input-21-2bf0f70a2061>:52: RuntimeWarning: All-NaN axis encountered\n",
      "  tp = df.groupby('uid').apply(lambda df:np.nanmax(df[i]) -np.nanmin(df[i]) ).reset_index()\n",
      "<ipython-input-21-2bf0f70a2061>:24: RuntimeWarning: Mean of empty slice\n",
      "  tp = df.groupby('uid').apply(lambda df:np.nanmean(df[i])).reset_index()\n",
      "<ipython-input-21-2bf0f70a2061>:31: RuntimeWarning: All-NaN axis encountered\n",
      "  tp = df.groupby('uid').apply(lambda df:np.nanmax(df[i])).reset_index()\n",
      "<ipython-input-21-2bf0f70a2061>:38: RuntimeWarning: All-NaN axis encountered\n",
      "  tp = df.groupby('uid').apply(lambda df:np.nanmin(df[i])).reset_index()\n",
      "<ipython-input-21-2bf0f70a2061>:45: RuntimeWarning: Degrees of freedom <= 0 for slice.\n",
      "  tp = df.groupby('uid').apply(lambda df:np.nanvar(df[i])).reset_index()\n",
      "<ipython-input-21-2bf0f70a2061>:52: RuntimeWarning: All-NaN axis encountered\n",
      "  tp = df.groupby('uid').apply(lambda df:np.nanmax(df[i]) -np.nanmin(df[i]) ).reset_index()\n",
      "<ipython-input-21-2bf0f70a2061>:24: RuntimeWarning: Mean of empty slice\n",
      "  tp = df.groupby('uid').apply(lambda df:np.nanmean(df[i])).reset_index()\n",
      "<ipython-input-21-2bf0f70a2061>:31: RuntimeWarning: All-NaN axis encountered\n",
      "  tp = df.groupby('uid').apply(lambda df:np.nanmax(df[i])).reset_index()\n",
      "<ipython-input-21-2bf0f70a2061>:38: RuntimeWarning: All-NaN axis encountered\n",
      "  tp = df.groupby('uid').apply(lambda df:np.nanmin(df[i])).reset_index()\n",
      "<ipython-input-21-2bf0f70a2061>:45: RuntimeWarning: Degrees of freedom <= 0 for slice.\n",
      "  tp = df.groupby('uid').apply(lambda df:np.nanvar(df[i])).reset_index()\n",
      "<ipython-input-21-2bf0f70a2061>:52: RuntimeWarning: All-NaN axis encountered\n",
      "  tp = df.groupby('uid').apply(lambda df:np.nanmax(df[i]) -np.nanmin(df[i]) ).reset_index()\n",
      "<ipython-input-21-2bf0f70a2061>:24: RuntimeWarning: Mean of empty slice\n",
      "  tp = df.groupby('uid').apply(lambda df:np.nanmean(df[i])).reset_index()\n",
      "<ipython-input-21-2bf0f70a2061>:31: RuntimeWarning: All-NaN axis encountered\n",
      "  tp = df.groupby('uid').apply(lambda df:np.nanmax(df[i])).reset_index()\n",
      "<ipython-input-21-2bf0f70a2061>:38: RuntimeWarning: All-NaN axis encountered\n",
      "  tp = df.groupby('uid').apply(lambda df:np.nanmin(df[i])).reset_index()\n",
      "<ipython-input-21-2bf0f70a2061>:45: RuntimeWarning: Degrees of freedom <= 0 for slice.\n",
      "  tp = df.groupby('uid').apply(lambda df:np.nanvar(df[i])).reset_index()\n",
      "<ipython-input-21-2bf0f70a2061>:52: RuntimeWarning: All-NaN axis encountered\n",
      "  tp = df.groupby('uid').apply(lambda df:np.nanmax(df[i]) -np.nanmin(df[i]) ).reset_index()\n",
      "<ipython-input-21-2bf0f70a2061>:24: RuntimeWarning: Mean of empty slice\n",
      "  tp = df.groupby('uid').apply(lambda df:np.nanmean(df[i])).reset_index()\n",
      "<ipython-input-21-2bf0f70a2061>:31: RuntimeWarning: All-NaN axis encountered\n",
      "  tp = df.groupby('uid').apply(lambda df:np.nanmax(df[i])).reset_index()\n",
      "<ipython-input-21-2bf0f70a2061>:38: RuntimeWarning: All-NaN axis encountered\n",
      "  tp = df.groupby('uid').apply(lambda df:np.nanmin(df[i])).reset_index()\n",
      "<ipython-input-21-2bf0f70a2061>:45: RuntimeWarning: Degrees of freedom <= 0 for slice.\n",
      "  tp = df.groupby('uid').apply(lambda df:np.nanvar(df[i])).reset_index()\n",
      "<ipython-input-21-2bf0f70a2061>:52: RuntimeWarning: All-NaN axis encountered\n",
      "  tp = df.groupby('uid').apply(lambda df:np.nanmax(df[i]) -np.nanmin(df[i]) ).reset_index()\n",
      "<ipython-input-21-2bf0f70a2061>:24: RuntimeWarning: Mean of empty slice\n",
      "  tp = df.groupby('uid').apply(lambda df:np.nanmean(df[i])).reset_index()\n",
      "<ipython-input-21-2bf0f70a2061>:31: RuntimeWarning: All-NaN axis encountered\n",
      "  tp = df.groupby('uid').apply(lambda df:np.nanmax(df[i])).reset_index()\n",
      "<ipython-input-21-2bf0f70a2061>:38: RuntimeWarning: All-NaN axis encountered\n",
      "  tp = df.groupby('uid').apply(lambda df:np.nanmin(df[i])).reset_index()\n",
      "<ipython-input-21-2bf0f70a2061>:45: RuntimeWarning: Degrees of freedom <= 0 for slice.\n",
      "  tp = df.groupby('uid').apply(lambda df:np.nanvar(df[i])).reset_index()\n",
      "<ipython-input-21-2bf0f70a2061>:52: RuntimeWarning: All-NaN axis encountered\n",
      "  tp = df.groupby('uid').apply(lambda df:np.nanmax(df[i]) -np.nanmin(df[i]) ).reset_index()\n"
     ]
    }
   ],
   "source": [
    "#数值型衍生方式：各种聚合\n",
    "gn = pd.DataFrame()\n",
    "for i in agg_list:\n",
    "    tp = df.groupby('uid').apply(lambda df:len(df[i])).reset_index()\n",
    "    tp.columns = ['uid',i + '_cnt']\n",
    "    if gn.empty:\n",
    "        gn = tp\n",
    "    else:\n",
    "        gn = pd.merge(gn,tp,on = 'uid',how = 'left')\n",
    "    #求历史特征值大于0的个数\n",
    "    tp = df.groupby('uid').apply(lambda df:np.where(df[i]>0,1,0).sum()).reset_index()\n",
    "    tp.columns = ['uid',i + '_num']\n",
    "    if gn.empty:\n",
    "        gn = tp\n",
    "    else:\n",
    "        gn = pd.merge(gn,tp,on = 'uid',how = 'left')\n",
    "    #求和\n",
    "    tp = df.groupby('uid').apply(lambda df:np.nansum(df[i])).reset_index()\n",
    "    tp.columns = ['uid',i + '_tot']\n",
    "    if gn.empty:\n",
    "        gn = tp\n",
    "    else:\n",
    "        gn = pd.merge(gn,tp,on = 'uid',how = 'left')\n",
    "    #求平均值\n",
    "    tp = df.groupby('uid').apply(lambda df:np.nanmean(df[i])).reset_index()\n",
    "    tp.columns = ['uid',i + '_avg']\n",
    "    if gn.empty:\n",
    "        gn = tp\n",
    "    else:\n",
    "        gn = pd.merge(gn,tp,on = 'uid',how = 'left')\n",
    "    #求最大值\n",
    "    tp = df.groupby('uid').apply(lambda df:np.nanmax(df[i])).reset_index()\n",
    "    tp.columns = ['uid',i + '_max']\n",
    "    if gn.empty:\n",
    "        gn = tp\n",
    "    else:\n",
    "        gn = pd.merge(gn,tp,on = 'uid',how = 'left')\n",
    "    #求最小值\n",
    "    tp = df.groupby('uid').apply(lambda df:np.nanmin(df[i])).reset_index()\n",
    "    tp.columns = ['uid',i + '_min']\n",
    "    if gn.empty:\n",
    "        gn = tp\n",
    "    else:\n",
    "        gn = pd.merge(gn,tp,on = 'uid',how = 'left')\n",
    "    #求方差\n",
    "    tp = df.groupby('uid').apply(lambda df:np.nanvar(df[i])).reset_index()\n",
    "    tp.columns = ['uid',i + '_var']\n",
    "    if gn.empty:\n",
    "        gn = tp\n",
    "    else:\n",
    "        gn = pd.merge(gn,tp,on = 'uid',how = 'left')\n",
    "    #求极差\n",
    "    tp = df.groupby('uid').apply(lambda df:np.nanmax(df[i]) -np.nanmin(df[i]) ).reset_index()\n",
    "    tp.columns = ['uid',i + '_ran']\n",
    "    if gn.empty:\n",
    "        gn = tp\n",
    "    else:\n",
    "        gn = pd.merge(gn,tp,on = 'uid',how = 'left')"
   ],
   "metadata": {
    "collapsed": false,
    "pycharm": {
     "name": "#%%\n"
    }
   }
  },
  {
   "cell_type": "code",
   "execution_count": 22,
   "outputs": [
    {
     "data": {
      "text/plain": "Index(['uid', 'oil_amount_cnt', 'oil_amount_num', 'oil_amount_tot',\n       'oil_amount_avg', 'oil_amount_max', 'oil_amount_min', 'oil_amount_var',\n       'oil_amount_ran', 'discount_amount_cnt', 'discount_amount_num',\n       'discount_amount_tot', 'discount_amount_avg', 'discount_amount_max',\n       'discount_amount_min', 'discount_amount_var', 'discount_amount_ran',\n       'sale_amount_cnt', 'sale_amount_num', 'sale_amount_tot',\n       'sale_amount_avg', 'sale_amount_max', 'sale_amount_min',\n       'sale_amount_var', 'sale_amount_ran', 'amount_cnt', 'amount_num',\n       'amount_tot', 'amount_avg', 'amount_max', 'amount_min', 'amount_var',\n       'amount_ran', 'pay_amount_cnt', 'pay_amount_num', 'pay_amount_tot',\n       'pay_amount_avg', 'pay_amount_max', 'pay_amount_min', 'pay_amount_var',\n       'pay_amount_ran', 'coupon_amount_cnt', 'coupon_amount_num',\n       'coupon_amount_tot', 'coupon_amount_avg', 'coupon_amount_max',\n       'coupon_amount_min', 'coupon_amount_var', 'coupon_amount_ran',\n       'payment_coupon_amount_cnt', 'payment_coupon_amount_num',\n       'payment_coupon_amount_tot', 'payment_coupon_amount_avg',\n       'payment_coupon_amount_max', 'payment_coupon_amount_min',\n       'payment_coupon_amount_var', 'payment_coupon_amount_ran'],\n      dtype='object')"
     },
     "execution_count": 22,
     "metadata": {},
     "output_type": "execute_result"
    }
   ],
   "source": [
    "gn.columns\n"
   ],
   "metadata": {
    "collapsed": false,
    "pycharm": {
     "name": "#%%\n"
    }
   }
  },
  {
   "cell_type": "code",
   "execution_count": 23,
   "outputs": [],
   "source": [
    "#分类型特征衍生：统计操作\n",
    "gc = pd.DataFrame()\n",
    "for i in count_list:\n",
    "    tp = df.groupby('uid').apply(lambda df: len(set(df[i]))).reset_index()\n",
    "    tp.columns = ['uid',i + '_dstc']\n",
    "    if gc.empty:\n",
    "        gc = tp\n",
    "    else:\n",
    "        gc = pd.merge(gc,tp,on = 'uid',how = 'left')\n"
   ],
   "metadata": {
    "collapsed": false,
    "pycharm": {
     "name": "#%%\n"
    }
   }
  },
  {
   "cell_type": "code",
   "execution_count": 24,
   "outputs": [
    {
     "data": {
      "text/plain": "Index(['uid', 'channel_code_dstc', 'oil_code_dstc', 'scene_dstc',\n       'source_app_dstc', 'call_source_dstc'],\n      dtype='object')"
     },
     "execution_count": 24,
     "metadata": {},
     "output_type": "execute_result"
    }
   ],
   "source": [
    "gc.columns\n"
   ],
   "metadata": {
    "collapsed": false,
    "pycharm": {
     "name": "#%%\n"
    }
   }
  },
  {
   "cell_type": "code",
   "execution_count": 26,
   "outputs": [
    {
     "data": {
      "text/plain": "(11099, 67)"
     },
     "execution_count": 26,
     "metadata": {},
     "output_type": "execute_result"
    }
   ],
   "source": [
    "#把刚刚衍生的特征都拼接起来\n",
    "fn = pd.merge(base,gn,on='uid')\n",
    "fn = pd.merge(fn,gc,on='uid')\n",
    "fn.shape"
   ],
   "metadata": {
    "collapsed": false,
    "pycharm": {
     "name": "#%%\n"
    }
   }
  },
  {
   "cell_type": "code",
   "execution_count": 28,
   "outputs": [
    {
     "data": {
      "text/plain": "                  uid  create_dt oil_actv_dt class_new  bad_ind  dtn  \\\n0  B96436391985035703 2018-10-08  2018-10-08         B        0    0   \n1  B96436391984693397 2018-10-11  2018-10-11         E        0    0   \n2  B96436391977217468 2018-10-17  2018-10-17         B        0    0   \n3  B96436391976480892 2018-09-28  2018-09-28         B        0    0   \n4  B96436391972106043 2018-10-19  2018-10-19         A        0    0   \n\n   oil_amount_cnt  oil_amount_num  oil_amount_tot  oil_amount_avg  ...  \\\n0               1               0             0.0             0.0  ...   \n1               1               0             0.0             0.0  ...   \n2               1               0             0.0             0.0  ...   \n3               1               0             0.0             0.0  ...   \n4               1               0             0.0             0.0  ...   \n\n   payment_coupon_amount_avg  payment_coupon_amount_max  \\\n0                        0.0                        0.0   \n1                        0.0                        0.0   \n2                        0.0                        0.0   \n3                        0.0                        0.0   \n4                        0.0                        0.0   \n\n   payment_coupon_amount_min  payment_coupon_amount_var  \\\n0                        0.0                        0.0   \n1                        0.0                        0.0   \n2                        0.0                        0.0   \n3                        0.0                        0.0   \n4                        0.0                        0.0   \n\n   payment_coupon_amount_ran  channel_code_dstc  oil_code_dstc  scene_dstc  \\\n0                        0.0                  1              1           1   \n1                        0.0                  1              1           1   \n2                        0.0                  1              1           1   \n3                        0.0                  1              1           1   \n4                        0.0                  1              1           1   \n\n   source_app_dstc  call_source_dstc  \n0                1                 1  \n1                1                 1  \n2                1                 1  \n3                1                 1  \n4                1                 1  \n\n[5 rows x 67 columns]",
      "text/html": "<div>\n<style scoped>\n    .dataframe tbody tr th:only-of-type {\n        vertical-align: middle;\n    }\n\n    .dataframe tbody tr th {\n        vertical-align: top;\n    }\n\n    .dataframe thead th {\n        text-align: right;\n    }\n</style>\n<table border=\"1\" class=\"dataframe\">\n  <thead>\n    <tr style=\"text-align: right;\">\n      <th></th>\n      <th>uid</th>\n      <th>create_dt</th>\n      <th>oil_actv_dt</th>\n      <th>class_new</th>\n      <th>bad_ind</th>\n      <th>dtn</th>\n      <th>oil_amount_cnt</th>\n      <th>oil_amount_num</th>\n      <th>oil_amount_tot</th>\n      <th>oil_amount_avg</th>\n      <th>...</th>\n      <th>payment_coupon_amount_avg</th>\n      <th>payment_coupon_amount_max</th>\n      <th>payment_coupon_amount_min</th>\n      <th>payment_coupon_amount_var</th>\n      <th>payment_coupon_amount_ran</th>\n      <th>channel_code_dstc</th>\n      <th>oil_code_dstc</th>\n      <th>scene_dstc</th>\n      <th>source_app_dstc</th>\n      <th>call_source_dstc</th>\n    </tr>\n  </thead>\n  <tbody>\n    <tr>\n      <th>0</th>\n      <td>B96436391985035703</td>\n      <td>2018-10-08</td>\n      <td>2018-10-08</td>\n      <td>B</td>\n      <td>0</td>\n      <td>0</td>\n      <td>1</td>\n      <td>0</td>\n      <td>0.0</td>\n      <td>0.0</td>\n      <td>...</td>\n      <td>0.0</td>\n      <td>0.0</td>\n      <td>0.0</td>\n      <td>0.0</td>\n      <td>0.0</td>\n      <td>1</td>\n      <td>1</td>\n      <td>1</td>\n      <td>1</td>\n      <td>1</td>\n    </tr>\n    <tr>\n      <th>1</th>\n      <td>B96436391984693397</td>\n      <td>2018-10-11</td>\n      <td>2018-10-11</td>\n      <td>E</td>\n      <td>0</td>\n      <td>0</td>\n      <td>1</td>\n      <td>0</td>\n      <td>0.0</td>\n      <td>0.0</td>\n      <td>...</td>\n      <td>0.0</td>\n      <td>0.0</td>\n      <td>0.0</td>\n      <td>0.0</td>\n      <td>0.0</td>\n      <td>1</td>\n      <td>1</td>\n      <td>1</td>\n      <td>1</td>\n      <td>1</td>\n    </tr>\n    <tr>\n      <th>2</th>\n      <td>B96436391977217468</td>\n      <td>2018-10-17</td>\n      <td>2018-10-17</td>\n      <td>B</td>\n      <td>0</td>\n      <td>0</td>\n      <td>1</td>\n      <td>0</td>\n      <td>0.0</td>\n      <td>0.0</td>\n      <td>...</td>\n      <td>0.0</td>\n      <td>0.0</td>\n      <td>0.0</td>\n      <td>0.0</td>\n      <td>0.0</td>\n      <td>1</td>\n      <td>1</td>\n      <td>1</td>\n      <td>1</td>\n      <td>1</td>\n    </tr>\n    <tr>\n      <th>3</th>\n      <td>B96436391976480892</td>\n      <td>2018-09-28</td>\n      <td>2018-09-28</td>\n      <td>B</td>\n      <td>0</td>\n      <td>0</td>\n      <td>1</td>\n      <td>0</td>\n      <td>0.0</td>\n      <td>0.0</td>\n      <td>...</td>\n      <td>0.0</td>\n      <td>0.0</td>\n      <td>0.0</td>\n      <td>0.0</td>\n      <td>0.0</td>\n      <td>1</td>\n      <td>1</td>\n      <td>1</td>\n      <td>1</td>\n      <td>1</td>\n    </tr>\n    <tr>\n      <th>4</th>\n      <td>B96436391972106043</td>\n      <td>2018-10-19</td>\n      <td>2018-10-19</td>\n      <td>A</td>\n      <td>0</td>\n      <td>0</td>\n      <td>1</td>\n      <td>0</td>\n      <td>0.0</td>\n      <td>0.0</td>\n      <td>...</td>\n      <td>0.0</td>\n      <td>0.0</td>\n      <td>0.0</td>\n      <td>0.0</td>\n      <td>0.0</td>\n      <td>1</td>\n      <td>1</td>\n      <td>1</td>\n      <td>1</td>\n      <td>1</td>\n    </tr>\n  </tbody>\n</table>\n<p>5 rows × 67 columns</p>\n</div>"
     },
     "execution_count": 28,
     "metadata": {},
     "output_type": "execute_result"
    }
   ],
   "source": [
    "#如果万一数据中出现缺失值，用0填充\n",
    "fn.isna().sum()\n",
    "fn = fn.fillna(0)\n",
    "fn.head()"
   ],
   "metadata": {
    "collapsed": false,
    "pycharm": {
     "name": "#%%\n"
    }
   }
  },
  {
   "cell_type": "code",
   "execution_count": 30,
   "outputs": [],
   "source": [
    "#训练模型\n",
    "x = fn.drop(['uid','oil_actv_dt','create_dt','bad_ind','class_new'],axis=1)"
   ],
   "metadata": {
    "collapsed": false,
    "pycharm": {
     "name": "#%%\n"
    }
   }
  },
  {
   "cell_type": "code",
   "execution_count": 31,
   "outputs": [],
   "source": [
    "y = fn['bad_ind'].copy()\n"
   ],
   "metadata": {
    "collapsed": false,
    "pycharm": {
     "name": "#%%\n"
    }
   }
  },
  {
   "cell_type": "code",
   "execution_count": 34,
   "outputs": [],
   "source": [
    "from sklearn.tree import DecisionTreeRegressor,export_graphviz\n",
    "dtree = DecisionTreeRegressor(max_depth=2,min_samples_leaf=500,min_samples_split=5000)"
   ],
   "metadata": {
    "collapsed": false,
    "pycharm": {
     "name": "#%%\n"
    }
   }
  },
  {
   "cell_type": "code",
   "execution_count": 35,
   "outputs": [
    {
     "data": {
      "text/plain": "DecisionTreeRegressor(max_depth=2, min_samples_leaf=500, min_samples_split=5000)"
     },
     "execution_count": 35,
     "metadata": {},
     "output_type": "execute_result"
    }
   ],
   "source": [
    "dtree.fit(x,y)\n"
   ],
   "metadata": {
    "collapsed": false,
    "pycharm": {
     "name": "#%%\n"
    }
   }
  },
  {
   "cell_type": "code",
   "execution_count": 36,
   "outputs": [
    {
     "data": {
      "image/png": "[encoded data removed]",
      "text/plain": "<IPython.core.display.Image object>"
     },
     "execution_count": 36,
     "metadata": {},
     "output_type": "execute_result"
    }
   ],
   "source": [
    "#画图，看一眼决策树\n",
    "import pydotplus\n",
    "from IPython.display import Image\n",
    "from six import StringIO\n",
    "dot_data = StringIO()\n",
    "export_graphviz(dtree, out_file=dot_data,\n",
    "                         feature_names=x.columns,\n",
    "                         class_names=['bad_ind'],\n",
    "                         filled=True, rounded=True,\n",
    "                         special_characters=True)\n",
    "graph = pydotplus.graph_from_dot_data(dot_data.getvalue())\n",
    "Image(graph.create_png())\n"
   ],
   "metadata": {
    "collapsed": false,
    "pycharm": {
     "name": "#%%\n"
    }
   }
  },
  {
   "cell_type": "code",
   "execution_count": 37,
   "outputs": [
    {
     "data": {
      "text/plain": "[Text(133.92000000000002, 181.2, 'amount_tot <= 48077.5\\nmse = 0.044\\nsamples = 11099\\nvalue = 0.047'),\n Text(66.96000000000001, 108.72, 'mse = 0.068\\nsamples = 5331\\nvalue = 0.074'),\n Text(200.88000000000002, 108.72, 'pay_amount_num <= 3.5\\nmse = 0.021\\nsamples = 5768\\nvalue = 0.021'),\n Text(133.92000000000002, 36.23999999999998, 'mse = 0.029\\nsamples = 2931\\nvalue = 0.03'),\n Text(267.84000000000003, 36.23999999999998, 'mse = 0.012\\nsamples = 2837\\nvalue = 0.012')]"
     },
     "execution_count": 37,
     "metadata": {},
     "output_type": "execute_result"
    },
    {
     "data": {
      "text/plain": "<Figure size 432x288 with 1 Axes>",
      "image/png": "[encoded data removed]"
     },
     "metadata": {
      "needs_background": "light"
     },
     "output_type": "display_data"
    }
   ],
   "source": [
    "from sklearn.tree import plot_tree\n",
    "import matplotlib.pyplot as plt\n",
    "plot_tree(dtree,feature_names=x.columns,\n",
    "                         class_names=['bad_ind'],\n",
    "                         filled=True, rounded=True)\n"
   ],
   "metadata": {
    "collapsed": false,
    "pycharm": {
     "name": "#%%\n"
    }
   }
  },
  {
   "cell_type": "code",
   "execution_count": null,
   "outputs": [],
   "source": [],
   "metadata": {
    "collapsed": false,
    "pycharm": {
     "name": "#%%\n"
    }
   }
  }
 ],
 "metadata": {
  "kernelspec": {
   "display_name": "Python 3",
   "language": "python",
   "name": "python3"
  },
  "language_info": {
   "codemirror_mode": {
    "name": "ipython",
    "version": 2
   },
   "file_extension": ".py",
   "mimetype": "text/x-python",
   "name": "python",
   "nbconvert_exporter": "python",
   "pygments_lexer": "ipython2",
   "version": "2.7.6"
  }
 },
 "nbformat": 4,
 "nbformat_minor": 0
}