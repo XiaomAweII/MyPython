{
 "cells": [
  {
   "cell_type": "code",
   "execution_count": 1,
   "metadata": {
    "collapsed": true
   },
   "outputs": [],
   "source": [
    "import pandas as pd\n",
    "from pyecharts.charts import *\n",
    "from pyecharts import options as opts\n"
   ]
  },
  {
   "cell_type": "code",
   "execution_count": 6,
   "outputs": [
    {
     "data": {
      "text/plain": "         销售 账单状态     账单周期      账单金额      开票金额      实收金额      未收金额       预计付款日  \\\n0      s101  未确认  2019-05   29805.0       NaN       NaN       NaN  2019-07-31   \n1      s102  未确认  2019-05    1572.6       NaN       NaN       NaN  2019-07-31   \n2      s103  已确认  2019-04  487551.2  487551.2       NaN  487551.2  2019-06-30   \n3      s104  已确认  2019-04  378835.0  378835.0       NaN  378835.0  2019-07-31   \n4      s105  已确认  2019-04  326866.0  326866.0       NaN  326866.0  2019-07-31   \n...     ...  ...      ...       ...       ...       ...       ...         ...   \n5252  s5353  已确认  2017-07   22800.0       NaN       NaN       NaN  2017-07-31   \n5253  s5354  已确认  2017-07    6483.0       NaN       NaN       NaN  2017-09-30   \n5254  s5355  已核销  2017-06  418795.0  418795.0  418795.0       0.0  2017-08-14   \n5255  s5356  已核销  2017-06   86337.0   86337.0   86337.0       0.0  2017-08-31   \n5256  s5357  已确认  2017-06   34550.0       NaN       NaN       NaN  2017-08-31   \n\n            应付日期      商务催收日期  账期       实际到账日   开票日期     客服  \n0     2019-07-31  2019-08-15  60         NaN    NaN   a201  \n1     2019-07-31  2019-08-15  60         NaN    NaN   a202  \n2     2019-06-30  2019-07-15  60         NaN  05-16   a203  \n3     2019-07-31  2019-08-15  90         NaN  05-08   a204  \n4     2019-07-31  2019-08-15  90         NaN  05-10   a205  \n...          ...         ...  ..         ...    ...    ...  \n5252  2017-08-31  2017-09-15  30         NaN    NaN  a5453  \n5253  2017-09-30  2017-10-15  60         NaN    NaN  a5454  \n5254  2017-08-31  2017-09-15  60  2017-08-31  11-02  a5455  \n5255  2017-08-31  2017-09-15  60  2017-08-22  11-02  a5456  \n5256  2017-08-31  2017-09-15  60         NaN    NaN  a5457  \n\n[5257 rows x 14 columns]",
      "text/html": "<div>\n<style scoped>\n    .dataframe tbody tr th:only-of-type {\n        vertical-align: middle;\n    }\n\n    .dataframe tbody tr th {\n        vertical-align: top;\n    }\n\n    .dataframe thead th {\n        text-align: right;\n    }\n</style>\n<table border=\"1\" class=\"dataframe\">\n  <thead>\n    <tr style=\"text-align: right;\">\n      <th></th>\n      <th>销售</th>\n      <th>账单状态</th>\n      <th>账单周期</th>\n      <th>账单金额</th>\n      <th>开票金额</th>\n      <th>实收金额</th>\n      <th>未收金额</th>\n      <th>预计付款日</th>\n      <th>应付日期</th>\n      <th>商务催收日期</th>\n      <th>账期</th>\n      <th>实际到账日</th>\n      <th>开票日期</th>\n      <th>客服</th>\n    </tr>\n  </thead>\n  <tbody>\n    <tr>\n      <th>0</th>\n      <td>s101</td>\n      <td>未确认</td>\n      <td>2019-05</td>\n      <td>29805.0</td>\n      <td>NaN</td>\n      <td>NaN</td>\n      <td>NaN</td>\n      <td>2019-07-31</td>\n      <td>2019-07-31</td>\n      <td>2019-08-15</td>\n      <td>60</td>\n      <td>NaN</td>\n      <td>NaN</td>\n      <td>a201</td>\n    </tr>\n    <tr>\n      <th>1</th>\n      <td>s102</td>\n      <td>未确认</td>\n      <td>2019-05</td>\n      <td>1572.6</td>\n      <td>NaN</td>\n      <td>NaN</td>\n      <td>NaN</td>\n      <td>2019-07-31</td>\n      <td>2019-07-31</td>\n      <td>2019-08-15</td>\n      <td>60</td>\n      <td>NaN</td>\n      <td>NaN</td>\n      <td>a202</td>\n    </tr>\n    <tr>\n      <th>2</th>\n      <td>s103</td>\n      <td>已确认</td>\n      <td>2019-04</td>\n      <td>487551.2</td>\n      <td>487551.2</td>\n      <td>NaN</td>\n      <td>487551.2</td>\n      <td>2019-06-30</td>\n      <td>2019-06-30</td>\n      <td>2019-07-15</td>\n      <td>60</td>\n      <td>NaN</td>\n      <td>05-16</td>\n      <td>a203</td>\n    </tr>\n    <tr>\n      <th>3</th>\n      <td>s104</td>\n      <td>已确认</td>\n      <td>2019-04</td>\n      <td>378835.0</td>\n      <td>378835.0</td>\n      <td>NaN</td>\n      <td>378835.0</td>\n      <td>2019-07-31</td>\n      <td>2019-07-31</td>\n      <td>2019-08-15</td>\n      <td>90</td>\n      <td>NaN</td>\n      <td>05-08</td>\n      <td>a204</td>\n    </tr>\n    <tr>\n      <th>4</th>\n      <td>s105</td>\n      <td>已确认</td>\n      <td>2019-04</td>\n      <td>326866.0</td>\n      <td>326866.0</td>\n      <td>NaN</td>\n      <td>326866.0</td>\n      <td>2019-07-31</td>\n      <td>2019-07-31</td>\n      <td>2019-08-15</td>\n      <td>90</td>\n      <td>NaN</td>\n      <td>05-10</td>\n      <td>a205</td>\n    </tr>\n    <tr>\n      <th>...</th>\n      <td>...</td>\n      <td>...</td>\n      <td>...</td>\n      <td>...</td>\n      <td>...</td>\n      <td>...</td>\n      <td>...</td>\n      <td>...</td>\n      <td>...</td>\n      <td>...</td>\n      <td>...</td>\n      <td>...</td>\n      <td>...</td>\n      <td>...</td>\n    </tr>\n    <tr>\n      <th>5252</th>\n      <td>s5353</td>\n      <td>已确认</td>\n      <td>2017-07</td>\n      <td>22800.0</td>\n      <td>NaN</td>\n      <td>NaN</td>\n      <td>NaN</td>\n      <td>2017-07-31</td>\n      <td>2017-08-31</td>\n      <td>2017-09-15</td>\n      <td>30</td>\n      <td>NaN</td>\n      <td>NaN</td>\n      <td>a5453</td>\n    </tr>\n    <tr>\n      <th>5253</th>\n      <td>s5354</td>\n      <td>已确认</td>\n      <td>2017-07</td>\n      <td>6483.0</td>\n      <td>NaN</td>\n      <td>NaN</td>\n      <td>NaN</td>\n      <td>2017-09-30</td>\n      <td>2017-09-30</td>\n      <td>2017-10-15</td>\n      <td>60</td>\n      <td>NaN</td>\n      <td>NaN</td>\n      <td>a5454</td>\n    </tr>\n    <tr>\n      <th>5254</th>\n      <td>s5355</td>\n      <td>已核销</td>\n      <td>2017-06</td>\n      <td>418795.0</td>\n      <td>418795.0</td>\n      <td>418795.0</td>\n      <td>0.0</td>\n      <td>2017-08-14</td>\n      <td>2017-08-31</td>\n      <td>2017-09-15</td>\n      <td>60</td>\n      <td>2017-08-31</td>\n      <td>11-02</td>\n      <td>a5455</td>\n    </tr>\n    <tr>\n      <th>5255</th>\n      <td>s5356</td>\n      <td>已核销</td>\n      <td>2017-06</td>\n      <td>86337.0</td>\n      <td>86337.0</td>\n      <td>86337.0</td>\n      <td>0.0</td>\n      <td>2017-08-31</td>\n      <td>2017-08-31</td>\n      <td>2017-09-15</td>\n      <td>60</td>\n      <td>2017-08-22</td>\n      <td>11-02</td>\n      <td>a5456</td>\n    </tr>\n    <tr>\n      <th>5256</th>\n      <td>s5357</td>\n      <td>已确认</td>\n      <td>2017-06</td>\n      <td>34550.0</td>\n      <td>NaN</td>\n      <td>NaN</td>\n      <td>NaN</td>\n      <td>2017-08-31</td>\n      <td>2017-08-31</td>\n      <td>2017-09-15</td>\n      <td>60</td>\n      <td>NaN</td>\n      <td>NaN</td>\n      <td>a5457</td>\n    </tr>\n  </tbody>\n</table>\n<p>5257 rows × 14 columns</p>\n</div>"
     },
     "execution_count": 6,
     "metadata": {},
     "output_type": "execute_result"
    }
   ],
   "source": [
    "#读取数据\n",
    "df = pd.read_excel(\"../data/业务数据.xls\")\n",
    "df"
   ],
   "metadata": {
    "collapsed": false,
    "pycharm": {
     "name": "#%%\n"
    }
   }
  },
  {
   "cell_type": "code",
   "execution_count": 7,
   "outputs": [
    {
     "name": "stdout",
     "output_type": "stream",
     "text": [
      "<class 'pandas.core.frame.DataFrame'>\n",
      "RangeIndex: 5257 entries, 0 to 5256\n",
      "Data columns (total 14 columns):\n",
      " #   Column  Non-Null Count  Dtype  \n",
      "---  ------  --------------  -----  \n",
      " 0   销售      5257 non-null   object \n",
      " 1   账单状态    5257 non-null   object \n",
      " 2   账单周期    5257 non-null   object \n",
      " 3   账单金额    5257 non-null   float64\n",
      " 4   开票金额    5010 non-null   float64\n",
      " 5   实收金额    4470 non-null   float64\n",
      " 6   未收金额    5010 non-null   float64\n",
      " 7   预计付款日   5256 non-null   object \n",
      " 8   应付日期    5257 non-null   object \n",
      " 9   商务催收日期  5257 non-null   object \n",
      " 10  账期      5257 non-null   int64  \n",
      " 11  实际到账日   4387 non-null   object \n",
      " 12  开票日期    4996 non-null   object \n",
      " 13  客服      5257 non-null   object \n",
      "dtypes: float64(4), int64(1), object(9)\n",
      "memory usage: 575.1+ KB\n"
     ]
    }
   ],
   "source": [
    "#查看数据\n",
    "df.info()\n",
    "#1.从数据的完整性来看，有些数据是空的，因此需要填充\n",
    "#开票金额、实收金额、未收金额、实际到账日\n",
    "\n",
    "#2.把非日期类型转换为datetime类型\n",
    "#实际到账日、应付日期、账单周期"
   ],
   "metadata": {
    "collapsed": false,
    "pycharm": {
     "name": "#%%\n"
    }
   }
  },
  {
   "cell_type": "code",
   "execution_count": 8,
   "outputs": [
    {
     "data": {
      "text/plain": "               账单金额          开票金额          实收金额          未收金额           账期\ncount  5.257000e+03  5.010000e+03  4.470000e+03  5.010000e+03  5257.000000\nmean   4.073241e+04  4.096896e+04  4.082419e+04  4.684636e+03    64.539661\nstd    8.176172e+04  8.007245e+04  7.970628e+04  2.888464e+04    15.622765\nmin    0.000000e+00  2.500000e+01  0.000000e+00  0.000000e+00     0.000000\n25%    5.103000e+03  5.300000e+03  5.112250e+03  0.000000e+00    60.000000\n50%    1.436500e+04  1.486560e+04  1.434000e+04  0.000000e+00    60.000000\n75%    4.178000e+04  4.220250e+04  4.170750e+04  0.000000e+00    75.000000\nmax    1.508796e+06  1.356215e+06  1.301665e+06  1.277098e+06    90.000000",
      "text/html": "<div>\n<style scoped>\n    .dataframe tbody tr th:only-of-type {\n        vertical-align: middle;\n    }\n\n    .dataframe tbody tr th {\n        vertical-align: top;\n    }\n\n    .dataframe thead th {\n        text-align: right;\n    }\n</style>\n<table border=\"1\" class=\"dataframe\">\n  <thead>\n    <tr style=\"text-align: right;\">\n      <th></th>\n      <th>账单金额</th>\n      <th>开票金额</th>\n      <th>实收金额</th>\n      <th>未收金额</th>\n      <th>账期</th>\n    </tr>\n  </thead>\n  <tbody>\n    <tr>\n      <th>count</th>\n      <td>5.257000e+03</td>\n      <td>5.010000e+03</td>\n      <td>4.470000e+03</td>\n      <td>5.010000e+03</td>\n      <td>5257.000000</td>\n    </tr>\n    <tr>\n      <th>mean</th>\n      <td>4.073241e+04</td>\n      <td>4.096896e+04</td>\n      <td>4.082419e+04</td>\n      <td>4.684636e+03</td>\n      <td>64.539661</td>\n    </tr>\n    <tr>\n      <th>std</th>\n      <td>8.176172e+04</td>\n      <td>8.007245e+04</td>\n      <td>7.970628e+04</td>\n      <td>2.888464e+04</td>\n      <td>15.622765</td>\n    </tr>\n    <tr>\n      <th>min</th>\n      <td>0.000000e+00</td>\n      <td>2.500000e+01</td>\n      <td>0.000000e+00</td>\n      <td>0.000000e+00</td>\n      <td>0.000000</td>\n    </tr>\n    <tr>\n      <th>25%</th>\n      <td>5.103000e+03</td>\n      <td>5.300000e+03</td>\n      <td>5.112250e+03</td>\n      <td>0.000000e+00</td>\n      <td>60.000000</td>\n    </tr>\n    <tr>\n      <th>50%</th>\n      <td>1.436500e+04</td>\n      <td>1.486560e+04</td>\n      <td>1.434000e+04</td>\n      <td>0.000000e+00</td>\n      <td>60.000000</td>\n    </tr>\n    <tr>\n      <th>75%</th>\n      <td>4.178000e+04</td>\n      <td>4.220250e+04</td>\n      <td>4.170750e+04</td>\n      <td>0.000000e+00</td>\n      <td>75.000000</td>\n    </tr>\n    <tr>\n      <th>max</th>\n      <td>1.508796e+06</td>\n      <td>1.356215e+06</td>\n      <td>1.301665e+06</td>\n      <td>1.277098e+06</td>\n      <td>90.000000</td>\n    </tr>\n  </tbody>\n</table>\n</div>"
     },
     "execution_count": 8,
     "metadata": {},
     "output_type": "execute_result"
    }
   ],
   "source": [
    "df.describe()\n"
   ],
   "metadata": {
    "collapsed": false,
    "pycharm": {
     "name": "#%%\n"
    }
   }
  },
  {
   "cell_type": "code",
   "execution_count": 10,
   "outputs": [],
   "source": [
    "#获取交易时间的最大值，当做当前时间（从实际到账日取最大值）\n",
    "df2 = df.copy()"
   ],
   "metadata": {
    "collapsed": false,
    "pycharm": {
     "name": "#%%\n"
    }
   }
  },
  {
   "cell_type": "code",
   "execution_count": 12,
   "outputs": [
    {
     "data": {
      "text/plain": "Timestamp('2019-05-17 00:00:00')"
     },
     "execution_count": 12,
     "metadata": {},
     "output_type": "execute_result"
    }
   ],
   "source": [
    "today_time = pd.to_datetime(df2['实际到账日'].fillna(\"0\").max())\n",
    "today_time"
   ],
   "metadata": {
    "collapsed": false,
    "pycharm": {
     "name": "#%%\n"
    }
   }
  },
  {
   "cell_type": "code",
   "execution_count": 21,
   "outputs": [],
   "source": [
    "#数据填充\n",
    "df2['开票金额'] = df2['开票金额'].fillna(0)\n"
   ],
   "metadata": {
    "collapsed": false,
    "pycharm": {
     "name": "#%%\n"
    }
   }
  },
  {
   "cell_type": "code",
   "execution_count": 22,
   "outputs": [],
   "source": [
    "df2['实收金额'] = df2['实收金额'].fillna(0)\n",
    "df2['未收金额'] = df2['未收金额'].fillna(0)"
   ],
   "metadata": {
    "collapsed": false,
    "pycharm": {
     "name": "#%%\n"
    }
   }
  },
  {
   "cell_type": "code",
   "execution_count": 23,
   "outputs": [],
   "source": [
    "#数据填充，数据转换\n",
    "df2['实际到账日'] = pd.to_datetime(df2['实际到账日'].fillna(today_time))\n"
   ],
   "metadata": {
    "collapsed": false,
    "pycharm": {
     "name": "#%%\n"
    }
   }
  },
  {
   "cell_type": "code",
   "execution_count": 24,
   "outputs": [],
   "source": [
    "#应付日期类型转换\n",
    "df2['应付日期'] = pd.to_datetime(df2['应付日期'])\n",
    "df2['账单周期'] = pd.to_datetime(df2['账单周期'])"
   ],
   "metadata": {
    "collapsed": false,
    "pycharm": {
     "name": "#%%\n"
    }
   }
  },
  {
   "cell_type": "code",
   "execution_count": 25,
   "outputs": [
    {
     "name": "stdout",
     "output_type": "stream",
     "text": [
      "<class 'pandas.core.frame.DataFrame'>\n",
      "RangeIndex: 5257 entries, 0 to 5256\n",
      "Data columns (total 14 columns):\n",
      " #   Column  Non-Null Count  Dtype         \n",
      "---  ------  --------------  -----         \n",
      " 0   销售      5257 non-null   object        \n",
      " 1   账单状态    5257 non-null   object        \n",
      " 2   账单周期    5257 non-null   datetime64[ns]\n",
      " 3   账单金额    5257 non-null   float64       \n",
      " 4   开票金额    5257 non-null   float64       \n",
      " 5   实收金额    5257 non-null   float64       \n",
      " 6   未收金额    5257 non-null   float64       \n",
      " 7   预计付款日   5256 non-null   object        \n",
      " 8   应付日期    5257 non-null   datetime64[ns]\n",
      " 9   商务催收日期  5257 non-null   object        \n",
      " 10  账期      5257 non-null   int64         \n",
      " 11  实际到账日   5257 non-null   datetime64[ns]\n",
      " 12  开票日期    4996 non-null   object        \n",
      " 13  客服      5257 non-null   object        \n",
      "dtypes: datetime64[ns](3), float64(4), int64(1), object(6)\n",
      "memory usage: 575.1+ KB\n"
     ]
    }
   ],
   "source": [
    "df2.info()\n"
   ],
   "metadata": {
    "collapsed": false,
    "pycharm": {
     "name": "#%%\n"
    }
   }
  },
  {
   "cell_type": "markdown",
   "source": [
    "* 为了计算方便，额外计算几个字段，用于后续的计算逻辑\n"
   ],
   "metadata": {
    "collapsed": false,
    "pycharm": {
     "name": "#%% md\n"
    }
   }
  },
  {
   "cell_type": "code",
   "execution_count": 28,
   "outputs": [],
   "source": [
    "#是否到期，apply，自定义函数，自己指定逻辑\n",
    "#axis=0，按行\n",
    "#axis=1，按列\n",
    "df2['是否到期'] = df2.apply(lambda x:0 if x['应付日期'] > today_time else 1,axis=1)"
   ],
   "metadata": {
    "collapsed": false,
    "pycharm": {
     "name": "#%%\n"
    }
   }
  },
  {
   "cell_type": "code",
   "execution_count": 31,
   "outputs": [],
   "source": [
    "#是否到期90天\n",
    "df2['是否到期90天'] = (today_time - df2['应付日期']).apply(lambda x:1 if x.days >= 90 else 0)"
   ],
   "metadata": {
    "collapsed": false,
    "pycharm": {
     "name": "#%%\n"
    }
   }
  },
  {
   "cell_type": "code",
   "execution_count": 32,
   "outputs": [],
   "source": [
    "#未收金额\n",
    "df2['未收金额2'] = df2['账单金额'] - df2['实收金额']\n"
   ],
   "metadata": {
    "collapsed": false,
    "pycharm": {
     "name": "#%%\n"
    }
   }
  },
  {
   "cell_type": "code",
   "execution_count": 60,
   "outputs": [],
   "source": [
    "#历史逾期天数，if条件成立，说明是历史逾期，else，说明未收金额2 不等于 0，说明现在仍然处于逾期阶段\n",
    "df2['历史逾期天数'] = df2.apply(lambda x:(x['实际到账日'] - x['应付日期']).days if x['未收金额2'] == 0 else (today_time - x['应付日期']).days,axis=1)"
   ],
   "metadata": {
    "collapsed": false,
    "pycharm": {
     "name": "#%%\n"
    }
   }
  },
  {
   "cell_type": "code",
   "execution_count": 61,
   "outputs": [],
   "source": [
    "#当前逾期天数，未收金额2 > 0，说明当前逾期，否则就是还清了\n",
    "df2['当前逾期天数'] = df2.apply(lambda x:(today_time - x['应付日期']).days if x['未收金额2'] > 0 else 0,axis=1)"
   ],
   "metadata": {
    "collapsed": false,
    "pycharm": {
     "name": "#%%\n"
    }
   }
  },
  {
   "cell_type": "code",
   "execution_count": 62,
   "outputs": [
    {
     "data": {
      "text/plain": "         销售 账单状态       账单周期      账单金额      开票金额      实收金额      未收金额  \\\n0      s101  未确认 2019-05-01   29805.0       0.0       0.0       0.0   \n1      s102  未确认 2019-05-01    1572.6       0.0       0.0       0.0   \n2      s103  已确认 2019-04-01  487551.2  487551.2       0.0  487551.2   \n3      s104  已确认 2019-04-01  378835.0  378835.0       0.0  378835.0   \n4      s105  已确认 2019-04-01  326866.0  326866.0       0.0  326866.0   \n...     ...  ...        ...       ...       ...       ...       ...   \n5252  s5353  已确认 2017-07-01   22800.0       0.0       0.0       0.0   \n5253  s5354  已确认 2017-07-01    6483.0       0.0       0.0       0.0   \n5254  s5355  已核销 2017-06-01  418795.0  418795.0  418795.0       0.0   \n5255  s5356  已核销 2017-06-01   86337.0   86337.0   86337.0       0.0   \n5256  s5357  已确认 2017-06-01   34550.0       0.0       0.0       0.0   \n\n           预计付款日       应付日期      商务催收日期  账期      实际到账日   开票日期     客服  是否到期  \\\n0     2019-07-31 2019-07-31  2019-08-15  60 2019-05-17    NaN   a201     0   \n1     2019-07-31 2019-07-31  2019-08-15  60 2019-05-17    NaN   a202     0   \n2     2019-06-30 2019-06-30  2019-07-15  60 2019-05-17  05-16   a203     0   \n3     2019-07-31 2019-07-31  2019-08-15  90 2019-05-17  05-08   a204     0   \n4     2019-07-31 2019-07-31  2019-08-15  90 2019-05-17  05-10   a205     0   \n...          ...        ...         ...  ..        ...    ...    ...   ...   \n5252  2017-07-31 2017-08-31  2017-09-15  30 2019-05-17    NaN  a5453     1   \n5253  2017-09-30 2017-09-30  2017-10-15  60 2019-05-17    NaN  a5454     1   \n5254  2017-08-14 2017-08-31  2017-09-15  60 2017-08-31  11-02  a5455     1   \n5255  2017-08-31 2017-08-31  2017-09-15  60 2017-08-22  11-02  a5456     1   \n5256  2017-08-31 2017-08-31  2017-09-15  60 2019-05-17    NaN  a5457     1   \n\n      是否到期90天     未收金额2  当前逾期天数  历史逾期天数  \n0           0   29805.0     -75     -75  \n1           0    1572.6     -75     -75  \n2           0  487551.2     -44     -44  \n3           0  378835.0     -75     -75  \n4           0  326866.0     -75     -75  \n...       ...       ...     ...     ...  \n5252        1   22800.0     624     624  \n5253        1    6483.0     594     594  \n5254        1       0.0       0       0  \n5255        1       0.0       0      -9  \n5256        1   34550.0     624     624  \n\n[5257 rows x 19 columns]",
      "text/html": "<div>\n<style scoped>\n    .dataframe tbody tr th:only-of-type {\n        vertical-align: middle;\n    }\n\n    .dataframe tbody tr th {\n        vertical-align: top;\n    }\n\n    .dataframe thead th {\n        text-align: right;\n    }\n</style>\n<table border=\"1\" class=\"dataframe\">\n  <thead>\n    <tr style=\"text-align: right;\">\n      <th></th>\n      <th>销售</th>\n      <th>账单状态</th>\n      <th>账单周期</th>\n      <th>账单金额</th>\n      <th>开票金额</th>\n      <th>实收金额</th>\n      <th>未收金额</th>\n      <th>预计付款日</th>\n      <th>应付日期</th>\n      <th>商务催收日期</th>\n      <th>账期</th>\n      <th>实际到账日</th>\n      <th>开票日期</th>\n      <th>客服</th>\n      <th>是否到期</th>\n      <th>是否到期90天</th>\n      <th>未收金额2</th>\n      <th>当前逾期天数</th>\n      <th>历史逾期天数</th>\n    </tr>\n  </thead>\n  <tbody>\n    <tr>\n      <th>0</th>\n      <td>s101</td>\n      <td>未确认</td>\n      <td>2019-05-01</td>\n      <td>29805.0</td>\n      <td>0.0</td>\n      <td>0.0</td>\n      <td>0.0</td>\n      <td>2019-07-31</td>\n      <td>2019-07-31</td>\n      <td>2019-08-15</td>\n      <td>60</td>\n      <td>2019-05-17</td>\n      <td>NaN</td>\n      <td>a201</td>\n      <td>0</td>\n      <td>0</td>\n      <td>29805.0</td>\n      <td>-75</td>\n      <td>-75</td>\n    </tr>\n    <tr>\n      <th>1</th>\n      <td>s102</td>\n      <td>未确认</td>\n      <td>2019-05-01</td>\n      <td>1572.6</td>\n      <td>0.0</td>\n      <td>0.0</td>\n      <td>0.0</td>\n      <td>2019-07-31</td>\n      <td>2019-07-31</td>\n      <td>2019-08-15</td>\n      <td>60</td>\n      <td>2019-05-17</td>\n      <td>NaN</td>\n      <td>a202</td>\n      <td>0</td>\n      <td>0</td>\n      <td>1572.6</td>\n      <td>-75</td>\n      <td>-75</td>\n    </tr>\n    <tr>\n      <th>2</th>\n      <td>s103</td>\n      <td>已确认</td>\n      <td>2019-04-01</td>\n      <td>487551.2</td>\n      <td>487551.2</td>\n      <td>0.0</td>\n      <td>487551.2</td>\n      <td>2019-06-30</td>\n      <td>2019-06-30</td>\n      <td>2019-07-15</td>\n      <td>60</td>\n      <td>2019-05-17</td>\n      <td>05-16</td>\n      <td>a203</td>\n      <td>0</td>\n      <td>0</td>\n      <td>487551.2</td>\n      <td>-44</td>\n      <td>-44</td>\n    </tr>\n    <tr>\n      <th>3</th>\n      <td>s104</td>\n      <td>已确认</td>\n      <td>2019-04-01</td>\n      <td>378835.0</td>\n      <td>378835.0</td>\n      <td>0.0</td>\n      <td>378835.0</td>\n      <td>2019-07-31</td>\n      <td>2019-07-31</td>\n      <td>2019-08-15</td>\n      <td>90</td>\n      <td>2019-05-17</td>\n      <td>05-08</td>\n      <td>a204</td>\n      <td>0</td>\n      <td>0</td>\n      <td>378835.0</td>\n      <td>-75</td>\n      <td>-75</td>\n    </tr>\n    <tr>\n      <th>4</th>\n      <td>s105</td>\n      <td>已确认</td>\n      <td>2019-04-01</td>\n      <td>326866.0</td>\n      <td>326866.0</td>\n      <td>0.0</td>\n      <td>326866.0</td>\n      <td>2019-07-31</td>\n      <td>2019-07-31</td>\n      <td>2019-08-15</td>\n      <td>90</td>\n      <td>2019-05-17</td>\n      <td>05-10</td>\n      <td>a205</td>\n      <td>0</td>\n      <td>0</td>\n      <td>326866.0</td>\n      <td>-75</td>\n      <td>-75</td>\n    </tr>\n    <tr>\n      <th>...</th>\n      <td>...</td>\n      <td>...</td>\n      <td>...</td>\n      <td>...</td>\n      <td>...</td>\n      <td>...</td>\n      <td>...</td>\n      <td>...</td>\n      <td>...</td>\n      <td>...</td>\n      <td>...</td>\n      <td>...</td>\n      <td>...</td>\n      <td>...</td>\n      <td>...</td>\n      <td>...</td>\n      <td>...</td>\n      <td>...</td>\n      <td>...</td>\n    </tr>\n    <tr>\n      <th>5252</th>\n      <td>s5353</td>\n      <td>已确认</td>\n      <td>2017-07-01</td>\n      <td>22800.0</td>\n      <td>0.0</td>\n      <td>0.0</td>\n      <td>0.0</td>\n      <td>2017-07-31</td>\n      <td>2017-08-31</td>\n      <td>2017-09-15</td>\n      <td>30</td>\n      <td>2019-05-17</td>\n      <td>NaN</td>\n      <td>a5453</td>\n      <td>1</td>\n      <td>1</td>\n      <td>22800.0</td>\n      <td>624</td>\n      <td>624</td>\n    </tr>\n    <tr>\n      <th>5253</th>\n      <td>s5354</td>\n      <td>已确认</td>\n      <td>2017-07-01</td>\n      <td>6483.0</td>\n      <td>0.0</td>\n      <td>0.0</td>\n      <td>0.0</td>\n      <td>2017-09-30</td>\n      <td>2017-09-30</td>\n      <td>2017-10-15</td>\n      <td>60</td>\n      <td>2019-05-17</td>\n      <td>NaN</td>\n      <td>a5454</td>\n      <td>1</td>\n      <td>1</td>\n      <td>6483.0</td>\n      <td>594</td>\n      <td>594</td>\n    </tr>\n    <tr>\n      <th>5254</th>\n      <td>s5355</td>\n      <td>已核销</td>\n      <td>2017-06-01</td>\n      <td>418795.0</td>\n      <td>418795.0</td>\n      <td>418795.0</td>\n      <td>0.0</td>\n      <td>2017-08-14</td>\n      <td>2017-08-31</td>\n      <td>2017-09-15</td>\n      <td>60</td>\n      <td>2017-08-31</td>\n      <td>11-02</td>\n      <td>a5455</td>\n      <td>1</td>\n      <td>1</td>\n      <td>0.0</td>\n      <td>0</td>\n      <td>0</td>\n    </tr>\n    <tr>\n      <th>5255</th>\n      <td>s5356</td>\n      <td>已核销</td>\n      <td>2017-06-01</td>\n      <td>86337.0</td>\n      <td>86337.0</td>\n      <td>86337.0</td>\n      <td>0.0</td>\n      <td>2017-08-31</td>\n      <td>2017-08-31</td>\n      <td>2017-09-15</td>\n      <td>60</td>\n      <td>2017-08-22</td>\n      <td>11-02</td>\n      <td>a5456</td>\n      <td>1</td>\n      <td>1</td>\n      <td>0.0</td>\n      <td>0</td>\n      <td>-9</td>\n    </tr>\n    <tr>\n      <th>5256</th>\n      <td>s5357</td>\n      <td>已确认</td>\n      <td>2017-06-01</td>\n      <td>34550.0</td>\n      <td>0.0</td>\n      <td>0.0</td>\n      <td>0.0</td>\n      <td>2017-08-31</td>\n      <td>2017-08-31</td>\n      <td>2017-09-15</td>\n      <td>60</td>\n      <td>2019-05-17</td>\n      <td>NaN</td>\n      <td>a5457</td>\n      <td>1</td>\n      <td>1</td>\n      <td>34550.0</td>\n      <td>624</td>\n      <td>624</td>\n    </tr>\n  </tbody>\n</table>\n<p>5257 rows × 19 columns</p>\n</div>"
     },
     "execution_count": 62,
     "metadata": {},
     "output_type": "execute_result"
    }
   ],
   "source": [
    "df2\n"
   ],
   "metadata": {
    "collapsed": false,
    "pycharm": {
     "name": "#%%\n"
    }
   }
  },
  {
   "cell_type": "code",
   "execution_count": 63,
   "outputs": [
    {
     "data": {
      "text/plain": "(5257, 20)"
     },
     "execution_count": 63,
     "metadata": {},
     "output_type": "execute_result"
    }
   ],
   "source": [
    "#把时间转换为季度\n",
    "df3 = df2.copy()\n",
    "#Q:quarter，季度的意思\n",
    "df3['账单季度'] = df3['账单周期'].map(lambda x:x.to_period('Q'))\n",
    "df3['账单季度'].value_counts()\n",
    "df3.shape"
   ],
   "metadata": {
    "collapsed": false,
    "pycharm": {
     "name": "#%%\n"
    }
   }
  },
  {
   "cell_type": "code",
   "execution_count": 64,
   "outputs": [
    {
     "data": {
      "text/plain": "(3856, 20)"
     },
     "execution_count": 64,
     "metadata": {},
     "output_type": "execute_result"
    }
   ],
   "source": [
    "#过滤一部分数据，过滤后的这一份数据就是最终可以进行指标计算的数据了\n",
    "df3 = df3[(df3['账单季度'] >= '2017Q3') & (df3['账单季度'] <= '2018Q4')]\n",
    "df3.shape"
   ],
   "metadata": {
    "collapsed": false,
    "pycharm": {
     "name": "#%%\n"
    }
   }
  },
  {
   "cell_type": "code",
   "execution_count": 65,
   "outputs": [
    {
     "data": {
      "text/plain": "               账单金额\n账单季度               \n2017Q3   8247952.62\n2017Q4  11643604.99\n2018Q1  17149674.79\n2018Q2  31097661.29\n2018Q3  38292071.12\n2018Q4  51963089.64",
      "text/html": "<div>\n<style scoped>\n    .dataframe tbody tr th:only-of-type {\n        vertical-align: middle;\n    }\n\n    .dataframe tbody tr th {\n        vertical-align: top;\n    }\n\n    .dataframe thead th {\n        text-align: right;\n    }\n</style>\n<table border=\"1\" class=\"dataframe\">\n  <thead>\n    <tr style=\"text-align: right;\">\n      <th></th>\n      <th>账单金额</th>\n    </tr>\n    <tr>\n      <th>账单季度</th>\n      <th></th>\n    </tr>\n  </thead>\n  <tbody>\n    <tr>\n      <th>2017Q3</th>\n      <td>8247952.62</td>\n    </tr>\n    <tr>\n      <th>2017Q4</th>\n      <td>11643604.99</td>\n    </tr>\n    <tr>\n      <th>2018Q1</th>\n      <td>17149674.79</td>\n    </tr>\n    <tr>\n      <th>2018Q2</th>\n      <td>31097661.29</td>\n    </tr>\n    <tr>\n      <th>2018Q3</th>\n      <td>38292071.12</td>\n    </tr>\n    <tr>\n      <th>2018Q4</th>\n      <td>51963089.64</td>\n    </tr>\n  </tbody>\n</table>\n</div>"
     },
     "execution_count": 65,
     "metadata": {},
     "output_type": "execute_result"
    }
   ],
   "source": [
    "#账单金额\n",
    "fn1 = df3.groupby(\"账单季度\")[['账单金额']].sum()\n",
    "fn1.columns = ['账单金额']\n",
    "fn1"
   ],
   "metadata": {
    "collapsed": false,
    "pycharm": {
     "name": "#%%\n"
    }
   }
  },
  {
   "cell_type": "code",
   "execution_count": 66,
   "outputs": [
    {
     "data": {
      "text/plain": "               到期金额\n账单季度               \n2017Q3   8247952.62\n2017Q4  11643604.99\n2018Q1  17149674.79\n2018Q2  31097661.29\n2018Q3  38292071.12\n2018Q4  28265677.59",
      "text/html": "<div>\n<style scoped>\n    .dataframe tbody tr th:only-of-type {\n        vertical-align: middle;\n    }\n\n    .dataframe tbody tr th {\n        vertical-align: top;\n    }\n\n    .dataframe thead th {\n        text-align: right;\n    }\n</style>\n<table border=\"1\" class=\"dataframe\">\n  <thead>\n    <tr style=\"text-align: right;\">\n      <th></th>\n      <th>到期金额</th>\n    </tr>\n    <tr>\n      <th>账单季度</th>\n      <th></th>\n    </tr>\n  </thead>\n  <tbody>\n    <tr>\n      <th>2017Q3</th>\n      <td>8247952.62</td>\n    </tr>\n    <tr>\n      <th>2017Q4</th>\n      <td>11643604.99</td>\n    </tr>\n    <tr>\n      <th>2018Q1</th>\n      <td>17149674.79</td>\n    </tr>\n    <tr>\n      <th>2018Q2</th>\n      <td>31097661.29</td>\n    </tr>\n    <tr>\n      <th>2018Q3</th>\n      <td>38292071.12</td>\n    </tr>\n    <tr>\n      <th>2018Q4</th>\n      <td>28265677.59</td>\n    </tr>\n  </tbody>\n</table>\n</div>"
     },
     "execution_count": 66,
     "metadata": {},
     "output_type": "execute_result"
    }
   ],
   "source": [
    "#90天到期金额\n",
    "df4 = df3[df3['是否到期90天'] == 1]\n",
    "fn2 = df4.groupby(\"账单季度\")[['账单金额']].sum()\n",
    "fn2.columns = ['到期金额']\n",
    "fn2"
   ],
   "metadata": {
    "collapsed": false,
    "pycharm": {
     "name": "#%%\n"
    }
   }
  },
  {
   "cell_type": "code",
   "execution_count": 67,
   "outputs": [
    {
     "data": {
      "text/plain": "        当前逾期90+金额\n账单季度             \n2017Q3    63883.0\n2017Q4    57380.0\n2018Q1    64283.0\n2018Q2   106930.0\n2018Q3   412920.1\n2018Q4   304183.0",
      "text/html": "<div>\n<style scoped>\n    .dataframe tbody tr th:only-of-type {\n        vertical-align: middle;\n    }\n\n    .dataframe tbody tr th {\n        vertical-align: top;\n    }\n\n    .dataframe thead th {\n        text-align: right;\n    }\n</style>\n<table border=\"1\" class=\"dataframe\">\n  <thead>\n    <tr style=\"text-align: right;\">\n      <th></th>\n      <th>当前逾期90+金额</th>\n    </tr>\n    <tr>\n      <th>账单季度</th>\n      <th></th>\n    </tr>\n  </thead>\n  <tbody>\n    <tr>\n      <th>2017Q3</th>\n      <td>63883.0</td>\n    </tr>\n    <tr>\n      <th>2017Q4</th>\n      <td>57380.0</td>\n    </tr>\n    <tr>\n      <th>2018Q1</th>\n      <td>64283.0</td>\n    </tr>\n    <tr>\n      <th>2018Q2</th>\n      <td>106930.0</td>\n    </tr>\n    <tr>\n      <th>2018Q3</th>\n      <td>412920.1</td>\n    </tr>\n    <tr>\n      <th>2018Q4</th>\n      <td>304183.0</td>\n    </tr>\n  </tbody>\n</table>\n</div>"
     },
     "execution_count": 67,
     "metadata": {},
     "output_type": "execute_result"
    }
   ],
   "source": [
    "#当前逾期90+金额\n",
    "df4 = df3[df3['是否到期90天'] == 1]\n",
    "fn3 = df4.groupby(\"账单季度\")[['未收金额2']].sum()\n",
    "fn3.columns = ['当前逾期90+金额']\n",
    "fn3"
   ],
   "metadata": {
    "collapsed": false,
    "pycharm": {
     "name": "#%%\n"
    }
   }
  },
  {
   "cell_type": "code",
   "execution_count": 68,
   "outputs": [
    {
     "data": {
      "text/plain": "               账单金额         到期金额  当前逾期90+金额\n账单季度                                       \n2017Q3   8247952.62   8247952.62    63883.0\n2017Q4  11643604.99  11643604.99    57380.0\n2018Q1  17149674.79  17149674.79    64283.0\n2018Q2  31097661.29  31097661.29   106930.0\n2018Q3  38292071.12  38292071.12   412920.1\n2018Q4  51963089.64  28265677.59   304183.0",
      "text/html": "<div>\n<style scoped>\n    .dataframe tbody tr th:only-of-type {\n        vertical-align: middle;\n    }\n\n    .dataframe tbody tr th {\n        vertical-align: top;\n    }\n\n    .dataframe thead th {\n        text-align: right;\n    }\n</style>\n<table border=\"1\" class=\"dataframe\">\n  <thead>\n    <tr style=\"text-align: right;\">\n      <th></th>\n      <th>账单金额</th>\n      <th>到期金额</th>\n      <th>当前逾期90+金额</th>\n    </tr>\n    <tr>\n      <th>账单季度</th>\n      <th></th>\n      <th></th>\n      <th></th>\n    </tr>\n  </thead>\n  <tbody>\n    <tr>\n      <th>2017Q3</th>\n      <td>8247952.62</td>\n      <td>8247952.62</td>\n      <td>63883.0</td>\n    </tr>\n    <tr>\n      <th>2017Q4</th>\n      <td>11643604.99</td>\n      <td>11643604.99</td>\n      <td>57380.0</td>\n    </tr>\n    <tr>\n      <th>2018Q1</th>\n      <td>17149674.79</td>\n      <td>17149674.79</td>\n      <td>64283.0</td>\n    </tr>\n    <tr>\n      <th>2018Q2</th>\n      <td>31097661.29</td>\n      <td>31097661.29</td>\n      <td>106930.0</td>\n    </tr>\n    <tr>\n      <th>2018Q3</th>\n      <td>38292071.12</td>\n      <td>38292071.12</td>\n      <td>412920.1</td>\n    </tr>\n    <tr>\n      <th>2018Q4</th>\n      <td>51963089.64</td>\n      <td>28265677.59</td>\n      <td>304183.0</td>\n    </tr>\n  </tbody>\n</table>\n</div>"
     },
     "execution_count": 68,
     "metadata": {},
     "output_type": "execute_result"
    }
   ],
   "source": [
    "#拼接3部分的结果\n",
    "final1= pd.concat([fn1,fn2,fn3],axis=1)\n",
    "final1"
   ],
   "metadata": {
    "collapsed": false,
    "pycharm": {
     "name": "#%%\n"
    }
   }
  },
  {
   "cell_type": "code",
   "execution_count": 69,
   "outputs": [
    {
     "data": {
      "text/plain": "               账单金额         到期金额  当前逾期90+金额  90+净坏账率\n账单季度                                                \n2017Q3   8247952.62   8247952.62    63883.0    0.008\n2017Q4  11643604.99  11643604.99    57380.0    0.005\n2018Q1  17149674.79  17149674.79    64283.0    0.004\n2018Q2  31097661.29  31097661.29   106930.0    0.003\n2018Q3  38292071.12  38292071.12   412920.1    0.011\n2018Q4  51963089.64  28265677.59   304183.0    0.011",
      "text/html": "<div>\n<style scoped>\n    .dataframe tbody tr th:only-of-type {\n        vertical-align: middle;\n    }\n\n    .dataframe tbody tr th {\n        vertical-align: top;\n    }\n\n    .dataframe thead th {\n        text-align: right;\n    }\n</style>\n<table border=\"1\" class=\"dataframe\">\n  <thead>\n    <tr style=\"text-align: right;\">\n      <th></th>\n      <th>账单金额</th>\n      <th>到期金额</th>\n      <th>当前逾期90+金额</th>\n      <th>90+净坏账率</th>\n    </tr>\n    <tr>\n      <th>账单季度</th>\n      <th></th>\n      <th></th>\n      <th></th>\n      <th></th>\n    </tr>\n  </thead>\n  <tbody>\n    <tr>\n      <th>2017Q3</th>\n      <td>8247952.62</td>\n      <td>8247952.62</td>\n      <td>63883.0</td>\n      <td>0.008</td>\n    </tr>\n    <tr>\n      <th>2017Q4</th>\n      <td>11643604.99</td>\n      <td>11643604.99</td>\n      <td>57380.0</td>\n      <td>0.005</td>\n    </tr>\n    <tr>\n      <th>2018Q1</th>\n      <td>17149674.79</td>\n      <td>17149674.79</td>\n      <td>64283.0</td>\n      <td>0.004</td>\n    </tr>\n    <tr>\n      <th>2018Q2</th>\n      <td>31097661.29</td>\n      <td>31097661.29</td>\n      <td>106930.0</td>\n      <td>0.003</td>\n    </tr>\n    <tr>\n      <th>2018Q3</th>\n      <td>38292071.12</td>\n      <td>38292071.12</td>\n      <td>412920.1</td>\n      <td>0.011</td>\n    </tr>\n    <tr>\n      <th>2018Q4</th>\n      <td>51963089.64</td>\n      <td>28265677.59</td>\n      <td>304183.0</td>\n      <td>0.011</td>\n    </tr>\n  </tbody>\n</table>\n</div>"
     },
     "execution_count": 69,
     "metadata": {},
     "output_type": "execute_result"
    }
   ],
   "source": [
    "final1['90+净坏账率'] = round(final1['当前逾期90+金额']/final1['到期金额'],3)\n",
    "final1"
   ],
   "metadata": {
    "collapsed": false,
    "pycharm": {
     "name": "#%%\n"
    }
   }
  },
  {
   "cell_type": "code",
   "execution_count": 70,
   "outputs": [
    {
     "data": {
      "text/plain": "'D:\\\\code\\\\workspace2\\\\financial20\\\\day01\\\\render.html'"
     },
     "execution_count": 70,
     "metadata": {},
     "output_type": "execute_result"
    }
   ],
   "source": [
    "bar = (\n",
    "    Bar()\n",
    "    .add_xaxis(list(final1.index.values.astype(str)))\n",
    "    .add_yaxis(\n",
    "        \"账单金额\",\n",
    "        list(final1.账单金额),\n",
    "        yaxis_index=0,\n",
    "        color=\"#5793f3\",\n",
    "    )\n",
    "    .set_global_opts(\n",
    "        title_opts=opts.TitleOpts(title=\"90+净坏账率\"),\n",
    "    )\n",
    "    .extend_axis(\n",
    "        yaxis=opts.AxisOpts(\n",
    "            name=\"90+净坏账率\",\n",
    "            type_=\"value\",\n",
    "            min_=0,\n",
    "            max_=0.014,\n",
    "            position=\"right\",\n",
    "            axisline_opts=opts.AxisLineOpts(\n",
    "                linestyle_opts=opts.LineStyleOpts(color=\"#d14a61\")\n",
    "            ),\n",
    "            axislabel_opts=opts.LabelOpts(formatter=\"{value}\"),\n",
    "        )\n",
    "    )\n",
    ")\n",
    "line = (\n",
    "    Line()\n",
    "    .add_xaxis(list(final1.index.values.astype(str)))\n",
    "    .add_yaxis(\n",
    "        \"90+净坏账率\",\n",
    "        list(final1['90+净坏账率']),\n",
    "        yaxis_index=1,\n",
    "        color=\"#675bba\",\n",
    "        label_opts=opts.LabelOpts(is_show=False),\n",
    "    )\n",
    ")\n",
    "bar.overlap(line).render()\n"
   ],
   "metadata": {
    "collapsed": false,
    "pycharm": {
     "name": "#%%\n"
    }
   }
  },
  {
   "cell_type": "markdown",
   "source": [
    "* 60天账期的入催率、90天账期的入催率\n"
   ],
   "metadata": {
    "collapsed": false,
    "pycharm": {
     "name": "#%% md\n"
    }
   }
  },
  {
   "cell_type": "code",
   "execution_count": 71,
   "outputs": [
    {
     "data": {
      "text/plain": "         60天账期的账单金额\n账单季度               \n2017Q3   4854770.94\n2017Q4   6737327.99\n2018Q1  12106356.79\n2018Q2  19234086.87\n2018Q3  22830710.42\n2018Q4  26337959.52",
      "text/html": "<div>\n<style scoped>\n    .dataframe tbody tr th:only-of-type {\n        vertical-align: middle;\n    }\n\n    .dataframe tbody tr th {\n        vertical-align: top;\n    }\n\n    .dataframe thead th {\n        text-align: right;\n    }\n</style>\n<table border=\"1\" class=\"dataframe\">\n  <thead>\n    <tr style=\"text-align: right;\">\n      <th></th>\n      <th>60天账期的账单金额</th>\n    </tr>\n    <tr>\n      <th>账单季度</th>\n      <th></th>\n    </tr>\n  </thead>\n  <tbody>\n    <tr>\n      <th>2017Q3</th>\n      <td>4854770.94</td>\n    </tr>\n    <tr>\n      <th>2017Q4</th>\n      <td>6737327.99</td>\n    </tr>\n    <tr>\n      <th>2018Q1</th>\n      <td>12106356.79</td>\n    </tr>\n    <tr>\n      <th>2018Q2</th>\n      <td>19234086.87</td>\n    </tr>\n    <tr>\n      <th>2018Q3</th>\n      <td>22830710.42</td>\n    </tr>\n    <tr>\n      <th>2018Q4</th>\n      <td>26337959.52</td>\n    </tr>\n  </tbody>\n</table>\n</div>"
     },
     "execution_count": 71,
     "metadata": {},
     "output_type": "execute_result"
    }
   ],
   "source": [
    "#得到60天账期的账单金额\n",
    "df4 = df3[(df3['账期'] == 60) & (df3['是否到期'] == 1)]\n",
    "fn4 = df4.groupby(\"账单季度\")[['账单金额']].sum()\n",
    "fn4.columns = ['60天账期的账单金额']\n",
    "fn4"
   ],
   "metadata": {
    "collapsed": false,
    "pycharm": {
     "name": "#%%\n"
    }
   }
  },
  {
   "cell_type": "code",
   "execution_count": 73,
   "outputs": [
    {
     "data": {
      "text/plain": "        60天账期的入催金额\n账单季度              \n2017Q3     36983.0\n2017Q4     52750.0\n2018Q1     62460.0\n2018Q2     13590.0\n2018Q3    380265.1\n2018Q4    584789.5",
      "text/html": "<div>\n<style scoped>\n    .dataframe tbody tr th:only-of-type {\n        vertical-align: middle;\n    }\n\n    .dataframe tbody tr th {\n        vertical-align: top;\n    }\n\n    .dataframe thead th {\n        text-align: right;\n    }\n</style>\n<table border=\"1\" class=\"dataframe\">\n  <thead>\n    <tr style=\"text-align: right;\">\n      <th></th>\n      <th>60天账期的入催金额</th>\n    </tr>\n    <tr>\n      <th>账单季度</th>\n      <th></th>\n    </tr>\n  </thead>\n  <tbody>\n    <tr>\n      <th>2017Q3</th>\n      <td>36983.0</td>\n    </tr>\n    <tr>\n      <th>2017Q4</th>\n      <td>52750.0</td>\n    </tr>\n    <tr>\n      <th>2018Q1</th>\n      <td>62460.0</td>\n    </tr>\n    <tr>\n      <th>2018Q2</th>\n      <td>13590.0</td>\n    </tr>\n    <tr>\n      <th>2018Q3</th>\n      <td>380265.1</td>\n    </tr>\n    <tr>\n      <th>2018Q4</th>\n      <td>584789.5</td>\n    </tr>\n  </tbody>\n</table>\n</div>"
     },
     "execution_count": 73,
     "metadata": {},
     "output_type": "execute_result"
    }
   ],
   "source": [
    "#60天的入催金额\n",
    "df4 = df3[(df3['账期'] == 60) & (df3['是否到期'] == 1) & (df3['历史逾期天数'] > 0)]\n",
    "fn5 = df4.groupby(\"账单季度\")[['未收金额2']].sum()\n",
    "fn5.columns = ['60天账期的入催金额']\n",
    "fn5"
   ],
   "metadata": {
    "collapsed": false,
    "pycharm": {
     "name": "#%%\n"
    }
   }
  },
  {
   "cell_type": "code",
   "execution_count": 74,
   "outputs": [
    {
     "data": {
      "text/plain": "        90天账期的账单金额\n账单季度              \n2017Q3   2769264.0\n2017Q4   3921491.0\n2018Q1   4244304.0\n2018Q2   8427775.0\n2018Q3   9835629.0\n2018Q4  17706430.0",
      "text/html": "<div>\n<style scoped>\n    .dataframe tbody tr th:only-of-type {\n        vertical-align: middle;\n    }\n\n    .dataframe tbody tr th {\n        vertical-align: top;\n    }\n\n    .dataframe thead th {\n        text-align: right;\n    }\n</style>\n<table border=\"1\" class=\"dataframe\">\n  <thead>\n    <tr style=\"text-align: right;\">\n      <th></th>\n      <th>90天账期的账单金额</th>\n    </tr>\n    <tr>\n      <th>账单季度</th>\n      <th></th>\n    </tr>\n  </thead>\n  <tbody>\n    <tr>\n      <th>2017Q3</th>\n      <td>2769264.0</td>\n    </tr>\n    <tr>\n      <th>2017Q4</th>\n      <td>3921491.0</td>\n    </tr>\n    <tr>\n      <th>2018Q1</th>\n      <td>4244304.0</td>\n    </tr>\n    <tr>\n      <th>2018Q2</th>\n      <td>8427775.0</td>\n    </tr>\n    <tr>\n      <th>2018Q3</th>\n      <td>9835629.0</td>\n    </tr>\n    <tr>\n      <th>2018Q4</th>\n      <td>17706430.0</td>\n    </tr>\n  </tbody>\n</table>\n</div>"
     },
     "execution_count": 74,
     "metadata": {},
     "output_type": "execute_result"
    }
   ],
   "source": [
    "#得到90天账期的账单金额\n",
    "df4 = df3[(df3['账期'] == 90) & (df3['是否到期'] == 1)]\n",
    "fn6 = df4.groupby(\"账单季度\")[['账单金额']].sum()\n",
    "fn6.columns = ['90天账期的账单金额']\n",
    "fn6\n"
   ],
   "metadata": {
    "collapsed": false,
    "pycharm": {
     "name": "#%%\n"
    }
   }
  },
  {
   "cell_type": "code",
   "execution_count": 75,
   "outputs": [
    {
     "data": {
      "text/plain": "        90天账期的入催金额\n账单季度              \n2017Q3      1900.0\n2017Q4         0.0\n2018Q1       800.0\n2018Q2         0.0\n2018Q3      8235.0\n2018Q4    325141.0",
      "text/html": "<div>\n<style scoped>\n    .dataframe tbody tr th:only-of-type {\n        vertical-align: middle;\n    }\n\n    .dataframe tbody tr th {\n        vertical-align: top;\n    }\n\n    .dataframe thead th {\n        text-align: right;\n    }\n</style>\n<table border=\"1\" class=\"dataframe\">\n  <thead>\n    <tr style=\"text-align: right;\">\n      <th></th>\n      <th>90天账期的入催金额</th>\n    </tr>\n    <tr>\n      <th>账单季度</th>\n      <th></th>\n    </tr>\n  </thead>\n  <tbody>\n    <tr>\n      <th>2017Q3</th>\n      <td>1900.0</td>\n    </tr>\n    <tr>\n      <th>2017Q4</th>\n      <td>0.0</td>\n    </tr>\n    <tr>\n      <th>2018Q1</th>\n      <td>800.0</td>\n    </tr>\n    <tr>\n      <th>2018Q2</th>\n      <td>0.0</td>\n    </tr>\n    <tr>\n      <th>2018Q3</th>\n      <td>8235.0</td>\n    </tr>\n    <tr>\n      <th>2018Q4</th>\n      <td>325141.0</td>\n    </tr>\n  </tbody>\n</table>\n</div>"
     },
     "execution_count": 75,
     "metadata": {},
     "output_type": "execute_result"
    }
   ],
   "source": [
    "#90天的入催金额\n",
    "df4 = df3[(df3['账期'] == 90) & (df3['是否到期'] == 1) & (df3['历史逾期天数'] > 0)]\n",
    "fn7 = df4.groupby(\"账单季度\")[['未收金额2']].sum()\n",
    "fn7.columns = ['90天账期的入催金额']\n",
    "fn7\n"
   ],
   "metadata": {
    "collapsed": false,
    "pycharm": {
     "name": "#%%\n"
    }
   }
  },
  {
   "cell_type": "code",
   "execution_count": 76,
   "outputs": [
    {
     "data": {
      "text/plain": "         60天账期的账单金额  60天账期的入催金额  90天账期的账单金额  90天账期的入催金额\n账单季度                                                   \n2017Q3   4854770.94     36983.0   2769264.0      1900.0\n2017Q4   6737327.99     52750.0   3921491.0         0.0\n2018Q1  12106356.79     62460.0   4244304.0       800.0\n2018Q2  19234086.87     13590.0   8427775.0         0.0\n2018Q3  22830710.42    380265.1   9835629.0      8235.0\n2018Q4  26337959.52    584789.5  17706430.0    325141.0",
      "text/html": "<div>\n<style scoped>\n    .dataframe tbody tr th:only-of-type {\n        vertical-align: middle;\n    }\n\n    .dataframe tbody tr th {\n        vertical-align: top;\n    }\n\n    .dataframe thead th {\n        text-align: right;\n    }\n</style>\n<table border=\"1\" class=\"dataframe\">\n  <thead>\n    <tr style=\"text-align: right;\">\n      <th></th>\n      <th>60天账期的账单金额</th>\n      <th>60天账期的入催金额</th>\n      <th>90天账期的账单金额</th>\n      <th>90天账期的入催金额</th>\n    </tr>\n    <tr>\n      <th>账单季度</th>\n      <th></th>\n      <th></th>\n      <th></th>\n      <th></th>\n    </tr>\n  </thead>\n  <tbody>\n    <tr>\n      <th>2017Q3</th>\n      <td>4854770.94</td>\n      <td>36983.0</td>\n      <td>2769264.0</td>\n      <td>1900.0</td>\n    </tr>\n    <tr>\n      <th>2017Q4</th>\n      <td>6737327.99</td>\n      <td>52750.0</td>\n      <td>3921491.0</td>\n      <td>0.0</td>\n    </tr>\n    <tr>\n      <th>2018Q1</th>\n      <td>12106356.79</td>\n      <td>62460.0</td>\n      <td>4244304.0</td>\n      <td>800.0</td>\n    </tr>\n    <tr>\n      <th>2018Q2</th>\n      <td>19234086.87</td>\n      <td>13590.0</td>\n      <td>8427775.0</td>\n      <td>0.0</td>\n    </tr>\n    <tr>\n      <th>2018Q3</th>\n      <td>22830710.42</td>\n      <td>380265.1</td>\n      <td>9835629.0</td>\n      <td>8235.0</td>\n    </tr>\n    <tr>\n      <th>2018Q4</th>\n      <td>26337959.52</td>\n      <td>584789.5</td>\n      <td>17706430.0</td>\n      <td>325141.0</td>\n    </tr>\n  </tbody>\n</table>\n</div>"
     },
     "execution_count": 76,
     "metadata": {},
     "output_type": "execute_result"
    }
   ],
   "source": [
    "#统计60天和90天的入催率\n",
    "final2 = pd.concat([fn4,fn5,fn6,fn7],axis=1)\n",
    "final2"
   ],
   "metadata": {
    "collapsed": false,
    "pycharm": {
     "name": "#%%\n"
    }
   }
  },
  {
   "cell_type": "code",
   "execution_count": 78,
   "outputs": [
    {
     "data": {
      "text/plain": "         60天账期的账单金额  60天账期的入催金额  90天账期的账单金额  90天账期的入催金额  60天账期入催率  90天账期入催率\n账单季度                                                                       \n2017Q3   4854770.94     36983.0   2769264.0      1900.0     0.008     0.001\n2017Q4   6737327.99     52750.0   3921491.0         0.0     0.008     0.000\n2018Q1  12106356.79     62460.0   4244304.0       800.0     0.005     0.000\n2018Q2  19234086.87     13590.0   8427775.0         0.0     0.001     0.000\n2018Q3  22830710.42    380265.1   9835629.0      8235.0     0.017     0.001\n2018Q4  26337959.52    584789.5  17706430.0    325141.0     0.022     0.018",
      "text/html": "<div>\n<style scoped>\n    .dataframe tbody tr th:only-of-type {\n        vertical-align: middle;\n    }\n\n    .dataframe tbody tr th {\n        vertical-align: top;\n    }\n\n    .dataframe thead th {\n        text-align: right;\n    }\n</style>\n<table border=\"1\" class=\"dataframe\">\n  <thead>\n    <tr style=\"text-align: right;\">\n      <th></th>\n      <th>60天账期的账单金额</th>\n      <th>60天账期的入催金额</th>\n      <th>90天账期的账单金额</th>\n      <th>90天账期的入催金额</th>\n      <th>60天账期入催率</th>\n      <th>90天账期入催率</th>\n    </tr>\n    <tr>\n      <th>账单季度</th>\n      <th></th>\n      <th></th>\n      <th></th>\n      <th></th>\n      <th></th>\n      <th></th>\n    </tr>\n  </thead>\n  <tbody>\n    <tr>\n      <th>2017Q3</th>\n      <td>4854770.94</td>\n      <td>36983.0</td>\n      <td>2769264.0</td>\n      <td>1900.0</td>\n      <td>0.008</td>\n      <td>0.001</td>\n    </tr>\n    <tr>\n      <th>2017Q4</th>\n      <td>6737327.99</td>\n      <td>52750.0</td>\n      <td>3921491.0</td>\n      <td>0.0</td>\n      <td>0.008</td>\n      <td>0.000</td>\n    </tr>\n    <tr>\n      <th>2018Q1</th>\n      <td>12106356.79</td>\n      <td>62460.0</td>\n      <td>4244304.0</td>\n      <td>800.0</td>\n      <td>0.005</td>\n      <td>0.000</td>\n    </tr>\n    <tr>\n      <th>2018Q2</th>\n      <td>19234086.87</td>\n      <td>13590.0</td>\n      <td>8427775.0</td>\n      <td>0.0</td>\n      <td>0.001</td>\n      <td>0.000</td>\n    </tr>\n    <tr>\n      <th>2018Q3</th>\n      <td>22830710.42</td>\n      <td>380265.1</td>\n      <td>9835629.0</td>\n      <td>8235.0</td>\n      <td>0.017</td>\n      <td>0.001</td>\n    </tr>\n    <tr>\n      <th>2018Q4</th>\n      <td>26337959.52</td>\n      <td>584789.5</td>\n      <td>17706430.0</td>\n      <td>325141.0</td>\n      <td>0.022</td>\n      <td>0.018</td>\n    </tr>\n  </tbody>\n</table>\n</div>"
     },
     "execution_count": 78,
     "metadata": {},
     "output_type": "execute_result"
    }
   ],
   "source": [
    "final2['60天账期入催率'] = round(final2['60天账期的入催金额']/final2['60天账期的账单金额'],3)\n",
    "final2['90天账期入催率'] = round(final2['90天账期的入催金额']/final2['90天账期的账单金额'],3)\n",
    "final2"
   ],
   "metadata": {
    "collapsed": false,
    "pycharm": {
     "name": "#%%\n"
    }
   }
  },
  {
   "cell_type": "code",
   "execution_count": 79,
   "outputs": [
    {
     "data": {
      "text/plain": "'D:\\\\code\\\\workspace2\\\\financial20\\\\day01\\\\render.html'"
     },
     "execution_count": 79,
     "metadata": {},
     "output_type": "execute_result"
    }
   ],
   "source": [
    "line = (\n",
    "    Line()\n",
    "    .add_xaxis(list(final1.index.values.astype(str)))\n",
    "    .add_yaxis(\n",
    "        \"60天账期入催率\",\n",
    "        list(final2['60天账期入催率']),\n",
    "        yaxis_index=0,\n",
    "        color=\"#675bba\",\n",
    "        label_opts=opts.LabelOpts(is_show=False),\n",
    "    )\n",
    "    .set_global_opts(\n",
    "    title_opts=opts.TitleOpts(title=\"不同账期入催率\"),\n",
    "    )\n",
    "    .add_xaxis(list(final1.index.values.astype(str)))\n",
    "    .add_yaxis(\n",
    "        \"90天账期入催率\",\n",
    "        list(final2['90天账期入催率']),\n",
    "        yaxis_index=0,\n",
    "        color=\"#d14a61\",\n",
    "        label_opts=opts.LabelOpts(is_show=False),\n",
    "    )\n",
    ")\n",
    "line.render()\n"
   ],
   "metadata": {
    "collapsed": false,
    "pycharm": {
     "name": "#%%\n"
    }
   }
  },
  {
   "cell_type": "markdown",
   "source": [
    "* 回收账单数\n"
   ],
   "metadata": {
    "collapsed": false,
    "pycharm": {
     "name": "#%% md\n"
    }
   }
  },
  {
   "cell_type": "code",
   "execution_count": 100,
   "outputs": [],
   "source": [
    "df5 = df3[(df3['未收金额2'] == 0) & (df3['是否到期'] == 1)]"
   ],
   "metadata": {
    "collapsed": false,
    "pycharm": {
     "name": "#%%\n"
    }
   }
  },
  {
   "cell_type": "code",
   "execution_count": 101,
   "outputs": [
    {
     "name": "stderr",
     "output_type": "stream",
     "text": [
      "<ipython-input-101-e4b3e7a76a2c>:1: SettingWithCopyWarning: \n",
      "A value is trying to be set on a copy of a slice from a DataFrame.\n",
      "Try using .loc[row_indexer,col_indexer] = value instead\n",
      "\n",
      "See the caveats in the documentation: https://pandas.pydata.org/pandas-docs/stable/user_guide/indexing.html#returning-a-view-versus-a-copy\n",
      "  df5['历史逾期天数'] = pd.cut(x=df5['历史逾期天数'],\n"
     ]
    }
   ],
   "source": [
    "df5['历史逾期天数'] = pd.cut(x=df5['历史逾期天数'],\n",
    "       bins=[-999,0,5,10,15,20,30,60,90,999],\n",
    "       labels=['0','1-5','6-10','11-15','16-20','21-30','31-60','61-90','90+'])\n"
   ],
   "metadata": {
    "collapsed": false,
    "pycharm": {
     "name": "#%%\n"
    }
   }
  },
  {
   "cell_type": "code",
   "execution_count": 102,
   "outputs": [],
   "source": [
    "final3 = df5.groupby(\"历史逾期天数\")[['账期']].count()"
   ],
   "metadata": {
    "collapsed": false,
    "pycharm": {
     "name": "#%%\n"
    }
   }
  },
  {
   "cell_type": "code",
   "execution_count": 103,
   "outputs": [],
   "source": [
    "final3.columns = ['回收账单数']"
   ],
   "metadata": {
    "collapsed": false,
    "pycharm": {
     "name": "#%%\n"
    }
   }
  },
  {
   "cell_type": "code",
   "execution_count": 104,
   "outputs": [
    {
     "data": {
      "text/plain": "        回收账单数\n历史逾期天数       \n0        2400\n1-5       358\n6-10      235\n11-15     215\n16-20      92\n21-30     189\n31-60     156\n61-90      60\n90+        88",
      "text/html": "<div>\n<style scoped>\n    .dataframe tbody tr th:only-of-type {\n        vertical-align: middle;\n    }\n\n    .dataframe tbody tr th {\n        vertical-align: top;\n    }\n\n    .dataframe thead th {\n        text-align: right;\n    }\n</style>\n<table border=\"1\" class=\"dataframe\">\n  <thead>\n    <tr style=\"text-align: right;\">\n      <th></th>\n      <th>回收账单数</th>\n    </tr>\n    <tr>\n      <th>历史逾期天数</th>\n      <th></th>\n    </tr>\n  </thead>\n  <tbody>\n    <tr>\n      <th>0</th>\n      <td>2400</td>\n    </tr>\n    <tr>\n      <th>1-5</th>\n      <td>358</td>\n    </tr>\n    <tr>\n      <th>6-10</th>\n      <td>235</td>\n    </tr>\n    <tr>\n      <th>11-15</th>\n      <td>215</td>\n    </tr>\n    <tr>\n      <th>16-20</th>\n      <td>92</td>\n    </tr>\n    <tr>\n      <th>21-30</th>\n      <td>189</td>\n    </tr>\n    <tr>\n      <th>31-60</th>\n      <td>156</td>\n    </tr>\n    <tr>\n      <th>61-90</th>\n      <td>60</td>\n    </tr>\n    <tr>\n      <th>90+</th>\n      <td>88</td>\n    </tr>\n  </tbody>\n</table>\n</div>"
     },
     "execution_count": 104,
     "metadata": {},
     "output_type": "execute_result"
    }
   ],
   "source": [
    "final3"
   ],
   "metadata": {
    "collapsed": false,
    "pycharm": {
     "name": "#%%\n"
    }
   }
  },
  {
   "cell_type": "code",
   "execution_count": 105,
   "outputs": [
    {
     "data": {
      "text/plain": "'D:\\\\code\\\\workspace2\\\\financial20\\\\day01\\\\render.html'"
     },
     "execution_count": 105,
     "metadata": {},
     "output_type": "execute_result"
    }
   ],
   "source": [
    "ydata = final3['回收账单数'].values.tolist()\n",
    "bar = (\n",
    "    Bar()\n",
    "    .add_xaxis(list(final3.index.values.tolist()))\n",
    "    .add_yaxis(\"收回账单数\",ydata,yaxis_index=0,color=\"#675bba\")\n",
    "    .set_global_opts(\n",
    "    title_opts=opts.TitleOpts(title=\"不同逾期天数的已收回账单数\"),\n",
    "    )\n",
    ")\n",
    "bar.render()\n"
   ],
   "metadata": {
    "collapsed": false,
    "pycharm": {
     "name": "#%%\n"
    }
   }
  },
  {
   "cell_type": "code",
   "execution_count": null,
   "outputs": [],
   "source": [],
   "metadata": {
    "collapsed": false,
    "pycharm": {
     "name": "#%%\n"
    }
   }
  }
 ],
 "metadata": {
  "kernelspec": {
   "display_name": "Python 3",
   "language": "python",
   "name": "python3"
  },
  "language_info": {
   "codemirror_mode": {
    "name": "ipython",
    "version": 2
   },
   "file_extension": ".py",
   "mimetype": "text/x-python",
   "name": "python",
   "nbconvert_exporter": "python",
   "pygments_lexer": "ipython2",
   "version": "2.7.6"
  }
 },
 "nbformat": 4,
 "nbformat_minor": 0
}