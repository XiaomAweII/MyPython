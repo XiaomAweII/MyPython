{
 "cells": [
  {
   "cell_type": "markdown",
   "source": [
    "# 导包 + 切换路径"
   ],
   "metadata": {
    "collapsed": false
   },
   "id": "1c39cee9ffb4d0e6"
  },
  {
   "cell_type": "code",
   "execution_count": null,
   "id": "initial_id",
   "metadata": {
    "collapsed": true
   },
   "outputs": [],
   "source": [
    "import numpy as np\n",
    "import pandas as pd\n",
    "from datetime import datetime\n",
    "\n",
    "import os\n",
    "\n",
    "# 手动修改 工作空间目录, 即: 修改相对路径的地址\n",
    "os.chdir('D:/workspace/ai_20_work_bj/pandasProject/')\n",
    "os.getcwd()"
   ]
  },
  {
   "cell_type": "markdown",
   "source": [
    "# 1. 查看下Python中的日期类型"
   ],
   "metadata": {
    "collapsed": false
   },
   "id": "3e227637bb8558d6"
  },
  {
   "cell_type": "code",
   "execution_count": null,
   "outputs": [],
   "source": [
    "# 方式1: 获取当前时间. \n",
    "t1 = datetime.now()         # datetime.datetime(2024, 7, 23, 16, 43, 24, 861846)\n",
    "t1\n",
    "\n",
    "# 方式2: 手动指定之间. \n",
    "t2 = datetime(2024, 7, 23)  # datetime.datetime(2024, 7, 23, 0, 0)\n",
    "t2\n",
    "\n",
    "# timedelta: 时间差类型\n",
    "t2 - t1         # timedelta"
   ],
   "metadata": {
    "collapsed": false
   },
   "id": "3882ac3827333951"
  },
  {
   "cell_type": "markdown",
   "source": [
    "# 2. Panda中的日期类型"
   ],
   "metadata": {
    "collapsed": false
   },
   "id": "daa2cec07f4bc4a3"
  },
  {
   "cell_type": "code",
   "execution_count": null,
   "outputs": [],
   "source": [
    "# 方式1: 手动创建\n",
    "t1 = pd.Timestamp(2024, 7, 23)\n",
    "t1      # Timestamp('2024-07-23 00:00:00'),  Pandas的Timestamp = Python的datetime\n",
    "\n",
    "# 方式2: pd.to_datetime() 也可以把(符合日期格式的)数据转成日期. \n",
    "t2 = pd.to_datetime('2024-07-23')       # Timestamp('2024-07-23 00:00:00')\n",
    "t2\n",
    "\n",
    "# 获取 时间差 类型的数据\n",
    "t2 - t1         # Timedelta('0 days 00:00:00')"
   ],
   "metadata": {
    "collapsed": false
   },
   "id": "66cbfd7588ffc864"
  },
  {
   "cell_type": "code",
   "execution_count": null,
   "outputs": [],
   "source": [
    "# 方式3: 先读取文件, 然后把符合日期格式的数据, 转成日期.\n",
    "ebola = pd.read_csv('data/country_timeseries.csv')\n",
    "ebola.head()\n",
    "\n",
    "# 查看各列的基本信息. \n",
    "ebola.info()\n",
    "\n",
    "# 手动把 Date列的值, 转成 datetime64[ns] 数据类型\n",
    "ebola.loc[:, 'new_Date'] = pd.to_datetime(ebola['Date'])        # datetime64[ns]\n",
    "ebola.info()"
   ],
   "metadata": {
    "collapsed": false
   },
   "id": "9db29b1eb241372c"
  },
  {
   "cell_type": "code",
   "execution_count": null,
   "outputs": [],
   "source": [
    "# 方式4: 读取文件的时候, 直接指定 某些列为: 日期列, 前提: 这些列的数据 要符合日期的要求.\n",
    "# parse_dates参数: 把符合日期格式的列, 转成日期类型(datetime64[ns],  Pandas中的数据类型)\n",
    "\n",
    "# ebola = pd.read_csv('data/country_timeseries.csv', parse_dates=[0])       # datetime64[ns]\n",
    "ebola = pd.read_csv('data/country_timeseries.csv', parse_dates=['Date'])    # datetime64[ns], 效果同上.\n",
    "ebola.info()"
   ],
   "metadata": {
    "collapsed": false
   },
   "id": "e9b043c5fab4234e"
  },
  {
   "cell_type": "markdown",
   "source": [
    "# 3. 提取出日期的各个部分"
   ],
   "metadata": {
    "collapsed": false
   },
   "id": "76cc75d4b8786e0f"
  },
  {
   "cell_type": "code",
   "execution_count": null,
   "outputs": [],
   "source": [
    "# 1. 获取日期对象.\n",
    "t1 = pd.to_datetime('2024-07-23')\n",
    "t1          # Timestamp('2024-07-23 00:00:00')\n",
    "\n",
    "# 2. 从t1中, 获取指定的日期. \n",
    "t1.year     # 2024\n",
    "t1.month    # 7\n",
    "t1.day      # 23\n",
    "t1.quarter  # 季度\n",
    "t1.days_in_month    # 7月的总天数\n",
    "t1.dayofweek        # 1, 周中的第几天, 从周一开始数(从0计数), 周二: 1\n",
    "t1.dayofyear        # 205, 年中的第几天"
   ],
   "metadata": {
    "collapsed": false
   },
   "id": "909abf56f63efc40"
  },
  {
   "cell_type": "code",
   "execution_count": null,
   "outputs": [],
   "source": [
    "# 2. 给 ebola这个df对象, 新增: year, month, day三列.\n",
    "ebola['year'] = ebola['Date'].dt.year\n",
    "ebola['month'] = ebola['Date'].dt.month\n",
    "ebola['day'] = ebola['Date'].dt.day\n",
    "\n",
    "# 3. 查看添加后的数据格式.\n",
    "ebola[['Date', 'year', 'month', 'day']].head()"
   ],
   "metadata": {
    "collapsed": false
   },
   "id": "29700639dd261f11"
  },
  {
   "cell_type": "markdown",
   "source": [
    "# 4. 日期计算"
   ],
   "metadata": {
    "collapsed": false
   },
   "id": "562a7bb0d718434d"
  },
  {
   "cell_type": "code",
   "execution_count": null,
   "outputs": [],
   "source": [
    "# 1. 加载数据源, 获取df对象.\n",
    "banks = pd.read_csv('data/banklist.csv', parse_dates=[5, 6])    # 细节: 把最后两列设置为: 日期类型\n",
    "banks.head()\n",
    "# banks.info()        # 查看各列的基本信息"
   ],
   "metadata": {
    "collapsed": false
   },
   "id": "736169f9a689ecd2"
  },
  {
   "cell_type": "code",
   "execution_count": null,
   "outputs": [],
   "source": [
    "# 2. 给 banks这个df对象, 添加两列, 分别表示: 银行破产的季度 和 年份.\n",
    "banks['closing_quarter'] = banks['Closing Date'].dt.quarter\n",
    "banks['closing_year'] = banks['Closing Date'].dt.year\n",
    "banks.head()"
   ],
   "metadata": {
    "collapsed": false
   },
   "id": "81a9351347a8da9f"
  },
  {
   "cell_type": "code",
   "execution_count": null,
   "outputs": [],
   "source": [
    "# 3. 完成如下的需求.\n",
    "# 需求1: 计算每年破产银行数量\n",
    "# 方式1: groupby()方式\n",
    "banks.groupby('closing_year')['Bank Name'].count()\n",
    "# banks.groupby('closing_year')['Bank Name'].count().plot(figsize=(16, 8), grid=True, color='red')\n",
    "\n",
    "# 方式2: 透视表方式\n",
    "banks.pivot_table(index='closing_year', values='Bank Name', aggfunc='count')\n",
    "banks.pivot_table(index='closing_year', values='Bank Name', aggfunc='count').plot(figsize=(16, 8), grid=True, color='red')"
   ],
   "metadata": {
    "collapsed": false
   },
   "id": "f2f38f34bb0d98a9"
  },
  {
   "cell_type": "code",
   "execution_count": null,
   "outputs": [],
   "source": [
    "# 需求2: 计算每年, 每季度破产银行数量\n",
    "# 方式1: groupby()\n",
    "# banks.groupby()['Bank Name'].count()\n",
    "# banks.groupby(['closing_year', 'closing_quarter'])['Bank Name'].count().plot(figsize=(16, 8), grid=True, color='red')\n",
    "\n",
    "# 方式2: 透视表.\n",
    "banks.pivot_table(index=['closing_year', 'closing_quarter'], values='Bank Name', aggfunc='count')"
   ],
   "metadata": {
    "collapsed": false
   },
   "id": "69aa050fa3603b06"
  },
  {
   "cell_type": "markdown",
   "source": [
    "# 5. 生成范围日期"
   ],
   "metadata": {
    "collapsed": false
   },
   "id": "7cbc5cacc8c084bc"
  },
  {
   "cell_type": "code",
   "execution_count": 71,
   "outputs": [
    {
     "data": {
      "text/plain": "DatetimeIndex(['2024-06-21', '2024-07-19'], dtype='datetime64[ns]', freq='WOM-3FRI')"
     },
     "execution_count": 71,
     "metadata": {},
     "output_type": "execute_result"
    }
   ],
   "source": [
    "# 格式: pd.date_range(起始日期, 结束日期, freq='频次')      # Frequency: 频率, 频次\n",
    "# 需求1: 生成连续的区间(即: 日历日)\n",
    "pd.date_range('2024-06-01', '2024-07-31')           # freq默认是: D, 日历日\n",
    "\n",
    "# 需求2: 隔1个工作日 取1个工作日\n",
    "pd.date_range('2024-06-01', '2024-07-31', freq='2B') # B: 工作日, 包左包右.\n",
    "\n",
    "# 需求3: 2024年6月 ~ 2024年7月, 每月第1个周四.  Week Of Month, Thursday\n",
    "pd.date_range('2024-06-01', '2024-07-31', freq='WOM-1Thu')\n",
    "\n",
    "# 需求3: 2024年6月 ~ 2024年7月, 每月第3个周五.  Week Of Month, Friday\n",
    "pd.date_range('2024-06-01', '2024-07-31', freq='WOM-3Fri')"
   ],
   "metadata": {
    "collapsed": false,
    "ExecuteTime": {
     "end_time": "2024-07-23T10:05:37.402024100Z",
     "start_time": "2024-07-23T10:05:37.395042400Z"
    }
   },
   "id": "f7ea79863e9ba2e0"
  }
 ],
 "metadata": {
  "kernelspec": {
   "display_name": "Python 3",
   "language": "python",
   "name": "python3"
  },
  "language_info": {
   "codemirror_mode": {
    "name": "ipython",
    "version": 2
   },
   "file_extension": ".py",
   "mimetype": "text/x-python",
   "name": "python",
   "nbconvert_exporter": "python",
   "pygments_lexer": "ipython2",
   "version": "2.7.6"
  }
 },
 "nbformat": 4,
 "nbformat_minor": 5
}
