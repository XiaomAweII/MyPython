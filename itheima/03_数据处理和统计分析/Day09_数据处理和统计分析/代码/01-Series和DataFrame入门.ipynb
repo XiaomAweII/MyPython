{
 "cells": [
  {
   "cell_type": "markdown",
   "source": [
    "# 1. Series对象的创建"
   ],
   "metadata": {
    "collapsed": false
   },
   "id": "27dc6030217b270b"
  },
  {
   "cell_type": "markdown",
   "source": [
    "## 1.1 numpy的ndarray => Series对象"
   ],
   "metadata": {
    "collapsed": false
   },
   "id": "585b47120d688e33"
  },
  {
   "cell_type": "code",
   "source": [
    "# 导包\n",
    "import numpy as np\n",
    "import pandas as pd"
   ],
   "metadata": {
    "collapsed": false,
    "jupyter": {
     "is_executing": true
    }
   },
   "id": "3c8a071175101a0",
   "outputs": [],
   "execution_count": null
  },
  {
   "cell_type": "code",
   "execution_count": null,
   "outputs": [],
   "source": [
    "# 1. 创建ndarray对象.\n",
    "arr = np.array([1, 2, 3, 4, 5])\n",
    "print(arr)\n",
    "print(type(arr))    # <class 'numpy.ndarray'>"
   ],
   "metadata": {
    "collapsed": false
   },
   "id": "48de32bfd74d72a5"
  },
  {
   "cell_type": "code",
   "execution_count": null,
   "outputs": [],
   "source": [
    "# 2. 将上述的 ndarray对象 转成 Series对象\n",
    "s1 = pd.Series(data=arr)\n",
    "print(s1)\n",
    "print(type(s1))     # <class 'pandas.core.series.Series'>"
   ],
   "metadata": {
    "collapsed": false
   },
   "id": "2af71bfb650aa859"
  },
  {
   "cell_type": "markdown",
   "source": [
    "## 1.2 直接传入Python列表, 构建Series对象"
   ],
   "metadata": {
    "collapsed": false
   },
   "id": "a65958804970ab4a"
  },
  {
   "cell_type": "code",
   "execution_count": null,
   "outputs": [],
   "source": [
    "# 这种方式可以创建Series对象, 但是没有指定 行索引值, 默认是: 0 ~ n\n",
    "# s2 = pd.Series(data=['乔峰', '男', 33])\n",
    "s2 = pd.Series(['乔峰', '男', 33])         # data参数名可以省略不写.\n",
    "print(s2)\n",
    "print(type(s2))     # <class 'pandas.core.series.Series'>"
   ],
   "metadata": {
    "collapsed": false
   },
   "id": "aa1719fe145f4ba7"
  },
  {
   "cell_type": "markdown",
   "source": [
    "## 1.3 传入Python列表,构建Series对象, 并指定行索引"
   ],
   "metadata": {
    "collapsed": false
   },
   "id": "ff6becd72625bce9"
  },
  {
   "cell_type": "code",
   "execution_count": null,
   "outputs": [],
   "source": [
    "# s3 = pd.Series(data=['乔峰', '男', 33], index=['name', 'gender', 'age'])         # data参数名可以省略不写.\n",
    "s3 = pd.Series(['乔峰', '男', 33], index=['name', 'gender', 'age'])         # data参数名可以省略不写.\n",
    "# s3 = pd.Series(['乔峰', '男', 33], ['name', 'gender', 'age'])         # 参数名可以省略不写.\n",
    "print(s3)\n",
    "print(type(s3))     # <class 'pandas.core.series.Series'>"
   ],
   "metadata": {
    "collapsed": false
   },
   "id": "f82a247c7f303adb"
  },
  {
   "cell_type": "markdown",
   "source": [
    "## 1.4 通过元组的方式创建Series对象"
   ],
   "metadata": {
    "collapsed": false
   },
   "id": "69b98f07d013f93c"
  },
  {
   "cell_type": "code",
   "execution_count": null,
   "outputs": [],
   "source": [
    "s4 = pd.Series(('乔峰', '男', 33), index=['name', 'gender', 'age'])         # data参数名可以省略不写.\n",
    "print(s4)\n",
    "print(type(s4))     # <class 'pandas.core.series.Series'>"
   ],
   "metadata": {
    "collapsed": false
   },
   "id": "9b6d47b0948e2424"
  },
  {
   "cell_type": "markdown",
   "source": [
    "## 1.5 通过字典的方式创建Series对象"
   ],
   "metadata": {
    "collapsed": false
   },
   "id": "ce69e40abd4f2136"
  },
  {
   "cell_type": "code",
   "execution_count": null,
   "outputs": [],
   "source": [
    "# 字典方式创建Series对象, 字典的键会作为: 行索引(index), 字典的值: 会作为 内容.\n",
    "s5 = pd.Series({'name':'乔峰', 'gender':'男', 'age':33})        \n",
    "print(s5)\n",
    "print(type(s5))     # <class 'pandas.core.series.Series'>"
   ],
   "metadata": {
    "collapsed": false
   },
   "id": "fd2d0cb479c63e68"
  },
  {
   "cell_type": "code",
   "execution_count": null,
   "outputs": [],
   "source": [
    "s5.to_frame()"
   ],
   "metadata": {
    "collapsed": false
   },
   "id": "29fae6f3a42d0b5d"
  },
  {
   "cell_type": "markdown",
   "source": [
    "# 2. 创建DataFrame对象"
   ],
   "metadata": {
    "collapsed": false
   },
   "id": "720e208056fd645f"
  },
  {
   "cell_type": "markdown",
   "source": [
    "## 2.1 字典方式构建df对象"
   ],
   "metadata": {
    "collapsed": false
   },
   "id": "799da45c78e0a2b1"
  },
  {
   "cell_type": "code",
   "execution_count": null,
   "outputs": [],
   "source": [
    "# 1. 创建字典, 记录数据.\n",
    "dict_data = {\n",
    "    'id': [1, 2, 3],\n",
    "    'name': ['乔峰', '虚竹', '段誉'],\n",
    "    'age': [33, 29, 21]\n",
    "}\n",
    "# 2. 基于上述的字典, 构建df对象.\n",
    "# df1 = pd.DataFrame(dict_data)  \n",
    "# df1 = pd.DataFrame(dict_data, index=['A', 'B', 'C'])   # 指定行索引\n",
    "# index:指定行索引,  columns:指定列名(的顺序), 如果写的列名不存在, 则该列值为 NaN\n",
    "df1 = pd.DataFrame(dict_data, index=['A', 'B', 'C'], columns=['id', 'age', 'name'])   \n",
    "# 3. 打印结果.\n",
    "print(df1)\n",
    "print(type(df1))    # <class 'pandas.core.frame.DataFrame'>"
   ],
   "metadata": {
    "collapsed": false
   },
   "id": "bf346cec08042c40"
  },
  {
   "cell_type": "markdown",
   "source": [
    "## 2.2 列表 + 元组方式构建df对象"
   ],
   "metadata": {
    "collapsed": false
   },
   "id": "7733051601046503"
  },
  {
   "cell_type": "code",
   "execution_count": null,
   "outputs": [],
   "source": [
    "# 1. 基于列表 + 元组, 构建数据集.  一个元组 = 一行数据\n",
    "list_data = [(1, '乔峰', 33), (2, '虚竹', 29), (3, '段誉', 21)]\n",
    "# 2. 构建df对象.\n",
    "# df2 = pd.DataFrame(list_data, index=['X', 'Y', 'Z'], columns=['id', 'age', 'name'])  # 以行的方式传入数据, columns是设置: 列名.\n",
    "df2 = pd.DataFrame(list_data, index=['X', 'Y', 'Z'], columns=['id', 'name', 'age'])  # 以行的方式传入数据, columns是设置: 列名.\n",
    "# 3. 打印结果.\n",
    "print(df2)\n",
    "print(type(df2))"
   ],
   "metadata": {
    "collapsed": false
   },
   "id": "ba2f48fbd93be2e4"
  },
  {
   "cell_type": "markdown",
   "source": [
    "# 3. Series的常用属性介绍"
   ],
   "metadata": {
    "collapsed": false
   },
   "id": "cecd847568518091"
  },
  {
   "cell_type": "code",
   "execution_count": null,
   "outputs": [],
   "source": [
    "# Series的常用属性, 如下:\n",
    "# loc               根据 行索引 获取某行数据, 这个是属于: DF的对象\n",
    "# iloc              根据 行号 获取某行数据, 这个是属于: DF的对象\n",
    "# dtype或者dtypes    获取Series的元素类型\n",
    "# T                 转置函数, 后续详解\n",
    "# shape             维度\n",
    "# size              大小(元素的个数)\n",
    "# values            获取所有的值\n",
    "# index             获取所有的索引, 功能类似于keys()方法"
   ],
   "metadata": {
    "collapsed": false
   },
   "id": "34b999497f0ba4f6"
  },
  {
   "cell_type": "code",
   "execution_count": null,
   "outputs": [],
   "source": [
    "# 铺垫动作, 你容易做错的地方, 即: 你用Linux虚拟机的Jupyter Notebook 和 你用本地的环境, 相对路径是不一样的. \n",
    "import os\n",
    "os.getcwd()     # get current work directory: 获取当前的工作目录, 即: 你的相对路径, 就是相对于这路径来讲的. "
   ],
   "metadata": {
    "collapsed": false
   },
   "id": "525fa1d66ef32502"
  },
  {
   "cell_type": "code",
   "execution_count": null,
   "outputs": [],
   "source": [
    "# 1. 读取 nobel_prizes.csv 文件的内容, 获取df对象.\n",
    "df = pd.read_csv('data/nobel_prizes.csv', index_col='id')   # index_col: 设置表中的某列为 索引列.\n",
    "df.head()       # 默认获取前 5 条数据"
   ],
   "metadata": {
    "collapsed": false
   },
   "id": "96a34cedfa8f3a0a"
  },
  {
   "cell_type": "code",
   "execution_count": null,
   "outputs": [],
   "source": [
    "# 2. 从上述的df对象中, 获取到 第一行数据, 即: Series对象.\n",
    "# loc 属性: 根据 行索引 获取的.\n",
    "# first_row = df.loc[941]\n",
    "# print(first_row)\n",
    "# print(type(first_row))\n",
    "\n",
    "# iloc 属性: 根据 行号 获取的.\n",
    "first_row = df.iloc[0]\n",
    "print(first_row)\n",
    "print(type(first_row))      # <class 'pandas.core.series.Series'>"
   ],
   "metadata": {
    "collapsed": false
   },
   "id": "b63bd5ef65b9ab23"
  },
  {
   "cell_type": "code",
   "execution_count": null,
   "outputs": [],
   "source": [
    "# 3. 演示Series对象的属性\n",
    "print(first_row.dtype)                  # 打印Series对象的元素类型, object(表示字符串)\n",
    "print(first_row.dtypes)                 # 打印Series对象的元素类型, object(表示字符串)\n",
    "print(first_row['year'].dtype)          # int64\n",
    "# print(first_row['firstname'].dtype)     # 报错, str(字符串)没有 dtype这个属性\n",
    "\n",
    "print(first_row.shape)                  # 维度: (7, )\n",
    "print(first_row.size)                   # 长度: 7\n",
    "\n",
    "print(first_row.values)                 # 获取所有的值\n",
    "print(first_row.index)                  # 获取所有的索引\n",
    "print(first_row.keys())                 # 获取所有的索引, 效果同上"
   ],
   "metadata": {
    "collapsed": false
   },
   "id": "4fc12cfa18088a16"
  },
  {
   "cell_type": "markdown",
   "source": [
    "# 4. Series对象的常用方法介绍"
   ],
   "metadata": {
    "collapsed": false
   },
   "id": "7dc5adf14d96c134"
  },
  {
   "cell_type": "code",
   "execution_count": null,
   "outputs": [],
   "source": [
    "# 1. 构建Series对象.\n",
    "s1 = pd.Series([1, 2, 3, 4, 2, 3], index=['A', 'B', 'C', 'D', 'E', 'F'])\n",
    "print(s1)"
   ],
   "metadata": {
    "collapsed": false
   },
   "id": "c3b7b034073d512e"
  },
  {
   "cell_type": "code",
   "execution_count": null,
   "outputs": [],
   "source": [
    "# 2. 演示Series对象的 常用方法. \n",
    "print(len(s1))              # 长度: 6\n",
    "print(s1.size)              # 长度: 6\n",
    "print(s1.head())            # 默认获取前 5 条\n",
    "print(s1.head(n=2))         # 指定, 获取前2条\n",
    "\n",
    "print(s1.tail())            # 默认获取后 5条\n",
    "print(s1.tail(n=3))         # 指定, 获取后3条\n",
    "\n",
    "print(s1.keys())            # 获取Series的索引\n",
    "print(s1.index)             # 获取Series的索引\n",
    "\n",
    "print(s1.tolist())          # 转列表\n",
    "print(s1.to_list())         # 效果同上\n",
    "print(type(s1.tolist()))    # <class 'list'>\n",
    "\n",
    "print(s1.to_frame())        # 转成df对象\n",
    "print(type(s1.to_frame()))  # <class 'pandas.core.frame.DataFrame'>\n",
    "\n",
    "print(s1.describe())        # 查看Series的详细信息, 例如: 最大值, 最小值, 平均值, 标准差等...\n",
    "print(s1.max())\n",
    "print(s1.min())\n",
    "print(s1.mean())\n",
    "print(s1.std())             # 标准差\n",
    "\n",
    "print(s1.drop_duplicates()) # 去重, 返回Series对象\n",
    "print(s1.unique())          # 去重, 返回数组, <class 'numpy.ndarray'>\n",
    "\n",
    "print(s1.sort_values())                    # 根据 值 排序, 默认: 升序(ascending=True)\n",
    "print(s1.sort_values(ascending=False))     # 根据 值 排序, 降序\n",
    "\n",
    "print(s1.sort_index())                     # 根据 索引 排序, 默认: 升序\n",
    "print(s1.sort_index(ascending=False))      # 根据 索引 排序, 降序\n",
    "\n",
    "print(s1.value_counts())                   # 统计每个值出现的次数, 类似于: SQL的 group by + count()\n",
    "s1.hist()                                  # 绘制: 直方图(柱状图)"
   ],
   "metadata": {
    "collapsed": false
   },
   "id": "a8c36437d4b6c458"
  },
  {
   "cell_type": "markdown",
   "source": [
    "# 5. 电影案例_回顾上述的Series的常用方法"
   ],
   "metadata": {
    "collapsed": false
   },
   "id": "82102e12c7ef40ad"
  },
  {
   "cell_type": "code",
   "execution_count": null,
   "outputs": [],
   "source": [
    "# 1. 加载数据源, 获取df对象.\n",
    "movie_df = pd.read_csv('data/movie.csv')\n",
    "movie_df.head()"
   ],
   "metadata": {
    "collapsed": false
   },
   "id": "e76d2c2d69d1ed9a"
  },
  {
   "cell_type": "code",
   "execution_count": null,
   "outputs": [],
   "source": [
    "# 2. 从df对象中, 获取到 Seires对象.\n",
    "# direcctor = movie_df.director_name    # 获取: 导演名字\n",
    "direcctor = movie_df['director_name']   # 效果同上. \n",
    "print(direcctor)        \n",
    "\n",
    "actor_1_fb_likes = movie_df.actor_1_facebook_likes      # 获取主演的facebook点赞数\n",
    "print(actor_1_fb_likes)"
   ],
   "metadata": {
    "collapsed": false
   },
   "id": "20dedd82ec4fa379"
  },
  {
   "cell_type": "code",
   "execution_count": null,
   "outputs": [],
   "source": [
    "# 3. 统计不同导演指导的电影数量, 即: 各导演的总数. \n",
    "direcctor.value_counts()\n",
    "\n",
    "# 4. 统计主演各个点赞数 数量. 即: 1000点赞有几个, 10000点赞有几个\n",
    "# actor_1_fb_likes.value_counts()"
   ],
   "metadata": {
    "collapsed": false
   },
   "id": "1f9027d8a036c319"
  },
  {
   "cell_type": "code",
   "execution_count": null,
   "outputs": [],
   "source": [
    "# 5. 统计有多少空值. \n",
    "# direcctor.count()       # 4814, 统计所有的非空值\n",
    "# direcctor.shape         # (4916, ), 总量\n",
    "len(direcctor.shape)      # 4916"
   ],
   "metadata": {
    "collapsed": false
   },
   "id": "6fad5634859af56"
  },
  {
   "cell_type": "code",
   "execution_count": null,
   "outputs": [],
   "source": [
    "# 6. 打印描述信息\n",
    "actor_1_fb_likes.describe()     # 查看描述信息, 例如: 最大值, 最小值, 平均值, 标准差...\n",
    "direcctor.describe()            # 查看描述信息, 因为是: object(字符串类型), 所以信息没那么多."
   ],
   "metadata": {
    "collapsed": false
   },
   "id": "532606b321be296f"
  },
  {
   "cell_type": "markdown",
   "source": [
    "# 6. Series的布尔值的操作"
   ],
   "metadata": {
    "collapsed": false
   },
   "id": "8980ded22a357d5a"
  },
  {
   "cell_type": "code",
   "execution_count": null,
   "outputs": [],
   "source": [
    "# 1. 读取数据源, 获取 df对象.\n",
    "df = pd.read_csv('data/scientists.csv')\n",
    "df"
   ],
   "metadata": {
    "collapsed": false
   },
   "id": "cdcd81baf26f6dc3"
  },
  {
   "cell_type": "code",
   "execution_count": null,
   "outputs": [],
   "source": [
    "# 2. 手动传入布尔值, 获取内容.\n",
    "bool_list = [True, False, False, True, False, False, True, True]  # 个数要和df的数据条数保持一致.\n",
    "df[bool_list]   # 即: 获取索引为 0, 3, 6, 7的数据"
   ],
   "metadata": {
    "collapsed": false
   },
   "id": "d517b2ffe1ce1c7b"
  },
  {
   "cell_type": "code",
   "execution_count": null,
   "outputs": [],
   "source": [
    "# 3. 根据条件传入布尔值, 筛选数据. \n",
    "# 需求: 筛选出 年龄 大于 平均年龄的科学家. \n",
    "# 3.1 获取年龄列的数据.\n",
    "# ages_series = df.Age\n",
    "ages_series = df['Age']     # 区分大小写.\n",
    "ages_series"
   ],
   "metadata": {
    "collapsed": false
   },
   "id": "cee5fe0a8852af6f"
  },
  {
   "cell_type": "code",
   "execution_count": null,
   "outputs": [],
   "source": [
    "# 3.2 计算平均年龄\n",
    "avg_age = ages_series.mean()\n",
    "avg_age"
   ],
   "metadata": {
    "collapsed": false
   },
   "id": "198ef1649ea29796"
  },
  {
   "cell_type": "code",
   "execution_count": null,
   "outputs": [],
   "source": [
    "# 3.3 判断当前年龄 是否大于 平均年龄, 生成: 布尔列表. \n",
    "ages_series > avg_age"
   ],
   "metadata": {
    "collapsed": false
   },
   "id": "63ab2370778ef9e9"
  },
  {
   "cell_type": "code",
   "execution_count": null,
   "outputs": [],
   "source": [
    "# 3.4 获取 当前年龄 大于平均年龄的数据. \n",
    "ages_series[ages_series > avg_age]      "
   ],
   "metadata": {
    "collapsed": false
   },
   "id": "c1573f821d8f6c35"
  },
  {
   "cell_type": "code",
   "execution_count": null,
   "outputs": [],
   "source": [
    "# 3.5 上述格式简化版, 一行写完. \n",
    "# 参考: ages_series[ages_series > avg_age]   \n",
    "# df['Age'][df['Age'] > df['Age'].mean()]   # 只获取符合条件的年龄, 即: Series数据\n",
    "df.Age[df.Age > df.Age.mean()]   # 只获取符合条件的年龄, 即: Series数据\n",
    "\n",
    "# df[df['Age'] > df['Age'].mean()]            # 扩展, 去df中筛选符合条件的数据, 结果还是: df对象\n",
    "# df[df.Age > df.Age.mean()]            # 扩展, 去df中筛选符合条件的数据, 结果还是: df对象"
   ],
   "metadata": {
    "collapsed": false
   },
   "id": "a9d15bcaac34f45d"
  },
  {
   "cell_type": "markdown",
   "source": [
    "# 7. Series的计算"
   ],
   "metadata": {
    "collapsed": false
   },
   "id": "e016dd96edebd606"
  },
  {
   "cell_type": "markdown",
   "source": [
    "## 7.1 Series和数值运算, 数值会和Series的每个值进行运算."
   ],
   "metadata": {
    "collapsed": false
   },
   "id": "f737e6232c22098d"
  },
  {
   "cell_type": "code",
   "execution_count": 101,
   "outputs": [
    {
     "data": {
      "text/plain": "0     74\n1    122\n2    180\n3    132\n4    112\n5     90\n6     82\n7    154\nName: Age, dtype: int64"
     },
     "execution_count": 101,
     "metadata": {},
     "output_type": "execute_result"
    }
   ],
   "source": [
    " ages_series + 10\n",
    "ages_series * 2"
   ],
   "metadata": {
    "collapsed": false,
    "ExecuteTime": {
     "end_time": "2024-07-20T04:06:16.586018100Z",
     "start_time": "2024-07-20T04:06:16.479873500Z"
    }
   },
   "id": "d13be50acc650d66"
  },
  {
   "cell_type": "markdown",
   "source": [
    "## 7.2 两个Series之间计算, 如果长度一致, 会按照对应的元素进行逐个计算"
   ],
   "metadata": {
    "collapsed": false
   },
   "id": "d28d48d2859dede3"
  },
  {
   "cell_type": "code",
   "execution_count": 103,
   "outputs": [
    {
     "data": {
      "text/plain": "0     74\n1    122\n2    180\n3    132\n4    112\n5     90\n6     82\n7    154\nName: Age, dtype: int64"
     },
     "execution_count": 103,
     "metadata": {},
     "output_type": "execute_result"
    }
   ],
   "source": [
    "ages_series + ages_series"
   ],
   "metadata": {
    "collapsed": false,
    "ExecuteTime": {
     "end_time": "2024-07-20T04:07:50.699882500Z",
     "start_time": "2024-07-20T04:07:50.597041300Z"
    }
   },
   "id": "4ade7be83322691c"
  },
  {
   "cell_type": "markdown",
   "source": [
    "## 7.3 两个Series之间计算, 如果长度不一致, 则对应元素计算, 不匹配的元素用NaN填充"
   ],
   "metadata": {
    "collapsed": false
   },
   "id": "d642d14ac83fe067"
  },
  {
   "cell_type": "code",
   "execution_count": 106,
   "outputs": [
    {
     "data": {
      "text/plain": "0    38.0\n1    71.0\n2     NaN\n3     NaN\n4     NaN\n5     NaN\n6     NaN\n7     NaN\ndtype: float64"
     },
     "execution_count": 106,
     "metadata": {},
     "output_type": "execute_result"
    }
   ],
   "source": [
    "ages_series + pd.Series([1, 10])"
   ],
   "metadata": {
    "collapsed": false,
    "ExecuteTime": {
     "end_time": "2024-07-20T04:09:31.286542200Z",
     "start_time": "2024-07-20T04:09:31.150139Z"
    }
   },
   "id": "e3ad7b8e4f5f7f65"
  },
  {
   "cell_type": "markdown",
   "source": [
    "## 7.4 Series之间进行计算, 会尽可能依据 索引来计算, 即: 优先计算索引一样的数据. "
   ],
   "metadata": {
    "collapsed": false
   },
   "id": "35e40ba7682a5fed"
  },
  {
   "cell_type": "code",
   "execution_count": 110,
   "outputs": [
    {
     "data": {
      "text/plain": "2    90\n7    77\n3    66\n1    61\n4    56\n5    45\n6    41\n0    37\nName: Age, dtype: int64"
     },
     "execution_count": 110,
     "metadata": {},
     "output_type": "execute_result"
    }
   ],
   "source": [
    "# 1. 对 源数据(ages_series), 按照 年龄 降序排列, 获取新的Series对象.\n",
    "rev_series = ages_series.sort_values(ascending=False)\n",
    "rev_series"
   ],
   "metadata": {
    "collapsed": false,
    "ExecuteTime": {
     "end_time": "2024-07-20T04:12:33.298720200Z",
     "start_time": "2024-07-20T04:12:33.148328500Z"
    }
   },
   "id": "d2d8813493079c0b"
  },
  {
   "cell_type": "code",
   "execution_count": 113,
   "outputs": [
    {
     "data": {
      "text/plain": "0    37\n1    61\n2    90\n3    66\n4    56\n5    45\n6    41\n7    77\nName: Age, dtype: int64"
     },
     "execution_count": 113,
     "metadata": {},
     "output_type": "execute_result"
    }
   ],
   "source": [
    "# 2. 查看原始Series对象\n",
    "ages_series"
   ],
   "metadata": {
    "collapsed": false,
    "ExecuteTime": {
     "end_time": "2024-07-20T04:13:19.874891700Z",
     "start_time": "2024-07-20T04:13:19.746708400Z"
    }
   },
   "id": "3ed6c5c9070ff7d3"
  },
  {
   "cell_type": "code",
   "execution_count": 115,
   "outputs": [
    {
     "data": {
      "text/plain": "0     74\n1    122\n2    180\n3    132\n4    112\n5     90\n6     82\n7    154\nName: Age, dtype: int64"
     },
     "execution_count": 115,
     "metadata": {},
     "output_type": "execute_result"
    }
   ],
   "source": [
    "# 3. 具体的计算过程\n",
    "ages_series + rev_series"
   ],
   "metadata": {
    "collapsed": false,
    "ExecuteTime": {
     "end_time": "2024-07-20T05:34:11.247747700Z",
     "start_time": "2024-07-20T05:34:11.206084100Z"
    }
   },
   "id": "a4c23cc859720fed"
  }
 ],
 "metadata": {
  "kernelspec": {
   "display_name": "Python 3",
   "language": "python",
   "name": "python3"
  },
  "language_info": {
   "codemirror_mode": {
    "name": "ipython",
    "version": 2
   },
   "file_extension": ".py",
   "mimetype": "text/x-python",
   "name": "python",
   "nbconvert_exporter": "python",
   "pygments_lexer": "ipython2",
   "version": "2.7.6"
  }
 },
 "nbformat": 4,
 "nbformat_minor": 5
}
