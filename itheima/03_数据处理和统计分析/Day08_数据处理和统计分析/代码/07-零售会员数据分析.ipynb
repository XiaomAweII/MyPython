{
 "cells": [
  {
   "cell_type": "markdown",
   "source": [
    "# 导包 + 切换路径"
   ],
   "metadata": {
    "collapsed": false
   },
   "id": "f38a288d988ed845"
  },
  {
   "cell_type": "code",
   "execution_count": null,
   "outputs": [],
   "source": [
    "import numpy as np\n",
    "import pandas as pd\n",
    "from datetime import datetime\n",
    "import matplotlib.pyplot as plt         # Matplotlib包用于绘图的\n",
    "plt.rcParams['font.sans-serif'] = ['SimHei'] # 正常显示汉字\n",
    "plt.rcParams['axes.unicode_minus'] = False   # 正常显示负号\n",
    "\n",
    "import os\n",
    "\n",
    "# 手动修改 工作空间目录, 即: 修改相对路径的地址\n",
    "os.chdir('D:/workspace/ai_20_work_bj/pandasProject/')\n",
    "os.getcwd()"
   ],
   "metadata": {
    "collapsed": false
   },
   "id": "b2545ae887f93d6e"
  },
  {
   "cell_type": "code",
   "execution_count": null,
   "outputs": [],
   "source": [
    "# 1. 读取数据源, 获取df对象.\n",
    "customer_info = pd.read_excel('data/会员信息查询.xlsx')\n",
    "customer_info.head()"
   ],
   "metadata": {
    "collapsed": false
   },
   "id": "40ec4d8a7608c49b"
  },
  {
   "cell_type": "markdown",
   "source": [
    "# 1. 按月统计注册的会员数量(即: 月增量)"
   ],
   "metadata": {
    "collapsed": false
   },
   "id": "8f41ac9a582977ce"
  },
  {
   "cell_type": "code",
   "execution_count": null,
   "outputs": [],
   "source": [
    "# 1. 给上述的 df对象, 新增1列, 充当: 年月字段. \n",
    "customer_info.loc[:, '注册年月'] = customer_info['注册时间'].apply(lambda x: x.strftime('%Y-%m'))\n",
    "customer_info.head()\n",
    "\n",
    "# 2. 从上述的df对象中, 获取到我们要用的字段. \n",
    "customer_info[['会员卡号', '会员等级', '会员来源', '注册时间', '注册年月']]"
   ],
   "metadata": {
    "collapsed": false
   },
   "id": "f02eb32d4aa4fbce"
  },
  {
   "cell_type": "code",
   "execution_count": null,
   "outputs": [],
   "source": [
    "# 3. 完成上述的需求, 按月统计注册的会员数量.\n",
    "month_count = customer_info.groupby('注册年月')[['会员卡号']].count()\n",
    "month_count.columns = ['月增量']\n",
    "month_count.head()"
   ],
   "metadata": {
    "collapsed": false
   },
   "id": "172ed5056ddcc381"
  },
  {
   "cell_type": "code",
   "execution_count": null,
   "outputs": [],
   "source": [
    "# 4. 对上述的 月增量 进行可视化操作.\n",
    "# figsize: 设置宽高, color: 设置颜色, legend: 设置图例,  grid: 设置网格线, xlabel: x轴显示内容.  ylabei: y轴显示内容\n",
    "month_count['月增量'][1:].plot(figsize=(16, 8), color='green', legend=True, grid=True, xlabel='年月', ylabel='月增量')"
   ],
   "metadata": {
    "collapsed": false
   },
   "id": "b6e5d98754e4ca07"
  },
  {
   "cell_type": "code",
   "execution_count": null,
   "outputs": [],
   "source": [
    "# 5. pivot_table()透视表, 也可以实现 groupby()函数的功能, 且: 透视表比groupby()相对更加灵活.\n",
    "tmp_df = customer_info.pivot_table(index='注册年月', values='会员卡号', aggfunc='count')\n",
    "tmp_df.columns = ['月增量']\n",
    "tmp_df"
   ],
   "metadata": {
    "collapsed": false
   },
   "id": "55a55593c05b2133"
  },
  {
   "cell_type": "markdown",
   "source": [
    "# 2. 按月计算每月的 会员月存量, "
   ],
   "metadata": {
    "collapsed": false
   },
   "id": "683dba06586b44da"
  },
  {
   "cell_type": "code",
   "execution_count": null,
   "outputs": [],
   "source": [
    "# 需求2: 按月计算每月的 会员月存量,  月存量 即: 从第1个月 ~ 当前月的 月增量的累加和\n",
    "month_count.loc[:, '会员存量'] = month_count['月增量'].cumsum()\n",
    "month_count.head()"
   ],
   "metadata": {
    "collapsed": false
   },
   "id": "21b71b939dc900db"
  },
  {
   "cell_type": "code",
   "execution_count": null,
   "outputs": [],
   "source": [
    "# 增量可视化, secondary_y: 该图表参考 右y轴值\n",
    "month_count['月增量'][1:].plot(figsize=(16, 8), color='green', legend=True, grid=True, secondary_y=True)\n",
    "# 存量可视化\n",
    "month_count['会员存量'].plot(kind='bar', figsize=(16, 8), color='pink', legend=True, grid=True, xlabel='年月', ylabel='月存量')\n",
    "plt.title('月增量 和 月存量分析结果展示')\n",
    "plt.show()          # 这行代码可以省略不写. "
   ],
   "metadata": {
    "collapsed": false
   },
   "id": "5c36f3437aced651"
  },
  {
   "cell_type": "markdown",
   "source": [
    "# 3. 会员增量等级分布"
   ],
   "metadata": {
    "collapsed": false
   },
   "id": "b33046f2da5d1605"
  },
  {
   "cell_type": "code",
   "execution_count": null,
   "outputs": [],
   "source": [
    "# 1. 查看下目前的源数据.\n",
    "customer_info.head()"
   ],
   "metadata": {
    "collapsed": false
   },
   "id": "4ce1dd4b289467cd"
  },
  {
   "cell_type": "code",
   "execution_count": null,
   "outputs": [],
   "source": [
    "# 2. 使用透视表, 计算: 按月 会员增量等级分布即可.\n",
    "member_rating = customer_info.pivot_table(index='注册年月', columns='会员等级', values='会员卡号', aggfunc='count')\n",
    "\n",
    "# 3. 从中过滤出 除了第1个月的数据.\n",
    "member_rating = member_rating[1:]\n",
    "member_rating"
   ],
   "metadata": {
    "collapsed": false
   },
   "id": "d99247d44f7aaf20"
  },
  {
   "cell_type": "code",
   "execution_count": null,
   "outputs": [],
   "source": [
    "# 4. 月增量 会员等级分布结果查看.\n",
    "# 4.1 构建画布, 坐标系\n",
    "fig, ax1 = plt.subplots(figsize=(20, 10))\n",
    "# 4.2 基于ax1, 复制一个新的坐标系 ax2.    ax1: 展示: 白银, 黄金会员.  ax2: 展示 钻石, 铂金会员\n",
    "ax2 = ax1.twinx()\n",
    "# 4.3 ax1: 展示: 白银, 黄金会员\n",
    "member_rating[['白银会员', '黄金会员']].plot(ax=ax1, legend=True, grid=True, color=['blue', 'black'], xlabel='年月', ylabel='白银/黄金')\n",
    "# 4.4 ax2: 展示 钻石, 铂金会员\n",
    "member_rating[['钻石会员', '铂金会员']].plot(kind='bar', ax=ax2, legend=True, grid=True, ylabel='钻石/铂金')\n",
    "# 4.5 设置ax2坐标系的图例到: 左侧\n",
    "ax2.legend(loc='upper left')        \n",
    "# 4.6 给图表起个名字\n",
    "plt.title('月增量会员等级分布', fontsize=20)\n",
    "# 4.7 绘图\n",
    "plt.show()          # 可以省略不写. "
   ],
   "metadata": {
    "collapsed": false
   },
   "id": "37bcf5c4763be611"
  }
 ],
 "metadata": {
  "kernelspec": {
   "display_name": "Python 3",
   "language": "python",
   "name": "python3"
  },
  "language_info": {
   "codemirror_mode": {
    "name": "ipython",
    "version": 2
   },
   "file_extension": ".py",
   "mimetype": "text/x-python",
   "name": "python",
   "nbconvert_exporter": "python",
   "pygments_lexer": "ipython2",
   "version": "2.7.6"
  }
 },
 "nbformat": 4,
 "nbformat_minor": 5
}
