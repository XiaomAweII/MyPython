{
 "cells": [
  {
   "cell_type": "markdown",
   "source": [
    "# 1.numpy入门"
   ],
   "metadata": {
    "collapsed": false
   },
   "id": "32bf886e50f61111"
  },
  {
   "cell_type": "code",
   "execution_count": null,
   "outputs": [],
   "source": [
    "# 导包\n",
    "import numpy as np\n",
    "\n",
    "# 基于 Python的列表, 构建: numpy对象.\n",
    "arr = np.array([1, 2, 3, 4, 5])\n",
    "\n",
    "print(arr)  # [1 2 3 4 5]\n",
    "print(type(arr))  # <class 'numpy.ndarray'>"
   ],
   "metadata": {
    "collapsed": false
   },
   "id": "40c2e223dd5f25e4"
  },
  {
   "cell_type": "markdown",
   "source": [
    "# 2.numpy的属性"
   ],
   "metadata": {
    "collapsed": false
   },
   "id": "578abc888114d18b"
  },
  {
   "cell_type": "code",
   "execution_count": null,
   "outputs": [],
   "source": [
    "# 1. 构建1个3行5列的 ndarray对象(n维数字), 即: 3行5列.\n",
    "arr = np.arange(15).reshape((3, 5))  # arange(15)类似于Python的range(15),  然后把0~15(包左不包右)的数据放到 3个 长度维5的一维数组中.\n",
    "print(f'ndarray对象: {arr}')  # ndarray对象.\n",
    "\n",
    "print(f'数组的形状(维度): {arr.shape}')  # (3, 5), 简单理解为: 3行5列\n",
    "print(f'数组的轴: {arr.ndim}')  # 2, 几维数组, 维度(轴)就是几.\n",
    "print(f'数组的长度: {arr.size}')  # 15, 即所有元素的个数.\n",
    "print(f'数组的每个元素的类型: {arr.dtype}')  # int64\n",
    "print(f'数组的每个元素的大小(字节数): {arr.itemsize}')  # 8\n",
    "print(f'数组的类型: {type(arr)}')  # <class 'numpy.ndarray'>"
   ],
   "metadata": {
    "collapsed": false
   },
   "id": "b1c19e6868e962a2"
  },
  {
   "cell_type": "code",
   "execution_count": null,
   "outputs": [],
   "source": [
    "# 扩展: 上述的 shape, ndim, size等属性, 可以改写成: np.属性名(对象对)的形式. \n",
    "print(f'数组的形状(维度): {np.shape(arr)}')  # (3, 5), 简单理解为: 3行5列\n",
    "print(f'数组的轴: {np.ndim(arr)}')  # 2, 几维数组, 维度(轴)就是几.\n",
    "print(f'数组的长度: {np.size(arr)}')  # 15, 即所有元素的个数.\n",
    "# print(f'数组的每个元素的类型: {np.dtype(arr)}')  # 报错, 无该函数\n",
    "# print(f'数组的每个元素的大小(字节数): {np.itemsize(arr)}')  # 报错, 无该函数\n",
    "# print(f'数组的类型: {np.type(arr)}')          # 报错, 无该函数"
   ],
   "metadata": {
    "collapsed": false
   },
   "id": "fdc6471d4a1806af"
  },
  {
   "cell_type": "markdown",
   "source": [
    "# 3.创建ndarray对象"
   ],
   "metadata": {
    "collapsed": false
   },
   "id": "fc7bbfbdd0a38e09"
  },
  {
   "cell_type": "markdown",
   "source": [
    "## 3.1把Python列表封装成ndarray对象"
   ],
   "metadata": {
    "collapsed": false
   },
   "id": "6a511f4e4d4074e5"
  },
  {
   "cell_type": "code",
   "execution_count": null,
   "outputs": [],
   "source": [
    "# int数组\n",
    "arr1 = np.array([1, 2, 3, 4, 5])\n",
    "print(f'数组对象: {arr1}')\n",
    "print(f'数组类型: {type(arr1)}')\n",
    "print(f'数组元素类型: {arr1.dtype}')"
   ],
   "metadata": {
    "collapsed": false
   },
   "id": "25ac7dc314ca27d7"
  },
  {
   "cell_type": "code",
   "execution_count": null,
   "outputs": [],
   "source": [
    "# float数组\n",
    "arr2 = np.array([1.2, 2.3, 3.4])\n",
    "print(f'数组对象: {arr2}')\n",
    "print(f'数组类型: {type(arr2)}')\n",
    "print(f'数组元素类型: {arr2.dtype}')"
   ],
   "metadata": {
    "collapsed": false
   },
   "id": "b5c5d1c7e7544735"
  },
  {
   "cell_type": "markdown",
   "source": [
    "## 3.2 zeros()/ones()/empty() 函数创建 ndarray对象"
   ],
   "metadata": {
    "collapsed": false
   },
   "id": "56bc33d78a3f72c9"
  },
  {
   "cell_type": "code",
   "execution_count": null,
   "outputs": [],
   "source": [
    "# zeros() 创建全是0的数组, 即: ndarray对象\n",
    "arr3 = np.zeros((2, 3))  # 2行3列, 即: 二维数组, 有2个一维数组, 每个一维数组的元素个数为: 3\n",
    "print(f'数组对象: {arr3}')  # [[0. 0. 0.]  [0. 0. 0.]]\n",
    "print(f'数组类型: {type(arr3)}')  # <class 'numpy.ndarray'>\n",
    "print(f'数组元素类型: {arr3.dtype}')  # float64"
   ],
   "metadata": {
    "collapsed": false
   },
   "id": "1f7abcce7d627e82"
  },
  {
   "cell_type": "code",
   "execution_count": null,
   "outputs": [],
   "source": [
    "# ones() 创建全是1的数组, 即: ndarray对象\n",
    "# arr4 = np.ones((2, 3))             # 2行3列, 即: 二维数组, 有2个一维数组, 每个一维数组的元素个数为: 3\n",
    "arr4 = np.ones((2, 3, 4))  # 三维数组, 2个二维数组, 每个2位数组有3个一维数组, 每个一维数组有4个元素\n",
    "print(f'数组对象: {arr4}')  # [[1. 1. 1.]   [1. 1. 1.]]\n",
    "print(f'数组类型: {type(arr4)}')  # <class 'numpy.ndarray'>\n",
    "print(f'数组元素类型: {arr4.dtype}')  # float64"
   ],
   "metadata": {
    "collapsed": false
   },
   "id": "1583e53e1d056d5d"
  },
  {
   "cell_type": "code",
   "execution_count": null,
   "outputs": [],
   "source": [
    "# empty() 创建内容随机, 且依赖内存状态的随机值, 即: ndarray对象\n",
    "arr5 = np.empty((2, 3))  # 2行3列, 即: 二维数组, 有2个一维数组, 每个一维数组的元素个数为: 3\n",
    "print(f'数组对象: {arr5}')  # [[1. 1. 1.]   [1. 1. 1.]]\n",
    "print(f'数组类型: {type(arr5)}')  # <class 'numpy.ndarray'>\n",
    "print(f'数组元素类型: {arr5.dtype}')  # float64"
   ],
   "metadata": {
    "collapsed": false
   },
   "id": "8cee5b8f428b414f"
  },
  {
   "cell_type": "markdown",
   "source": [
    "## 3.3 arange()函数, 创建ndarray对象"
   ],
   "metadata": {
    "collapsed": false
   },
   "id": "f15df85b7104d644"
  },
  {
   "cell_type": "code",
   "execution_count": null,
   "outputs": [],
   "source": [
    "# arange(起始值, 结束值, 步长, 类型), 它类似于Python中的 range()\n",
    "arr6 = np.arange(1, 5, 2, dtype=np.float32)  # 生成 1 ~ 5之间, 步长为2的数据, 包左不包右.  类型: int32, int64, float32, float64  \n",
    "print(f'数组对象: {arr6}')  # \n",
    "print(f'数组类型: {type(arr6)}')  # <class 'numpy.ndarray'>\n",
    "print(f'数组元素类型: {arr6.dtype}')  # float64"
   ],
   "metadata": {
    "collapsed": false
   },
   "id": "9ad000d5d02b61a5"
  },
  {
   "cell_type": "markdown",
   "source": [
    "## 3.4 matrix() 生成二维数组"
   ],
   "metadata": {
    "collapsed": false
   },
   "id": "c392cd075e9db8d1"
  },
  {
   "cell_type": "code",
   "execution_count": null,
   "outputs": [],
   "source": [
    "# matrix()属于ndarry的子集, 生成 二维数组的. \n",
    "# arr7 = np.mat('1 2; 3 4')          # 生成 二维数组\n",
    "# arr7 = np.mat('1,2;3,4')           # 生成 二维数组\n",
    "# arr7 = np.mat([[1, 2, 3], [4, 5, 6]])           # 生成 二维数组\n",
    "arr7 = np.matrix([[1, 2, 3], [4, 5, 6]])  # 生成 二维数组  你写 mat() 和 matrix()效果是一致的\n",
    "print(f'数组对象: {arr7}')  # [[1 2] [3 4]]\n",
    "print(f'数组类型: {type(arr7)}')  # <class 'numpy.matrix'>, 即: matrix是ndarray的子类.\n",
    "print(f'数组元素类型: {arr7.dtype}')  # float64"
   ],
   "metadata": {
    "collapsed": false
   },
   "id": "764240fd014aeb19"
  },
  {
   "cell_type": "markdown",
   "source": [
    "## 3.5 rand(), randint(), uniform() 生成ndarray对象"
   ],
   "metadata": {
    "collapsed": false
   },
   "id": "ec9a668220ef9735"
  },
  {
   "cell_type": "code",
   "execution_count": null,
   "outputs": [],
   "source": [
    "# rand(), 生成0.0 ~ 1.0之间的 随机数组. 包左不包右.\n",
    "arr8 = np.random.rand(2, 3)  # 2行3列\n",
    "print(f'数组对象: {arr8}')  # [[1 2] [3 4]]\n",
    "print(f'数组类型: {type(arr8)}')  # <class 'numpy.ndarray'>\n",
    "print(f'数组元素类型: {arr8.dtype}')  # float64"
   ],
   "metadata": {
    "collapsed": false
   },
   "id": "3a05a1b890ab7329"
  },
  {
   "cell_type": "code",
   "execution_count": null,
   "outputs": [],
   "source": [
    "# randint(), 生成指定范围之间的 随机数组. 包左不包右.\n",
    "arr9 = np.random.randint(-1, 5, size=(2, 3))  # 2行3列, -1 ~ 5之间, 随机整数\n",
    "print(f'数组对象: {arr9}')  # [[1 2] [3 4]]\n",
    "print(f'数组类型: {type(arr9)}')  # <class 'numpy.ndarray'>\n",
    "print(f'数组元素类型: {arr9.dtype}')  # int64"
   ],
   "metadata": {
    "collapsed": false
   },
   "id": "47bdabb79500fb92"
  },
  {
   "cell_type": "code",
   "execution_count": null,
   "outputs": [],
   "source": [
    "# uniform(), 生成指定范围之间的 随机数组. 包左不包右.\n",
    "arr10 = np.random.uniform(-1, 5, size=(2, 3))  # 2行3列, -1 ~ 5之间, 随机小数(浮点数)\n",
    "print(f'数组对象: {arr10}')  # [[1 2] [3 4]]\n",
    "print(f'数组类型: {type(arr10)}')  # <class 'numpy.ndarray'>\n",
    "print(f'数组元素类型: {arr10.dtype}')  # float64"
   ],
   "metadata": {
    "collapsed": false
   },
   "id": "d6e2688f2343b3d6"
  },
  {
   "cell_type": "markdown",
   "source": [
    "## 3.6 通过 astype()函数, 把ndarray => ndarray"
   ],
   "metadata": {
    "collapsed": false
   },
   "id": "1db76b01b59c81af"
  },
  {
   "cell_type": "code",
   "execution_count": null,
   "outputs": [],
   "source": [
    "# 1. 创建1个 float类型的 数组.\n",
    "arr11 = np.ones((2, 3), dtype=np.float32)  # 2行3列\n",
    "print(f'数组对象: {arr11}')  # [[1. 1. 1.]   [1. 1. 1.]]\n",
    "print(f'数组类型: {type(arr11)}')  # <class 'numpy.ndarray'>\n",
    "print(f'数组元素类型: {arr11.dtype}')  # float32"
   ],
   "metadata": {
    "collapsed": false
   },
   "id": "539090b1f816f49d"
  },
  {
   "cell_type": "code",
   "execution_count": null,
   "outputs": [],
   "source": [
    "# 2. 把 arr11的元素类型, 从 float32 => int64\n",
    "arr12 = arr11.astype(np.int64)\n",
    "print(f'数组对象: {arr12}')  # [[1 1 1] [1 1 1]]\n",
    "print(f'数组类型: {type(arr12)}')  # <class 'numpy.ndarray'>\n",
    "print(f'数组元素类型: {arr12.dtype}')  # int64"
   ],
   "metadata": {
    "collapsed": false
   },
   "id": "8338fe36e90a94aa"
  },
  {
   "cell_type": "markdown",
   "source": [
    "## 3.7 logspace()等比数列 和 linspace()等差数列"
   ],
   "metadata": {
    "collapsed": false
   },
   "id": "8f90fac377df6b7f"
  },
  {
   "cell_type": "code",
   "execution_count": null,
   "outputs": [],
   "source": [
    "# logspace(起始幂值, 结束幂值, 元素个数, base=底数)   生成10^起始幂值 ~ 10^结束幂值范围内的, 指定个数的数据, 底数默认是10, 可以自定义\n",
    "# arr13 = np.logspace(0, 5, 10)         # 10^0 ~ 10^5之间, 10个元素, 等比数列\n",
    "arr13 = np.logspace(0, 5, 10, base=2)  # 2^0 ~ 2^5之间,  10个元素, 等比数列\n",
    "print(f'数组对象: {arr13}')  # [[1 1 1] [1 1 1]]\n",
    "print(f'数组类型: {type(arr13)}')  # <class 'numpy.ndarray'>\n",
    "print(f'数组元素类型: {arr13.dtype}')  # int64"
   ],
   "metadata": {
    "collapsed": false
   },
   "id": "fd486b860e90cc3c"
  },
  {
   "cell_type": "code",
   "execution_count": null,
   "outputs": [],
   "source": [
    "# linspace(起始值, 结束值, 元素个数, endpoint=True|False)   生成起始值 ~ 结束值之间的, 指定元素个数的值, 等差数列, endpoint=True(默认), 包含结束值. False:不包含\n",
    "arr14 = np.linspace(0, 5, 5)  # 0 ~ 5之间, 5个数, 等差数列,  endpoint=True(默认值)\n",
    "arr14 = np.linspace(0, 5, 5, endpoint=False)  # 0 ~ 5之间, 5个数, 等差数列, 包左不包右\n",
    "print(f'数组对象: {arr14}')  # [[1 1 1] [1 1 1]]\n",
    "print(f'数组类型: {type(arr14)}')  # <class 'numpy.ndarray'>\n",
    "print(f'数组元素类型: {arr14.dtype}')  # int64"
   ],
   "metadata": {
    "collapsed": false
   },
   "id": "d25e63c78888d11"
  },
  {
   "cell_type": "markdown",
   "source": [
    "# 4. Numpy的内置函数"
   ],
   "metadata": {
    "collapsed": false
   },
   "id": "f26fe464f6d5db2d"
  },
  {
   "cell_type": "markdown",
   "source": [
    "## 4.1 内置函数之 基本函数"
   ],
   "metadata": {
    "collapsed": false
   },
   "id": "5592638a1b91af95"
  },
  {
   "cell_type": "code",
   "execution_count": null,
   "outputs": [],
   "source": [
    "# 基本函数如下: ceil(), floor(), rint(), isnan(), abs(), multiply(), divide(), where()\n",
    "# np.ceil(): 向上最接近的整数，参数是 number 或 array\n",
    "# np.floor(): 向下最接近的整数，参数是 number 或 array\n",
    "# np.rint(): 四舍五入，参数是 number 或 array\n",
    "# np.isnan(): 判断元素是否为 NaN(Not a Number)，参数是 number 或 array\n",
    "# np.multiply(): 元素相乘，参数是 number 或 array\n",
    "# np.divide(): 元素相除，参数是 number 或 array\n",
    "# np.abs()：元素的绝对值，参数是 number 或 array\n",
    "# np.where(condition, x, y): 三元运算符，x if condition else y\n",
    "# 注意: 需要注意multiply/divide 如果是两个ndarray进行运算 shape必须一致\n",
    "\n",
    "# 1. 生成ndarray对象.\n",
    "arr = np.random.randn(2, 3)  # 获取1个标准的正态分布的 2行3列的数据. \n",
    "print(f'arr的值为: {arr}')    # [[-2.9442457   0.98108089 -0.10675188]   [ 0.99740282  0.89240409  1.36733958]]\n",
    "\n",
    "# 2. 演示函数.\n",
    "print(np.ceil(arr))         # [[-2  1 0]   [ 1  1 2]]\n",
    "print(np.floor(arr))        # [[-3   0 -1]   [ 0 0 1]]\n",
    "print(np.rint(arr))         # [[-3   1 -0]   [ 1  1  1]]\n",
    "print(np.isnan(arr))        # [[False False False]   [ False False False]]\n",
    "print(np.abs(arr))          # [[2.9442457   0.98108089 0.10675188]   [ 0.99740282  0.89240409  1.36733958]]\n",
    "print(np.multiply(arr, arr))     # [[...]   [... ]]\n",
    "print(np.divide(arr, arr))       # [[1 1 1]   [1 1 1 ]]\n",
    "print(np.where(arr > 0, 1, -1))     # [[-1   1 -1]   [ 1 1 1]]"
   ],
   "metadata": {
    "collapsed": false
   },
   "id": "cf30d12043fa2f93"
  },
  {
   "cell_type": "markdown",
   "source": [
    "## 4.2 内置函数之 统计函数"
   ],
   "metadata": {
    "collapsed": false
   },
   "id": "b9c85f63dd8d8f36"
  },
  {
   "cell_type": "code",
   "execution_count": null,
   "outputs": [],
   "source": [
    "# 统计函数介绍\n",
    "# np.mean(), np.sum()：所有元素的平均值，所有元素的和，参数是 number 或 array\n",
    "# np.max(), np.min()：所有元素的最大值，所有元素的最小值，参数是 number 或 array\n",
    "# np.std(), np.var()：所有元素的标准差，所有元素的方差，参数是 number 或 array\n",
    "# np.argmax(), np.argmin()：最大值的下标索引值，最小值的下标索引值，参数是 number 或 array\n",
    "# np.cumsum(), np.cumprod()：返回一个一维数组，每个元素都是之前所有元素的 累加和 和 累乘积，参数是 number 或 array\n",
    "# 多维数组默认统计全部维度，axis参数可以按指定轴心统计，值为0则按列统计，值为1则按行统计。\n",
    "\n",
    "# 1. 生成1个ndarray对象\n",
    "arr = np.arange(12).reshape((3, 4))         # 3行4列\n",
    "print(f'元素内容: {arr}')\n",
    "\n",
    "# 2. 演示 cumsum(), 累加和.\n",
    "print(np.cumsum(arr))  #  [ 0  1  3  6 10 15 21 28 36 45 55 66]\n",
    "\n",
    "# 3. 演示 sum()求和.\n",
    "print(np.sum(arr))          # 66\n",
    "print(np.sum(arr, axis=0))  # [12, 15, 18, 21], 0是列.\n",
    "print(np.sum(arr, axis=1))  # [6, 22, 38], 1是行."
   ],
   "metadata": {
    "collapsed": false
   },
   "id": "c4ca05a7c1dfddc2"
  },
  {
   "cell_type": "markdown",
   "source": [
    "# 4.3 内置函数之 比较函数"
   ],
   "metadata": {
    "collapsed": false
   },
   "id": "d42aec80443fa6a5"
  },
  {
   "cell_type": "code",
   "execution_count": null,
   "outputs": [],
   "source": [
    "# any()   任意1个元素满足即可, 返回True, 否则返回False\n",
    "# all()   所有元素都要满足, 返回True, 否则返回False\n",
    "# 1. 生成1个数列.\n",
    "arr = np.random.randn(2, 3)     # 2行3列的 正态分布的数据.\n",
    "print(arr)              # [[-0.29235619 -1.00893783 -1.19750865]  [ 0.10427346  1.45389378  0.26985633]]\n",
    "print(np.any(arr > 0))  # 只要arr的任意1个元素大于0即可.    True \n",
    "print(np.all(arr > 0))  # arr的所有元素都要大于0即可.       False"
   ],
   "metadata": {
    "collapsed": false
   },
   "id": "cdd62429ca146c12"
  },
  {
   "cell_type": "markdown",
   "source": [
    "## 4.4 内置函数之 排序函数"
   ],
   "metadata": {
    "collapsed": false
   },
   "id": "6e30bc0a43692f75"
  },
  {
   "cell_type": "code",
   "execution_count": null,
   "outputs": [],
   "source": [
    "# 方式1: np.sort(arr)     排序, 并返回新的副本.\n",
    "# 方式2: arr.sort()       对原数组排序.\n",
    "\n",
    "# 1. 获取ndarray对象\n",
    "arr = np.array([1, 5, 3, 2, 6])\n",
    "print(f'排序前: {arr}')\n",
    "\n",
    "# 2. 排序\n",
    "# arr_copy = np.sort(arr)\n",
    "# print(f'np.sort()方式: {arr_copy}')\n",
    "\n",
    "arr.sort()      # 直接对 原数组排序\n",
    "\n",
    "# 3. 排序后\n",
    "print(f'排序后: {arr}')"
   ],
   "metadata": {
    "collapsed": false
   },
   "id": "a6bc186a2d003718"
  },
  {
   "cell_type": "markdown",
   "source": [
    "## 4.5 内置函数之 去重函数"
   ],
   "metadata": {
    "collapsed": false
   },
   "id": "15efc986c5b21ef5"
  },
  {
   "cell_type": "code",
   "execution_count": null,
   "outputs": [],
   "source": [
    "# unique(): 去重函数, 类似于Python的 set()集合.\n",
    "\n",
    "# 1. 创建ndarray对象\n",
    "arr = np.array([[1, 2, 1, 6], [1, 3, 2, 5]])    # 细节: 列数要一致.\n",
    "print(f'去重前: {arr}')\n",
    "\n",
    "# 2. 去重.\n",
    "new_arr = np.unique(arr)\n",
    "\n",
    "# 3. 打印结果.\n",
    "print(f'去重后: {new_arr}')"
   ],
   "metadata": {
    "collapsed": false
   },
   "id": "f74edad8b81be851"
  },
  {
   "cell_type": "markdown",
   "source": [
    "# 5. Numpy运算"
   ],
   "metadata": {
    "collapsed": false
   },
   "id": "34740db142cc64ea"
  },
  {
   "cell_type": "markdown",
   "source": [
    "## 5.1 基本运算, 即: 对应元素直接运算即可."
   ],
   "metadata": {
    "collapsed": false
   },
   "id": "ec413d0bf4ee41df"
  },
  {
   "cell_type": "code",
   "execution_count": null,
   "outputs": [],
   "source": [
    "# 1. 创建两个ndarray对象.\n",
    "arr1 = np.array([10, 20, 30, 40])       # [10, 20, 30, 40]\n",
    "arr2 = np.arange(4)                     # [0, 1, 2, 3]\n",
    "\n",
    "# 2. 基本运算, 对应元素运算的.\n",
    "arr3 = arr1 + arr2\n",
    "arr4 = arr1 * arr2\n",
    "arr5 = np.multiply(arr1, arr2)\n",
    "\n",
    "# 3. 打印结果.\n",
    "print(f'arr1: {arr1}')   # [10, 20, 30, 40]\n",
    "print(f'arr2: {arr2}')   # [0, 1, 2, 3]\n",
    "print(f'arr3: {arr3}')   # [10, 21, 32, 43]\n",
    "print(f'arr4: {arr4}')   # [0, 20, 60, 120]\n",
    "print(f'arr5: {arr5}')   # [0, 20, 60, 120]"
   ],
   "metadata": {
    "collapsed": false
   },
   "id": "d2ec189d4b52b438"
  },
  {
   "cell_type": "markdown",
   "source": [
    "## 5.2 矩阵运算, 情况1: 行列数一致"
   ],
   "metadata": {
    "collapsed": false
   },
   "id": "c75891387c222bf3"
  },
  {
   "cell_type": "code",
   "execution_count": null,
   "outputs": [],
   "source": [
    "# 1. 创建两个ndarray对象, 二维的, 更好的演示 矩阵运算.\n",
    "arr1 = np.array([[1, 2, 3], [4, 5, 6]])       # [[1, 2, 3], [4, 5, 6]]\n",
    "arr2 = np.array([[1, 2, 3], [4, 5, 6]])       # [[1, 2, 3], [4, 5, 6]]\n",
    "\n",
    "# 2. 基本运算, 对应元素运算的.\n",
    "arr3 = arr1 * arr2\n",
    "arr4 = np.multiply(arr1, arr2)\n",
    "\n",
    "# 3. 打印结果.\n",
    "print(f'arr1: {arr1}')   # [[1, 2, 3], [4, 5, 6]]\n",
    "print(f'arr2: {arr2}')   # [[1, 2, 3], [4, 5, 6]]\n",
    "print(f'arr3: {arr3}')   # [[1, 4, 9], [16, 25, 36]]\n",
    "print(f'arr4: {arr4}')   # [[1, 4, 9], [16, 25, 36]]"
   ],
   "metadata": {
    "collapsed": false
   },
   "id": "56e147afbf99acad"
  },
  {
   "cell_type": "markdown",
   "source": [
    "## 5.3 矩阵运算, 情况2: 行列数相反"
   ],
   "metadata": {
    "collapsed": false
   },
   "id": "dd580333a17bcb93"
  },
  {
   "cell_type": "code",
   "execution_count": 126,
   "outputs": [
    {
     "name": "stdout",
     "output_type": "stream",
     "text": [
      "arr3: [[30 24]\n",
      " [84 69]]\n"
     ]
    }
   ],
   "source": [
    "# dot()函数, 适用于: 行列数相反的情况. \n",
    "# 1. 创建两个ndarray对象, 二维的, 更好的演示 矩阵运算.\n",
    "arr1 = np.array([[1, 2, 3], [4, 5, 6]])        # [[1, 2, 3], [4, 5, 6]]\n",
    "arr2 = np.array([[9, 8], [6, 5], [3, 2]])      # [[9, 8], [6, 5], [3, 2]]\n",
    "\n",
    "# 2. 基本运算, 对应元素运算的.\n",
    "arr3 = arr1.dot(arr2)\n",
    "\n",
    "# 3. 打印结果.\n",
    "print(f'arr3: {arr3}')   # [[30 24] [84 69]]"
   ],
   "metadata": {
    "collapsed": false,
    "ExecuteTime": {
     "end_time": "2024-07-19T10:36:01.166847500Z",
     "start_time": "2024-07-19T10:36:01.111791200Z"
    }
   },
   "id": "b60eb443d5a441e"
  }
 ],
 "metadata": {
  "kernelspec": {
   "display_name": "Python 3",
   "language": "python",
   "name": "python3"
  },
  "language_info": {
   "codemirror_mode": {
    "name": "ipython",
    "version": 2
   },
   "file_extension": ".py",
   "mimetype": "text/x-python",
   "name": "python",
   "nbconvert_exporter": "python",
   "pygments_lexer": "ipython2",
   "version": "2.7.6"
  }
 },
 "nbformat": 4,
 "nbformat_minor": 5
}
