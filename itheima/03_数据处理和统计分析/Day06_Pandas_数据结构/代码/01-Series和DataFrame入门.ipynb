{
 "cells": [
  {
   "cell_type": "markdown",
   "source": [
    "# 1. Series对象的创建"
   ],
   "metadata": {
    "collapsed": false
   },
   "id": "27dc6030217b270b"
  },
  {
   "cell_type": "markdown",
   "source": [
    "## 1.1 numpy的ndarray => Series对象"
   ],
   "metadata": {
    "collapsed": false
   },
   "id": "585b47120d688e33"
  },
  {
   "cell_type": "code",
   "execution_count": 1,
   "outputs": [],
   "source": [
    "# 导包\n",
    "import numpy as np\n",
    "import pandas as pd"
   ],
   "metadata": {
    "collapsed": false,
    "ExecuteTime": {
     "end_time": "2024-07-21T08:42:07.806568Z",
     "start_time": "2024-07-21T08:42:07.389640Z"
    }
   },
   "id": "3c8a071175101a0"
  },
  {
   "cell_type": "code",
   "execution_count": 2,
   "outputs": [
    {
     "name": "stdout",
     "output_type": "stream",
     "text": [
      "[1 2 3 4 5]\n",
      "<class 'numpy.ndarray'>\n"
     ]
    }
   ],
   "source": [
    "# 1. 创建ndarray对象.\n",
    "arr = np.array([1, 2, 3, 4, 5])\n",
    "print(arr)\n",
    "print(type(arr))    # <class 'numpy.ndarray'>"
   ],
   "metadata": {
    "collapsed": false,
    "ExecuteTime": {
     "end_time": "2024-07-21T08:42:07.822347Z",
     "start_time": "2024-07-21T08:42:07.807602Z"
    }
   },
   "id": "48de32bfd74d72a5"
  },
  {
   "cell_type": "code",
   "execution_count": 3,
   "outputs": [
    {
     "name": "stdout",
     "output_type": "stream",
     "text": [
      "0    1\n",
      "1    2\n",
      "2    3\n",
      "3    4\n",
      "4    5\n",
      "dtype: int32\n",
      "<class 'pandas.core.series.Series'>\n"
     ]
    }
   ],
   "source": [
    "# 2. 将上述的 ndarray对象 转成 Series对象\n",
    "s1 = pd.Series(data=arr)\n",
    "print(s1)\n",
    "print(type(s1))     # <class 'pandas.core.series.Series'>"
   ],
   "metadata": {
    "collapsed": false,
    "ExecuteTime": {
     "end_time": "2024-07-21T08:42:07.837679Z",
     "start_time": "2024-07-21T08:42:07.823355Z"
    }
   },
   "id": "2af71bfb650aa859"
  },
  {
   "cell_type": "markdown",
   "source": [
    "## 1.2 直接传入Python列表, 构建Series对象"
   ],
   "metadata": {
    "collapsed": false
   },
   "id": "a65958804970ab4a"
  },
  {
   "cell_type": "code",
   "execution_count": 4,
   "outputs": [
    {
     "name": "stdout",
     "output_type": "stream",
     "text": [
      "0    乔峰\n",
      "1     男\n",
      "2    33\n",
      "dtype: object\n",
      "<class 'pandas.core.series.Series'>\n"
     ]
    }
   ],
   "source": [
    "# 这种方式可以创建Series对象, 但是没有指定 行索引值, 默认是: 0 ~ n\n",
    "# s2 = pd.Series(data=['乔峰', '男', 33])\n",
    "s2 = pd.Series(['乔峰', '男', 33])         # data参数名可以省略不写.\n",
    "print(s2)\n",
    "print(type(s2))     # <class 'pandas.core.series.Series'>"
   ],
   "metadata": {
    "collapsed": false,
    "ExecuteTime": {
     "end_time": "2024-07-21T08:42:07.852913Z",
     "start_time": "2024-07-21T08:42:07.838690Z"
    }
   },
   "id": "aa1719fe145f4ba7"
  },
  {
   "cell_type": "markdown",
   "source": [
    "## 1.3 传入Python列表,构建Series对象, 并指定行索引"
   ],
   "metadata": {
    "collapsed": false
   },
   "id": "ff6becd72625bce9"
  },
  {
   "cell_type": "code",
   "execution_count": 5,
   "outputs": [
    {
     "name": "stdout",
     "output_type": "stream",
     "text": [
      "name      乔峰\n",
      "gender     男\n",
      "age       33\n",
      "dtype: object\n",
      "<class 'pandas.core.series.Series'>\n"
     ]
    }
   ],
   "source": [
    "# s3 = pd.Series(data=['乔峰', '男', 33], index=['name', 'gender', 'age'])         # data参数名可以省略不写.\n",
    "s3 = pd.Series(['乔峰', '男', 33], index=['name', 'gender', 'age'])         # data参数名可以省略不写.\n",
    "# s3 = pd.Series(['乔峰', '男', 33], ['name', 'gender', 'age'])         # 参数名可以省略不写.\n",
    "print(s3)\n",
    "print(type(s3))     # <class 'pandas.core.series.Series'>"
   ],
   "metadata": {
    "collapsed": false,
    "ExecuteTime": {
     "end_time": "2024-07-21T08:42:07.868703Z",
     "start_time": "2024-07-21T08:42:07.853925Z"
    }
   },
   "id": "f82a247c7f303adb"
  },
  {
   "cell_type": "markdown",
   "source": [
    "## 1.4 通过元组的方式创建Series对象"
   ],
   "metadata": {
    "collapsed": false
   },
   "id": "69b98f07d013f93c"
  },
  {
   "cell_type": "code",
   "execution_count": 6,
   "outputs": [
    {
     "name": "stdout",
     "output_type": "stream",
     "text": [
      "name      乔峰\n",
      "gender     男\n",
      "age       33\n",
      "dtype: object\n",
      "<class 'pandas.core.series.Series'>\n"
     ]
    }
   ],
   "source": [
    "s4 = pd.Series(('乔峰', '男', 33), index=['name', 'gender', 'age'])         # data参数名可以省略不写.\n",
    "print(s4)\n",
    "print(type(s4))     # <class 'pandas.core.series.Series'>"
   ],
   "metadata": {
    "collapsed": false,
    "ExecuteTime": {
     "end_time": "2024-07-21T08:42:07.883930Z",
     "start_time": "2024-07-21T08:42:07.869712Z"
    }
   },
   "id": "9b6d47b0948e2424"
  },
  {
   "cell_type": "markdown",
   "source": [
    "## 1.5 通过字典的方式创建Series对象"
   ],
   "metadata": {
    "collapsed": false
   },
   "id": "ce69e40abd4f2136"
  },
  {
   "cell_type": "code",
   "execution_count": 7,
   "outputs": [
    {
     "name": "stdout",
     "output_type": "stream",
     "text": [
      "name      乔峰\n",
      "gender     男\n",
      "age       33\n",
      "dtype: object\n",
      "<class 'pandas.core.series.Series'>\n"
     ]
    }
   ],
   "source": [
    "# 字典方式创建Series对象, 字典的键会作为: 行索引(index), 字典的值: 会作为 内容.\n",
    "s5 = pd.Series({'name':'乔峰', 'gender':'男', 'age':33})        \n",
    "print(s5)\n",
    "print(type(s5))     # <class 'pandas.core.series.Series'>"
   ],
   "metadata": {
    "collapsed": false,
    "ExecuteTime": {
     "end_time": "2024-07-21T08:42:07.890901Z",
     "start_time": "2024-07-21T08:42:07.884930Z"
    }
   },
   "id": "fd2d0cb479c63e68"
  },
  {
   "cell_type": "code",
   "execution_count": 8,
   "outputs": [
    {
     "data": {
      "text/plain": "         0\nname    乔峰\ngender   男\nage     33",
      "text/html": "<div>\n<style scoped>\n    .dataframe tbody tr th:only-of-type {\n        vertical-align: middle;\n    }\n\n    .dataframe tbody tr th {\n        vertical-align: top;\n    }\n\n    .dataframe thead th {\n        text-align: right;\n    }\n</style>\n<table border=\"1\" class=\"dataframe\">\n  <thead>\n    <tr style=\"text-align: right;\">\n      <th></th>\n      <th>0</th>\n    </tr>\n  </thead>\n  <tbody>\n    <tr>\n      <th>name</th>\n      <td>乔峰</td>\n    </tr>\n    <tr>\n      <th>gender</th>\n      <td>男</td>\n    </tr>\n    <tr>\n      <th>age</th>\n      <td>33</td>\n    </tr>\n  </tbody>\n</table>\n</div>"
     },
     "execution_count": 8,
     "metadata": {},
     "output_type": "execute_result"
    }
   ],
   "source": [
    "s5.to_frame()"
   ],
   "metadata": {
    "collapsed": false,
    "ExecuteTime": {
     "end_time": "2024-07-21T08:42:07.906241Z",
     "start_time": "2024-07-21T08:42:07.890901Z"
    }
   },
   "id": "29fae6f3a42d0b5d"
  },
  {
   "cell_type": "markdown",
   "source": [
    "# 2. 创建DataFrame对象"
   ],
   "metadata": {
    "collapsed": false
   },
   "id": "720e208056fd645f"
  },
  {
   "cell_type": "markdown",
   "source": [
    "## 2.1 字典方式构建df对象"
   ],
   "metadata": {
    "collapsed": false
   },
   "id": "799da45c78e0a2b1"
  },
  {
   "cell_type": "code",
   "execution_count": 9,
   "outputs": [
    {
     "name": "stdout",
     "output_type": "stream",
     "text": [
      "   id  age name\n",
      "A   1   33   乔峰\n",
      "B   2   29   虚竹\n",
      "C   3   21   段誉\n",
      "<class 'pandas.core.frame.DataFrame'>\n"
     ]
    }
   ],
   "source": [
    "# 1. 创建字典, 记录数据.\n",
    "dict_data = {\n",
    "    'id': [1, 2, 3],\n",
    "    'name': ['乔峰', '虚竹', '段誉'],\n",
    "    'age': [33, 29, 21]\n",
    "}\n",
    "# 2. 基于上述的字典, 构建df对象.\n",
    "# df1 = pd.DataFrame(dict_data)  \n",
    "# df1 = pd.DataFrame(dict_data, index=['A', 'B', 'C'])   # 指定行索引\n",
    "# index:指定行索引,  columns:指定列名(的顺序), 如果写的列名不存在, 则该列值为 NaN\n",
    "df1 = pd.DataFrame(dict_data, index=['A', 'B', 'C'], columns=['id', 'age', 'name'])   \n",
    "# 3. 打印结果.\n",
    "print(df1)\n",
    "print(type(df1))    # <class 'pandas.core.frame.DataFrame'>"
   ],
   "metadata": {
    "collapsed": false,
    "ExecuteTime": {
     "end_time": "2024-07-21T08:42:07.921547Z",
     "start_time": "2024-07-21T08:42:07.907279Z"
    }
   },
   "id": "bf346cec08042c40"
  },
  {
   "cell_type": "markdown",
   "source": [
    "## 2.2 列表 + 元组方式构建df对象"
   ],
   "metadata": {
    "collapsed": false
   },
   "id": "7733051601046503"
  },
  {
   "cell_type": "code",
   "execution_count": 10,
   "outputs": [
    {
     "name": "stdout",
     "output_type": "stream",
     "text": [
      "   id name  age\n",
      "X   1   乔峰   33\n",
      "Y   2   虚竹   29\n",
      "Z   3   段誉   21\n",
      "<class 'pandas.core.frame.DataFrame'>\n"
     ]
    }
   ],
   "source": [
    "# 1. 基于列表 + 元组, 构建数据集.  一个元组 = 一行数据\n",
    "list_data = [(1, '乔峰', 33), (2, '虚竹', 29), (3, '段誉', 21)]\n",
    "# 2. 构建df对象.\n",
    "# df2 = pd.DataFrame(list_data, index=['X', 'Y', 'Z'], columns=['id', 'age', 'name'])  # 以行的方式传入数据, columns是设置: 列名.\n",
    "df2 = pd.DataFrame(list_data, index=['X', 'Y', 'Z'], columns=['id', 'name', 'age'])  # 以行的方式传入数据, columns是设置: 列名.\n",
    "# 3. 打印结果.\n",
    "print(df2)\n",
    "print(type(df2))"
   ],
   "metadata": {
    "collapsed": false,
    "ExecuteTime": {
     "end_time": "2024-07-21T08:42:07.937599Z",
     "start_time": "2024-07-21T08:42:07.922548Z"
    }
   },
   "id": "ba2f48fbd93be2e4"
  },
  {
   "cell_type": "markdown",
   "source": [
    "# 3. Series的常用属性介绍"
   ],
   "metadata": {
    "collapsed": false
   },
   "id": "cecd847568518091"
  },
  {
   "cell_type": "code",
   "execution_count": 11,
   "outputs": [],
   "source": [
    "# Series的常用属性, 如下:\n",
    "# loc               根据 行索引 获取某行数据, 这个是属于: DF的对象\n",
    "# iloc              根据 行号 获取某行数据, 这个是属于: DF的对象\n",
    "# dtype或者dtypes    获取Series的元素类型\n",
    "# T                 转置函数, 后续详解\n",
    "# shape             维度\n",
    "# size              大小(元素的个数)\n",
    "# values            获取所有的值\n",
    "# index             获取所有的索引, 功能类似于keys()方法"
   ],
   "metadata": {
    "collapsed": false,
    "ExecuteTime": {
     "end_time": "2024-07-21T08:42:07.953056Z",
     "start_time": "2024-07-21T08:42:07.938610Z"
    }
   },
   "id": "34b999497f0ba4f6"
  },
  {
   "cell_type": "code",
   "execution_count": 12,
   "outputs": [
    {
     "data": {
      "text/plain": "'D:\\\\HeiMa20\\\\02_Python进阶\\\\02.数据处理和统计分析\\\\day06\\\\代码'"
     },
     "execution_count": 12,
     "metadata": {},
     "output_type": "execute_result"
    }
   ],
   "source": [
    "# 铺垫动作, 你容易做错的地方, 即: 你用Linux虚拟机的Jupyter Notebook 和 你用本地的环境, 相对路径是不一样的. \n",
    "import os\n",
    "os.getcwd()     # get current work directory: 获取当前的工作目录, 即: 你的相对路径, 就是相对于这路径来讲的. "
   ],
   "metadata": {
    "collapsed": false,
    "ExecuteTime": {
     "end_time": "2024-07-21T08:42:07.968299Z",
     "start_time": "2024-07-21T08:42:07.954076Z"
    }
   },
   "id": "525fa1d66ef32502"
  },
  {
   "cell_type": "code",
   "execution_count": 13,
   "outputs": [
    {
     "data": {
      "text/plain": "     year   category overallMotivation firstname   surname  \\\nid                                                           \n941  2017    physics               NaN    Rainer     Weiss   \n942  2017    physics               NaN  Barry C.    Barish   \n943  2017    physics               NaN    Kip S.    Thorne   \n944  2017  chemistry               NaN   Jacques  Dubochet   \n945  2017  chemistry               NaN   Joachim     Frank   \n\n                                            motivation  share  \nid                                                             \n941  \"for decisive contributions to the LIGO detect...      2  \n942  \"for decisive contributions to the LIGO detect...      4  \n943  \"for decisive contributions to the LIGO detect...      4  \n944  \"for developing cryo-electron microscopy for t...      3  \n945  \"for developing cryo-electron microscopy for t...      3  ",
      "text/html": "<div>\n<style scoped>\n    .dataframe tbody tr th:only-of-type {\n        vertical-align: middle;\n    }\n\n    .dataframe tbody tr th {\n        vertical-align: top;\n    }\n\n    .dataframe thead th {\n        text-align: right;\n    }\n</style>\n<table border=\"1\" class=\"dataframe\">\n  <thead>\n    <tr style=\"text-align: right;\">\n      <th></th>\n      <th>year</th>\n      <th>category</th>\n      <th>overallMotivation</th>\n      <th>firstname</th>\n      <th>surname</th>\n      <th>motivation</th>\n      <th>share</th>\n    </tr>\n    <tr>\n      <th>id</th>\n      <th></th>\n      <th></th>\n      <th></th>\n      <th></th>\n      <th></th>\n      <th></th>\n      <th></th>\n    </tr>\n  </thead>\n  <tbody>\n    <tr>\n      <th>941</th>\n      <td>2017</td>\n      <td>physics</td>\n      <td>NaN</td>\n      <td>Rainer</td>\n      <td>Weiss</td>\n      <td>\"for decisive contributions to the LIGO detect...</td>\n      <td>2</td>\n    </tr>\n    <tr>\n      <th>942</th>\n      <td>2017</td>\n      <td>physics</td>\n      <td>NaN</td>\n      <td>Barry C.</td>\n      <td>Barish</td>\n      <td>\"for decisive contributions to the LIGO detect...</td>\n      <td>4</td>\n    </tr>\n    <tr>\n      <th>943</th>\n      <td>2017</td>\n      <td>physics</td>\n      <td>NaN</td>\n      <td>Kip S.</td>\n      <td>Thorne</td>\n      <td>\"for decisive contributions to the LIGO detect...</td>\n      <td>4</td>\n    </tr>\n    <tr>\n      <th>944</th>\n      <td>2017</td>\n      <td>chemistry</td>\n      <td>NaN</td>\n      <td>Jacques</td>\n      <td>Dubochet</td>\n      <td>\"for developing cryo-electron microscopy for t...</td>\n      <td>3</td>\n    </tr>\n    <tr>\n      <th>945</th>\n      <td>2017</td>\n      <td>chemistry</td>\n      <td>NaN</td>\n      <td>Joachim</td>\n      <td>Frank</td>\n      <td>\"for developing cryo-electron microscopy for t...</td>\n      <td>3</td>\n    </tr>\n  </tbody>\n</table>\n</div>"
     },
     "execution_count": 13,
     "metadata": {},
     "output_type": "execute_result"
    }
   ],
   "source": [
    "# 1. 读取 nobel_prizes.csv 文件的内容, 获取df对象.\n",
    "df = pd.read_csv('data/nobel_prizes.csv', index_col='id')   # index_col: 设置表中的某列为 索引列.\n",
    "df.head()       # 默认获取前 5 条数据"
   ],
   "metadata": {
    "collapsed": false,
    "ExecuteTime": {
     "end_time": "2024-07-21T08:42:07.983555Z",
     "start_time": "2024-07-21T08:42:07.969382Z"
    }
   },
   "id": "96a34cedfa8f3a0a"
  },
  {
   "cell_type": "code",
   "execution_count": 14,
   "outputs": [
    {
     "name": "stdout",
     "output_type": "stream",
     "text": [
      "year                                                              2017\n",
      "category                                                       physics\n",
      "overallMotivation                                                  NaN\n",
      "firstname                                                       Rainer\n",
      "surname                                                          Weiss\n",
      "motivation           \"for decisive contributions to the LIGO detect...\n",
      "share                                                                2\n",
      "Name: 941, dtype: object\n",
      "<class 'pandas.core.series.Series'>\n"
     ]
    }
   ],
   "source": [
    "# 2. 从上述的df对象中, 获取到 第一行数据, 即: Series对象.\n",
    "# loc 属性: 根据 行索引 获取的.\n",
    "# first_row = df.loc[941]\n",
    "# print(first_row)\n",
    "# print(type(first_row))\n",
    "\n",
    "# iloc 属性: 根据 行号 获取的.\n",
    "first_row = df.iloc[0]\n",
    "print(first_row)\n",
    "print(type(first_row))      # <class 'pandas.core.series.Series'>"
   ],
   "metadata": {
    "collapsed": false,
    "ExecuteTime": {
     "end_time": "2024-07-21T08:42:07.999371Z",
     "start_time": "2024-07-21T08:42:07.984556Z"
    }
   },
   "id": "b63bd5ef65b9ab23"
  },
  {
   "cell_type": "code",
   "execution_count": 15,
   "outputs": [
    {
     "name": "stdout",
     "output_type": "stream",
     "text": [
      "object\n",
      "object\n",
      "int64\n",
      "(7,)\n",
      "7\n",
      "[2017 'physics' nan 'Rainer' 'Weiss'\n",
      " '\"for decisive contributions to the LIGO detector and the observation of gravitational waves\"'\n",
      " 2]\n",
      "Index(['year', 'category', 'overallMotivation', 'firstname', 'surname',\n",
      "       'motivation', 'share'],\n",
      "      dtype='object')\n",
      "Index(['year', 'category', 'overallMotivation', 'firstname', 'surname',\n",
      "       'motivation', 'share'],\n",
      "      dtype='object')\n"
     ]
    }
   ],
   "source": [
    "# 3. 演示Series对象的属性\n",
    "print(first_row.dtype)                  # 打印Series对象的元素类型, object(表示字符串)\n",
    "print(first_row.dtypes)                 # 打印Series对象的元素类型, object(表示字符串)\n",
    "print(first_row['year'].dtype)          # int64\n",
    "# print(first_row['firstname'].dtype)     # 报错, str(字符串)没有 dtype这个属性\n",
    "\n",
    "print(first_row.shape)                  # 维度: (7, )\n",
    "print(first_row.size)                   # 长度: 7\n",
    "\n",
    "print(first_row.values)                 # 获取所有的值\n",
    "print(first_row.index)                  # 获取所有的索引\n",
    "print(first_row.keys())                 # 获取所有的索引, 效果同上"
   ],
   "metadata": {
    "collapsed": false,
    "ExecuteTime": {
     "end_time": "2024-07-21T08:42:08.014497Z",
     "start_time": "2024-07-21T08:42:08.000376Z"
    }
   },
   "id": "4fc12cfa18088a16"
  },
  {
   "cell_type": "markdown",
   "source": [
    "# 4. Series对象的常用方法介绍"
   ],
   "metadata": {
    "collapsed": false
   },
   "id": "7dc5adf14d96c134"
  },
  {
   "cell_type": "code",
   "execution_count": 16,
   "outputs": [
    {
     "name": "stdout",
     "output_type": "stream",
     "text": [
      "A    1\n",
      "B    2\n",
      "C    3\n",
      "D    4\n",
      "E    2\n",
      "F    3\n",
      "dtype: int64\n"
     ]
    }
   ],
   "source": [
    "# 1. 构建Series对象.\n",
    "s1 = pd.Series([1, 2, 3, 4, 2, 3], index=['A', 'B', 'C', 'D', 'E', 'F'])\n",
    "print(s1)"
   ],
   "metadata": {
    "collapsed": false,
    "ExecuteTime": {
     "end_time": "2024-07-21T08:42:08.030006Z",
     "start_time": "2024-07-21T08:42:08.015551Z"
    }
   },
   "id": "c3b7b034073d512e"
  },
  {
   "cell_type": "code",
   "execution_count": 17,
   "outputs": [
    {
     "name": "stdout",
     "output_type": "stream",
     "text": [
      "6\n",
      "6\n",
      "A    1\n",
      "B    2\n",
      "C    3\n",
      "D    4\n",
      "E    2\n",
      "dtype: int64\n",
      "A    1\n",
      "B    2\n",
      "dtype: int64\n",
      "B    2\n",
      "C    3\n",
      "D    4\n",
      "E    2\n",
      "F    3\n",
      "dtype: int64\n",
      "D    4\n",
      "E    2\n",
      "F    3\n",
      "dtype: int64\n",
      "Index(['A', 'B', 'C', 'D', 'E', 'F'], dtype='object')\n",
      "Index(['A', 'B', 'C', 'D', 'E', 'F'], dtype='object')\n",
      "[1, 2, 3, 4, 2, 3]\n",
      "[1, 2, 3, 4, 2, 3]\n",
      "<class 'list'>\n",
      "   0\n",
      "A  1\n",
      "B  2\n",
      "C  3\n",
      "D  4\n",
      "E  2\n",
      "F  3\n",
      "<class 'pandas.core.frame.DataFrame'>\n",
      "count    6.000000\n",
      "mean     2.500000\n",
      "std      1.048809\n",
      "min      1.000000\n",
      "25%      2.000000\n",
      "50%      2.500000\n",
      "75%      3.000000\n",
      "max      4.000000\n",
      "dtype: float64\n",
      "4\n",
      "1\n",
      "2.5\n",
      "1.0488088481701516\n",
      "A    1\n",
      "B    2\n",
      "C    3\n",
      "D    4\n",
      "dtype: int64\n",
      "[1 2 3 4]\n",
      "A    1\n",
      "B    2\n",
      "E    2\n",
      "C    3\n",
      "F    3\n",
      "D    4\n",
      "dtype: int64\n",
      "D    4\n",
      "F    3\n",
      "C    3\n",
      "E    2\n",
      "B    2\n",
      "A    1\n",
      "dtype: int64\n",
      "A    1\n",
      "B    2\n",
      "C    3\n",
      "D    4\n",
      "E    2\n",
      "F    3\n",
      "dtype: int64\n",
      "F    3\n",
      "E    2\n",
      "D    4\n",
      "C    3\n",
      "B    2\n",
      "A    1\n",
      "dtype: int64\n",
      "3    2\n",
      "2    2\n",
      "4    1\n",
      "1    1\n",
      "dtype: int64\n"
     ]
    },
    {
     "data": {
      "text/plain": "<AxesSubplot:>"
     },
     "execution_count": 17,
     "metadata": {},
     "output_type": "execute_result"
    },
    {
     "data": {
      "text/plain": "<Figure size 432x288 with 1 Axes>",
      "image/png": "[encoded data removed]"
     },
     "metadata": {
      "needs_background": "light"
     },
     "output_type": "display_data"
    }
   ],
   "source": [
    "# 2. 演示Series对象的 常用方法. \n",
    "print(len(s1))              # 长度: 6\n",
    "print(s1.size)              # 长度: 6\n",
    "print(s1.head())            # 默认获取前 5 条\n",
    "print(s1.head(n=2))         # 指定, 获取前2条\n",
    "\n",
    "print(s1.tail())            # 默认获取后 5条\n",
    "print(s1.tail(n=3))         # 指定, 获取后3条\n",
    "\n",
    "print(s1.keys())            # 获取Series的索引\n",
    "print(s1.index)             # 获取Series的索引\n",
    "\n",
    "print(s1.tolist())          # 转列表\n",
    "print(s1.to_list())         # 效果同上\n",
    "print(type(s1.tolist()))    # <class 'list'>\n",
    "\n",
    "print(s1.to_frame())        # 转成df对象\n",
    "print(type(s1.to_frame()))  # <class 'pandas.core.frame.DataFrame'>\n",
    "\n",
    "print(s1.describe())        # 查看Series的详细信息, 例如: 最大值, 最小值, 平均值, 标准差等...\n",
    "print(s1.max())\n",
    "print(s1.min())\n",
    "print(s1.mean())\n",
    "print(s1.std())             # 标准差\n",
    "\n",
    "print(s1.drop_duplicates()) # 去重, 返回Series对象\n",
    "print(s1.unique())          # 去重, 返回数组, <class 'numpy.ndarray'>\n",
    "\n",
    "print(s1.sort_values())                    # 根据 值 排序, 默认: 升序(ascending=True)\n",
    "print(s1.sort_values(ascending=False))     # 根据 值 排序, 降序\n",
    "\n",
    "print(s1.sort_index())                     # 根据 索引 排序, 默认: 升序\n",
    "print(s1.sort_index(ascending=False))      # 根据 索引 排序, 降序\n",
    "\n",
    "print(s1.value_counts())                   # 统计每个值出现的次数, 类似于: SQL的 group by + count()\n",
    "s1.hist()                                  # 绘制: 直方图(柱状图)"
   ],
   "metadata": {
    "collapsed": false,
    "ExecuteTime": {
     "end_time": "2024-07-21T08:42:09.320748Z",
     "start_time": "2024-07-21T08:42:08.031017Z"
    }
   },
   "id": "a8c36437d4b6c458"
  },
  {
   "cell_type": "markdown",
   "source": [
    "# 5. 电影案例_回顾上述的Series的常用方法"
   ],
   "metadata": {
    "collapsed": false
   },
   "id": "82102e12c7ef40ad"
  },
  {
   "cell_type": "code",
   "execution_count": 18,
   "outputs": [
    {
     "data": {
      "text/plain": "   color      director_name  num_critic_for_reviews  duration  \\\n0  Color      James Cameron                   723.0     178.0   \n1  Color     Gore Verbinski                   302.0     169.0   \n2  Color         Sam Mendes                   602.0     148.0   \n3  Color  Christopher Nolan                   813.0     164.0   \n4    NaN        Doug Walker                     NaN       NaN   \n\n   director_facebook_likes  actor_3_facebook_likes      actor_2_name  \\\n0                      0.0                   855.0  Joel David Moore   \n1                    563.0                  1000.0     Orlando Bloom   \n2                      0.0                   161.0      Rory Kinnear   \n3                  22000.0                 23000.0    Christian Bale   \n4                    131.0                     NaN        Rob Walker   \n\n   actor_1_facebook_likes        gross                           genres  ...  \\\n0                  1000.0  760505847.0  Action|Adventure|Fantasy|Sci-Fi  ...   \n1                 40000.0  309404152.0         Action|Adventure|Fantasy  ...   \n2                 11000.0  200074175.0        Action|Adventure|Thriller  ...   \n3                 27000.0  448130642.0                  Action|Thriller  ...   \n4                   131.0          NaN                      Documentary  ...   \n\n  num_user_for_reviews language  country  content_rating       budget  \\\n0               3054.0  English      USA           PG-13  237000000.0   \n1               1238.0  English      USA           PG-13  300000000.0   \n2                994.0  English       UK           PG-13  245000000.0   \n3               2701.0  English      USA           PG-13  250000000.0   \n4                  NaN      NaN      NaN             NaN          NaN   \n\n   title_year actor_2_facebook_likes imdb_score  aspect_ratio  \\\n0      2009.0                  936.0        7.9          1.78   \n1      2007.0                 5000.0        7.1          2.35   \n2      2015.0                  393.0        6.8          2.35   \n3      2012.0                23000.0        8.5          2.35   \n4         NaN                   12.0        7.1           NaN   \n\n  movie_facebook_likes  \n0                33000  \n1                    0  \n2                85000  \n3               164000  \n4                    0  \n\n[5 rows x 28 columns]",
      "text/html": "<div>\n<style scoped>\n    .dataframe tbody tr th:only-of-type {\n        vertical-align: middle;\n    }\n\n    .dataframe tbody tr th {\n        vertical-align: top;\n    }\n\n    .dataframe thead th {\n        text-align: right;\n    }\n</style>\n<table border=\"1\" class=\"dataframe\">\n  <thead>\n    <tr style=\"text-align: right;\">\n      <th></th>\n      <th>color</th>\n      <th>director_name</th>\n      <th>num_critic_for_reviews</th>\n      <th>duration</th>\n      <th>director_facebook_likes</th>\n      <th>actor_3_facebook_likes</th>\n      <th>actor_2_name</th>\n      <th>actor_1_facebook_likes</th>\n      <th>gross</th>\n      <th>genres</th>\n      <th>...</th>\n      <th>num_user_for_reviews</th>\n      <th>language</th>\n      <th>country</th>\n      <th>content_rating</th>\n      <th>budget</th>\n      <th>title_year</th>\n      <th>actor_2_facebook_likes</th>\n      <th>imdb_score</th>\n      <th>aspect_ratio</th>\n      <th>movie_facebook_likes</th>\n    </tr>\n  </thead>\n  <tbody>\n    <tr>\n      <th>0</th>\n      <td>Color</td>\n      <td>James Cameron</td>\n      <td>723.0</td>\n      <td>178.0</td>\n      <td>0.0</td>\n      <td>855.0</td>\n      <td>Joel David Moore</td>\n      <td>1000.0</td>\n      <td>760505847.0</td>\n      <td>Action|Adventure|Fantasy|Sci-Fi</td>\n      <td>...</td>\n      <td>3054.0</td>\n      <td>English</td>\n      <td>USA</td>\n      <td>PG-13</td>\n      <td>237000000.0</td>\n      <td>2009.0</td>\n      <td>936.0</td>\n      <td>7.9</td>\n      <td>1.78</td>\n      <td>33000</td>\n    </tr>\n    <tr>\n      <th>1</th>\n      <td>Color</td>\n      <td>Gore Verbinski</td>\n      <td>302.0</td>\n      <td>169.0</td>\n      <td>563.0</td>\n      <td>1000.0</td>\n      <td>Orlando Bloom</td>\n      <td>40000.0</td>\n      <td>309404152.0</td>\n      <td>Action|Adventure|Fantasy</td>\n      <td>...</td>\n      <td>1238.0</td>\n      <td>English</td>\n      <td>USA</td>\n      <td>PG-13</td>\n      <td>300000000.0</td>\n      <td>2007.0</td>\n      <td>5000.0</td>\n      <td>7.1</td>\n      <td>2.35</td>\n      <td>0</td>\n    </tr>\n    <tr>\n      <th>2</th>\n      <td>Color</td>\n      <td>Sam Mendes</td>\n      <td>602.0</td>\n      <td>148.0</td>\n      <td>0.0</td>\n      <td>161.0</td>\n      <td>Rory Kinnear</td>\n      <td>11000.0</td>\n      <td>200074175.0</td>\n      <td>Action|Adventure|Thriller</td>\n      <td>...</td>\n      <td>994.0</td>\n      <td>English</td>\n      <td>UK</td>\n      <td>PG-13</td>\n      <td>245000000.0</td>\n      <td>2015.0</td>\n      <td>393.0</td>\n      <td>6.8</td>\n      <td>2.35</td>\n      <td>85000</td>\n    </tr>\n    <tr>\n      <th>3</th>\n      <td>Color</td>\n      <td>Christopher Nolan</td>\n      <td>813.0</td>\n      <td>164.0</td>\n      <td>22000.0</td>\n      <td>23000.0</td>\n      <td>Christian Bale</td>\n      <td>27000.0</td>\n      <td>448130642.0</td>\n      <td>Action|Thriller</td>\n      <td>...</td>\n      <td>2701.0</td>\n      <td>English</td>\n      <td>USA</td>\n      <td>PG-13</td>\n      <td>250000000.0</td>\n      <td>2012.0</td>\n      <td>23000.0</td>\n      <td>8.5</td>\n      <td>2.35</td>\n      <td>164000</td>\n    </tr>\n    <tr>\n      <th>4</th>\n      <td>NaN</td>\n      <td>Doug Walker</td>\n      <td>NaN</td>\n      <td>NaN</td>\n      <td>131.0</td>\n      <td>NaN</td>\n      <td>Rob Walker</td>\n      <td>131.0</td>\n      <td>NaN</td>\n      <td>Documentary</td>\n      <td>...</td>\n      <td>NaN</td>\n      <td>NaN</td>\n      <td>NaN</td>\n      <td>NaN</td>\n      <td>NaN</td>\n      <td>NaN</td>\n      <td>12.0</td>\n      <td>7.1</td>\n      <td>NaN</td>\n      <td>0</td>\n    </tr>\n  </tbody>\n</table>\n<p>5 rows × 28 columns</p>\n</div>"
     },
     "execution_count": 18,
     "metadata": {},
     "output_type": "execute_result"
    }
   ],
   "source": [
    "# 1. 加载数据源, 获取df对象.\n",
    "movie_df = pd.read_csv('data/movie.csv')\n",
    "movie_df.head()"
   ],
   "metadata": {
    "collapsed": false,
    "ExecuteTime": {
     "end_time": "2024-07-21T08:42:09.352375Z",
     "start_time": "2024-07-21T08:42:09.321759Z"
    }
   },
   "id": "e76d2c2d69d1ed9a"
  },
  {
   "cell_type": "code",
   "execution_count": 19,
   "outputs": [
    {
     "name": "stdout",
     "output_type": "stream",
     "text": [
      "0           James Cameron\n",
      "1          Gore Verbinski\n",
      "2              Sam Mendes\n",
      "3       Christopher Nolan\n",
      "4             Doug Walker\n",
      "              ...        \n",
      "4911          Scott Smith\n",
      "4912                  NaN\n",
      "4913     Benjamin Roberds\n",
      "4914          Daniel Hsia\n",
      "4915             Jon Gunn\n",
      "Name: director_name, Length: 4916, dtype: object\n",
      "0        1000.0\n",
      "1       40000.0\n",
      "2       11000.0\n",
      "3       27000.0\n",
      "4         131.0\n",
      "         ...   \n",
      "4911      637.0\n",
      "4912      841.0\n",
      "4913        0.0\n",
      "4914      946.0\n",
      "4915       86.0\n",
      "Name: actor_1_facebook_likes, Length: 4916, dtype: float64\n"
     ]
    }
   ],
   "source": [
    "# 2. 从df对象中, 获取到 Seires对象.\n",
    "# direcctor = movie_df.director_name    # 获取: 导演名字\n",
    "direcctor = movie_df['director_name']   # 效果同上. \n",
    "print(direcctor)        \n",
    "\n",
    "actor_1_fb_likes = movie_df.actor_1_facebook_likes      # 获取主演的facebook点赞数\n",
    "print(actor_1_fb_likes)"
   ],
   "metadata": {
    "collapsed": false,
    "ExecuteTime": {
     "end_time": "2024-07-21T08:42:09.367708Z",
     "start_time": "2024-07-21T08:42:09.352492Z"
    }
   },
   "id": "20dedd82ec4fa379"
  },
  {
   "cell_type": "code",
   "execution_count": 20,
   "outputs": [
    {
     "data": {
      "text/plain": "Steven Spielberg    26\nWoody Allen         22\nMartin Scorsese     20\nClint Eastwood      20\nSpike Lee           16\n                    ..\nFred Schepisi        1\nTomm Moore           1\nBill Muir            1\nKyle Balda           1\nJessy Terrero        1\nName: director_name, Length: 2397, dtype: int64"
     },
     "execution_count": 20,
     "metadata": {},
     "output_type": "execute_result"
    }
   ],
   "source": [
    "# 3. 统计不同导演指导的电影数量, 即: 各导演的总数. \n",
    "direcctor.value_counts()\n",
    "\n",
    "# 4. 统计主演各个点赞数 数量. 即: 1000点赞有几个, 10000点赞有几个\n",
    "# actor_1_fb_likes.value_counts()"
   ],
   "metadata": {
    "collapsed": false,
    "ExecuteTime": {
     "end_time": "2024-07-21T08:42:09.383054Z",
     "start_time": "2024-07-21T08:42:09.368805Z"
    }
   },
   "id": "1f9027d8a036c319"
  },
  {
   "cell_type": "code",
   "execution_count": 21,
   "outputs": [
    {
     "data": {
      "text/plain": "1"
     },
     "execution_count": 21,
     "metadata": {},
     "output_type": "execute_result"
    }
   ],
   "source": [
    "# 5. 统计有多少空值. \n",
    "# direcctor.count()       # 4814, 统计所有的非空值\n",
    "# direcctor.shape         # (4916, ), 总量\n",
    "len(direcctor.shape)      # 4916"
   ],
   "metadata": {
    "collapsed": false,
    "ExecuteTime": {
     "end_time": "2024-07-21T08:42:09.398378Z",
     "start_time": "2024-07-21T08:42:09.384061Z"
    }
   },
   "id": "6fad5634859af56"
  },
  {
   "cell_type": "code",
   "execution_count": 22,
   "outputs": [
    {
     "data": {
      "text/plain": "count                 4814\nunique                2397\ntop       Steven Spielberg\nfreq                    26\nName: director_name, dtype: object"
     },
     "execution_count": 22,
     "metadata": {},
     "output_type": "execute_result"
    }
   ],
   "source": [
    "# 6. 打印描述信息\n",
    "actor_1_fb_likes.describe()     # 查看描述信息, 例如: 最大值, 最小值, 平均值, 标准差...\n",
    "direcctor.describe()            # 查看描述信息, 因为是: object(字符串类型), 所以信息没那么多."
   ],
   "metadata": {
    "collapsed": false,
    "ExecuteTime": {
     "end_time": "2024-07-21T08:42:09.430388Z",
     "start_time": "2024-07-21T08:42:09.399420Z"
    }
   },
   "id": "532606b321be296f"
  },
  {
   "cell_type": "markdown",
   "source": [
    "# 6. Series的布尔值的操作"
   ],
   "metadata": {
    "collapsed": false
   },
   "id": "8980ded22a357d5a"
  },
  {
   "cell_type": "code",
   "execution_count": 23,
   "outputs": [
    {
     "data": {
      "text/plain": "                   Name        Born        Died  Age          Occupation\n0     Rosaline Franklin  1920-07-25  1958-04-16   37             Chemist\n1        William Gosset  1876-06-13  1937-10-16   61        Statistician\n2  Florence Nightingale  1820-05-12  1910-08-13   90               Nurse\n3           Marie Curie  1867-11-07  1934-07-04   66             Chemist\n4         Rachel Carson  1907-05-27  1964-04-14   56           Biologist\n5             John Snow  1813-03-15  1858-06-16   45           Physician\n6           Alan Turing  1912-06-23  1954-06-07   41  Computer Scientist\n7          Johann Gauss  1777-04-30  1855-02-23   77       Mathematician",
      "text/html": "<div>\n<style scoped>\n    .dataframe tbody tr th:only-of-type {\n        vertical-align: middle;\n    }\n\n    .dataframe tbody tr th {\n        vertical-align: top;\n    }\n\n    .dataframe thead th {\n        text-align: right;\n    }\n</style>\n<table border=\"1\" class=\"dataframe\">\n  <thead>\n    <tr style=\"text-align: right;\">\n      <th></th>\n      <th>Name</th>\n      <th>Born</th>\n      <th>Died</th>\n      <th>Age</th>\n      <th>Occupation</th>\n    </tr>\n  </thead>\n  <tbody>\n    <tr>\n      <th>0</th>\n      <td>Rosaline Franklin</td>\n      <td>1920-07-25</td>\n      <td>1958-04-16</td>\n      <td>37</td>\n      <td>Chemist</td>\n    </tr>\n    <tr>\n      <th>1</th>\n      <td>William Gosset</td>\n      <td>1876-06-13</td>\n      <td>1937-10-16</td>\n      <td>61</td>\n      <td>Statistician</td>\n    </tr>\n    <tr>\n      <th>2</th>\n      <td>Florence Nightingale</td>\n      <td>1820-05-12</td>\n      <td>1910-08-13</td>\n      <td>90</td>\n      <td>Nurse</td>\n    </tr>\n    <tr>\n      <th>3</th>\n      <td>Marie Curie</td>\n      <td>1867-11-07</td>\n      <td>1934-07-04</td>\n      <td>66</td>\n      <td>Chemist</td>\n    </tr>\n    <tr>\n      <th>4</th>\n      <td>Rachel Carson</td>\n      <td>1907-05-27</td>\n      <td>1964-04-14</td>\n      <td>56</td>\n      <td>Biologist</td>\n    </tr>\n    <tr>\n      <th>5</th>\n      <td>John Snow</td>\n      <td>1813-03-15</td>\n      <td>1858-06-16</td>\n      <td>45</td>\n      <td>Physician</td>\n    </tr>\n    <tr>\n      <th>6</th>\n      <td>Alan Turing</td>\n      <td>1912-06-23</td>\n      <td>1954-06-07</td>\n      <td>41</td>\n      <td>Computer Scientist</td>\n    </tr>\n    <tr>\n      <th>7</th>\n      <td>Johann Gauss</td>\n      <td>1777-04-30</td>\n      <td>1855-02-23</td>\n      <td>77</td>\n      <td>Mathematician</td>\n    </tr>\n  </tbody>\n</table>\n</div>"
     },
     "execution_count": 23,
     "metadata": {},
     "output_type": "execute_result"
    }
   ],
   "source": [
    "# 1. 读取数据源, 获取 df对象.\n",
    "df = pd.read_csv('data/scientists.csv')\n",
    "df"
   ],
   "metadata": {
    "collapsed": false,
    "ExecuteTime": {
     "end_time": "2024-07-21T08:42:09.446154Z",
     "start_time": "2024-07-21T08:42:09.431390Z"
    }
   },
   "id": "cdcd81baf26f6dc3"
  },
  {
   "cell_type": "code",
   "execution_count": 24,
   "outputs": [
    {
     "data": {
      "text/plain": "                Name        Born        Died  Age          Occupation\n0  Rosaline Franklin  1920-07-25  1958-04-16   37             Chemist\n3        Marie Curie  1867-11-07  1934-07-04   66             Chemist\n6        Alan Turing  1912-06-23  1954-06-07   41  Computer Scientist\n7       Johann Gauss  1777-04-30  1855-02-23   77       Mathematician",
      "text/html": "<div>\n<style scoped>\n    .dataframe tbody tr th:only-of-type {\n        vertical-align: middle;\n    }\n\n    .dataframe tbody tr th {\n        vertical-align: top;\n    }\n\n    .dataframe thead th {\n        text-align: right;\n    }\n</style>\n<table border=\"1\" class=\"dataframe\">\n  <thead>\n    <tr style=\"text-align: right;\">\n      <th></th>\n      <th>Name</th>\n      <th>Born</th>\n      <th>Died</th>\n      <th>Age</th>\n      <th>Occupation</th>\n    </tr>\n  </thead>\n  <tbody>\n    <tr>\n      <th>0</th>\n      <td>Rosaline Franklin</td>\n      <td>1920-07-25</td>\n      <td>1958-04-16</td>\n      <td>37</td>\n      <td>Chemist</td>\n    </tr>\n    <tr>\n      <th>3</th>\n      <td>Marie Curie</td>\n      <td>1867-11-07</td>\n      <td>1934-07-04</td>\n      <td>66</td>\n      <td>Chemist</td>\n    </tr>\n    <tr>\n      <th>6</th>\n      <td>Alan Turing</td>\n      <td>1912-06-23</td>\n      <td>1954-06-07</td>\n      <td>41</td>\n      <td>Computer Scientist</td>\n    </tr>\n    <tr>\n      <th>7</th>\n      <td>Johann Gauss</td>\n      <td>1777-04-30</td>\n      <td>1855-02-23</td>\n      <td>77</td>\n      <td>Mathematician</td>\n    </tr>\n  </tbody>\n</table>\n</div>"
     },
     "execution_count": 24,
     "metadata": {},
     "output_type": "execute_result"
    }
   ],
   "source": [
    "# 2. 手动传入布尔值, 获取内容.\n",
    "bool_list = [True, False, False, True, False, False, True, True]  # 个数要和df的数据条数保持一致.\n",
    "df[bool_list]   # 即: 获取索引为 0, 3, 6, 7的数据"
   ],
   "metadata": {
    "collapsed": false,
    "ExecuteTime": {
     "end_time": "2024-07-21T08:42:09.461787Z",
     "start_time": "2024-07-21T08:42:09.447255Z"
    }
   },
   "id": "d517b2ffe1ce1c7b"
  },
  {
   "cell_type": "code",
   "execution_count": 25,
   "outputs": [
    {
     "data": {
      "text/plain": "0    37\n1    61\n2    90\n3    66\n4    56\n5    45\n6    41\n7    77\nName: Age, dtype: int64"
     },
     "execution_count": 25,
     "metadata": {},
     "output_type": "execute_result"
    }
   ],
   "source": [
    "# 3. 根据条件传入布尔值, 筛选数据. \n",
    "# 需求: 筛选出 年龄 大于 平均年龄的科学家. \n",
    "# 3.1 获取年龄列的数据.\n",
    "# ages_series = df.Age\n",
    "ages_series = df['Age']     # 区分大小写.\n",
    "ages_series"
   ],
   "metadata": {
    "collapsed": false,
    "ExecuteTime": {
     "end_time": "2024-07-21T08:42:09.477236Z",
     "start_time": "2024-07-21T08:42:09.462811Z"
    }
   },
   "id": "cee5fe0a8852af6f"
  },
  {
   "cell_type": "code",
   "execution_count": 26,
   "outputs": [
    {
     "data": {
      "text/plain": "59.125"
     },
     "execution_count": 26,
     "metadata": {},
     "output_type": "execute_result"
    }
   ],
   "source": [
    "# 3.2 计算平均年龄\n",
    "avg_age = ages_series.mean()\n",
    "avg_age"
   ],
   "metadata": {
    "collapsed": false,
    "ExecuteTime": {
     "end_time": "2024-07-21T08:42:09.492760Z",
     "start_time": "2024-07-21T08:42:09.478461Z"
    }
   },
   "id": "198ef1649ea29796"
  },
  {
   "cell_type": "code",
   "execution_count": 27,
   "outputs": [
    {
     "data": {
      "text/plain": "0    False\n1     True\n2     True\n3     True\n4    False\n5    False\n6    False\n7     True\nName: Age, dtype: bool"
     },
     "execution_count": 27,
     "metadata": {},
     "output_type": "execute_result"
    }
   ],
   "source": [
    "# 3.3 判断当前年龄 是否大于 平均年龄, 生成: 布尔列表. \n",
    "ages_series > avg_age"
   ],
   "metadata": {
    "collapsed": false,
    "ExecuteTime": {
     "end_time": "2024-07-21T08:42:09.508390Z",
     "start_time": "2024-07-21T08:42:09.493778Z"
    }
   },
   "id": "63ab2370778ef9e9"
  },
  {
   "cell_type": "code",
   "execution_count": 28,
   "outputs": [
    {
     "data": {
      "text/plain": "1    61\n2    90\n3    66\n7    77\nName: Age, dtype: int64"
     },
     "execution_count": 28,
     "metadata": {},
     "output_type": "execute_result"
    }
   ],
   "source": [
    "# 3.4 获取 当前年龄 大于平均年龄的数据. \n",
    "ages_series[ages_series > avg_age]      "
   ],
   "metadata": {
    "collapsed": false,
    "ExecuteTime": {
     "end_time": "2024-07-21T08:42:09.523993Z",
     "start_time": "2024-07-21T08:42:09.509403Z"
    }
   },
   "id": "c1573f821d8f6c35"
  },
  {
   "cell_type": "code",
   "execution_count": 29,
   "outputs": [
    {
     "data": {
      "text/plain": "1    61\n2    90\n3    66\n7    77\nName: Age, dtype: int64"
     },
     "execution_count": 29,
     "metadata": {},
     "output_type": "execute_result"
    }
   ],
   "source": [
    "# 3.5 上述格式简化版, 一行写完. \n",
    "# 参考: ages_series[ages_series > avg_age]   \n",
    "# df['Age'][df['Age'] > df['Age'].mean()]   # 只获取符合条件的年龄, 即: Series数据\n",
    "df.Age[df.Age > df.Age.mean()]   # 只获取符合条件的年龄, 即: Series数据\n",
    "\n",
    "# df[df['Age'] > df['Age'].mean()]            # 扩展, 去df中筛选符合条件的数据, 结果还是: df对象\n",
    "# df[df.Age > df.Age.mean()]            # 扩展, 去df中筛选符合条件的数据, 结果还是: df对象"
   ],
   "metadata": {
    "collapsed": false,
    "ExecuteTime": {
     "end_time": "2024-07-21T08:42:09.539831Z",
     "start_time": "2024-07-21T08:42:09.524993Z"
    }
   },
   "id": "a9d15bcaac34f45d"
  },
  {
   "cell_type": "markdown",
   "source": [
    "# 7. Series的计算"
   ],
   "metadata": {
    "collapsed": false
   },
   "id": "e016dd96edebd606"
  },
  {
   "cell_type": "markdown",
   "source": [
    "## 7.1 Series和数值运算, 数值会和Series的每个值进行运算."
   ],
   "metadata": {
    "collapsed": false
   },
   "id": "f737e6232c22098d"
  },
  {
   "cell_type": "code",
   "execution_count": 30,
   "outputs": [
    {
     "data": {
      "text/plain": "0     74\n1    122\n2    180\n3    132\n4    112\n5     90\n6     82\n7    154\nName: Age, dtype: int64"
     },
     "execution_count": 30,
     "metadata": {},
     "output_type": "execute_result"
    }
   ],
   "source": [
    " ages_series + 10\n",
    "ages_series * 2"
   ],
   "metadata": {
    "collapsed": false,
    "ExecuteTime": {
     "end_time": "2024-07-21T08:42:09.555052Z",
     "start_time": "2024-07-21T08:42:09.540836Z"
    }
   },
   "id": "d13be50acc650d66"
  },
  {
   "cell_type": "markdown",
   "source": [
    "## 7.2 两个Series之间计算, 如果长度一致, 会按照对应的元素进行逐个计算"
   ],
   "metadata": {
    "collapsed": false
   },
   "id": "d28d48d2859dede3"
  },
  {
   "cell_type": "code",
   "execution_count": 31,
   "outputs": [
    {
     "data": {
      "text/plain": "0     74\n1    122\n2    180\n3    132\n4    112\n5     90\n6     82\n7    154\nName: Age, dtype: int64"
     },
     "execution_count": 31,
     "metadata": {},
     "output_type": "execute_result"
    }
   ],
   "source": [
    "ages_series + ages_series"
   ],
   "metadata": {
    "collapsed": false,
    "ExecuteTime": {
     "end_time": "2024-07-21T08:42:09.570958Z",
     "start_time": "2024-07-21T08:42:09.556619Z"
    }
   },
   "id": "4ade7be83322691c"
  },
  {
   "cell_type": "markdown",
   "source": [
    "## 7.3 两个Series之间计算, 如果长度不一致, 则对应元素计算, 不匹配的元素用NaN填充"
   ],
   "metadata": {
    "collapsed": false
   },
   "id": "d642d14ac83fe067"
  },
  {
   "cell_type": "code",
   "execution_count": 32,
   "outputs": [
    {
     "data": {
      "text/plain": "0    38.0\n1    71.0\n2     NaN\n3     NaN\n4     NaN\n5     NaN\n6     NaN\n7     NaN\ndtype: float64"
     },
     "execution_count": 32,
     "metadata": {},
     "output_type": "execute_result"
    }
   ],
   "source": [
    "ages_series + pd.Series([1, 10])"
   ],
   "metadata": {
    "collapsed": false,
    "ExecuteTime": {
     "end_time": "2024-07-21T08:42:09.586375Z",
     "start_time": "2024-07-21T08:42:09.572117Z"
    }
   },
   "id": "e3ad7b8e4f5f7f65"
  },
  {
   "cell_type": "markdown",
   "source": [
    "## 7.4 Series之间进行计算, 会尽可能依据 索引来计算, 即: 优先计算索引一样的数据. "
   ],
   "metadata": {
    "collapsed": false
   },
   "id": "35e40ba7682a5fed"
  },
  {
   "cell_type": "code",
   "execution_count": 33,
   "outputs": [
    {
     "data": {
      "text/plain": "2    90\n7    77\n3    66\n1    61\n4    56\n5    45\n6    41\n0    37\nName: Age, dtype: int64"
     },
     "execution_count": 33,
     "metadata": {},
     "output_type": "execute_result"
    }
   ],
   "source": [
    "# 1. 对 源数据(ages_series), 按照 年龄 降序排列, 获取新的Series对象.\n",
    "rev_series = ages_series.sort_values(ascending=False)\n",
    "rev_series"
   ],
   "metadata": {
    "collapsed": false,
    "ExecuteTime": {
     "end_time": "2024-07-21T08:42:09.601756Z",
     "start_time": "2024-07-21T08:42:09.587488Z"
    }
   },
   "id": "d2d8813493079c0b"
  },
  {
   "cell_type": "code",
   "execution_count": 34,
   "outputs": [
    {
     "data": {
      "text/plain": "0    37\n1    61\n2    90\n3    66\n4    56\n5    45\n6    41\n7    77\nName: Age, dtype: int64"
     },
     "execution_count": 34,
     "metadata": {},
     "output_type": "execute_result"
    }
   ],
   "source": [
    "# 2. 查看原始Series对象\n",
    "ages_series"
   ],
   "metadata": {
    "collapsed": false,
    "ExecuteTime": {
     "end_time": "2024-07-21T08:42:09.617389Z",
     "start_time": "2024-07-21T08:42:09.602805Z"
    }
   },
   "id": "3ed6c5c9070ff7d3"
  },
  {
   "cell_type": "code",
   "execution_count": 35,
   "outputs": [
    {
     "data": {
      "text/plain": "0     74\n1    122\n2    180\n3    132\n4    112\n5     90\n6     82\n7    154\nName: Age, dtype: int64"
     },
     "execution_count": 35,
     "metadata": {},
     "output_type": "execute_result"
    }
   ],
   "source": [
    "# 3. 具体的计算过程\n",
    "ages_series + rev_series"
   ],
   "metadata": {
    "collapsed": false,
    "ExecuteTime": {
     "end_time": "2024-07-21T08:42:09.632740Z",
     "start_time": "2024-07-21T08:42:09.618453Z"
    }
   },
   "id": "a4c23cc859720fed"
  }
 ],
 "metadata": {
  "kernelspec": {
   "display_name": "Python 3",
   "language": "python",
   "name": "python3"
  },
  "language_info": {
   "codemirror_mode": {
    "name": "ipython",
    "version": 2
   },
   "file_extension": ".py",
   "mimetype": "text/x-python",
   "name": "python",
   "nbconvert_exporter": "python",
   "pygments_lexer": "ipython2",
   "version": "2.7.6"
  }
 },
 "nbformat": 4,
 "nbformat_minor": 5
}
