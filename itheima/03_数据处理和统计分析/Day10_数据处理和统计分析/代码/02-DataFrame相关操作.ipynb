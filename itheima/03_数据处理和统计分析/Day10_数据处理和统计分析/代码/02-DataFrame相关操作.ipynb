{
 "cells": [
  {
   "cell_type": "code",
   "execution_count": null,
   "id": "initial_id",
   "metadata": {
    "collapsed": true
   },
   "outputs": [],
   "source": [
    "# 导包\n",
    "import numpy as np\n",
    "import pandas as pd"
   ]
  },
  {
   "cell_type": "markdown",
   "source": [
    "# 1. DataFrame的常用属性"
   ],
   "metadata": {
    "collapsed": false
   },
   "id": "35bac00ec589d39e"
  },
  {
   "cell_type": "code",
   "execution_count": null,
   "outputs": [],
   "source": [
    "# 1. 加载数据源, 获取 df 对象.\n",
    "df = pd.read_csv('data/scientists.csv')\n",
    "df"
   ],
   "metadata": {
    "collapsed": false
   },
   "id": "591b965115a93aa8"
  },
  {
   "cell_type": "code",
   "execution_count": null,
   "outputs": [],
   "source": [
    "# 2. 演示df对象的常用属性.\n",
    "print(df.ndim)  # 轴(几位数组, 轴就是几),  2\n",
    "print(df.shape)  # 维度(几行几列), (8, 5)\n",
    "print(df.size)  # 40, 行数 * 列表, 包括 NaN值. \n",
    "print(df.index)  # 获取df对象的 索引列(的值), RangeIndex(start=0, stop=8, step=1)\n",
    "print(df.columns)  # 获取df对象的 列名, Index(['Name', 'Born', 'Died', 'Age', 'Occupation'], dtype='object')\n",
    "print(df.values)  # 获取df对象的 列值."
   ],
   "metadata": {
    "collapsed": false
   },
   "id": "c43439f5cbcc11a6"
  },
  {
   "cell_type": "markdown",
   "source": [
    "# 2.DataFrame对象的常用函数"
   ],
   "metadata": {
    "collapsed": false
   },
   "id": "4dad7101ac57fdfa"
  },
  {
   "cell_type": "code",
   "execution_count": null,
   "outputs": [],
   "source": [
    "print(len(df))  # 8, 行数\n",
    "df.head()  # 默认获取前5行. \n",
    "df.head(n=3)  # 获取前3行 \n",
    "df.tail()  # 默认获取后5行. \n",
    "df.tail(n=2)  # 获取后2行 \n",
    "df.keys()  # 获取所有的列名, 等价于: df.columns\n",
    "df.info()  # 查看df对象各列的基本信息.\n",
    "df.describe()  # 查看df对象的统计信息, 只能看到 数值类型的统计信息. \n",
    "df.describe(exclude=['int', 'float'])  # 查看df对象的统计信息, 除了整型, 浮点型外所有的统计信息. \n",
    "df.describe(include='all')  # 查看df对象的统计信息, 所有类型都看. \n",
    "df.mean()  # 各列的平均值.\n",
    "df.max()  # 各列的最大值.\n",
    "df.count()  # 统计各列的 非空值."
   ],
   "metadata": {
    "collapsed": false
   },
   "id": "8c9db7c3248adb17"
  },
  {
   "cell_type": "markdown",
   "source": [
    "# 3. DataFrame对象的布尔索引操作"
   ],
   "metadata": {
    "collapsed": false
   },
   "id": "1bb414f572d3708a"
  },
  {
   "cell_type": "code",
   "execution_count": null,
   "outputs": [],
   "source": [
    "# 需求: 查找 movie.csv文件中, 电影时长 > 平均时长的 电影信息.\n",
    "# 1. 读取数据源文件, 获取 df对象\n",
    "movie_df = pd.read_csv('data/movie.csv')\n",
    "movie_df.head()"
   ],
   "metadata": {
    "collapsed": false
   },
   "id": "be5ac7ff31791fa9"
  },
  {
   "cell_type": "code",
   "execution_count": null,
   "outputs": [],
   "source": [
    "# 2. 获取符合条件的数据, 即: 电影时长 > 平均时长的. \n",
    "movie_df[movie_df.duration > movie_df.duration.mean()]"
   ],
   "metadata": {
    "collapsed": false
   },
   "id": "95a7941ce1977685"
  },
  {
   "cell_type": "code",
   "execution_count": null,
   "outputs": [],
   "source": [
    "# 3. df对象, 也支持 手动传参的方式, 直接传入布尔值.\n",
    "movie_df.head()[[True, False, True, True, False]]"
   ],
   "metadata": {
    "collapsed": false
   },
   "id": "8aafa181d961952b"
  },
  {
   "cell_type": "markdown",
   "source": [
    "# 4.DataFrame对象的计算"
   ],
   "metadata": {
    "collapsed": false
   },
   "id": "8117819052b7b47"
  },
  {
   "cell_type": "code",
   "execution_count": null,
   "outputs": [],
   "source": [
    "# 1. DataFrame对象和数值运算, 就是把该数值作用到 每个DataFrame身上. \n",
    "df * 2"
   ],
   "metadata": {
    "collapsed": false
   },
   "id": "e558fb524b5c4fa8"
  },
  {
   "cell_type": "code",
   "execution_count": null,
   "outputs": [],
   "source": [
    "# 2. df 和 df运算, 则对应元素直接运算即可.\n",
    "df + df"
   ],
   "metadata": {
    "collapsed": false
   },
   "id": "cdf7cfecbf33219f"
  },
  {
   "cell_type": "code",
   "execution_count": null,
   "outputs": [],
   "source": [
    "# 3. df 和 df运算, 如果索引不匹配, 则用NaN填充, 索引匹配的直接计算\n",
    "df + df[:4]"
   ],
   "metadata": {
    "collapsed": false
   },
   "id": "6d17253a62132658"
  },
  {
   "cell_type": "markdown",
   "source": [
    "# 5. 更改Series和DataFrame对象的 行索引, 列名"
   ],
   "metadata": {
    "collapsed": false
   },
   "id": "71a34ddfa795ae50"
  },
  {
   "cell_type": "markdown",
   "source": [
    "## 5.1 读取文件后, 设置行索引"
   ],
   "metadata": {
    "collapsed": false
   },
   "id": "1b0ea40d844214d5"
  },
  {
   "cell_type": "code",
   "execution_count": null,
   "outputs": [],
   "source": [
    "# 1. 读取数据源文件, 获取 df对象\n",
    "movie = pd.read_csv('data/movie.csv')\n",
    "movie.head()"
   ],
   "metadata": {
    "collapsed": false
   },
   "id": "4e6cb6e117e5797c"
  },
  {
   "cell_type": "code",
   "execution_count": null,
   "outputs": [],
   "source": [
    "# 2. 设置 movie_tiltle(电影名) 为 行索引\n",
    "# 在Pandas中, 90%以上的函数, 都是在源数据拷贝一份进行修改, 并返回副本. 而这类函数都有一个特点, 即: 有 inplace参数. \n",
    "# 默认 inplace=False, 即: 返回副本, 不修改源数据.   如果inplace=True, 则是直接修改 源数据.\n",
    "# new_movie = movie.set_index('movie_title')\n",
    "# new_movie.head()\n",
    "\n",
    "movie.set_index('movie_title', inplace=True)"
   ],
   "metadata": {
    "collapsed": false
   },
   "id": "39d314d966345b26"
  },
  {
   "cell_type": "code",
   "execution_count": null,
   "outputs": [],
   "source": [
    "# 3. 查看设置后的 movie这个df对象.\n",
    "movie.head()"
   ],
   "metadata": {
    "collapsed": false
   },
   "id": "967cf0af019fecac"
  },
  {
   "cell_type": "markdown",
   "source": [
    "## 5.2 读取文件时, 设置行索引"
   ],
   "metadata": {
    "collapsed": false
   },
   "id": "b81befc2c63d47d3"
  },
  {
   "cell_type": "code",
   "execution_count": null,
   "outputs": [],
   "source": [
    "# 1. 读取数据源文件, 获取 df对象, 指定 电影名为 行索引\n",
    "movie2 = pd.read_csv('data/movie.csv', index_col='movie_title')\n",
    "movie2.head()"
   ],
   "metadata": {
    "collapsed": false
   },
   "id": "32a6d15ceb47f42f"
  },
  {
   "cell_type": "markdown",
   "source": [
    "## 5.3 取消设置的行索引, 归为: 系统自动提供的 0 ~ n"
   ],
   "metadata": {
    "collapsed": false
   },
   "id": "319c01a1523956b9"
  },
  {
   "cell_type": "code",
   "execution_count": null,
   "outputs": [],
   "source": [
    "movie2.reset_index(inplace=True)  # 取消设置的 行索引\n",
    "movie2.head()"
   ],
   "metadata": {
    "collapsed": false
   },
   "id": "4b33f80657e24fd3"
  },
  {
   "cell_type": "markdown",
   "source": [
    "# 5.4 修改DataFrame对象的 行索引 和 列名"
   ],
   "metadata": {
    "collapsed": false
   },
   "id": "52f30a1ae36cc65"
  },
  {
   "cell_type": "code",
   "execution_count": null,
   "outputs": [],
   "source": [
    "# 1. 读取数据源文件, 获取 df对象, 指定 电影名为 行索引\n",
    "movie = pd.read_csv('data/movie.csv', index_col='movie_title')\n",
    "movie.head()"
   ],
   "metadata": {
    "collapsed": false
   },
   "id": "3d9dae790861fb80"
  },
  {
   "cell_type": "markdown",
   "source": [
    "### 5.4.1 思路1: rename()函数直接修改"
   ],
   "metadata": {
    "collapsed": false
   },
   "id": "26dc11d91fbbfa2"
  },
  {
   "cell_type": "code",
   "execution_count": null,
   "outputs": [],
   "source": [
    "# 2. 获取 前5个列名, 方便稍后修改.\n",
    "# ['Avatar', 'Pirates of the Caribbean: At World's End', 'Spectre', 'The Dark Knight Rises', 'Star Wars: Episode VII - The Force Awakens']\n",
    "movie.index[:5]\n",
    "\n",
    "# 3. 获取 前5个行索引值, 方便稍后修改.\n",
    "movie.columns[:5]  # ['color', 'director_name', 'num_critic_for_reviews', 'duration', 'director_facebook_likes']\n",
    "\n",
    "# 4. 具体的修改 列名 和 行索引的动作.\n",
    "idx_name = {'Avatar': '阿凡达', \"Pirates of the Caribbean: At World's End\": '加勒比海盗: 直到世界尽头'}\n",
    "col_name = {'color': '颜色', 'director_name': '导演名'}\n",
    "\n",
    "movie.rename(index=idx_name, columns=col_name, inplace=True)\n",
    "\n",
    "# 5. 查看修改后的数据\n",
    "movie.head()"
   ],
   "metadata": {
    "collapsed": false
   },
   "id": "319b096a0ceab7bb"
  },
  {
   "cell_type": "markdown",
   "source": [
    "### 5.4.2 思路2: 将 index 和 column属性提取出来, 修改之后, 再放回去. "
   ],
   "metadata": {
    "collapsed": false
   },
   "id": "6d726d94f21e6edf"
  },
  {
   "cell_type": "code",
   "execution_count": null,
   "outputs": [],
   "source": [
    "# 1. 从 df中获取 行索引 和 列名的信息, 并转成列表.\n",
    "idx_list = movie.index.tolist()  # 行索引信息, ['Avatar', \"Pirates of the Caribbean: At World's End\", 'Spectre', ...]       \n",
    "col_list = movie.columns.tolist()  # 列名, ['color', 'director_name', 'num_critic_for_reviews', ...]\n",
    "\n",
    "# 2. 修改上述的 列表(即: 行索引, 列名)信息.\n",
    "idx_list[0] = '阿凡达'\n",
    "idx_list[2] = '007幽灵'\n",
    "\n",
    "col_list[0] = '颜色'\n",
    "col_list[1] = '导演名'\n",
    "\n",
    "# 3. 把上述修改后的内容, 当做新的 行索引 和 列名. \n",
    "movie.index = idx_list\n",
    "movie.columns = col_list\n",
    "\n",
    "# 4. 查看结果.\n",
    "movie.head()"
   ],
   "metadata": {
    "collapsed": false
   },
   "id": "2dad8200a1fc70a3"
  },
  {
   "cell_type": "markdown",
   "source": [
    "# 5.5 添加, 删除, 插入列 "
   ],
   "metadata": {
    "collapsed": false
   },
   "id": "70d3be4833b673ac"
  },
  {
   "cell_type": "code",
   "execution_count": null,
   "outputs": [],
   "source": [
    "# 1. 添加列, 格式为: df['列名'] = 列值\n",
    "# 新增1列, has_seen = 0, 表示是否看过这个电影. 0: 没看过, 1:看过\n",
    "movie['has_seen'] = 0\n",
    "\n",
    "# 新增1列, 总点赞量 = 导演 + 演员的 脸书点赞量\n",
    "movie['director_actor_facebook_likes'] = movie['director_facebook_likes'] + movie['actor_3_facebook_likes'] + movie[\n",
    "    'actor_2_facebook_likes'] + movie['actor_1_facebook_likes']\n",
    "\n",
    "# 2. 查看结果.\n",
    "movie.head()"
   ],
   "metadata": {
    "collapsed": false
   },
   "id": "983857e79b4f4ebe"
  },
  {
   "cell_type": "code",
   "execution_count": null,
   "outputs": [],
   "source": [
    "# 需求: 删除 has_seen 列的内容.\n",
    "# movie.drop('has_seen')      # 报错, 因为没有指定删除方式, 按行删除, 还是按列删.\n",
    "# movie.drop('has_seen', axis='columns')\n",
    "\n",
    "# movie.drop('director_actor_facebook_likes', axis=1)     # 0: rows, 行,  1: columns:列\n",
    "\n",
    "# movie.drop('Avatar', axis='rows')\n",
    "movie.drop('Avatar', axis=0)"
   ],
   "metadata": {
    "collapsed": false
   },
   "id": "2d7ca5a06c3a608f"
  },
  {
   "cell_type": "code",
   "execution_count": null,
   "outputs": [],
   "source": [
    "# 需求: 插入列, 在索引1的位置插入 profit 列, 它的值 = gross - budget, 即: 总盈利 = 总收入 - 总预算.\n",
    "# insert()函数 不是返回副本, 而是在 源数据上直接修改. \n",
    "movie.insert(loc=1, column='profit', value=movie['gross'] - movie.budget)\n",
    "movie.head()"
   ],
   "metadata": {
    "collapsed": false
   },
   "id": "35995bc1f155f2a5"
  },
  {
   "cell_type": "markdown",
   "source": [
    "# 6. 导入和导出数据"
   ],
   "metadata": {
    "collapsed": false
   },
   "id": "89ffbc23108e8d7f"
  },
  {
   "cell_type": "markdown",
   "source": [
    "## 6.1 导出数据"
   ],
   "metadata": {
    "collapsed": false
   },
   "id": "4dfe108e51cfde02"
  },
  {
   "cell_type": "code",
   "execution_count": 111,
   "outputs": [
    {
     "data": {
      "text/plain": "                   Name        Born        Died  Age          Occupation\n0     Rosaline Franklin  1920-07-25  1958-04-16   37             Chemist\n1        William Gosset  1876-06-13  1937-10-16   61        Statistician\n2  Florence Nightingale  1820-05-12  1910-08-13   90               Nurse\n3           Marie Curie  1867-11-07  1934-07-04   66             Chemist\n4         Rachel Carson  1907-05-27  1964-04-14   56           Biologist\n5             John Snow  1813-03-15  1858-06-16   45           Physician\n6           Alan Turing  1912-06-23  1954-06-07   41  Computer Scientist\n7          Johann Gauss  1777-04-30  1855-02-23   77       Mathematician",
      "text/html": "<div>\n<style scoped>\n    .dataframe tbody tr th:only-of-type {\n        vertical-align: middle;\n    }\n\n    .dataframe tbody tr th {\n        vertical-align: top;\n    }\n\n    .dataframe thead th {\n        text-align: right;\n    }\n</style>\n<table border=\"1\" class=\"dataframe\">\n  <thead>\n    <tr style=\"text-align: right;\">\n      <th></th>\n      <th>Name</th>\n      <th>Born</th>\n      <th>Died</th>\n      <th>Age</th>\n      <th>Occupation</th>\n    </tr>\n  </thead>\n  <tbody>\n    <tr>\n      <th>0</th>\n      <td>Rosaline Franklin</td>\n      <td>1920-07-25</td>\n      <td>1958-04-16</td>\n      <td>37</td>\n      <td>Chemist</td>\n    </tr>\n    <tr>\n      <th>1</th>\n      <td>William Gosset</td>\n      <td>1876-06-13</td>\n      <td>1937-10-16</td>\n      <td>61</td>\n      <td>Statistician</td>\n    </tr>\n    <tr>\n      <th>2</th>\n      <td>Florence Nightingale</td>\n      <td>1820-05-12</td>\n      <td>1910-08-13</td>\n      <td>90</td>\n      <td>Nurse</td>\n    </tr>\n    <tr>\n      <th>3</th>\n      <td>Marie Curie</td>\n      <td>1867-11-07</td>\n      <td>1934-07-04</td>\n      <td>66</td>\n      <td>Chemist</td>\n    </tr>\n    <tr>\n      <th>4</th>\n      <td>Rachel Carson</td>\n      <td>1907-05-27</td>\n      <td>1964-04-14</td>\n      <td>56</td>\n      <td>Biologist</td>\n    </tr>\n    <tr>\n      <th>5</th>\n      <td>John Snow</td>\n      <td>1813-03-15</td>\n      <td>1858-06-16</td>\n      <td>45</td>\n      <td>Physician</td>\n    </tr>\n    <tr>\n      <th>6</th>\n      <td>Alan Turing</td>\n      <td>1912-06-23</td>\n      <td>1954-06-07</td>\n      <td>41</td>\n      <td>Computer Scientist</td>\n    </tr>\n    <tr>\n      <th>7</th>\n      <td>Johann Gauss</td>\n      <td>1777-04-30</td>\n      <td>1855-02-23</td>\n      <td>77</td>\n      <td>Mathematician</td>\n    </tr>\n  </tbody>\n</table>\n</div>"
     },
     "execution_count": 111,
     "metadata": {},
     "output_type": "execute_result"
    }
   ],
   "source": [
    "# 需求: 导出数据到 /root/output/...\n",
    "# 细节: 要导出到的目的地目录, 必须存在, 即:  output目录必须存在.\n",
    "# 格式:  df.to_后缀名(路径)\n",
    "# 1. 准备原始df对象.\n",
    "df = pd.read_csv('data/scientists.csv')\n",
    "df"
   ],
   "metadata": {
    "collapsed": false,
    "ExecuteTime": {
     "end_time": "2024-07-20T09:46:29.998777Z",
     "start_time": "2024-07-20T09:46:29.973976300Z"
    }
   },
   "id": "315201bf8065ef35"
  },
  {
   "cell_type": "code",
   "execution_count": 117,
   "outputs": [
    {
     "data": {
      "text/plain": "                   Name        Born        Died  Age     Occupation\n1        William Gosset  1876-06-13  1937-10-16   61   Statistician\n2  Florence Nightingale  1820-05-12  1910-08-13   90          Nurse\n3           Marie Curie  1867-11-07  1934-07-04   66        Chemist\n7          Johann Gauss  1777-04-30  1855-02-23   77  Mathematician",
      "text/html": "<div>\n<style scoped>\n    .dataframe tbody tr th:only-of-type {\n        vertical-align: middle;\n    }\n\n    .dataframe tbody tr th {\n        vertical-align: top;\n    }\n\n    .dataframe thead th {\n        text-align: right;\n    }\n</style>\n<table border=\"1\" class=\"dataframe\">\n  <thead>\n    <tr style=\"text-align: right;\">\n      <th></th>\n      <th>Name</th>\n      <th>Born</th>\n      <th>Died</th>\n      <th>Age</th>\n      <th>Occupation</th>\n    </tr>\n  </thead>\n  <tbody>\n    <tr>\n      <th>1</th>\n      <td>William Gosset</td>\n      <td>1876-06-13</td>\n      <td>1937-10-16</td>\n      <td>61</td>\n      <td>Statistician</td>\n    </tr>\n    <tr>\n      <th>2</th>\n      <td>Florence Nightingale</td>\n      <td>1820-05-12</td>\n      <td>1910-08-13</td>\n      <td>90</td>\n      <td>Nurse</td>\n    </tr>\n    <tr>\n      <th>3</th>\n      <td>Marie Curie</td>\n      <td>1867-11-07</td>\n      <td>1934-07-04</td>\n      <td>66</td>\n      <td>Chemist</td>\n    </tr>\n    <tr>\n      <th>7</th>\n      <td>Johann Gauss</td>\n      <td>1777-04-30</td>\n      <td>1855-02-23</td>\n      <td>77</td>\n      <td>Mathematician</td>\n    </tr>\n  </tbody>\n</table>\n</div>"
     },
     "execution_count": 117,
     "metadata": {},
     "output_type": "execute_result"
    }
   ],
   "source": [
    "# 2. 对上述的df做操作, 模拟: 实际开发中, 对df对象做处理. \n",
    "# 需求: 筛选出 年龄 大于 平均年龄的数据.\n",
    "new_df = df[df.Age > df.Age.mean()]\n",
    "new_df "
   ],
   "metadata": {
    "collapsed": false,
    "ExecuteTime": {
     "end_time": "2024-07-20T09:55:17.912198700Z",
     "start_time": "2024-07-20T09:55:17.905750500Z"
    }
   },
   "id": "83ea36d76507a877"
  },
  {
   "cell_type": "code",
   "execution_count": 122,
   "outputs": [
    {
     "name": "stdout",
     "output_type": "stream",
     "text": [
      "导出成功!\n"
     ]
    }
   ],
   "source": [
    "# 3. 把上述的df对象, 写出到目的地中. \n",
    "# pickle: 比较适合 存储中间的df数据, 即: 后续要频繁使用的df对象, 可以存储下来. \n",
    "# new_df.to_pickle('output/scientists_pickle.pkl')      # pickle文件的后缀名可以是: .p, .pkl, .pickle\n",
    "\n",
    "# excel, csv等文件, 适合于: 存储最终结果. \n",
    "# 注意: 有三个包需要安装一下, 如果你读写excel文件, 但如果你用的是Anaconda, 已经有了, 无需安装.\n",
    "# new_df.to_excel('output/scientists.xls')                                 # 会把索引列也当做数据, 写出. \n",
    "# new_df.to_excel('output/scientists_noindex.xls', index=False, sheet_name='ai20')   # 不导出索引列, 且设置表名. \n",
    "\n",
    "# csv(用逗号隔开), tsv(用\\t隔开), 适用于 数据共享, 整合等操作. \n",
    "# new_df.to_csv('output/scientists.csv')                        # 会把索引列也当做数据, 写出. \n",
    "# new_df.to_csv('output/scientists_noindex.csv', index=False)     # 不导出索引列\n",
    "\n",
    "# 如果每行数据的 各列值之间用逗号隔开是 csv, 用\\t隔开是 tsv\n",
    "new_df.to_csv('output/scientists_noindex.tsv', index=False, sep='\\t')     # 不导出索引列\n",
    "\n",
    "print('导出成功!')"
   ],
   "metadata": {
    "collapsed": false,
    "ExecuteTime": {
     "end_time": "2024-07-20T10:01:10.981240800Z",
     "start_time": "2024-07-20T10:01:10.946520400Z"
    }
   },
   "id": "8dfc38abbbeb38c3"
  },
  {
   "cell_type": "code",
   "execution_count": 132,
   "outputs": [
    {
     "data": {
      "text/plain": "                   Name        Born        Died  Age     Occupation\n0        William Gosset  1876-06-13  1937-10-16   61   Statistician\n1  Florence Nightingale  1820-05-12  1910-08-13   90          Nurse\n2           Marie Curie  1867-11-07  1934-07-04   66        Chemist\n3          Johann Gauss  1777-04-30  1855-02-23   77  Mathematician",
      "text/html": "<div>\n<style scoped>\n    .dataframe tbody tr th:only-of-type {\n        vertical-align: middle;\n    }\n\n    .dataframe tbody tr th {\n        vertical-align: top;\n    }\n\n    .dataframe thead th {\n        text-align: right;\n    }\n</style>\n<table border=\"1\" class=\"dataframe\">\n  <thead>\n    <tr style=\"text-align: right;\">\n      <th></th>\n      <th>Name</th>\n      <th>Born</th>\n      <th>Died</th>\n      <th>Age</th>\n      <th>Occupation</th>\n    </tr>\n  </thead>\n  <tbody>\n    <tr>\n      <th>0</th>\n      <td>William Gosset</td>\n      <td>1876-06-13</td>\n      <td>1937-10-16</td>\n      <td>61</td>\n      <td>Statistician</td>\n    </tr>\n    <tr>\n      <th>1</th>\n      <td>Florence Nightingale</td>\n      <td>1820-05-12</td>\n      <td>1910-08-13</td>\n      <td>90</td>\n      <td>Nurse</td>\n    </tr>\n    <tr>\n      <th>2</th>\n      <td>Marie Curie</td>\n      <td>1867-11-07</td>\n      <td>1934-07-04</td>\n      <td>66</td>\n      <td>Chemist</td>\n    </tr>\n    <tr>\n      <th>3</th>\n      <td>Johann Gauss</td>\n      <td>1777-04-30</td>\n      <td>1855-02-23</td>\n      <td>77</td>\n      <td>Mathematician</td>\n    </tr>\n  </tbody>\n</table>\n</div>"
     },
     "execution_count": 132,
     "metadata": {},
     "output_type": "execute_result"
    }
   ],
   "source": [
    "# 演示导入\n",
    "\n",
    "# pickle文件\n",
    "# pd.read_pickle('output/scientists_pickle.pkl') \n",
    "\n",
    "# excel文件\n",
    "# pd.read_excel('output/scientists.xls')              # 多一列\n",
    "# pd.read_excel('output/scientists_noindex.xls')      # 正常\n",
    "\n",
    "# csv文件\n",
    "# pd.read_csv('output/scientists.csv')                  # 多一列\n",
    "# pd.read_csv('output/scientists_noindex.csv')          # 正常\n",
    "\n",
    "pd.read_csv('output/scientists_noindex.tsv', sep='\\t')  # 正常\n"
   ],
   "metadata": {
    "collapsed": false,
    "ExecuteTime": {
     "end_time": "2024-07-20T10:10:00.037621800Z",
     "start_time": "2024-07-20T10:10:00.034148800Z"
    }
   },
   "id": "bcb90599febcb187"
  }
 ],
 "metadata": {
  "kernelspec": {
   "display_name": "Python 3",
   "language": "python",
   "name": "python3"
  },
  "language_info": {
   "codemirror_mode": {
    "name": "ipython",
    "version": 2
   },
   "file_extension": ".py",
   "mimetype": "text/x-python",
   "name": "python",
   "nbconvert_exporter": "python",
   "pygments_lexer": "ipython2",
   "version": "2.7.6"
  }
 },
 "nbformat": 4,
 "nbformat_minor": 5
}
