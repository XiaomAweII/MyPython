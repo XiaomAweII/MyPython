{
 "cells": [
  {
   "cell_type": "markdown",
   "source": [
    "# 导包"
   ],
   "metadata": {
    "collapsed": false
   },
   "id": "dc23270b81344b7"
  },
  {
   "cell_type": "code",
   "execution_count": 243,
   "outputs": [],
   "source": [
    "import numpy as np\n",
    "import pandas as pd\n",
    "import matplotlib.pyplot as plt         # Matplotlib包用于绘图的\n",
    "plt.rcParams['font.sans-serif'] = ['SimHei'] # 正常显示汉字\n",
    "plt.rcParams['axes.unicode_minus'] = False   # 正常显示负号"
   ],
   "metadata": {
    "collapsed": false,
    "ExecuteTime": {
     "end_time": "2024-07-22T06:17:51.175522100Z",
     "start_time": "2024-07-22T06:17:51.153697100Z"
    }
   },
   "id": "b513f22ab17ba0f2"
  },
  {
   "cell_type": "markdown",
   "source": [
    "# 1. 演示DataFrame加载指定行, 列的数据"
   ],
   "metadata": {
    "collapsed": false
   },
   "id": "7f04a12dec1c7fb1"
  },
  {
   "cell_type": "markdown",
   "source": [
    "## 1.1 演示df加载: 列"
   ],
   "metadata": {
    "collapsed": false
   },
   "id": "9b9ec0503563189e"
  },
  {
   "cell_type": "code",
   "execution_count": null,
   "outputs": [],
   "source": [
    "# 1. 读取数据源, 获取df对象.\n",
    "df = pd.read_csv('data/gapminder.tsv', sep='\\t')\n",
    "df.head()"
   ],
   "metadata": {
    "collapsed": false
   },
   "id": "df77f4718cfd7172"
  },
  {
   "cell_type": "code",
   "execution_count": null,
   "outputs": [],
   "source": [
    "# 2. 处理数据之前, 先简单的看下数据的结构. \n",
    "df.shape  # (1704, 6)\n",
    "df.dtypes  # 查看df对象, 各列的数据类型\n",
    "df.info()  # 查看各列的基础信息, (非空)总条数, 数据类型...\n",
    "df.describe()  # 查看各列的统计信息, 默认只看到 数值列(整数, 小数)的统计信息.\n",
    "df.describe(include='all')  # 查看所有列的统计信息\n",
    "df.describe(include=object)  # 查看 字符串列 的统计信息\n",
    "df.describe(include=['int', 'float'])  # 查看 数值列 的统计信息"
   ],
   "metadata": {
    "collapsed": false
   },
   "id": "5729595259ad5edc"
  },
  {
   "cell_type": "code",
   "execution_count": null,
   "outputs": [],
   "source": [
    "# 3. 加载指定的 1列数据. \n",
    "df['country']\n",
    "df.country"
   ],
   "metadata": {
    "collapsed": false
   },
   "id": "bd373ead704034e7"
  },
  {
   "cell_type": "code",
   "execution_count": null,
   "outputs": [],
   "source": [
    "# 4. 加载指定的多列数据.\n",
    "df[['country', 'year', 'gdpPercap']]  # 里边的 [] 可以看做是 列名的列表"
   ],
   "metadata": {
    "collapsed": false
   },
   "id": "270e4adf769edb5"
  },
  {
   "cell_type": "markdown",
   "source": [
    "## 1.2 演示df加载: 行"
   ],
   "metadata": {
    "collapsed": false
   },
   "id": "4acfb36780fdf388"
  },
  {
   "cell_type": "code",
   "execution_count": null,
   "outputs": [],
   "source": [
    "# 通过 行索引 获取指定的行.\n",
    "df.loc[0]  # 根据 行索引 获取数据\n",
    "df.iloc[0]  # 根据 行号   获取数据\n",
    "\n",
    "# tail()方式, 获取最后一行\n",
    "df.tail(n=1)  # n可以省略不写\n",
    "df.tail(1)\n",
    "\n",
    "# head()方式, 获取第1行\n",
    "df.head(1)"
   ],
   "metadata": {
    "collapsed": false
   },
   "id": "f8156a6f836c9647"
  },
  {
   "cell_type": "markdown",
   "source": [
    "## 1.3 演示df加载: 指定行, 列数据(重要)"
   ],
   "metadata": {
    "collapsed": false
   },
   "id": "e383f337ae880c48"
  },
  {
   "cell_type": "code",
   "execution_count": null,
   "outputs": [],
   "source": [
    "# 格式: df.loc[[行], [列]]          行索引 + 列名\n",
    "# 格式: df.iloc[[行], [列]]         行号 + 列的编号\n",
    "# 1. loc方式, 获取指定多行数据.\n",
    "df.loc[[0, 1, 2]]  # 获取 行索引 为0, 1, 2的 数据\n",
    "# 2. iloc方式, 获取指定多行数据.\n",
    "df.iloc[[0, 99, 999]]  # 获取 行号 为0, 99, 999的 数据\n",
    "# 3. 加载指定行的指定列\n",
    "df.loc[[20, 21, 22], ['country', 'year', 'pop']]  # 行索引 + 列名\n",
    "df.iloc[[20, 21, 22], [0, 2, 4]]  # 行好 + 列的编号\n",
    "# 4. 上述的 行, 列部分, 不仅可以传入固定值, 还可以通过 range(), 切片等方式实现. \n",
    "df.loc[:, ['country']]  # : 代表所有    所有行, 1列\n",
    "df.loc[:, ['country', 'continent', 'lifeExp']]  # 所有行, 多列\n",
    "df.iloc[:, [0]]  # : 代表所有    所有行, 1列\n",
    "df.iloc[:, [0, 1, 3]]  # 所有行, 多列\n",
    "\n",
    "df.iloc[:, range(3)]  # 所有行, 前3列\n",
    "df.iloc[:, range(1, 5, 2)]  # 所有行, 第1, 3列的数据\n",
    "df.iloc[range(10), range(1, 5, 2)]  # 前10行, 第1, 3列的数据\n",
    "\n",
    "df.iloc[:, :3]  # 所有行, 前3列\n",
    "df.iloc[:, 1:5:2]  # 所有行, 第1, 3列的数据"
   ],
   "metadata": {
    "collapsed": false
   },
   "id": "7094151c68b07c27"
  },
  {
   "cell_type": "markdown",
   "source": [
    "# 2.DataFrame对象-分组聚合"
   ],
   "metadata": {
    "collapsed": false
   },
   "id": "71c9a6740ba09b26"
  },
  {
   "cell_type": "code",
   "execution_count": null,
   "outputs": [],
   "source": [
    "# 1. 查看源数据\n",
    "df.head()"
   ],
   "metadata": {
    "collapsed": false
   },
   "id": "5a752902188ab3e2"
  },
  {
   "cell_type": "code",
   "execution_count": null,
   "outputs": [],
   "source": [
    "# 分组统计格式: df.groupby('分组字段')['聚合操作的字段'].具体的聚合函数名()\n",
    "# 分组统计格式: df.groupby(['分组字段1', '分组字段2'])['聚合操作的字段1', '聚合操作的字段2'].具体的聚合函数名()\n",
    "\n",
    "# 2. 基于上述的格式, 完成如下的需求.\n",
    "# 需求1: 统计每一年平均预期寿命, 平均人口, 平均GDP\n",
    "df.groupby('year')  # DataFrameGroupBy  对象\n",
    "df.groupby('year')['lifeExp']  # SeriesGroupBy  对象\n",
    "df.groupby('year')['lifeExp'].mean()  # 具体的计算动作\n",
    "\n",
    "df.groupby('year')['pop'].mean()  # 每年, 平均人口\n",
    "df.groupby('year')['gdpPercap'].mean()  # 每年, 平均GDP"
   ],
   "metadata": {
    "collapsed": false
   },
   "id": "fbfc079c3307e395"
  },
  {
   "cell_type": "code",
   "execution_count": null,
   "outputs": [],
   "source": [
    "# 需求2: 按照大洲计算, 每个各个大洲的平均预期寿命, 平均人口, 平均GDP\n",
    "df.groupby(['year', 'continent'])[['lifeExp', 'pop', 'gdpPercap']].mean()\n",
    "\n",
    "# 扩展, 如果计算的是 多字段的 不同的聚合需求, 可以用 agg函数实现.\n",
    "# 格式: agg({'列名':'聚合函数名', '列名':'聚合函数名'})\n",
    "df.groupby(['year', 'continent']).agg({'lifeExp': 'mean', 'pop': 'max', 'gdpPercap': 'min'})    # 平均寿命, 最大人口, 最小gdp"
   ],
   "metadata": {
    "collapsed": false
   },
   "id": "3ebb1bbf676a1fc5"
  },
  {
   "cell_type": "code",
   "execution_count": null,
   "outputs": [],
   "source": [
    "# 需求3: 每个大洲, 列出了多少个国家和地区. \n",
    "df.groupby('continent')['country'].value_counts()         # 不能满足我们的要求, 它的结果是: 某个洲, 某个国家, 被统计了多少次\n",
    "df.groupby('continent')['country'].nunique()              # 这个才是我们要的, 去重统计函数: nunique()"
   ],
   "metadata": {
    "collapsed": false
   },
   "id": "abfe509452013a5f"
  },
  {
   "cell_type": "markdown",
   "source": [
    "# 3. DataFrame基本绘图"
   ],
   "metadata": {
    "collapsed": false
   },
   "id": "698cb3019c71cd63"
  },
  {
   "cell_type": "code",
   "execution_count": null,
   "outputs": [],
   "source": [
    "# 把上述的 每年, 平均寿命 结果绘制成图形.\n",
    "df.groupby('year')['lifeExp'].mean().plot()             # 默认是1个 折线图.\n",
    "df.groupby('year')['lifeExp'].mean().plot(figsize=(10, 5))             # 默认是1个 折线图.\n",
    "# df.groupby('year')['lifeExp'].mean().plot(kind='bar', figsize=(20, 10))   # 直方图(柱状图), figsize=(宽, 高)"
   ],
   "metadata": {
    "collapsed": false
   },
   "id": "a3d0f5b4d8607ffd"
  },
  {
   "cell_type": "markdown",
   "source": [
    "# 4. DataFrame对象, 常用的统计值的方法"
   ],
   "metadata": {
    "collapsed": false
   },
   "id": "c44df2100683f456"
  },
  {
   "cell_type": "code",
   "execution_count": null,
   "outputs": [],
   "source": [
    "# 1. 加载数据源, 获取到df对象\n",
    "movie = pd.read_csv('data/movie.csv')\n",
    "movie.head()"
   ],
   "metadata": {
    "collapsed": false
   },
   "id": "4eab0101709e3f36"
  },
  {
   "cell_type": "code",
   "execution_count": null,
   "outputs": [],
   "source": [
    "# 2. 演示常用的 统计值的方式.\n",
    "movie.shape     # 行列数\n",
    "movie.dtypes    # 每列的数据类型\n",
    "movie.info()    # 每列的基本信息, 非空值数量, 数据类型...\n",
    "movie.describe()    # 只统计 数值列 的信息\n",
    "movie.describe(include=['int', 'float'])    # 只统计 数值列 的信息, 效果同上.\n",
    "\n",
    "movie.describe(include=object)    # 只统计 字符串列 的信息\n",
    "movie.describe(include='object')  # 只统计 字符串列 的信息, 效果同上\n",
    "movie.describe(include='all')     # 统计 所有列 的信息."
   ],
   "metadata": {
    "collapsed": false
   },
   "id": "a53feee0f7d35613"
  },
  {
   "cell_type": "markdown",
   "source": [
    "# 5. DataFrame对象, 常见的排序方式"
   ],
   "metadata": {
    "collapsed": false
   },
   "id": "c2421e00af345c9a"
  },
  {
   "cell_type": "code",
   "execution_count": null,
   "outputs": [],
   "source": [
    "# 1. 查看数据源.\n",
    "movie.columns       # 查看所有的列\n",
    "movie.head()        # 查看前5条数据, 看看数据格式"
   ],
   "metadata": {
    "collapsed": false
   },
   "id": "1a93b9b5a4a48597"
  },
  {
   "cell_type": "code",
   "execution_count": null,
   "outputs": [],
   "source": [
    "# 2. 完成如下的需求.\n",
    "# nlargest(n, '列名')         基于某列, 找出来最大的n个      类似于SQL: order by 列名 desc limit 0, n\n",
    "# nsmallest(n, '列名')        基于某列, 找出来最小的n个      类似于SQL: order by 列名 asc limit 0, n\n",
    "\n",
    "# 需求1: 找到小成本, 高口碑的电影.\n",
    "# Step1: 找到该需求中, 涉及到的列.\n",
    "movie2 = movie[['movie_title', 'imdb_score', 'budget']]\n",
    "movie2.head()\n",
    "\n",
    "# step2: 找到 评分最高的 100部电影.\n",
    "movie2.nlargest(100, 'imdb_score')\n",
    "\n",
    "# step3: 基于上一步, 找到 预算最小的 10部电影.\n",
    "movie2.nlargest(100, 'imdb_score').nsmallest(10, 'budget')"
   ],
   "metadata": {
    "collapsed": false
   },
   "id": "8319be18829830c7"
  },
  {
   "cell_type": "code",
   "execution_count": null,
   "outputs": [],
   "source": [
    "# 需求2: 找到每年 imdb_score 评分最高的电影.\n",
    "# 1. 从原始数据中, 找到 要用的几列数据.\n",
    "movie3 = movie[['movie_title', 'title_year', 'imdb_score']]\n",
    "movie3.head()\n",
    "\n",
    "# 2. 按照 年, 评分, 降序排列.\n",
    "movie3.sort_values(['title_year', 'imdb_score'], ascending=[False, False])  # True: 升序(默认), False(降序)\n",
    "movie3.sort_values(['title_year', 'imdb_score'], ascending=False)   # 效果同上.\n",
    "\n",
    "# 3. 基于上述的数据, 只获取每年的 第1条数据即可. \n",
    "# 参数解释, subset: 表示子级, 即: 参考某列的值, 进行(去重)删除. \n",
    "movie3.sort_values(['title_year', 'imdb_score'], ascending=False).drop_duplicates(subset='title_year')"
   ],
   "metadata": {
    "collapsed": false
   },
   "id": "a5041b05982718f8"
  },
  {
   "cell_type": "markdown",
   "source": [
    "# 6. 综合小案例-链家数据分析(12个需求)"
   ],
   "metadata": {
    "collapsed": false
   },
   "id": "3fdb7c7c408374ba"
  },
  {
   "cell_type": "code",
   "execution_count": null,
   "outputs": [],
   "source": [
    "# 1. 加载数据源, 获取df对象\n",
    "df = pd.read_csv('data/LJdata.csv')\n",
    "df.head()"
   ],
   "metadata": {
    "collapsed": false
   },
   "id": "2ffb4d500d2661ba"
  },
  {
   "cell_type": "code",
   "execution_count": null,
   "outputs": [],
   "source": [
    "# 2. 将上述的列名, 改成英文.\n",
    "df.columns = ['district', 'address', 'title', 'house_type', 'area', 'price', 'floor', 'build_time', 'direction', 'update_time', 'view_num', 'extra_info', 'link']\n",
    "df.head()"
   ],
   "metadata": {
    "collapsed": false
   },
   "id": "b9daa489c3859e3a"
  },
  {
   "cell_type": "code",
   "execution_count": null,
   "outputs": [],
   "source": [
    "# 3. 简单的看看数据集.\n",
    "df.shape            # 行列数, (2760, 13)\n",
    "df.info()           # 基本信息\n",
    "df.describe()       # 统计信息"
   ],
   "metadata": {
    "collapsed": false
   },
   "id": "9deb20537fbd3d88"
  },
  {
   "cell_type": "code",
   "execution_count": null,
   "outputs": [],
   "source": [
    "# 4. 完成如下的需求. \n",
    "# 需求1: 找到租金最低, 租金最高的房子.\n",
    "# step1: 找到最低租金.\n",
    "df.sort_values(by='price').head(1)['price']                     # 1300\n",
    "# step2: 找到最高租金.\n",
    "df.sort_values(by='price', ascending=False).head(1)['price']    # 210000\n",
    "# step3: 找到租金最低的房子.\n",
    "df[df.price == 1300]            # 可以实现需求, 效果不好.\n",
    "df[df.price == df.price.min()]  # 推荐写法            \n",
    "# step4: 找到租金最低的房子.\n",
    "df[df.price == df.price.max()]"
   ],
   "metadata": {
    "collapsed": false
   },
   "id": "92b652b44dacc339"
  },
  {
   "cell_type": "code",
   "execution_count": null,
   "outputs": [],
   "source": [
    "# 需求2: 找到最近新上的10套房源, 更新时间降序排列, 前10个\n",
    "df.sort_values('update_time', ascending=False).head(10)"
   ],
   "metadata": {
    "collapsed": false
   },
   "id": "411b97b08806e9e3"
  },
  {
   "cell_type": "code",
   "execution_count": null,
   "outputs": [],
   "source": [
    "# 需求3: 查看所有更新时间.    细节: 去重\n",
    "df['update_time'].unique()                # ndarray类型\n",
    "df.update_time.drop_duplicates()        # Series类型"
   ],
   "metadata": {
    "collapsed": false
   },
   "id": "54aee68e59a966a4"
  },
  {
   "cell_type": "code",
   "execution_count": null,
   "outputs": [],
   "source": [
    "# 需求4: 看房人数,    \n",
    "df.view_num.mean()  # 13.44891304347826, 平均值\n",
    "df.view_num.max()   # 122\n",
    "df.view_num.min()   # 0\n",
    "df.view_num.median()   # 10.0, 中位数. \n",
    "df.describe()          # 验证结果\n",
    "\n",
    "# 进阶版需求: 不同看房人数的房源数量\n",
    "# SQL写法: select view_num, count(district) as `count` from df group by view_num;\n",
    "tmp_df = df.groupby('view_num', as_index=False)['district'].count()          # as_index: 表示是否把分组字段充当索引列.\n",
    "# 修改列名\n",
    "# tmp_df.columns = ['看房人数', '房源数量']\n",
    "tmp_df.columns = ['view_num', 'count']\n",
    "tmp_df.head()"
   ],
   "metadata": {
    "collapsed": false
   },
   "id": "e85f944d3fca02f6"
  },
  {
   "cell_type": "code",
   "execution_count": null,
   "outputs": [],
   "source": [
    "# 需求5: 把 上述的 count, 即: 不同看房人数的 房源数量, 绘制成图形.\n",
    "tmp_df[['count']]       # DataFrame对象\n",
    "tmp_df['count']         # Series对象\n",
    "tmp_df[['count']].plot(kind='bar', figsize=(20, 10))\n",
    "# plt.show()            # 如果用的是虚拟机的环境, 或者本地环境. 这句话可以省略不写. "
   ],
   "metadata": {
    "collapsed": false
   },
   "id": "dab9d746df835155"
  },
  {
   "cell_type": "code",
   "execution_count": 170,
   "outputs": [
    {
     "data": {
      "text/plain": "1300"
     },
     "execution_count": 170,
     "metadata": {},
     "output_type": "execute_result"
    }
   ],
   "source": [
    "# 需求6: 房租价格的分布\n",
    "df['price'].mean()          # 房租: 平均值, 7570.800724637681\n",
    "df['price'].max()           # 房租: 最大值, 210000 \n",
    "df['price'].min()           # 房租: 最小值, 1300"
   ],
   "metadata": {
    "collapsed": false,
    "ExecuteTime": {
     "end_time": "2024-07-22T03:51:01.628897200Z",
     "start_time": "2024-07-22T03:51:01.578842Z"
    }
   },
   "id": "71813c2ba778e67"
  },
  {
   "cell_type": "code",
   "execution_count": 178,
   "outputs": [
    {
     "data": {
      "text/plain": "   direction  view_num\n23       南 北     11785",
      "text/html": "<div>\n<style scoped>\n    .dataframe tbody tr th:only-of-type {\n        vertical-align: middle;\n    }\n\n    .dataframe tbody tr th {\n        vertical-align: top;\n    }\n\n    .dataframe thead th {\n        text-align: right;\n    }\n</style>\n<table border=\"1\" class=\"dataframe\">\n  <thead>\n    <tr style=\"text-align: right;\">\n      <th></th>\n      <th>direction</th>\n      <th>view_num</th>\n    </tr>\n  </thead>\n  <tbody>\n    <tr>\n      <th>23</th>\n      <td>南 北</td>\n      <td>11785</td>\n    </tr>\n  </tbody>\n</table>\n</div>"
     },
     "execution_count": 178,
     "metadata": {},
     "output_type": "execute_result"
    }
   ],
   "source": [
    "# 需求7: 看房人数最多的朝向\n",
    "tmp_df = df.groupby('direction', as_index=False)['view_num'].sum()\n",
    "tmp_df[tmp_df.view_num == tmp_df.view_num.max()]"
   ],
   "metadata": {
    "collapsed": false,
    "ExecuteTime": {
     "end_time": "2024-07-22T03:52:27.164674900Z",
     "start_time": "2024-07-22T03:52:27.163683900Z"
    }
   },
   "id": "316342d9d24fcbb0"
  },
  {
   "cell_type": "code",
   "execution_count": 245,
   "outputs": [
    {
     "data": {
      "text/plain": "<AxesSubplot:xlabel='house_type'>"
     },
     "execution_count": 245,
     "metadata": {},
     "output_type": "execute_result"
    },
    {
     "data": {
      "text/plain": "<Figure size 1440x720 with 1 Axes>",
      "image/png": "[encoded data removed]"
     },
     "metadata": {
      "needs_background": "light"
     },
     "output_type": "display_data"
    }
   ],
   "source": [
    "# 需求8: 房型分布情况, 绘图\n",
    "%matplotlib inline\n",
    "# df.groupby('house_type', as_index=False)['district'].count()                            # DataFrame对象\n",
    "df.groupby('house_type')['district'].count().plot(kind='bar', figsize=(20, 10))           # Series对象"
   ],
   "metadata": {
    "collapsed": false,
    "ExecuteTime": {
     "end_time": "2024-07-22T06:18:46.709744300Z",
     "start_time": "2024-07-22T06:18:46.452818100Z"
    }
   },
   "id": "b3cdb745cbd4e34c"
  },
  {
   "cell_type": "code",
   "execution_count": 212,
   "outputs": [
    {
     "data": {
      "text/plain": "  house_type  view_num\n5       2室1厅     17589",
      "text/html": "<div>\n<style scoped>\n    .dataframe tbody tr th:only-of-type {\n        vertical-align: middle;\n    }\n\n    .dataframe tbody tr th {\n        vertical-align: top;\n    }\n\n    .dataframe thead th {\n        text-align: right;\n    }\n</style>\n<table border=\"1\" class=\"dataframe\">\n  <thead>\n    <tr style=\"text-align: right;\">\n      <th></th>\n      <th>house_type</th>\n      <th>view_num</th>\n    </tr>\n  </thead>\n  <tbody>\n    <tr>\n      <th>5</th>\n      <td>2室1厅</td>\n      <td>17589</td>\n    </tr>\n  </tbody>\n</table>\n</div>"
     },
     "execution_count": 212,
     "metadata": {},
     "output_type": "execute_result"
    }
   ],
   "source": [
    "# 需求9: 最受欢迎的房型.\n",
    "tmp_df = df.groupby('house_type', as_index=False)['view_num'].sum()\n",
    "tmp_df[tmp_df.view_num == tmp_df.view_num.max()]"
   ],
   "metadata": {
    "collapsed": false,
    "ExecuteTime": {
     "end_time": "2024-07-22T04:12:50.512682500Z",
     "start_time": "2024-07-22T04:12:50.471515Z"
    }
   },
   "id": "20e4b9e38d7912d3"
  },
  {
   "cell_type": "code",
   "execution_count": 218,
   "outputs": [
    {
     "data": {
      "text/plain": "86.36679645198356"
     },
     "execution_count": 218,
     "metadata": {},
     "output_type": "execute_result"
    }
   ],
   "source": [
    "# 需求10: 房子的平均租房价格.\n",
    "# step1: 给 df对象, 新增一列, 即: 每套房子的平均租金.\n",
    "df['price_per_m2'] = df['price'] / df['area']\n",
    "df.head()\n",
    "\n",
    "# step2: 计算平均租房价格\n",
    "df.price_per_m2.mean()          # 87.72268429900429"
   ],
   "metadata": {
    "collapsed": false,
    "ExecuteTime": {
     "end_time": "2024-07-22T04:19:12.620645800Z",
     "start_time": "2024-07-22T04:19:12.558149300Z"
    }
   },
   "id": "2a385bfaa5d4bd86"
  },
  {
   "cell_type": "code",
   "execution_count": 227,
   "outputs": [
    {
     "data": {
      "text/plain": "      address  view_num\n951       清芷园       246\n369      卡布其诺       245\n938      润枫水尚       217\n1149    芍药居北里       194\n743       新康园       186\n1288     远洋山水       184\n15    万国城MOMA       176\n342       华贸城       176\n1460      龙华园       171\n1182   荣丰2008       170",
      "text/html": "<div>\n<style scoped>\n    .dataframe tbody tr th:only-of-type {\n        vertical-align: middle;\n    }\n\n    .dataframe tbody tr th {\n        vertical-align: top;\n    }\n\n    .dataframe thead th {\n        text-align: right;\n    }\n</style>\n<table border=\"1\" class=\"dataframe\">\n  <thead>\n    <tr style=\"text-align: right;\">\n      <th></th>\n      <th>address</th>\n      <th>view_num</th>\n    </tr>\n  </thead>\n  <tbody>\n    <tr>\n      <th>951</th>\n      <td>清芷园</td>\n      <td>246</td>\n    </tr>\n    <tr>\n      <th>369</th>\n      <td>卡布其诺</td>\n      <td>245</td>\n    </tr>\n    <tr>\n      <th>938</th>\n      <td>润枫水尚</td>\n      <td>217</td>\n    </tr>\n    <tr>\n      <th>1149</th>\n      <td>芍药居北里</td>\n      <td>194</td>\n    </tr>\n    <tr>\n      <th>743</th>\n      <td>新康园</td>\n      <td>186</td>\n    </tr>\n    <tr>\n      <th>1288</th>\n      <td>远洋山水</td>\n      <td>184</td>\n    </tr>\n    <tr>\n      <th>15</th>\n      <td>万国城MOMA</td>\n      <td>176</td>\n    </tr>\n    <tr>\n      <th>342</th>\n      <td>华贸城</td>\n      <td>176</td>\n    </tr>\n    <tr>\n      <th>1460</th>\n      <td>龙华园</td>\n      <td>171</td>\n    </tr>\n    <tr>\n      <th>1182</th>\n      <td>荣丰2008</td>\n      <td>170</td>\n    </tr>\n  </tbody>\n</table>\n</div>"
     },
     "execution_count": 227,
     "metadata": {},
     "output_type": "execute_result"
    }
   ],
   "source": [
    "# 需求11: 热门小区.   即: 看房人数最多的小区.\n",
    "df[['address', 'view_num']].groupby('address').view_num.sum()\n",
    "tmp_df = df[['address', 'view_num']].groupby('address', as_index=False).agg({'view_num': 'sum'})\n",
    "# tmp_df.sort_values('view_num', ascending=False)\n",
    "# tmp_df.nlargest(len(tmp_df), 'view_num')\n",
    "tmp_df.nlargest(10, 'view_num')"
   ],
   "metadata": {
    "collapsed": false,
    "ExecuteTime": {
     "end_time": "2024-07-22T04:23:26.776595500Z",
     "start_time": "2024-07-22T04:23:26.747327700Z"
    }
   },
   "id": "3a2a9f0bb919ad1e"
  },
  {
   "cell_type": "code",
   "execution_count": 235,
   "outputs": [
    {
     "data": {
      "text/plain": "     address  count\n1288    远洋山水     19",
      "text/html": "<div>\n<style scoped>\n    .dataframe tbody tr th:only-of-type {\n        vertical-align: middle;\n    }\n\n    .dataframe tbody tr th {\n        vertical-align: top;\n    }\n\n    .dataframe thead th {\n        text-align: right;\n    }\n</style>\n<table border=\"1\" class=\"dataframe\">\n  <thead>\n    <tr style=\"text-align: right;\">\n      <th></th>\n      <th>address</th>\n      <th>count</th>\n    </tr>\n  </thead>\n  <tbody>\n    <tr>\n      <th>1288</th>\n      <td>远洋山水</td>\n      <td>19</td>\n    </tr>\n  </tbody>\n</table>\n</div>"
     },
     "execution_count": 235,
     "metadata": {},
     "output_type": "execute_result"
    }
   ],
   "source": [
    "# 需求12: 出租房源最多的小区\n",
    "# 根据 小区分组, 计算各小区, 出租房源的总数量.\n",
    "tmp_df = df.groupby('address', as_index=False).district.count()\n",
    "# 修改列名\n",
    "tmp_df.columns = ['address', 'count']\n",
    "# 获取出租房源最多的小区\n",
    "tmp_df.nlargest(1, 'count')\n",
    "tmp_df.sort_values('count', ascending=False).head(1)\n",
    "tmp_df.sort_values('count').tail(1)"
   ],
   "metadata": {
    "collapsed": false,
    "ExecuteTime": {
     "end_time": "2024-07-22T04:26:27.229376800Z",
     "start_time": "2024-07-22T04:26:27.208049600Z"
    }
   },
   "id": "f3069f81944c9c99"
  }
 ],
 "metadata": {
  "kernelspec": {
   "display_name": "Python 3",
   "language": "python",
   "name": "python3"
  },
  "language_info": {
   "codemirror_mode": {
    "name": "ipython",
    "version": 2
   },
   "file_extension": ".py",
   "mimetype": "text/x-python",
   "name": "python",
   "nbconvert_exporter": "python",
   "pygments_lexer": "ipython2",
   "version": "2.7.6"
  }
 },
 "nbformat": 4,
 "nbformat_minor": 5
}
