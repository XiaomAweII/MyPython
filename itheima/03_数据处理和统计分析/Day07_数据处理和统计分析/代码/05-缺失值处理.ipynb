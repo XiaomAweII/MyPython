{
 "cells": [
  {
   "cell_type": "markdown",
   "source": [
    "# 导包"
   ],
   "metadata": {
    "collapsed": false
   },
   "id": "f1edd6d3b516ce02"
  },
  {
   "cell_type": "code",
   "execution_count": null,
   "outputs": [],
   "source": [
    "import numpy as np\n",
    "import pandas as pd\n",
    "import missingno as msno\n",
    "\n",
    "# from numpy import NaN, nan, NAN"
   ],
   "metadata": {
    "collapsed": false
   },
   "id": "bdd7b225b994ce8d"
  },
  {
   "cell_type": "markdown",
   "source": [
    "# 1. 缺失值初始及判断"
   ],
   "metadata": {
    "collapsed": false
   },
   "id": "a1d2bbd908c09562"
  },
  {
   "cell_type": "code",
   "execution_count": null,
   "outputs": [],
   "source": [
    "# 在Pandas中, 缺失值用NaN, nan, NAN这三个来表示, 它们都是一样的, 不是'', False, 0等, 表示: 什么都没有(缺失)\n",
    "# 1. 缺失值不是 False, 空, 0等.\n",
    "print(np.NaN == True)  # False\n",
    "print(np.NaN == False)  # False\n",
    "print(np.NaN == 0)  # False\n",
    "print(np.NaN == ' ')  # False"
   ],
   "metadata": {
    "collapsed": false
   },
   "id": "a8bad2ed53fb99bd"
  },
  {
   "cell_type": "code",
   "execution_count": null,
   "outputs": [],
   "source": [
    "# 2. 缺失值是无意义的, 所以: NaN, nan, NAN之间也不能直接用 == 比较\n",
    "print(np.NaN == np.nan)  # False\n",
    "print(np.NaN == np.NAN)  # False\n",
    "print(np.nan == np.NAN)  # False"
   ],
   "metadata": {
    "collapsed": false
   },
   "id": "b28e61c8e4a6551b"
  },
  {
   "cell_type": "code",
   "execution_count": null,
   "outputs": [],
   "source": [
    "# 3. 那如何判断缺失值呢? 可以通过 pandas的API实现.\n",
    "# isnull() 和 isna() 效果一致, 即: 判断是否为空\n",
    "print(pd.isnull(np.NaN))  # True\n",
    "print(pd.isnull(np.nan))  # True\n",
    "print(pd.isnull(np.nan))  # True\n",
    "\n",
    "print(pd.isna(np.NaN))  # True\n",
    "print(pd.isna(np.nan))  # True\n",
    "print(pd.isna(np.nan))  # True"
   ],
   "metadata": {
    "collapsed": false
   },
   "id": "adab1cf5326c31b4"
  },
  {
   "cell_type": "code",
   "execution_count": null,
   "outputs": [],
   "source": [
    "# notnull() 和 notna()效果一致, 即: 判断是否不为空.\n",
    "print(pd.notnull(np.NaN))  # False\n",
    "print(pd.notnull(np.nan))  # False\n",
    "print(pd.notnull(np.nan))  # False\n",
    "\n",
    "print(pd.notna(np.NaN))  # False\n",
    "print(pd.notna(np.nan))  # False\n",
    "print(pd.notna(np.nan))  # False"
   ],
   "metadata": {
    "collapsed": false
   },
   "id": "2a0fa7a3803f5a8b"
  },
  {
   "cell_type": "code",
   "execution_count": null,
   "outputs": [],
   "source": [
    "# 4. 上述的4个函数, 还可以直接判断值.\n",
    "print(pd.isnull(10))  # False\n",
    "print(pd.isnull('abc'))  # False\n",
    "\n",
    "print(pd.notnull(10))  # True\n",
    "print(pd.notnull('abc'))  # True"
   ],
   "metadata": {
    "collapsed": false
   },
   "id": "d64873df256d1e2c"
  },
  {
   "cell_type": "markdown",
   "source": [
    "# 2. 演示加载缺失值"
   ],
   "metadata": {
    "collapsed": false
   },
   "id": "31888868327c6945"
  },
  {
   "cell_type": "code",
   "execution_count": null,
   "outputs": [],
   "source": [
    "# 1. 加载数据, 包括缺失值.\n",
    "pd.read_csv('data/survey_visited.csv')\n",
    "\n",
    "# 2. 加载数据时, 忽略缺失值(有缺失值的行) , 即: 用 '' 来填充\n",
    "pd.read_csv('data/survey_visited.csv', keep_default_na=False)  # keep_default_na: 是否加载缺失值, True:加载, False: 不加载\n",
    "\n",
    "# 3. 加载数据时, 手动指定某些值为: 空值        na_values=[值1, 值2...] 只要出现到这里的值, 都会用NaN来填充\n",
    "pd.read_csv('data/survey_visited.csv', keep_default_na=False, na_values=['619', '734', 'DR-3', '1927-02-10'])"
   ],
   "metadata": {
    "collapsed": false
   },
   "id": "50da964a2ba37ed2"
  },
  {
   "cell_type": "markdown",
   "source": [
    "# 3. 如何处理缺失值"
   ],
   "metadata": {
    "collapsed": false
   },
   "id": "21a14ef0209fa06f"
  },
  {
   "cell_type": "markdown",
   "source": [
    "## 3.1 加载数据源 及 缺失值的可视化"
   ],
   "metadata": {
    "collapsed": false
   },
   "id": "fb0832107da77fae"
  },
  {
   "cell_type": "code",
   "execution_count": null,
   "outputs": [],
   "source": [
    "# 1. 加载数据源.\n",
    "df = pd.read_csv('data/titanic_train.csv')\n",
    "df.head()"
   ],
   "metadata": {
    "collapsed": false
   },
   "id": "ab55bda38ab82bd7"
  },
  {
   "cell_type": "code",
   "execution_count": null,
   "outputs": [],
   "source": [
    "# 2. 查看数据的相关信息.\n",
    "df.shape  # (891, 12)\n",
    "df.info()  # 基本信息\n",
    "df.describe()  # 统计信息"
   ],
   "metadata": {
    "collapsed": false
   },
   "id": "a27a0d972677572"
  },
  {
   "cell_type": "code",
   "execution_count": null,
   "outputs": [],
   "source": [
    "# 3. 查看是否获取数据.\n",
    "df['Survived'].value_counts()  # 多少人获救, 多少人离去...   0: 没获救, 1: 已获救"
   ],
   "metadata": {
    "collapsed": false
   },
   "id": "33f4ffc878497641"
  },
  {
   "cell_type": "code",
   "execution_count": null,
   "outputs": [],
   "source": [
    "# 4. 缺失值的可视化, 查看下缺失值的分布情况.  查看下缺失值的关系(关联性)\n",
    "# 如果你电脑没有安装 missingno这个包, 需要: pip install missingno 先装一下.\n",
    "\n",
    "# 绘制柱状图, 查看缺失值的分布情况.\n",
    "msno.bar(df)\n",
    "\n",
    "# 查看下缺失值的关系(关联性), 例如: A字段缺失, B字段会不会缺失等. \n",
    "msno.heatmap(df)"
   ],
   "metadata": {
    "collapsed": false
   },
   "id": "b7ee9980990e8eb9"
  },
  {
   "cell_type": "markdown",
   "source": [
    "## 3.2 缺失值处理方式1: 删除缺失值"
   ],
   "metadata": {
    "collapsed": false
   },
   "id": "e93f963a7879e0d4"
  },
  {
   "cell_type": "code",
   "execution_count": null,
   "outputs": [],
   "source": [
    "# 1. 查看各列的(空值)数据统计情况.\n",
    "df.isnull().sum()\n",
    "\n",
    "# 2. 删除缺失值. 如果缺失值比较少的情况下, 可以这样来做.\n",
    "# 参数解释: axis=0(默认), 代表: 行,     how:是删除方式, any(任意1个为空), all(都要为空)        subset=[列1, 列2] 表示参考哪些列(的空值)\n",
    "df.dropna(how='any')                      # 只要该行为空, 就删除该行. \n",
    "df.dropna(how='all')                      # 该行都为空, 就删除该行.  \n",
    "df.dropna(how='any', subset=['Age'])      # 只参考Age列, 只要为空, 就删除该行.  \n",
    "\n",
    "df.dropna(how='any', axis=1)              # 0: 行, 1: 列, 只要该列有空值, 就删除该列.  删除列要慎重."
   ],
   "metadata": {
    "collapsed": false
   },
   "id": "b0bd4d22b889a2ab"
  },
  {
   "cell_type": "markdown",
   "source": [
    "## 3.3 缺失值处理方式2: 非时间序列数据(固定值)"
   ],
   "metadata": {
    "collapsed": false
   },
   "id": "e395ad60452b63d9"
  },
  {
   "cell_type": "code",
   "execution_count": null,
   "outputs": [],
   "source": [
    "# 1. 查看各列的(空值)数据统计情况.\n",
    "df.isnull().sum()\n",
    "\n",
    "# 2. fillna()函数, 实现填充缺失值.\n",
    "df.fillna(0).isnull().sum()\n",
    "\n",
    "# 3. 实际开发中, 我们一般不会直接随便写1个固定值, 而是用 该列的 平均值, 中位数, 标准差, 最大值, 最小值等来填充. \n",
    "# 需求: 针对于Age列的数据, 使用 Age列的平均值 来填充\n",
    "df.Age.mean()   # 29.69911764705882\n",
    "df.Age.fillna(df.Age.mean(), inplace=True)        # fillna() 有 inplace参数. \n",
    "\n",
    "# 4. 填充后, 查看统计信息.\n",
    "df.isnull().sum()"
   ],
   "metadata": {
    "collapsed": false
   },
   "id": "a651f5a69bb5da15"
  },
  {
   "cell_type": "markdown",
   "source": [
    "## 3.4 缺失值处理方式3: 时间序列数据"
   ],
   "metadata": {
    "collapsed": false
   },
   "id": "f99b1a56b6892c53"
  },
  {
   "cell_type": "code",
   "execution_count": 66,
   "outputs": [
    {
     "data": {
      "text/plain": "<AxesSubplot:xlabel='Date'>"
     },
     "execution_count": 66,
     "metadata": {},
     "output_type": "execute_result"
    },
    {
     "data": {
      "text/plain": "<Figure size 432x288 with 1 Axes>",
      "image/png": "[encoded data removed]"
     },
     "metadata": {
      "needs_background": "light"
     },
     "output_type": "display_data"
    }
   ],
   "source": [
    "# 1. 加载源数据, 获取df对象.\n",
    "city_day = pd.read_csv('data/city_day.csv', parse_dates=['Date'], index_col='Date') \n",
    "city_day.head()\n",
    "# city_day.info()\n",
    "\n",
    "# 2. 获取有空值的某一段数据, 方便我们演示.\n",
    "city_day['Xylene'][50:64]\n",
    "\n",
    "# 思路1: 用 空值的 上个值来填充. \n",
    "city_day['Xylene'].fillna(method='ffill')[50:64]\n",
    "# city_day['Xylene'].fillna(method='ffill')[50:64].plot()     # 可视化, 查看下. \n",
    "\n",
    "# 思路2: 用 空值的 下个值来填充.\n",
    "city_day['Xylene'].fillna(method='bfill')[50:64]\n",
    "# city_day['Xylene'].fillna(method='bfill')[50:64].plot()\n",
    "\n",
    "# 思路3: 线性填充, 即: 结合 前边 和 后边的值, 来推导出1个要填充的值.\n",
    "# limit_direction参数有三个值:     both: 参考前边+后边数据, 推到出值.   forward: 只参考前边的值,  backward: 只参考后边的值\n",
    "city_day['Xylene'].interpolate(limit_direction='both')[50:64]\n",
    "city_day['Xylene'].interpolate(limit_direction='both')[50:64].plot()"
   ],
   "metadata": {
    "collapsed": false,
    "ExecuteTime": {
     "end_time": "2024-07-22T10:35:08.725505900Z",
     "start_time": "2024-07-22T10:35:08.525618Z"
    }
   },
   "id": "d015d9681a1f8470"
  }
 ],
 "metadata": {
  "kernelspec": {
   "display_name": "Python 3",
   "language": "python",
   "name": "python3"
  },
  "language_info": {
   "codemirror_mode": {
    "name": "ipython",
    "version": 2
   },
   "file_extension": ".py",
   "mimetype": "text/x-python",
   "name": "python",
   "nbconvert_exporter": "python",
   "pygments_lexer": "ipython2",
   "version": "2.7.6"
  }
 },
 "nbformat": 4,
 "nbformat_minor": 5
}
