{
 "cells": [
  {
   "cell_type": "code",
   "execution_count": null,
   "outputs": [],
   "source": [],
   "metadata": {
    "collapsed": false
   },
   "id": "affef28d99ff39e1"
  },
  {
   "cell_type": "markdown",
   "source": [
    "打印自己的名片，输出以下信息：\n",
    "\n",
    "- 姓名:xxx\n",
    "- 年龄:xxx\n",
    "- 体重:xxx\n",
    "- 手机号:xxx\n",
    "- 家庭住址:xxx"
   ],
   "metadata": {
    "collapsed": false
   },
   "id": "36a2840d6759787b"
  },
  {
   "cell_type": "code",
   "execution_count": 2,
   "outputs": [
    {
     "name": "stdout",
     "output_type": "stream",
     "text": [
      "Tom\n",
      "19\n",
      "120\n",
      "123\n",
      "England\n"
     ]
    }
   ],
   "source": [
    "print(\"Tom\")\n",
    "print(\"19\")\n",
    "print(\"120\")\n",
    "print(\"123\")\n",
    "print(\"England\")"
   ],
   "metadata": {
    "collapsed": false,
    "ExecuteTime": {
     "end_time": "2024-06-13T08:37:06.709028900Z",
     "start_time": "2024-06-13T08:37:06.685094500Z"
    }
   },
   "id": "2e43804a271faf8"
  },
  {
   "cell_type": "code",
   "execution_count": null,
   "id": "initial_id",
   "metadata": {
    "collapsed": true
   },
   "outputs": [],
   "source": [
    "# 1. 定义一个变量 name,存储你的名字\n",
    "# 2. 定义一个变量 age,存储你的年龄\n",
    "# 3. 定义一个变量 height,存储你的身高\n",
    "# 4. 按照以下格式输出变量的值.\n",
    "姓名:TOM, 年龄 18 岁,身高 xxx 厘米\n",
    "\n",
    "# 5. 按照以下格式输出变量的值.\n",
    "name: xxx\n",
    "age: xxxx\n",
    "height: xxx\n",
    "\n",
    "# 6. 分别查看变量 name, age, height 的类型"
   ]
  },
  {
   "cell_type": "code",
   "execution_count": 5,
   "outputs": [
    {
     "name": "stdout",
     "output_type": "stream",
     "text": [
      "name: Tom\n",
      "age: 18\n",
      "height: 180\n",
      "<class 'str'> <class 'int'> <class 'int'>\n"
     ]
    }
   ],
   "source": [
    "name = \"Tom\"\n",
    "age = 18\n",
    "height = 180\n",
    "print(\"name: \" + name)\n",
    "print(\"age: \" + str(age))\n",
    "print(\"height: \" + str(height))\n",
    "print(type(name), type(age), type(height))"
   ],
   "metadata": {
    "collapsed": false,
    "ExecuteTime": {
     "end_time": "2024-06-13T08:39:58.445986800Z",
     "start_time": "2024-06-13T08:39:58.420830800Z"
    }
   },
   "id": "a2c57ea3d0201f2a"
  },
  {
   "cell_type": "code",
   "execution_count": 7,
   "outputs": [],
   "source": [
    "# 定义一个变量name，保存自己的名字\n",
    "name = \"TOM\"\n",
    "# 定义一个变量age，保存自己的年龄\n",
    "age = 18\n",
    "# 定义一个变量weight，保存自己的体重\n",
    "weight = 66.6"
   ],
   "metadata": {
    "collapsed": false,
    "ExecuteTime": {
     "end_time": "2024-06-13T08:41:11.998441300Z",
     "start_time": "2024-06-13T08:41:11.988470Z"
    }
   },
   "id": "54f29e50730dda3d"
  },
  {
   "cell_type": "code",
   "execution_count": 9,
   "outputs": [
    {
     "name": "stdout",
     "output_type": "stream",
     "text": [
      "name:TOM,age:18, weight:66.600000\n"
     ]
    }
   ],
   "source": [
    "print(\"name:%s,age:%d, weight:%f\" % (name, age, weight))"
   ],
   "metadata": {
    "collapsed": false,
    "ExecuteTime": {
     "end_time": "2024-06-13T08:41:22.189515800Z",
     "start_time": "2024-06-13T08:41:22.164582Z"
    }
   },
   "id": "da402089aead3618"
  },
  {
   "cell_type": "code",
   "execution_count": 10,
   "outputs": [
    {
     "name": "stdout",
     "output_type": "stream",
     "text": [
      "TOM, 18, 66.6\n"
     ]
    }
   ],
   "source": [
    "print(f\"{name}, {age}, {weight}\")"
   ],
   "metadata": {
    "collapsed": false,
    "ExecuteTime": {
     "end_time": "2024-06-13T08:41:59.447023500Z",
     "start_time": "2024-06-13T08:41:59.425083200Z"
    }
   },
   "id": "1d982c054368dc50"
  },
  {
   "cell_type": "markdown",
   "source": [
    "请输入用户名：isaac\n",
    "请输入密码：isaac\n",
    "您输入的用户名是isaac, 密码是isaac"
   ],
   "metadata": {
    "collapsed": false
   },
   "id": "a2369478213ccc8d"
  },
  {
   "cell_type": "code",
   "execution_count": 11,
   "outputs": [
    {
     "name": "stdout",
     "output_type": "stream",
     "text": [
      "123, 123\n"
     ]
    }
   ],
   "source": [
    "user_name = input(\"请输入用户名\")\n",
    "user_password = input(\"请输入密码\")\n",
    "print(f\"{user_name}, {user_password}\")"
   ],
   "metadata": {
    "collapsed": false,
    "ExecuteTime": {
     "end_time": "2024-06-13T08:43:23.938813400Z",
     "start_time": "2024-06-13T08:43:21.123660300Z"
    }
   },
   "id": "7275de28cdb7da03"
  },
  {
   "cell_type": "markdown",
   "source": [
    "书写程序，制作一个加法计算器。\n",
    "\n",
    "用户依次输入2个整数，系统自动进行加法运算，并打印结果。"
   ],
   "metadata": {
    "collapsed": false
   },
   "id": "a9baf8fae21e7ff1"
  },
  {
   "cell_type": "code",
   "execution_count": 13,
   "outputs": [
    {
     "name": "stdout",
     "output_type": "stream",
     "text": [
      "3\n"
     ]
    }
   ],
   "source": [
    "a = input(\"请输入一个数\")\n",
    "b = input(\"请输入一个数\")\n",
    "c = eval(a) + eval(b)\n",
    "print(c)"
   ],
   "metadata": {
    "collapsed": false,
    "ExecuteTime": {
     "end_time": "2024-06-13T08:44:45.757403400Z",
     "start_time": "2024-06-13T08:44:42.741371100Z"
    }
   },
   "id": "87fc706261d4aba1"
  },
  {
   "cell_type": "code",
   "execution_count": 14,
   "outputs": [
    {
     "name": "stdout",
     "output_type": "stream",
     "text": [
      "16.6\n"
     ]
    }
   ],
   "source": [
    "a = eval(input(\"请输入苹果几斤\"))\n",
    "b = eval(input(\"请输入橘子几斤\"))\n",
    "apple_price = 6.6\n",
    "orange_price = 5\n",
    "print(a * apple_price + b * orange_price)"
   ],
   "metadata": {
    "collapsed": false,
    "ExecuteTime": {
     "end_time": "2024-06-13T08:46:25.598504900Z",
     "start_time": "2024-06-13T08:46:23.814676900Z"
    }
   },
   "id": "ecf7d9fdc142ad87"
  },
  {
   "cell_type": "code",
   "execution_count": null,
   "outputs": [],
   "source": [],
   "metadata": {
    "collapsed": false
   },
   "id": "db5019a8d0927d3a"
  }
 ],
 "metadata": {
  "kernelspec": {
   "display_name": "Python 3",
   "language": "python",
   "name": "python3"
  },
  "language_info": {
   "codemirror_mode": {
    "name": "ipython",
    "version": 2
   },
   "file_extension": ".py",
   "mimetype": "text/x-python",
   "name": "python",
   "nbconvert_exporter": "python",
   "pygments_lexer": "ipython2",
   "version": "2.7.6"
  }
 },
 "nbformat": 4,
 "nbformat_minor": 5
}
