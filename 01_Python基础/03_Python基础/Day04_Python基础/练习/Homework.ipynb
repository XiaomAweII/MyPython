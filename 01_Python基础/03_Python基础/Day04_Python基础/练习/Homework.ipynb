{
 "cells": [
  {
   "cell_type": "markdown",
   "source": [
    "## 题目1 [加强训练]\n",
    "\n",
    "### 题干\n",
    "有一个列表，判断列表中的每一个元素是否以s或e结尾，如果是，则将其放入一个新的列表中，最后输出这个新的列表\n",
    "```python\n",
    "list = [\"red\", \"apples\", \"orange\", \"pink\", \"bananas\", \"blue\", \"black\", \"white\"]\n",
    "```"
   ],
   "metadata": {
    "collapsed": false
   },
   "id": "8d5bc6555b1e6f93"
  },
  {
   "cell_type": "code",
   "execution_count": 1,
   "id": "initial_id",
   "metadata": {
    "collapsed": true,
    "ExecuteTime": {
     "end_time": "2024-06-19T07:08:09.372677Z",
     "start_time": "2024-06-19T07:08:09.357716Z"
    }
   },
   "outputs": [
    {
     "name": "stdout",
     "output_type": "stream",
     "text": [
      "['apples', 'orange', 'bananas', 'blue', 'white']\n"
     ]
    }
   ],
   "source": [
    "list1 = [\"red\", \"apples\", \"orange\", \"pink\", \"bananas\", \"blue\", \"black\", \"white\"]\n",
    "new_list1 = []  #创建新列表\n",
    "for value in list1:  # 遍历\n",
    "    if value[-1] == \"s\" or value[-1] == \"e\":\n",
    "        new_list1.append(value)  # 添加元素\n",
    "print(new_list1)"
   ]
  },
  {
   "cell_type": "markdown",
   "source": [
    "## 题目2 [加强训练]\n",
    "\n",
    "### 题干\n",
    "给定一个列表，首先删除以s开头的元素，删除后，修改第一个元素为\"joke\"，并且把最后一个元素复制一份，放在joke的后边\n",
    "\n",
    "```python\n",
    "my_list = [\"spring\", \"look\", \"strange\", \"curious\", \"black\", \"hope\"]"
   ],
   "metadata": {
    "collapsed": false
   },
   "id": "738a0d5170d6a9ed"
  },
  {
   "cell_type": "code",
   "outputs": [
    {
     "name": "stdout",
     "output_type": "stream",
     "text": [
      "['look', 'curious', 'black', 'hope']\n",
      "['joke', 'hope', 'curious', 'black', 'hope']\n"
     ]
    }
   ],
   "source": [
    "my_list = [\"spring\", \"look\", \"strange\", \"curious\", \"black\", \"hope\"]\n",
    "for value in my_list: # 遍历列表\n",
    "    if value[0] == \"s\": # 判断\n",
    "        my_list.remove(value)\n",
    "print(my_list)\n",
    "my_list[0] = \"joke\"\n",
    "my_list.insert(1, my_list[len(my_list) - 1])\n",
    "print(my_list)"
   ],
   "metadata": {
    "collapsed": false,
    "ExecuteTime": {
     "end_time": "2024-06-19T07:12:14.429916Z",
     "start_time": "2024-06-19T07:12:14.416920Z"
    }
   },
   "id": "58b5ce241fc9a59c",
   "execution_count": 4
  },
  {
   "cell_type": "markdown",
   "source": [
    "## 题目3 [加强训练]\n",
    "\n",
    "### 题干\n",
    "\n",
    "将下列两个列表合并，将合并后的列表去重，之后降序并输出\n",
    "\n",
    "```python\n",
    "list1 = [11,  4, 45, 34, 51, 90]\n",
    "list2 = [4, 16, 23, 51, 0]\n",
    "```\n"
   ],
   "metadata": {
    "collapsed": false
   },
   "id": "272832dc0e1fef0b"
  },
  {
   "cell_type": "code",
   "outputs": [
    {
     "name": "stdout",
     "output_type": "stream",
     "text": [
      "[4, 16, 23, 51, 0]\n",
      "11\n",
      "45\n",
      "34\n",
      "90\n",
      "None\n"
     ]
    }
   ],
   "source": [
    "list1 = [11, 4, 45, 34, 51, 90]\n",
    "list2 = [4, 16, 23, 51, 0]\n",
    "list3 = list2.copy()\n",
    "print(list3)\n",
    "for i in list1:\n",
    "    if i not in list2:\n",
    "        print(i)\n",
    "        list3.append(i)\n",
    "print(list3.sort())"
   ],
   "metadata": {
    "collapsed": false,
    "ExecuteTime": {
     "end_time": "2024-06-19T07:22:34.145521Z",
     "start_time": "2024-06-19T07:22:34.125573Z"
    }
   },
   "id": "ba5212782561c677",
   "execution_count": 10
  },
  {
   "cell_type": "code",
   "outputs": [],
   "source": [],
   "metadata": {
    "collapsed": false
   },
   "id": "a84d1d1e853100b0"
  }
 ],
 "metadata": {
  "kernelspec": {
   "display_name": "Python 3",
   "language": "python",
   "name": "python3"
  },
  "language_info": {
   "codemirror_mode": {
    "name": "ipython",
    "version": 2
   },
   "file_extension": ".py",
   "mimetype": "text/x-python",
   "name": "python",
   "nbconvert_exporter": "python",
   "pygments_lexer": "ipython2",
   "version": "2.7.6"
  }
 },
 "nbformat": 4,
 "nbformat_minor": 5
}
