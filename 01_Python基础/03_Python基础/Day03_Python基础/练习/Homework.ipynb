{
 "cells": [
  {
   "cell_type": "markdown",
   "source": [
    "# 循环"
   ],
   "metadata": {
    "collapsed": false
   },
   "id": "e33e3d0358555343"
  },
  {
   "cell_type": "markdown",
   "source": [
    "## 1"
   ],
   "metadata": {
    "collapsed": false
   },
   "id": "13d12b0cfa65036e"
  },
  {
   "cell_type": "code",
   "outputs": [
    {
     "name": "stdout",
     "output_type": "stream",
     "text": [
      "1\n",
      "2\n",
      "3\n",
      "4\n",
      "5\n",
      "6\n",
      "过\n",
      "8\n",
      "9\n",
      "10\n",
      "11\n",
      "12\n",
      "13\n",
      "过\n",
      "15\n",
      "16\n",
      "过\n",
      "18\n",
      "19\n",
      "20\n",
      "过\n",
      "22\n",
      "23\n",
      "24\n",
      "25\n",
      "26\n",
      "过\n",
      "过\n",
      "29\n",
      "30\n",
      "31\n",
      "32\n",
      "33\n",
      "34\n",
      "过\n",
      "36\n",
      "过\n",
      "38\n",
      "39\n",
      "40\n",
      "41\n",
      "过\n",
      "43\n",
      "44\n",
      "45\n",
      "46\n",
      "过\n",
      "48\n",
      "过\n",
      "50\n",
      "51\n",
      "52\n",
      "53\n",
      "54\n",
      "55\n",
      "过\n",
      "过\n",
      "58\n",
      "59\n",
      "60\n",
      "61\n",
      "62\n",
      "过\n",
      "64\n",
      "65\n",
      "66\n",
      "过\n",
      "68\n",
      "69\n",
      "过\n",
      "过\n",
      "过\n",
      "过\n",
      "过\n",
      "过\n",
      "过\n",
      "过\n",
      "过\n",
      "过\n",
      "80\n",
      "81\n",
      "82\n",
      "83\n",
      "过\n",
      "85\n",
      "86\n",
      "过\n",
      "88\n",
      "89\n",
      "90\n",
      "过\n",
      "92\n",
      "93\n",
      "94\n",
      "95\n",
      "96\n",
      "过\n",
      "过\n",
      "99\n"
     ]
    }
   ],
   "source": [
    "for i in range(1, 100): #包左不包右，循环遍历\n",
    "    if (i % 7 == 0) or (i % 10 == 7) or (i // 10 == 7):\n",
    "        print(\"过\")\n",
    "    else:\n",
    "        print(i)"
   ],
   "metadata": {
    "collapsed": false,
    "ExecuteTime": {
     "end_time": "2024-06-16T08:17:23.505871Z",
     "start_time": "2024-06-16T08:17:23.483901Z"
    }
   },
   "id": "ea647730882c181a",
   "execution_count": 2
  },
  {
   "cell_type": "markdown",
   "source": [
    "## 2"
   ],
   "metadata": {
    "collapsed": false
   },
   "id": "fa19a11a5c58f0c3"
  },
  {
   "cell_type": "code",
   "outputs": [],
   "source": [
    "# 定义固定变量\n",
    "sys_un = \"python\"\n",
    "sys_pw = \"123456\"\n",
    "while True: # 死循环\n",
    "    un = input(\"input username\")\n",
    "    pw = input(\"input password\")\n",
    "    if un == sys_un and pw == sys_pw:\n",
    "        print(\"yes\")\n",
    "        break # 退出条件\n",
    "    else:\n",
    "        print(\"try again\")"
   ],
   "metadata": {
    "collapsed": false
   },
   "id": "3ae5f62b457985a1",
   "execution_count": null
  },
  {
   "cell_type": "markdown",
   "source": [
    "## 3"
   ],
   "metadata": {
    "collapsed": false
   },
   "id": "6da5b2e82cb09e2a"
  },
  {
   "cell_type": "code",
   "outputs": [],
   "source": [
    "import random #导包\n",
    "sys_num = random.randint(1, 100)\n",
    "while True: #死循环\n",
    "    num = int(input(\"input num:\"))\n",
    "    if sys_num == num:\n",
    "        print(\"yes\")\n",
    "        break # 退出条件\n",
    "    elif num > sys_num:\n",
    "        print(\"big\")\n",
    "    else:\n",
    "        print(\"small\")"
   ],
   "metadata": {
    "collapsed": false
   },
   "id": "26325f3bfda950e4"
  },
  {
   "cell_type": "markdown",
   "source": [
    "## 4"
   ],
   "metadata": {
    "collapsed": false
   },
   "id": "1f042344ec0aaf8"
  },
  {
   "cell_type": "code",
   "outputs": [],
   "source": [
    "import random # 导包\n",
    "sys_num = random.randint(1,100)\n",
    "cnt = 1 # 计数器\n",
    "while True: # 死循环\n",
    "    num = int(input(\"input num\"))\n",
    "    if num == sys_num:\n",
    "        print(\"yes\")\n",
    "        break # 退出条件\n",
    "    elif num < sys_num:\n",
    "        print(\"small\")\n",
    "    else:\n",
    "        print(\"big\")\n",
    "    \n",
    "    cnt += 1\n",
    "    if cnt == 5:\n",
    "        print(\"fail\")\n",
    "        break # 退出条件\n",
    "    "
   ],
   "metadata": {
    "collapsed": false
   },
   "id": "51ba2f1ee9192fdb"
  },
  {
   "cell_type": "code",
   "outputs": [],
   "source": [
    "import random\n",
    "num = random.randint(1, 100)\n",
    "count = 0\n",
    "while count < 5: # while else 用法\n",
    "    my_num = int(input(\"input your num\"))\n",
    "    count += 1\n",
    "    if my_num == num:\n",
    "        print(f\"yes, num is {num},{count}\")\n",
    "        break\n",
    "    elif my_num > num:\n",
    "        print(\"big\")\n",
    "    else:\n",
    "        print(\"small\")\n",
    "else:\n",
    "    print(\"fail\")"
   ],
   "metadata": {
    "collapsed": false
   },
   "id": "1fde20484e503aa9"
  },
  {
   "cell_type": "markdown",
   "source": [
    "## 5"
   ],
   "metadata": {
    "collapsed": false
   },
   "id": "2b2733abb297c99a"
  },
  {
   "cell_type": "code",
   "outputs": [
    {
     "name": "stdout",
     "output_type": "stream",
     "text": [
      "yes \n"
     ]
    }
   ],
   "source": [
    "num = int(input(\"input num: \"))\n",
    "if num == 1 or num == 2: # 特殊情况判断\n",
    "    print(\"%d 不是素数\" % num)\n",
    "else:\n",
    "    i = 2\n",
    "    while i < num: # 遍历所有数字\n",
    "        if num % i == 0: # 能被整除\n",
    "            print(\"no\")\n",
    "            break # 退出条件\n",
    "        i += 1\n",
    "    else:\n",
    "        print(\"yes \")"
   ],
   "metadata": {
    "collapsed": false,
    "ExecuteTime": {
     "end_time": "2024-06-16T09:34:33.420260Z",
     "start_time": "2024-06-16T09:34:29.884499Z"
    }
   },
   "id": "43a38fb0a0d95b50",
   "execution_count": 6
  },
  {
   "cell_type": "markdown",
   "source": [
    "## 6"
   ],
   "metadata": {
    "collapsed": false
   },
   "id": "c3d08714c0dc65e"
  },
  {
   "cell_type": "code",
   "outputs": [],
   "source": [
    "str = input(\"input: \")\n",
    "for i in str: # 遍历字符串\n",
    "    if i == \"q\":\n",
    "        break # 退出\n",
    "    elif i == \" \":\n",
    "        continue # 跳过此次\n",
    "    print(i)"
   ],
   "metadata": {
    "collapsed": false
   },
   "id": "dce3b80896785bee"
  },
  {
   "cell_type": "markdown",
   "source": [
    "## 7"
   ],
   "metadata": {
    "collapsed": false
   },
   "id": "ac6d9b433726ec55"
  },
  {
   "cell_type": "code",
   "outputs": [
    {
     "name": "stdout",
     "output_type": "stream",
     "text": [
      "4950\n"
     ]
    }
   ],
   "source": [
    "sum = 0 # 定义求和变量\n",
    "for i in range(1, 100):\n",
    "    sum += i # 累加\n",
    "print(sum)"
   ],
   "metadata": {
    "collapsed": false,
    "ExecuteTime": {
     "end_time": "2024-06-16T09:38:29.631018Z",
     "start_time": "2024-06-16T09:38:29.623041Z"
    }
   },
   "id": "645e2914ded7874c",
   "execution_count": 7
  },
  {
   "cell_type": "markdown",
   "source": [
    "## 8"
   ],
   "metadata": {
    "collapsed": false
   },
   "id": "49f3763425965ab7"
  },
  {
   "cell_type": "code",
   "outputs": [],
   "source": [
    "num = int(input(\"input: \"))\n",
    "for i in range(2, num): # for else 全部成功遍历后再执行else\n",
    "    if num % i == 0:\n",
    "        print(\"no\")\n",
    "        break\n",
    "else:\n",
    "    print(\"yes\")"
   ],
   "metadata": {
    "collapsed": false
   },
   "id": "1f8cbc0b98a944be"
  },
  {
   "cell_type": "markdown",
   "source": [
    "## 9"
   ],
   "metadata": {
    "collapsed": false
   },
   "id": "65ff73124718d02"
  },
  {
   "cell_type": "code",
   "outputs": [
    {
     "name": "stdout",
     "output_type": "stream",
     "text": [
      "no\n",
      "101 yes\n",
      "no\n",
      "103 yes\n",
      "no\n",
      "no\n",
      "no\n",
      "107 yes\n",
      "no\n",
      "109 yes\n",
      "no\n",
      "no\n",
      "no\n",
      "113 yes\n",
      "no\n",
      "no\n",
      "no\n",
      "no\n",
      "no\n",
      "no\n",
      "no\n",
      "no\n",
      "no\n",
      "no\n",
      "no\n",
      "no\n",
      "no\n",
      "127 yes\n",
      "no\n",
      "no\n",
      "no\n",
      "131 yes\n",
      "no\n",
      "no\n",
      "no\n",
      "no\n",
      "no\n",
      "137 yes\n",
      "no\n",
      "139 yes\n",
      "no\n",
      "no\n",
      "no\n",
      "no\n",
      "no\n",
      "no\n",
      "no\n",
      "no\n",
      "no\n",
      "149 yes\n",
      "no\n",
      "151 yes\n",
      "no\n",
      "no\n",
      "no\n",
      "no\n",
      "no\n",
      "157 yes\n",
      "no\n",
      "no\n",
      "no\n",
      "no\n",
      "no\n",
      "163 yes\n",
      "no\n",
      "no\n",
      "no\n",
      "167 yes\n",
      "no\n",
      "no\n",
      "no\n",
      "no\n",
      "no\n",
      "173 yes\n",
      "no\n",
      "no\n",
      "no\n",
      "no\n",
      "no\n",
      "179 yes\n",
      "no\n",
      "181 yes\n",
      "no\n",
      "no\n",
      "no\n",
      "no\n",
      "no\n",
      "no\n",
      "no\n",
      "no\n",
      "no\n",
      "191 yes\n",
      "no\n",
      "193 yes\n",
      "no\n",
      "no\n",
      "no\n",
      "197 yes\n",
      "no\n",
      "199 yes\n",
      "no\n"
     ]
    }
   ],
   "source": [
    "for num in range(100, 201): # 两层遍历\n",
    "    for i in range(2, num):\n",
    "        if num % i == 0:\n",
    "            print(\"no\")\n",
    "            break\n",
    "    else:\n",
    "        print(f\"{num} yes\")"
   ],
   "metadata": {
    "collapsed": false,
    "ExecuteTime": {
     "end_time": "2024-06-16T09:42:26.529578Z",
     "start_time": "2024-06-16T09:42:26.505610Z"
    }
   },
   "id": "a6a3b288419d45c8",
   "execution_count": 8
  },
  {
   "cell_type": "code",
   "outputs": [
    {
     "name": "stdout",
     "output_type": "stream",
     "text": [
      "no\n",
      "101 yes\n",
      "no\n",
      "103 yes\n",
      "no\n",
      "no\n",
      "no\n",
      "107 yes\n",
      "no\n",
      "109 yes\n",
      "no\n",
      "no\n",
      "no\n",
      "113 yes\n",
      "no\n",
      "no\n",
      "no\n",
      "no\n",
      "no\n",
      "no\n",
      "no\n",
      "no\n",
      "no\n",
      "no\n",
      "no\n",
      "no\n",
      "no\n",
      "127 yes\n",
      "no\n",
      "no\n",
      "no\n",
      "131 yes\n",
      "no\n",
      "no\n",
      "no\n",
      "no\n",
      "no\n",
      "137 yes\n",
      "no\n",
      "139 yes\n",
      "no\n",
      "no\n",
      "no\n",
      "no\n",
      "no\n",
      "no\n",
      "no\n",
      "no\n",
      "no\n",
      "149 yes\n",
      "no\n",
      "151 yes\n",
      "no\n",
      "no\n",
      "no\n",
      "no\n",
      "no\n",
      "157 yes\n",
      "no\n",
      "no\n",
      "no\n",
      "no\n",
      "no\n",
      "163 yes\n",
      "no\n",
      "no\n",
      "no\n",
      "167 yes\n",
      "no\n",
      "no\n",
      "no\n",
      "no\n",
      "no\n",
      "173 yes\n",
      "no\n",
      "no\n",
      "no\n",
      "no\n",
      "no\n",
      "179 yes\n",
      "no\n",
      "181 yes\n",
      "no\n",
      "no\n",
      "no\n",
      "no\n",
      "no\n",
      "no\n",
      "no\n",
      "no\n",
      "no\n",
      "191 yes\n",
      "no\n",
      "193 yes\n",
      "no\n",
      "no\n",
      "no\n",
      "197 yes\n",
      "no\n",
      "199 yes\n",
      "no\n"
     ]
    }
   ],
   "source": [
    "i = 100\n",
    "while i <= 200: # 两层遍历\n",
    "    j = 2\n",
    "    while j < i:\n",
    "        if i % j == 0:\n",
    "            print(\"no\")\n",
    "            break\n",
    "        j += 1\n",
    "    else:\n",
    "        print(f\"{i} yes\")\n",
    "        \n",
    "    i += 1"
   ],
   "metadata": {
    "collapsed": false,
    "ExecuteTime": {
     "end_time": "2024-06-16T09:45:29.345480Z",
     "start_time": "2024-06-16T09:45:29.327395Z"
    }
   },
   "id": "e41718474da4d17b",
   "execution_count": 11
  },
  {
   "cell_type": "code",
   "outputs": [],
   "source": [],
   "metadata": {
    "collapsed": false
   },
   "id": "5f0f4444bf14fac1"
  },
  {
   "cell_type": "markdown",
   "source": [
    "# 字符串\n"
   ],
   "metadata": {
    "collapsed": false
   },
   "id": "2bb29deb8219c4ee"
  },
  {
   "cell_type": "markdown",
   "source": [
    "## 1"
   ],
   "metadata": {
    "collapsed": false
   },
   "id": "8e26db68a21e7df4"
  },
  {
   "cell_type": "code",
   "outputs": [
    {
     "name": "stdout",
     "output_type": "stream",
     "text": [
      "鲁迅说:'我没有说过这句话'\n",
      "鲁迅说:'我没有说过这句话'\n"
     ]
    }
   ],
   "source": [
    "words = \"鲁迅说:'我没有说过这句话'\"\n",
    "print(words)\n",
    "words = \"\"\"鲁迅说:'我没有说过这句话'\"\"\"\n",
    "print(words)"
   ],
   "metadata": {
    "collapsed": false,
    "ExecuteTime": {
     "end_time": "2024-06-17T13:56:28.792065Z",
     "start_time": "2024-06-17T13:56:28.758156Z"
    }
   },
   "id": "4a2ca19551e23a00",
   "execution_count": 1
  },
  {
   "cell_type": "markdown",
   "source": [
    "## 2"
   ],
   "metadata": {
    "collapsed": false
   },
   "id": "36de67ae3808ace0"
  },
  {
   "cell_type": "code",
   "outputs": [
    {
     "name": "stdout",
     "output_type": "stream",
     "text": [
      "123 123 123\n",
      "123, 123, 123\n"
     ]
    }
   ],
   "source": [
    "name = input(\"name\")\n",
    "age = input(\"age\")\n",
    "hobby = input(\"hobby\")\n",
    "print(\"%s %s %s\" % (name, age, hobby))\n",
    "print(f\"{name}, {age}, {hobby}\")"
   ],
   "metadata": {
    "collapsed": false,
    "ExecuteTime": {
     "end_time": "2024-06-17T13:58:21.861702Z",
     "start_time": "2024-06-17T13:58:16.713623Z"
    }
   },
   "id": "c48c4f8e955dda08",
   "execution_count": 2
  },
  {
   "cell_type": "markdown",
   "source": [
    "## 3"
   ],
   "metadata": {
    "collapsed": false
   },
   "id": "f23e90c73c35859c"
  },
  {
   "cell_type": "code",
   "outputs": [
    {
     "name": "stdout",
     "output_type": "stream",
     "text": [
      "ceg\n"
     ]
    }
   ],
   "source": [
    "words = \"abcdefghi\"\n",
    "print(words[2:7:2])"
   ],
   "metadata": {
    "collapsed": false,
    "ExecuteTime": {
     "end_time": "2024-06-17T13:59:41.625057Z",
     "start_time": "2024-06-17T13:59:41.617082Z"
    }
   },
   "id": "5ccbe1503bc17af7",
   "execution_count": 3
  },
  {
   "cell_type": "markdown",
   "source": [
    "## 5"
   ],
   "metadata": {
    "collapsed": false
   },
   "id": "2daa5b576ac103bd"
  },
  {
   "cell_type": "code",
   "outputs": [
    {
     "name": "stdout",
     "output_type": "stream",
     "text": [
      "Greats Crates Create Greats Craters, But Greats Craters Create Greats Craters\n"
     ]
    }
   ],
   "source": [
    "words = \" great craTes Create great craters, But great craters Create great craters \"\n",
    "\n",
    "if \"great\" in words:\n",
    "    words = words.replace(\"great\", \"greats\") # 替换\n",
    "    words = words.lower() #小写\n",
    "    words = words.title() #大写\n",
    "    words = words.strip()\n",
    "    print(words)\n",
    "else:\n",
    "    print(\"不在该字符串\")"
   ],
   "metadata": {
    "collapsed": false,
    "ExecuteTime": {
     "end_time": "2024-06-19T02:07:02.186887Z",
     "start_time": "2024-06-19T02:07:02.166350Z"
    }
   },
   "id": "1825ac4aa9317749",
   "execution_count": 1
  },
  {
   "cell_type": "code",
   "outputs": [],
   "source": [],
   "metadata": {
    "collapsed": false
   },
   "id": "289378ca11b187fb"
  }
 ],
 "metadata": {
  "kernelspec": {
   "display_name": "Python 3",
   "language": "python",
   "name": "python3"
  },
  "language_info": {
   "codemirror_mode": {
    "name": "ipython",
    "version": 2
   },
   "file_extension": ".py",
   "mimetype": "text/x-python",
   "name": "python",
   "nbconvert_exporter": "python",
   "pygments_lexer": "ipython2",
   "version": "2.7.6"
  }
 },
 "nbformat": 4,
 "nbformat_minor": 5
}
