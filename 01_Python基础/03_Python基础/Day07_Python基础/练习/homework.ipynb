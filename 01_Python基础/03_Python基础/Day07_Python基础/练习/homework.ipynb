{
 "cells": [
  {
   "cell_type": "markdown",
   "source": [],
   "metadata": {
    "collapsed": false
   },
   "id": "42efb15a8d761603"
  },
  {
   "cell_type": "code",
   "outputs": [],
   "source": [
    "### 题干\n",
    "\n",
    "使用文件操作，向`movie.txt`文件中写入一下内容：\n",
    "\n",
    "```python\n",
    "功夫，周星驰\n",
    "一出好戏，黄渤\n",
    "我不是药神，徐峥\n",
    "```"
   ],
   "metadata": {
    "collapsed": false
   },
   "id": "bfcb35757f6c607d"
  },
  {
   "cell_type": "code",
   "execution_count": 1,
   "id": "initial_id",
   "metadata": {
    "collapsed": true,
    "ExecuteTime": {
     "end_time": "2024-06-23T12:23:59.106298Z",
     "start_time": "2024-06-23T12:23:59.094305Z"
    }
   },
   "outputs": [],
   "source": [
    "f = open(\"movie.txt\", \"w\", encoding=\"utf-8\") # 打开文件，创建对象\n",
    "f.write(\"\"\" \n",
    "功夫，周星驰\n",
    "一出好戏，黄渤\n",
    "我不是药神，徐峥\n",
    "\"\"\") # 写入信息\n",
    "f.close() # 关闭文件"
   ]
  },
  {
   "cell_type": "markdown",
   "source": [
    "## 题目2 [加强训练]\n",
    "\n",
    "### 题干\n",
    "\n",
    "将第一题创建好的文件打开，并读取内容， 要求如下：\n",
    "\n",
    "* 一次全部读取\n",
    "* 每次读取一行"
   ],
   "metadata": {
    "collapsed": false
   },
   "id": "16681e204450dd13"
  },
  {
   "cell_type": "code",
   "outputs": [
    {
     "name": "stdout",
     "output_type": "stream",
     "text": [
      " \n",
      "功夫，周星驰\n",
      "一出好戏，黄渤\n",
      "我不是药神，徐峥\n"
     ]
    }
   ],
   "source": [
    "f = open(\"movie.txt\", \"r\", encoding=\"utf-8\") # 打开文件，用r 只读\n",
    "data = f.read() # 读取信息\n",
    "f.close() # 关闭文件\n",
    "print(data) # 打印信息"
   ],
   "metadata": {
    "collapsed": false,
    "ExecuteTime": {
     "end_time": "2024-06-23T12:24:01.654703Z",
     "start_time": "2024-06-23T12:24:01.640714Z"
    }
   },
   "id": "100eec693952a6be",
   "execution_count": 2
  },
  {
   "cell_type": "code",
   "outputs": [],
   "source": [],
   "metadata": {
    "collapsed": false
   },
   "id": "989d80151704152"
  }
 ],
 "metadata": {
  "kernelspec": {
   "display_name": "Python 3",
   "language": "python",
   "name": "python3"
  },
  "language_info": {
   "codemirror_mode": {
    "name": "ipython",
    "version": 2
   },
   "file_extension": ".py",
   "mimetype": "text/x-python",
   "name": "python",
   "nbconvert_exporter": "python",
   "pygments_lexer": "ipython2",
   "version": "2.7.6"
  }
 },
 "nbformat": 4,
 "nbformat_minor": 5
}
