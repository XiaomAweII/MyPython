{
 "cells": [
  {
   "cell_type": "code",
   "execution_count": 1,
   "id": "initial_id",
   "metadata": {
    "collapsed": true,
    "ExecuteTime": {
     "end_time": "2024-06-15T03:43:50.571496Z",
     "start_time": "2024-06-15T03:43:48.502807Z"
    }
   },
   "outputs": [
    {
     "name": "stdout",
     "output_type": "stream",
     "text": [
      "you are new\n"
     ]
    }
   ],
   "source": [
    "age = eval(input(\"input your age\"))\n",
    "if age > 60:\n",
    "    print(\"you are old\")\n",
    "else:\n",
    "    print(\"you are new\")"
   ]
  },
  {
   "cell_type": "code",
   "outputs": [
    {
     "name": "stdout",
     "output_type": "stream",
     "text": [
      "小伙子，加油干！\n"
     ]
    }
   ],
   "source": [
    "age = eval(input(\"input your age\"))\n",
    "if age > 60:\n",
    "    print(\"可以退休了\")\n",
    "else:\n",
    "    print(\"小伙子，加油干！\")"
   ],
   "metadata": {
    "collapsed": false,
    "ExecuteTime": {
     "end_time": "2024-06-15T03:44:51.186080Z",
     "start_time": "2024-06-15T03:44:49.316535Z"
    }
   },
   "id": "affee668e9bbe168",
   "execution_count": 2
  },
  {
   "cell_type": "code",
   "outputs": [
    {
     "name": "stdout",
     "output_type": "stream",
     "text": [
      "青少年\n"
     ]
    }
   ],
   "source": [
    "age = eval(input(\"input your age\"))\n",
    "if age < 0 or age > 100:\n",
    "    print(\"error\")\n",
    "elif age < 20:\n",
    "    print(\"青少年\")\n",
    "elif age < 30:\n",
    "    print(\"青年\")\n",
    "elif age < 40:\n",
    "    print(\"中年\")\n",
    "else:\n",
    "    print(\"老年\")"
   ],
   "metadata": {
    "collapsed": false,
    "ExecuteTime": {
     "end_time": "2024-06-15T03:47:38.571043Z",
     "start_time": "2024-06-15T03:47:36.249780Z"
    }
   },
   "id": "2e3a39658e4aee2b",
   "execution_count": 3
  },
  {
   "cell_type": "code",
   "outputs": [
    {
     "name": "stdout",
     "output_type": "stream",
     "text": [
      "ok\n",
      "ok\n"
     ]
    }
   ],
   "source": [
    "money = eval(input(\"input your money\"))\n",
    "if money >= 2:\n",
    "    print(\"ok\")\n",
    "    seat = int(input(\"input seat\"))\n",
    "    if seat > 0:\n",
    "        print(\"ok\")\n",
    "    else:\n",
    "        print(\"no\")\n",
    "else:\n",
    "    print(\"no\")"
   ],
   "metadata": {
    "collapsed": false,
    "ExecuteTime": {
     "end_time": "2024-06-15T04:14:02.691765Z",
     "start_time": "2024-06-15T04:13:59.496272Z"
    }
   },
   "id": "2048ca77cbc79d4a",
   "execution_count": 4
  },
  {
   "cell_type": "code",
   "outputs": [
    {
     "name": "stdout",
     "output_type": "stream",
     "text": [
      "ok\n"
     ]
    }
   ],
   "source": [
    "my_code = input(\"input your code\")\n",
    "code = \"axyz\"\n",
    "if my_code == code:\n",
    "    print(\"ok\")\n",
    "else:\n",
    "    print(\"验证码错误\")"
   ],
   "metadata": {
    "collapsed": false,
    "ExecuteTime": {
     "end_time": "2024-06-15T04:15:12.085640Z",
     "start_time": "2024-06-15T04:15:08.733450Z"
    }
   },
   "id": "e0b74bf2a7a963ca",
   "execution_count": 5
  },
  {
   "cell_type": "code",
   "outputs": [
    {
     "name": "stdout",
     "output_type": "stream",
     "text": [
      "no\n"
     ]
    }
   ],
   "source": [
    "sys_un = \"aaa\"\n",
    "un = input(\"input your username\")\n",
    "sys_pw = \"123456\"\n",
    "pw = input(\"input your password\")\n",
    "sys_code = \"qwer\"\n",
    "code = input(\"input your code\")\n",
    "if code == sys_code:\n",
    "    print(\"yes\")\n",
    "    if un == sys_un and pw == sys_pw:\n",
    "        print(\"yes\")\n",
    "else:\n",
    "    print(\"no\")"
   ],
   "metadata": {
    "collapsed": false,
    "ExecuteTime": {
     "end_time": "2024-06-15T06:37:54.143382Z",
     "start_time": "2024-06-15T06:37:33.661754Z"
    }
   },
   "id": "df05040bcf9ea750",
   "execution_count": 8
  },
  {
   "cell_type": "markdown",
   "source": [
    "## 循环"
   ],
   "metadata": {
    "collapsed": false
   },
   "id": "20aa1b54f403487c"
  },
  {
   "cell_type": "code",
   "outputs": [
    {
     "name": "stdout",
     "output_type": "stream",
     "text": [
      "1\n",
      "2\n",
      "3\n",
      "4\n",
      "5\n",
      "6\n",
      "过\n",
      "8\n",
      "9\n",
      "10\n",
      "11\n",
      "12\n",
      "13\n",
      "过\n",
      "15\n",
      "16\n",
      "过\n",
      "18\n",
      "19\n",
      "20\n",
      "过\n",
      "22\n",
      "23\n",
      "24\n",
      "25\n",
      "26\n",
      "过\n",
      "过\n",
      "29\n",
      "30\n",
      "31\n",
      "32\n",
      "33\n",
      "34\n",
      "过\n",
      "36\n",
      "过\n",
      "38\n",
      "39\n",
      "40\n",
      "41\n",
      "过\n",
      "43\n",
      "44\n",
      "45\n",
      "46\n",
      "过\n",
      "48\n",
      "过\n",
      "50\n",
      "51\n",
      "52\n",
      "53\n",
      "54\n",
      "55\n",
      "过\n",
      "过\n",
      "58\n",
      "59\n",
      "60\n",
      "61\n",
      "62\n",
      "过\n",
      "64\n",
      "65\n",
      "66\n",
      "过\n",
      "68\n",
      "69\n",
      "过\n",
      "过\n",
      "过\n",
      "过\n",
      "过\n",
      "过\n",
      "过\n",
      "过\n",
      "过\n",
      "过\n",
      "80\n",
      "81\n",
      "82\n",
      "83\n",
      "过\n",
      "85\n",
      "86\n",
      "过\n",
      "88\n",
      "89\n",
      "90\n",
      "过\n",
      "92\n",
      "93\n",
      "94\n",
      "95\n",
      "96\n",
      "过\n",
      "过\n",
      "99\n"
     ]
    }
   ],
   "source": [
    "num = 1\n",
    "while num < 100:\n",
    "    a = num % 10\n",
    "    b = num // 10\n",
    "    if ((a == 7) or (b == 7) or num % 7 == 0):\n",
    "        print(\"过\")\n",
    "    else:\n",
    "         print(num)       \n",
    "    num += 1"
   ],
   "metadata": {
    "collapsed": false,
    "ExecuteTime": {
     "end_time": "2024-06-15T09:24:53.814564Z",
     "start_time": "2024-06-15T09:24:53.768721Z"
    }
   },
   "id": "f4cb5611347bf956",
   "execution_count": 10
  },
  {
   "cell_type": "code",
   "outputs": [
    {
     "name": "stdout",
     "output_type": "stream",
     "text": [
      "用户输入错误并重新输入\n",
      "用户输入错误并重新输入\n",
      "用户输入错误并重新输入\n",
      "用户输入错误并重新输入\n",
      "用户输入错误并重新输入\n",
      "用户输入错误并重新输入\n",
      "用户输入错误并重新输入\n",
      "用户输入错误并重新输入\n",
      "用户输入错误并重新输入\n",
      "用户输入错误并重新输入\n",
      "用户输入错误并重新输入\n",
      "欢迎光临\n"
     ]
    }
   ],
   "source": [
    "sys_un = \"python\"\n",
    "sys_pw = \"123456\"\n",
    "while(True):\n",
    "    un = input(\"input your username\")\n",
    "    pw = input(\"input your password\")\n",
    "    if un == sys_un and pw == sys_pw:\n",
    "        print(\"欢迎光临\")\n",
    "        break\n",
    "    else:\n",
    "        print(\"用户输入错误并重新输入\")"
   ],
   "metadata": {
    "collapsed": false,
    "ExecuteTime": {
     "end_time": "2024-06-15T10:08:11.619879Z",
     "start_time": "2024-06-15T10:07:19.338481Z"
    }
   },
   "id": "e1852ef2c088774",
   "execution_count": 12
  },
  {
   "cell_type": "code",
   "outputs": [],
   "source": [
    "import random\n",
    "\n",
    "num = random.randint(1, 100)\n",
    "while True:\n",
    "    my_num = eval(input(\"input your num:\"))\n",
    "    if my_num == num:\n",
    "        print(\"yes\")\n",
    "        break\n",
    "    elif my_num < num:\n",
    "        print(\"your num small\")\n",
    "    else:\n",
    "        print(\"your num big\")"
   ],
   "metadata": {
    "collapsed": false
   },
   "id": "328fd200ad19222d",
   "execution_count": null
  },
  {
   "cell_type": "markdown",
   "source": [
    "4"
   ],
   "metadata": {
    "collapsed": false
   },
   "id": "2bdb3a42d7b7f723"
  },
  {
   "cell_type": "code",
   "outputs": [],
   "source": [
    "import random\n",
    "sys_num = random.randint(1, 100)\n",
    "cnt = 1\n",
    "while True:\n",
    "    if cnt == 5:\n",
    "        print(\"fail\")\n",
    "        break\n",
    "    num = eval(input(\"input your num: \"))\n",
    "    if sys_num == num:\n",
    "        print(f\"数字是{num},猜了{cnt}次\")\n",
    "        break\n",
    "    elif sys_num < num:\n",
    "        print(\"your num big\")\n",
    "    else:\n",
    "        print(\"your num small\")\n",
    "    cnt += 1\n"
   ],
   "metadata": {
    "collapsed": false
   },
   "id": "e174145e25881f15",
   "execution_count": null
  },
  {
   "cell_type": "markdown",
   "source": [
    "5"
   ],
   "metadata": {
    "collapsed": false
   },
   "id": "3b20474e5085bd5a"
  },
  {
   "cell_type": "code",
   "outputs": [],
   "source": [
    "num = eval(input(\"input your num:\"))\n",
    "flag = True\n",
    "i = 2\n",
    "if num == 1 or num == 0:\n",
    "    print(\"不是素数也不是合数\")\n",
    "while i < num:\n",
    "    if num % i == 0:\n",
    "        flag = False\n",
    "        break\n",
    "    i += 1\n",
    "\n",
    "if flag:\n",
    "    print(\"yes\")\n",
    "else:\n",
    "    print(\"no\")\n",
    "\n"
   ],
   "metadata": {
    "collapsed": false
   },
   "id": "d2d958c286f361aa"
  },
  {
   "cell_type": "markdown",
   "source": [
    "6"
   ],
   "metadata": {
    "collapsed": false
   },
   "id": "571009375921778c"
  },
  {
   "cell_type": "code",
   "outputs": [],
   "source": [
    "str = input(\"input a str\")\n",
    "for i in str:\n",
    "    if i == \"q\":\n",
    "        break\n",
    "    elif i == \" \":\n",
    "        continue\n",
    "    print(i)\n"
   ],
   "metadata": {
    "collapsed": false
   },
   "id": "ac62b76a0c109fb3"
  },
  {
   "cell_type": "markdown",
   "source": [
    "7"
   ],
   "metadata": {
    "collapsed": false
   },
   "id": "93da5b64109c0508"
  },
  {
   "cell_type": "code",
   "outputs": [],
   "source": [
    "sum = 0\n",
    "for i in range(101):\n",
    "    sum += i\n",
    "print(sum)"
   ],
   "metadata": {
    "collapsed": false
   },
   "id": "752cd789a1f81478"
  },
  {
   "cell_type": "markdown",
   "source": [
    "8"
   ],
   "metadata": {
    "collapsed": false
   },
   "id": "591fb40eb5021346"
  },
  {
   "cell_type": "code",
   "outputs": [],
   "source": [
    "num = int(input(\"input a num\"))\n",
    "if num == 1 or num == 0:\n",
    "    print(\"%d 不是素数也不是合数\" % num)\n",
    "else:\n",
    "    for i in range(2, num):\n",
    "        if num % i == 0:\n",
    "            print(\"no\")\n",
    "            break\n",
    "    else:\n",
    "        print(\"%d\" % num)"
   ],
   "metadata": {
    "collapsed": false
   },
   "id": "657ff772eed166bb"
  },
  {
   "cell_type": "markdown",
   "source": [
    "9"
   ],
   "metadata": {
    "collapsed": false
   },
   "id": "15d9a43f01bb0bbf"
  },
  {
   "cell_type": "code",
   "outputs": [],
   "source": [
    "num = 100\n",
    "while num <= 200:\n",
    "    i = 2\n",
    "    while i < num:\n",
    "        if num % i:\n",
    "            print(\"no\")\n",
    "            break\n",
    "        i += 1\n",
    "    else:\n",
    "        print(\"yes\")\n",
    "    num += 1"
   ],
   "metadata": {
    "collapsed": false
   },
   "id": "e05d8656786ce2ee"
  },
  {
   "cell_type": "code",
   "outputs": [],
   "source": [
    "for num in range(100, 201):\n",
    "    for i in range(2, num):\n",
    "        if num % i == 0:\n",
    "            print(\"no\")\n",
    "            break\n",
    "    else:\n",
    "        print(\" %d yes\" % num)"
   ],
   "metadata": {
    "collapsed": false
   },
   "id": "2444743b00d80007"
  }
 ],
 "metadata": {
  "kernelspec": {
   "display_name": "Python 3",
   "language": "python",
   "name": "python3"
  },
  "language_info": {
   "codemirror_mode": {
    "name": "ipython",
    "version": 2
   },
   "file_extension": ".py",
   "mimetype": "text/x-python",
   "name": "python",
   "nbconvert_exporter": "python",
   "pygments_lexer": "ipython2",
   "version": "2.7.6"
  }
 },
 "nbformat": 4,
 "nbformat_minor": 5
}
